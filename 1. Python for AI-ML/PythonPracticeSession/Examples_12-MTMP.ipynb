{
 "cells": [
  {
   "cell_type": "markdown",
   "id": "11c0c186",
   "metadata": {},
   "source": [
    "## Threads"
   ]
  },
  {
   "cell_type": "markdown",
   "id": "66e6f68b",
   "metadata": {},
   "source": [
    "#### Thread class anotation by python"
   ]
  },
  {
   "cell_type": "code",
   "execution_count": null,
   "id": "9d5b0097",
   "metadata": {},
   "outputs": [],
   "source": [
    "from threading import Thread\n",
    "\n",
    "print(help(Thread))"
   ]
  },
  {
   "cell_type": "markdown",
   "id": "cd30dce7",
   "metadata": {},
   "source": [
    "#### Thread usage example"
   ]
  },
  {
   "cell_type": "code",
   "execution_count": null,
   "id": "89935ab9",
   "metadata": {},
   "outputs": [],
   "source": [
    "from threading import Thread\n",
    "from time import sleep\n",
    "\n",
    "WORK = True\n",
    "\n",
    "\n",
    "def handler(name, sleep_time):\n",
    "    while WORK:\n",
    "        print(f'{name} start to sleep {sleep_time} sec')\n",
    "        sleep(sleep_time)"
   ]
  },
  {
   "cell_type": "code",
   "execution_count": null,
   "id": "verified-jersey",
   "metadata": {},
   "outputs": [],
   "source": [
    "thread1 = Thread(target=handler, args=('first', 2))\n",
    "thread2 = Thread(target=handler, args=('second', 3))"
   ]
  },
  {
   "cell_type": "code",
   "execution_count": null,
   "id": "written-surgeon",
   "metadata": {},
   "outputs": [],
   "source": [
    "thread1.start()\n",
    "thread2.start()\n",
    "\n",
    "print('Start to sleep')\n",
    "sleep(10)\n",
    "\n",
    "print('Stop work')\n",
    "WORK = False"
   ]
  },
  {
   "cell_type": "markdown",
   "id": "6aefb8aa",
   "metadata": {},
   "source": [
    "#### Join method usage example"
   ]
  },
  {
   "cell_type": "code",
   "execution_count": null,
   "id": "tropical-helicopter",
   "metadata": {},
   "outputs": [],
   "source": [
    "from threading import Thread\n",
    "from time import sleep\n",
    "\n",
    "def block():\n",
    "    print('Start to block')\n",
    "    sleep(2)\n",
    "    print('Unblock')"
   ]
  },
  {
   "cell_type": "code",
   "execution_count": null,
   "id": "other-label",
   "metadata": {},
   "outputs": [],
   "source": [
    "thread1 = Thread(target=block)\n",
    "thread1.start()\n",
    "print(\"I'm here 1\")\n",
    "sleep(5)\n",
    "print(\"Now I'm here\")\n",
    "thread1.join()"
   ]
  },
  {
   "cell_type": "code",
   "execution_count": null,
   "id": "robust-thanks",
   "metadata": {},
   "outputs": [],
   "source": [
    "thread1 = Thread(target=block)\n",
    "thread2 = Thread(target=block)\n",
    "thread1.start()\n",
    "thread1.join()\n",
    "thread2.start()\n",
    "thread2.join()  # wait thread\n",
    "print(\"I'm here 1\")\n",
    "sleep(5)\n",
    "print(\"Now I'm here\")"
   ]
  },
  {
   "cell_type": "markdown",
   "id": "bd2f3bb9",
   "metadata": {},
   "source": [
    "#### Custom thread class"
   ]
  },
  {
   "cell_type": "code",
   "execution_count": null,
   "id": "occupational-monday",
   "metadata": {},
   "outputs": [],
   "source": [
    "from threading import Thread\n",
    "\n",
    "class MyThread(Thread):\n",
    "    def run(self):\n",
    "        print(f'Run thread: {self.name}')\n",
    "\n",
    "MyThread(name='Thread1').start()\n",
    "MyThread(name='Thread2').start()"
   ]
  },
  {
   "cell_type": "markdown",
   "id": "bbc40e19",
   "metadata": {},
   "source": [
    "#### Example of concurrent number calculation using threads"
   ]
  },
  {
   "cell_type": "code",
   "execution_count": null,
   "id": "different-interstate",
   "metadata": {},
   "outputs": [],
   "source": [
    "from threading import Thread\n",
    "\n",
    "NUM = 0\n",
    "\n",
    "def add():\n",
    "    global NUM\n",
    "    for i in range(1000000):\n",
    "        NUM += 1\n",
    "\n",
    "t1 = Thread(target=add)\n",
    "t2 = Thread(target=add)\n",
    "t1.start()\n",
    "t2.start()\n",
    "t1.join()\n",
    "t2.join()\n",
    "\n",
    "print(NUM) # result?"
   ]
  },
  {
   "cell_type": "code",
   "execution_count": null,
   "id": "square-semiconductor",
   "metadata": {},
   "outputs": [],
   "source": [
    "import dis\n",
    "a = 5\n",
    "b = 7\n",
    "\n",
    "dis.dis('a += b')"
   ]
  },
  {
   "cell_type": "markdown",
   "id": "technological-article",
   "metadata": {},
   "source": [
    "## Synchronization Primitives"
   ]
  },
  {
   "cell_type": "markdown",
   "id": "6d2fb433",
   "metadata": {},
   "source": [
    "#### Lock usage example"
   ]
  },
  {
   "cell_type": "code",
   "execution_count": null,
   "id": "representative-palestinian",
   "metadata": {},
   "outputs": [],
   "source": [
    "from threading import Lock, Thread\n",
    "from time import sleep\n",
    "\n",
    "\n",
    "class Bank:\n",
    "    money = 0\n",
    "    count = 1\n",
    "    lock = Lock()\n",
    "\n",
    "    def replenish(self, s=10):\n",
    "        self.lock.acquire()\n",
    "        print(Bank.money, 'money')\n",
    "        sleep(5)\n",
    "        Bank.money += s\n",
    "        print('Replenish cash')\n",
    "        self.lock.release()\n",
    "\n",
    "    def withdraw(self, s=10):\n",
    "        self.lock.acquire()\n",
    "        self.count += 1\n",
    "        print(Bank.money, 'money')\n",
    "        sleep(1)\n",
    "        if self.money >= s:\n",
    "            Bank.money -= s\n",
    "            print('Withdraw cash')\n",
    "        else:\n",
    "            print('Don\\'t enough money')\n",
    "        self.lock.release()\n",
    "\n",
    "\n",
    "class User(Thread):\n",
    "    def __init__(self, name, func):\n",
    "        super().__init__(name=name)\n",
    "        self.name = name\n",
    "        self.func = func\n",
    "\n",
    "    def run(self):\n",
    "        print(f'{self.name} try to {self.func}')\n",
    "        bank = Bank()\n",
    "        func = getattr(bank, self.func)\n",
    "        func()\n",
    "        print(f'{self.name} made {self.func} operation')"
   ]
  },
  {
   "cell_type": "code",
   "execution_count": null,
   "id": "aerial-invention",
   "metadata": {},
   "outputs": [],
   "source": [
    "Bank.money = 20\n",
    "Bank.count = 0\n",
    "\n",
    "user1 = User('Bob', 'withdraw')\n",
    "user1.start()\n",
    "sleep(1)\n",
    "user2 = User('Kate', 'withdraw')\n",
    "user2.start()\n",
    "\n",
    "user1.join()\n",
    "user2.join()\n",
    "\n",
    "print(Bank.money, 'money')\n",
    "print(Bank.count, 'count')"
   ]
  },
  {
   "cell_type": "markdown",
   "id": "93745949",
   "metadata": {},
   "source": [
    "#### Example of deadlock"
   ]
  },
  {
   "cell_type": "code",
   "execution_count": null,
   "id": "detected-founder",
   "metadata": {},
   "outputs": [],
   "source": [
    "from threading import Lock, Thread\n",
    "from time import sleep\n",
    "\n",
    "\n",
    "class Bank:\n",
    "    def __init__(self, name, money=100):\n",
    "        self.name = name\n",
    "        self.money = money\n",
    "        self.lock = Lock()\n",
    "\n",
    "    def replenish(self, s=10):\n",
    "        print(self.money, 'money:', self.name)\n",
    "        self.money += s\n",
    "        print('Replenish cash:', self.name)\n",
    "\n",
    "    def withdraw(self, s=10):\n",
    "        print(self.money, 'money:', self.name)\n",
    "        sleep(1)\n",
    "        self.money -= s\n",
    "        print('Withdraw cash:', self.name)\n",
    "            \n",
    "    def transfer(self, friend_bank, s=10):\n",
    "        with self.lock:\n",
    "            print('Lock myself: ', self.name)\n",
    "            self.withdraw(s)\n",
    "        with friend_bank.lock:\n",
    "            print('Lock friend: ', friend_bank.name)\n",
    "            friend_bank.replenish(s)\n",
    "\n",
    "class User(Thread):\n",
    "    def __init__(self, name, bank, friend_bank):\n",
    "        super().__init__(name=name)\n",
    "        self.name = name\n",
    "        self.bank = bank\n",
    "        self.friend_bank = friend_bank\n",
    "\n",
    "    def run(self):\n",
    "        print(f'{self.name} try to transfer to {self.friend_bank.name}')\n",
    "        self.bank.transfer(self.friend_bank)\n",
    "        print(f'{self.name} made transfer operation to {self.friend_bank.name}')"
   ]
  },
  {
   "cell_type": "code",
   "execution_count": null,
   "id": "boring-savage",
   "metadata": {},
   "outputs": [],
   "source": [
    "bank1 = Bank('Bob')\n",
    "bank2 = Bank('Kate')\n",
    "bank3 = Bank('Ann')\n",
    "\n",
    "user1 = User('Bob', bank1, bank2)\n",
    "user2 = User('Kate', bank2, bank3)\n",
    "user3 = User('Ann', bank3, bank2)\n",
    "\n",
    "user1.start()\n",
    "user2.start()\n",
    "user3.start()\n",
    "\n",
    "user1.join()\n",
    "user2.join()\n",
    "user3.join()\n",
    "\n",
    "print(bank1.money)\n",
    "print(bank2.money)\n",
    "print(bank3.money)"
   ]
  },
  {
   "cell_type": "markdown",
   "id": "considerable-pension",
   "metadata": {},
   "source": [
    "## GIL"
   ]
  },
  {
   "cell_type": "code",
   "execution_count": null,
   "id": "previous-denmark",
   "metadata": {},
   "outputs": [],
   "source": [
    "def multiply():\n",
    "    res = 1\n",
    "    for i in range(1, 100000):\n",
    "        res *= i"
   ]
  },
  {
   "cell_type": "code",
   "execution_count": null,
   "id": "weighted-accent",
   "metadata": {},
   "outputs": [],
   "source": [
    "from time import time\n",
    "\n",
    "t1 = time()\n",
    "multiply()\n",
    "print(time() - t1)"
   ]
  },
  {
   "cell_type": "code",
   "execution_count": null,
   "id": "champion-olympus",
   "metadata": {},
   "outputs": [],
   "source": [
    "from threading import Thread\n",
    "from time import time\n",
    "\n",
    "th1 = Thread(target=multiply)\n",
    "th2 = Thread(target=multiply)\n",
    "\n",
    "t1 = time()\n",
    "th1.start()\n",
    "th2.start()\n",
    "th1.join()\n",
    "th2.join()\n",
    "print(time() - t1)"
   ]
  },
  {
   "cell_type": "code",
   "execution_count": null,
   "id": "surrounded-float",
   "metadata": {},
   "outputs": [],
   "source": [
    "# For what\n",
    "import requests\n",
    "\n",
    "websites = ['https://www.python.org/'] * 100\n",
    "result = []\n",
    "\n",
    "def handle(website):\n",
    "    global result\n",
    "    response = requests.get(website)\n",
    "    result.append(response.status_code)"
   ]
  },
  {
   "cell_type": "code",
   "execution_count": null,
   "id": "wound-interview",
   "metadata": {},
   "outputs": [],
   "source": [
    "from time import time\n",
    "\n",
    "result.clear()\n",
    "\n",
    "t1 = time()\n",
    "for website in websites:\n",
    "    handle(website)\n",
    "print(time() - t1)\n",
    "print(len(result))"
   ]
  },
  {
   "cell_type": "code",
   "execution_count": null,
   "id": "eleven-rental",
   "metadata": {},
   "outputs": [],
   "source": [
    "from threading import Thread\n",
    "from time import time\n",
    "\n",
    "result.clear()\n",
    "\n",
    "threads = [Thread(target=handle, args=(website,)) for website in websites]\n",
    "t1 = time()\n",
    "for thread in threads:\n",
    "    thread.start()\n",
    "    \n",
    "for thread in threads:\n",
    "    thread.join()\n",
    "print(time() - t1)\n",
    "print(len(result))"
   ]
  },
  {
   "cell_type": "markdown",
   "id": "figured-custody",
   "metadata": {},
   "source": [
    "## Processes"
   ]
  },
  {
   "cell_type": "markdown",
   "id": "7059f156",
   "metadata": {},
   "source": [
    "#### Process class python annotation"
   ]
  },
  {
   "cell_type": "code",
   "execution_count": null,
   "id": "extensive-extension",
   "metadata": {},
   "outputs": [],
   "source": [
    "from multiprocessing import Process\n",
    "\n",
    "print(help(Process))"
   ]
  },
  {
   "cell_type": "markdown",
   "id": "cd55b85e",
   "metadata": {},
   "source": [
    "#### Process usage example"
   ]
  },
  {
   "cell_type": "code",
   "execution_count": null,
   "id": "abandoned-property",
   "metadata": {},
   "outputs": [],
   "source": [
    "from multiprocessing import Process\n",
    "from time import sleep\n",
    "\n",
    "p1 = Process(target=sleep, args=(600,), name='MyTestProcess1')\n",
    "p2 = Process(target=sleep, args=(600,), name='MyTestProcess2')\n",
    "\n",
    "p1.start()\n",
    "p2.start()\n",
    "\n",
    "p1.kill()\n",
    "p2.terminate()"
   ]
  },
  {
   "cell_type": "markdown",
   "id": "24a8f824",
   "metadata": {},
   "source": [
    "#### Custom process class"
   ]
  },
  {
   "cell_type": "code",
   "execution_count": null,
   "id": "changing-conservative",
   "metadata": {},
   "outputs": [],
   "source": [
    "from multiprocessing import Process\n",
    "from time import sleep\n",
    "\n",
    "class MyProcess(Process):\n",
    "    def run(self):\n",
    "        sleep(1)\n",
    "        print('Done')\n",
    "\n",
    "MyProcess().start()\n",
    "print('I am here')"
   ]
  },
  {
   "cell_type": "markdown",
   "id": "1eba6d97",
   "metadata": {},
   "source": [
    "#### Pool usage"
   ]
  },
  {
   "cell_type": "code",
   "execution_count": null,
   "id": "legendary-involvement",
   "metadata": {},
   "outputs": [],
   "source": [
    "import requests\n",
    "\n",
    "websites = ['https://www.python.org/'] * 100\n",
    "\n",
    "def handle(website):\n",
    "    response = requests.get(website)\n",
    "    \n",
    "    return response.status_code"
   ]
  },
  {
   "cell_type": "code",
   "execution_count": null,
   "id": "seasonal-variable",
   "metadata": {},
   "outputs": [],
   "source": [
    "from multiprocessing import Pool\n",
    "from time import time\n",
    "\n",
    "count = 10000000\n",
    "t1 = time()\n",
    "with Pool(count) as pool:\n",
    "    result = pool.map(handle, websites)\n",
    "print(time() - t1)\n",
    "    \n",
    "print(len(result))"
   ]
  },
  {
   "cell_type": "markdown",
   "id": "8b2fd7ab",
   "metadata": {},
   "source": [
    "#### Example that shows that processes are isolated"
   ]
  },
  {
   "cell_type": "code",
   "execution_count": null,
   "id": "confirmed-broadway",
   "metadata": {},
   "outputs": [],
   "source": [
    "from multiprocessing import Process\n",
    "\n",
    "NUM = 0\n",
    "\n",
    "def add():\n",
    "    global NUM\n",
    "    for i in range(1000000):\n",
    "        NUM += 1\n",
    "    \n",
    "    print(NUM)\n",
    "\n",
    "p1 = Process(target=add)\n",
    "p2 = Process(target=add)\n",
    "p1.start()\n",
    "p2.start()\n",
    "p1.join()\n",
    "p2.join()\n",
    "\n",
    "print(NUM)"
   ]
  },
  {
   "cell_type": "code",
   "execution_count": null,
   "id": "casual-assignment",
   "metadata": {},
   "outputs": [],
   "source": [
    "from multiprocessing import Process, Value\n",
    "from ctypes import c_int\n",
    "\n",
    "NUM = Value(c_int, 0)\n",
    "\n",
    "def add():\n",
    "    global NUM\n",
    "    for i in range(1000000):\n",
    "        NUM.value += 1\n",
    "\n",
    "p1 = Process(target=add)\n",
    "p2 = Process(target=add)\n",
    "p1.start()\n",
    "p2.start()\n",
    "p1.join()\n",
    "p2.join()\n",
    "\n",
    "print(NUM.value)"
   ]
  }
 ],
 "metadata": {
  "kernelspec": {
   "display_name": "Python 3",
   "language": "python",
   "name": "python3"
  },
  "language_info": {
   "codemirror_mode": {
    "name": "ipython",
    "version": 3
   },
   "file_extension": ".py",
   "mimetype": "text/x-python",
   "name": "python",
   "nbconvert_exporter": "python",
   "pygments_lexer": "ipython3",
   "version": "3.8.6"
  }
 },
 "nbformat": 4,
 "nbformat_minor": 5
}
