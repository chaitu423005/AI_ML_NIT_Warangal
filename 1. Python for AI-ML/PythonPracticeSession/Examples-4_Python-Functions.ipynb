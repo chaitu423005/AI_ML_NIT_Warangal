{
 "cells": [
  {
   "cell_type": "markdown",
   "id": "civic-europe",
   "metadata": {},
   "source": [
    "### Functions"
   ]
  },
  {
   "cell_type": "code",
   "execution_count": 64,
   "id": "11bbd282",
   "metadata": {},
   "outputs": [
    {
     "name": "stdout",
     "output_type": "stream",
     "text": [
      "\n"
     ]
    }
   ],
   "source": [
    "def main():\n",
    "    print('')\n",
    "    \n",
    "\n",
    "if __name__ == \"__main__\":\n",
    "    main()"
   ]
  },
  {
   "cell_type": "code",
   "execution_count": 60,
   "id": "effective-trunk",
   "metadata": {},
   "outputs": [
    {
     "name": "stdout",
     "output_type": "stream",
     "text": [
      "name='Bob',a=21\n"
     ]
    }
   ],
   "source": [
    "name = \"Bob\"\n",
    "print(f\"{name=},{a=}\")\n",
    "#print(\"{name}\".format(**locals()))\n",
    "#[key for key in locals() if key >= \"a\"]\n",
    "#loc_vars = locals()\n",
    "#loc_vars[\"name\"]"
   ]
  },
  {
   "cell_type": "code",
   "execution_count": null,
   "id": "helpful-public",
   "metadata": {},
   "outputs": [],
   "source": [
    "say_hello('Bob')"
   ]
  },
  {
   "cell_type": "code",
   "execution_count": null,
   "id": "encouraging-filling",
   "metadata": {},
   "outputs": [],
   "source": [
    "# return value\n",
    "def calculate(a, b):\n",
    "    return a + b\n",
    "\n",
    "result1 = calculate(1, -10)\n",
    "result2 = calculate('Hello, ', 'Bob!')\n",
    "print(result1)\n",
    "print(result2)"
   ]
  },
  {
   "cell_type": "code",
   "execution_count": null,
   "id": "transparent-revelation",
   "metadata": {},
   "outputs": [],
   "source": [
    "# None result\n",
    "def send_data():\n",
    "    print('Data was sent!')\n",
    "\n",
    "result = send_data()\n",
    "print(result)"
   ]
  },
  {
   "cell_type": "code",
   "execution_count": null,
   "id": "commercial-endorsement",
   "metadata": {},
   "outputs": [],
   "source": [
    "# empty return\n",
    "def empty_func(a, b): return a + b\n",
    "\n",
    "print(empty_func(1, 1))"
   ]
  },
  {
   "cell_type": "code",
   "execution_count": null,
   "id": "earlier-boutique",
   "metadata": {},
   "outputs": [],
   "source": [
    "# 4 returns + rec\n",
    "def fibb(arg):\n",
    "    if arg < 0:\n",
    "        print('arg < 0')\n",
    "        return\n",
    "    \n",
    "    elif arg == 0:\n",
    "        return 0\n",
    "    \n",
    "    elif arg == 1:\n",
    "        return 1\n",
    "    \n",
    "    else:\n",
    "        return fibb(arg - 1) + fibb(arg - 2)\n",
    "    \n",
    "    print('Hello')\n",
    "\n",
    "print(fibb(-1))\n",
    "print(fibb(0))\n",
    "print(fibb(1))\n",
    "print(fibb(10))"
   ]
  },
  {
   "cell_type": "code",
   "execution_count": null,
   "id": "worst-spiritual",
   "metadata": {},
   "outputs": [],
   "source": [
    "# function as an arg\n",
    "def say_hey(func):\n",
    "    name = calculate('Jo', 'Jo')\n",
    "    func(name)\n",
    "\n",
    "say_hey(say_hello)"
   ]
  },
  {
   "cell_type": "code",
   "execution_count": null,
   "id": "saved-setup",
   "metadata": {},
   "outputs": [],
   "source": [
    "# function is also an object\n",
    "dir(say_hello)"
   ]
  },
  {
   "cell_type": "code",
   "execution_count": null,
   "id": "affiliated-reason",
   "metadata": {},
   "outputs": [],
   "source": [
    "say_hello.__name__"
   ]
  },
  {
   "cell_type": "code",
   "execution_count": null,
   "id": "acceptable-spank",
   "metadata": {},
   "outputs": [],
   "source": [
    "# variable for function\n",
    "get_hello_str = say_hello\n",
    "get_hello_str('Dante')"
   ]
  },
  {
   "cell_type": "code",
   "execution_count": null,
   "id": "dense-youth",
   "metadata": {},
   "outputs": [],
   "source": [
    "# function in function\n",
    "def external_func(arg1):\n",
    "    data = arg1 + 101\n",
    "    def internal_func(arg2):\n",
    "        return arg2 * data\n",
    "    \n",
    "    return internal_func\n",
    "\n",
    "\n",
    "result1 = external_func(2)\n",
    "print(result1)"
   ]
  },
  {
   "cell_type": "code",
   "execution_count": null,
   "id": "respective-chapel",
   "metadata": {},
   "outputs": [],
   "source": [
    "result1(3)"
   ]
  },
  {
   "cell_type": "markdown",
   "id": "productive-branch",
   "metadata": {},
   "source": [
    "### Arguments"
   ]
  },
  {
   "cell_type": "code",
   "execution_count": null,
   "id": "honest-athens",
   "metadata": {},
   "outputs": [],
   "source": [
    "# positional arguments\n",
    "def func(a, b, c, *d):\n",
    "    print(f'a={a}, b={b}, c={c}, d={d}')"
   ]
  },
  {
   "cell_type": "code",
   "execution_count": null,
   "id": "stunning-cannon",
   "metadata": {},
   "outputs": [],
   "source": [
    "func(1, 2, 3, 4)"
   ]
  },
  {
   "cell_type": "code",
   "execution_count": null,
   "id": "played-interaction",
   "metadata": {},
   "outputs": [],
   "source": [
    "func(c=4, 2, 3, a=1)  # Error"
   ]
  },
  {
   "cell_type": "code",
   "execution_count": null,
   "id": "altered-amateur",
   "metadata": {},
   "outputs": [],
   "source": [
    "# *args\n",
    "def func(a, b, c, *d):\n",
    "    print(f'a={a}, b={b}, c={c}, d={d}')\n",
    "    print(d[-1])"
   ]
  },
  {
   "cell_type": "code",
   "execution_count": null,
   "id": "internal-receptor",
   "metadata": {},
   "outputs": [],
   "source": [
    "func(1, 2, 3, 4, 5, 6, 7, 8, \"asdf\", [1, 2, 3], func)"
   ]
  },
  {
   "cell_type": "code",
   "execution_count": null,
   "id": "driven-potential",
   "metadata": {},
   "outputs": [],
   "source": [
    "func(1, 2, 0, d=3)  # Error"
   ]
  },
  {
   "cell_type": "code",
   "execution_count": null,
   "id": "alternative-africa",
   "metadata": {},
   "outputs": [],
   "source": [
    "# keyword arguments\n",
    "def func(a, b, c=1, d=4):\n",
    "    print(f'a={a}, b={b}, c={c}, d={d}')\n",
    "\n",
    "func(1, 2)\n",
    "func(3, 4, 5, 6)\n",
    "func(1, 2, c=2, d=8)\n",
    "func(d=1, b=2, a=10, c=-1)"
   ]
  },
  {
   "cell_type": "code",
   "execution_count": null,
   "id": "running-astronomy",
   "metadata": {},
   "outputs": [],
   "source": [
    "# **kwargs\n",
    "def func(a, b, c, **d):\n",
    "    print(f'a={a}, b={b}, c={c}, d={d}')\n",
    "\n",
    "func(1, 2, 3, d=1, k='hello')"
   ]
  },
  {
   "cell_type": "code",
   "execution_count": null,
   "id": "aging-surgeon",
   "metadata": {},
   "outputs": [],
   "source": [
    "# order\n",
    "def func(a, b, c=1, *d, e=2, f, **g):\n",
    "    print(f'a={a}, b={b}, c={c}, d={d}, e={e}, f={f}, g={g}')\n",
    "\n",
    "func(1, 2, 3, 4, 5, k=100, n=100, f=1)"
   ]
  },
  {
   "cell_type": "code",
   "execution_count": null,
   "id": "satisfied-cursor",
   "metadata": {},
   "outputs": [],
   "source": [
    "# hack\n",
    "def func(a, b, *, c, d):  # how to call?\n",
    "    print(f'a={a}, b={b}, c={c}, d={d}')\n",
    "\n",
    "func(1, 2, c=5, d=6)"
   ]
  },
  {
   "cell_type": "markdown",
   "id": "attached-onion",
   "metadata": {},
   "source": [
    "### Unpak arguments"
   ]
  },
  {
   "cell_type": "code",
   "execution_count": null,
   "id": "worse-transcription",
   "metadata": {},
   "outputs": [],
   "source": [
    "def handle_data(*args, **kwargs):\n",
    "    print(args, kwargs)\n",
    "\n",
    "args = (1, 'data', 3, None, True, handle_data)\n",
    "kwargs = {'6': 'six', 'func': handle_data}\n",
    "\n",
    "handle_data(*args, **kwargs)"
   ]
  },
  {
   "cell_type": "code",
   "execution_count": null,
   "id": "handmade-salvation",
   "metadata": {},
   "outputs": [],
   "source": [
    "kwargs = {6: 6}\n",
    "handle_data(*args, **kwargs)  # Error"
   ]
  },
  {
   "cell_type": "markdown",
   "id": "disturbed-karen",
   "metadata": {},
   "source": [
    "### Mutable VS Immutable"
   ]
  },
  {
   "cell_type": "code",
   "execution_count": null,
   "id": "explicit-muscle",
   "metadata": {},
   "outputs": [],
   "source": [
    "def func(my_list=[]):\n",
    "    print(id(my_list))\n",
    "    my_list.append(1)\n",
    "    print(my_list)"
   ]
  },
  {
   "cell_type": "code",
   "execution_count": null,
   "id": "civil-developer",
   "metadata": {},
   "outputs": [],
   "source": [
    "func.__defaults__"
   ]
  },
  {
   "cell_type": "code",
   "execution_count": null,
   "id": "identical-extraction",
   "metadata": {},
   "outputs": [],
   "source": [
    "func()"
   ]
  },
  {
   "cell_type": "code",
   "execution_count": null,
   "id": "acceptable-lyric",
   "metadata": {},
   "outputs": [],
   "source": [
    "func() # what will happen?"
   ]
  },
  {
   "cell_type": "code",
   "execution_count": null,
   "id": "eligible-estonia",
   "metadata": {},
   "outputs": [],
   "source": [
    "def func(arg=1):\n",
    "    arg += 1\n",
    "    print(arg)\n",
    "    \n",
    "func()\n",
    "func()"
   ]
  },
  {
   "cell_type": "code",
   "execution_count": null,
   "id": "trained-badge",
   "metadata": {},
   "outputs": [],
   "source": [
    "# best practice\n",
    "\n",
    "def func(my_list=None):\n",
    "    my_list = my_list or []\n",
    "    print(my_list)\n",
    "\n",
    "func()\n",
    "func([1, 2, 3])"
   ]
  },
  {
   "cell_type": "markdown",
   "id": "little-concern",
   "metadata": {},
   "source": [
    "### Lambda"
   ]
  },
  {
   "cell_type": "code",
   "execution_count": null,
   "id": "worthy-wichita",
   "metadata": {},
   "outputs": [],
   "source": [
    "say_hello_lambda = lambda name: f'Hello, {name}!'\n",
    "say_hello_lambda('Bob')"
   ]
  },
  {
   "cell_type": "code",
   "execution_count": null,
   "id": "treated-joyce",
   "metadata": {},
   "outputs": [],
   "source": [
    "# no args + if\n",
    "lambda arg: \n",
    "    1 if arg else 0"
   ]
  },
  {
   "cell_type": "code",
   "execution_count": null,
   "id": "informal-verification",
   "metadata": {},
   "outputs": [],
   "source": [
    "def func(): return 1 if True else 0\n",
    "func()"
   ]
  },
  {
   "cell_type": "code",
   "execution_count": null,
   "id": "large-generator",
   "metadata": {},
   "outputs": [],
   "source": [
    "# usage\n",
    "var = [(1, 3), (0, 2), (7, 5), (1, 1), (4, 6)]\n",
    "var.sort()\n",
    "\n",
    "print(var)"
   ]
  },
  {
   "cell_type": "code",
   "execution_count": null,
   "id": "impressive-conspiracy",
   "metadata": {},
   "outputs": [],
   "source": [
    "def func(i_tuple): return i_tuple[-1]\n",
    "\n",
    "var.sort(key=func)\n",
    "print(var)"
   ]
  },
  {
   "cell_type": "code",
   "execution_count": null,
   "id": "greater-hunter",
   "metadata": {},
   "outputs": [],
   "source": [
    "animals = ['cat', 'dog', 'cow']\n",
    "print(*map(func, animals))\n",
    "print(*filter(func, animals))"
   ]
  },
  {
   "cell_type": "code",
   "execution_count": null,
   "id": "failing-memory",
   "metadata": {},
   "outputs": [],
   "source": [
    "# Magic\n",
    "my_list = list()\n",
    "for i in range(10):\n",
    "    my_list.append(lambda: i**2)\n",
    "\n",
    "print(id(my_list[1]), id(my_list[2]))"
   ]
  },
  {
   "cell_type": "markdown",
   "id": "careful-shopping",
   "metadata": {},
   "source": [
    "### Scopes"
   ]
  },
  {
   "cell_type": "code",
   "execution_count": null,
   "id": "fourth-behavior",
   "metadata": {},
   "outputs": [],
   "source": [
    "total = 0  # global\n",
    "\n",
    "def sum(arg1, arg2):\n",
    "    \"\"\"Sum the parameters and return the result.\"\"\"\n",
    "    total = arg1 + arg2  # local\n",
    "    print(f\"Inside the function: {total}\")\n",
    "\n",
    "sum(10, 20)\n",
    "print(f\"Outside the function: {total}\")"
   ]
  },
  {
   "cell_type": "code",
   "execution_count": null,
   "id": "million-cambridge",
   "metadata": {
    "scrolled": true
   },
   "outputs": [],
   "source": [
    "total = 0  # global\n",
    "\n",
    "def sum(arg1, arg2):\n",
    "    \"\"\"Sum the parameters and return the result.\"\"\"\n",
    "    result = (arg1 + arg2) * total  # local\n",
    "    print(f\"Inside the function: {result}\")\n",
    "\n",
    "sum(10, 20)"
   ]
  },
  {
   "cell_type": "markdown",
   "id": "rotary-jewel",
   "metadata": {},
   "source": [
    "### global & nonlocal"
   ]
  },
  {
   "cell_type": "code",
   "execution_count": null,
   "id": "herbal-denial",
   "metadata": {},
   "outputs": [],
   "source": [
    "money = 2000\n",
    "\n",
    "def add_money():\n",
    "    money = money + 1  # is OK?\n",
    "    print(money)\n",
    "\n",
    "add_money()\n",
    "print(money)"
   ]
  },
  {
   "cell_type": "code",
   "execution_count": null,
   "id": "aquatic-toilet",
   "metadata": {},
   "outputs": [],
   "source": [
    "money = 2000\n",
    "\n",
    "def add_money():\n",
    "    global money\n",
    "    money = money + 1            \n",
    "    print(money)\n",
    "\n",
    "add_money()\n",
    "print(money) "
   ]
  },
  {
   "cell_type": "code",
   "execution_count": null,
   "id": "listed-craft",
   "metadata": {},
   "outputs": [],
   "source": [
    "money = 2000\n",
    "\n",
    "def add_money():\n",
    "    global money\n",
    "    amount = 1\n",
    "    \n",
    "    def calculate():\n",
    "        amount = amount + 100  # Error\n",
    "        return money + amount\n",
    "    \n",
    "    money = calculate()\n",
    "    print(money)\n",
    "\n",
    "add_money()\n",
    "print(money) "
   ]
  },
  {
   "cell_type": "code",
   "execution_count": null,
   "id": "prescription-contact",
   "metadata": {},
   "outputs": [],
   "source": [
    "money = 2000\n",
    "\n",
    "def add_money():\n",
    "    global money\n",
    "    amount = 1\n",
    "    \n",
    "    def calculate():\n",
    "        global amount  # Error \n",
    "        amount += 100\n",
    "        return money + amount\n",
    "    \n",
    "    money = calculate()\n",
    "    print(money)\n",
    "\n",
    "add_money()\n",
    "print(money) "
   ]
  },
  {
   "cell_type": "code",
   "execution_count": null,
   "id": "scheduled-diesel",
   "metadata": {},
   "outputs": [],
   "source": [
    "money = 2000\n",
    "\n",
    "def add_money():\n",
    "    global money\n",
    "    amount = 1\n",
    "    \n",
    "    def calculate():\n",
    "        nonlocal amount\n",
    "        global money\n",
    "        amount += 100\n",
    "        money += amount\n",
    "    \n",
    "    calculate()\n",
    "    print(money)\n",
    "\n",
    "add_money()\n",
    "print(money) "
   ]
  },
  {
   "cell_type": "markdown",
   "id": "appreciated-fortune",
   "metadata": {},
   "source": [
    "### globals() & locals()"
   ]
  },
  {
   "cell_type": "code",
   "execution_count": null,
   "id": "roman-harmony",
   "metadata": {},
   "outputs": [],
   "source": [
    "# restart kernel\n",
    "globals()"
   ]
  },
  {
   "cell_type": "code",
   "execution_count": null,
   "id": "legitimate-smile",
   "metadata": {},
   "outputs": [],
   "source": [
    "locals()"
   ]
  },
  {
   "cell_type": "code",
   "execution_count": null,
   "id": "everyday-dealer",
   "metadata": {},
   "outputs": [],
   "source": [
    "a = 100\n",
    "b = [1, 2, 3]"
   ]
  },
  {
   "cell_type": "code",
   "execution_count": null,
   "id": "invalid-andrew",
   "metadata": {},
   "outputs": [],
   "source": [
    "globals()"
   ]
  },
  {
   "cell_type": "code",
   "execution_count": null,
   "id": "following-belize",
   "metadata": {},
   "outputs": [],
   "source": [
    "locals()"
   ]
  },
  {
   "cell_type": "code",
   "execution_count": null,
   "id": "southeast-belief",
   "metadata": {},
   "outputs": [],
   "source": [
    "def func():\n",
    "    print(globals())\n",
    "    print('-' * 100)\n",
    "    print(locals())\n",
    "\n",
    "func()"
   ]
  },
  {
   "cell_type": "code",
   "execution_count": null,
   "id": "indonesian-adams",
   "metadata": {},
   "outputs": [],
   "source": [
    "def func2():\n",
    "    n = 1\n",
    "    print(globals())\n",
    "    print('-' * 100)\n",
    "    print(locals())\n",
    "\n",
    "def func():\n",
    "    z = 100\n",
    "    c = {a: 100}\n",
    "    print(globals())\n",
    "    print('-' * 100)\n",
    "    print(locals())\n",
    "\n",
    "func()\n",
    "print('=' * 100)\n",
    "func2()"
   ]
  }
 ],
 "metadata": {
  "kernelspec": {
   "display_name": "Python 3",
   "language": "python",
   "name": "python3"
  },
  "language_info": {
   "codemirror_mode": {
    "name": "ipython",
    "version": 3
   },
   "file_extension": ".py",
   "mimetype": "text/x-python",
   "name": "python",
   "nbconvert_exporter": "python",
   "pygments_lexer": "ipython3",
   "version": "3.8.8"
  }
 },
 "nbformat": 4,
 "nbformat_minor": 5
}
