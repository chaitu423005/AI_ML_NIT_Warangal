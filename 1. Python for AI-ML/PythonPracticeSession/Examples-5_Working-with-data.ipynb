{
 "cells": [
  {
   "cell_type": "markdown",
   "id": "sublime-breakdown",
   "metadata": {},
   "source": [
    "## Closure"
   ]
  },
  {
   "cell_type": "markdown",
   "id": "alert-third",
   "metadata": {},
   "source": [
    "#### Usage"
   ]
  },
  {
   "cell_type": "code",
   "execution_count": null,
   "id": "statistical-owner",
   "metadata": {},
   "outputs": [],
   "source": [
    "from time import sleep\n",
    "\n",
    "def time_printer(sec):\n",
    "    def printer(msg):\n",
    "        print('Sleeping...')\n",
    "        sleep(sec)\n",
    "        print(msg)\n",
    "\n",
    "    return printer\n",
    "\n",
    "timed_func = time_printer(5)\n",
    "timed_func('Some message')"
   ]
  },
  {
   "cell_type": "markdown",
   "id": "military-diagram",
   "metadata": {},
   "source": [
    "## Decorators"
   ]
  },
  {
   "cell_type": "markdown",
   "id": "vocal-aircraft",
   "metadata": {},
   "source": [
    "#### Examples"
   ]
  },
  {
   "cell_type": "code",
   "execution_count": null,
   "id": "genetic-catholic",
   "metadata": {},
   "outputs": [],
   "source": [
    "from time import time\n",
    "\n",
    "def stopwatch(func):\n",
    "    def wrapper(*args, **kwargs):\n",
    "        t0 = time()\n",
    "        result = func(*args, **kwargs)\n",
    "        t1 = time()\n",
    "        print(f'Function execution time: {t1 - t0:.2f}')\n",
    "        \n",
    "        return result\n",
    "    \n",
    "    return wrapper\n",
    "\n",
    "FIBB_DB = {0: 0, 1: 1, 2: 1}\n",
    "\n",
    "@stopwatch\n",
    "def cube_fibb(n):\n",
    "    for pos in range(n + 1):\n",
    "        if FIBB_DB.get(pos) is None:\n",
    "            FIBB_DB[pos] = FIBB_DB[pos - 1] + FIBB_DB[pos - 2] + FIBB_DB[pos - 3]\n",
    "    \n",
    "    return FIBB_DB[n]"
   ]
  },
  {
   "cell_type": "code",
   "execution_count": null,
   "id": "cordless-fisher",
   "metadata": {},
   "outputs": [],
   "source": [
    "cube_fibb(4)\n",
    "cube_fibb(200000)\n",
    "cube_fibb(200000)\n",
    "print('Done!')"
   ]
  },
  {
   "cell_type": "code",
   "execution_count": null,
   "id": "realistic-current",
   "metadata": {},
   "outputs": [],
   "source": [
    "from json import loads\n",
    "\n",
    "def checker(handler):\n",
    "    def wrapper(event, context):\n",
    "        body = loads(event['body'])\n",
    "        return handler(body)\n",
    "    \n",
    "    return wrapper\n",
    "\n",
    "\n",
    "@checker\n",
    "def handle_body(body):\n",
    "    \"\"\"Handle body\"\"\"\n",
    "    print(body)"
   ]
  },
  {
   "cell_type": "code",
   "execution_count": null,
   "id": "subject-helmet",
   "metadata": {},
   "outputs": [],
   "source": [
    "event = {'body': '{\"data\": \"some data\"}'}"
   ]
  },
  {
   "cell_type": "code",
   "execution_count": null,
   "id": "reserved-compromise",
   "metadata": {},
   "outputs": [],
   "source": [
    "handle_body(event)  # Is it OK?"
   ]
  },
  {
   "cell_type": "code",
   "execution_count": null,
   "id": "hungarian-pepper",
   "metadata": {},
   "outputs": [],
   "source": [
    "handle_body(event, 'Context')  # Is it OK?"
   ]
  },
  {
   "cell_type": "code",
   "execution_count": null,
   "id": "completed-disease",
   "metadata": {},
   "outputs": [],
   "source": [
    "handle_body.__name__  # ?"
   ]
  },
  {
   "cell_type": "code",
   "execution_count": null,
   "id": "legislative-width",
   "metadata": {},
   "outputs": [],
   "source": [
    "help(handle_body)"
   ]
  },
  {
   "cell_type": "markdown",
   "id": "organized-cornwall",
   "metadata": {},
   "source": [
    "#### wraps"
   ]
  },
  {
   "cell_type": "code",
   "execution_count": null,
   "id": "focal-summit",
   "metadata": {},
   "outputs": [],
   "source": [
    "import functools\n",
    "\n",
    "def checker(handler):\n",
    "    @functools.wraps(handler)\n",
    "    def wrapper(event, context):\n",
    "        body = loads(event['body'])\n",
    "        return handler(body)\n",
    "    \n",
    "    return wrapper\n",
    "\n",
    "@checker\n",
    "def handle_body(body):\n",
    "    \"\"\"Handle body\"\"\"\n",
    "    print(body)"
   ]
  },
  {
   "cell_type": "code",
   "execution_count": null,
   "id": "surprising-conspiracy",
   "metadata": {},
   "outputs": [],
   "source": [
    "handle_body.__name__"
   ]
  },
  {
   "cell_type": "code",
   "execution_count": null,
   "id": "amateur-favor",
   "metadata": {},
   "outputs": [],
   "source": [
    "help(handle_body)"
   ]
  },
  {
   "cell_type": "markdown",
   "id": "intensive-geology",
   "metadata": {},
   "source": [
    "#### Arguments"
   ]
  },
  {
   "cell_type": "code",
   "execution_count": null,
   "id": "constant-rogers",
   "metadata": {},
   "outputs": [],
   "source": [
    "def checker(validator):\n",
    "    def decorator(handler):\n",
    "        def wrapper(event, context):\n",
    "            if validator(event):\n",
    "                return handler(event, context)\n",
    "            \n",
    "            print('Not valid data!')\n",
    "        \n",
    "        return wrapper\n",
    "    \n",
    "    return decorator\n",
    "\n",
    "def event_validator(event):\n",
    "    if 'body' in event:\n",
    "        return True\n",
    "    \n",
    "    return False"
   ]
  },
  {
   "cell_type": "code",
   "execution_count": null,
   "id": "light-projector",
   "metadata": {},
   "outputs": [],
   "source": [
    "@checker(event_validator)\n",
    "def handler(event, context):\n",
    "    print(event)\n",
    "    \n",
    "handler({}, 'Context')"
   ]
  },
  {
   "cell_type": "markdown",
   "id": "considerable-software",
   "metadata": {},
   "source": [
    "#### It's the same"
   ]
  },
  {
   "cell_type": "code",
   "execution_count": null,
   "id": "auburn-twelve",
   "metadata": {},
   "outputs": [],
   "source": [
    "def handler(event, context):\n",
    "    print(event)\n",
    "    \n",
    "decorator = checker(event_validator)\n",
    "handler = decorator(handler)\n",
    "\n",
    "handler({}, 'Context')"
   ]
  },
  {
   "cell_type": "markdown",
   "id": "celtic-process",
   "metadata": {},
   "source": [
    "## Files"
   ]
  },
  {
   "cell_type": "markdown",
   "id": "ready-prize",
   "metadata": {},
   "source": [
    "#### Read"
   ]
  },
  {
   "cell_type": "code",
   "execution_count": null,
   "id": "quiet-robin",
   "metadata": {},
   "outputs": [],
   "source": [
    "file = open('sh.txt', 'r')\n",
    "data = file.read()\n",
    "\n",
    "data[:100]"
   ]
  },
  {
   "cell_type": "code",
   "execution_count": null,
   "id": "directed-partner",
   "metadata": {},
   "outputs": [],
   "source": [
    "file.read()  # File was read"
   ]
  },
  {
   "cell_type": "code",
   "execution_count": null,
   "id": "extraordinary-element",
   "metadata": {},
   "outputs": [],
   "source": [
    "file.close()"
   ]
  },
  {
   "cell_type": "code",
   "execution_count": null,
   "id": "quality-intervention",
   "metadata": {},
   "outputs": [],
   "source": [
    "file.read()  # Error"
   ]
  },
  {
   "cell_type": "markdown",
   "id": "infinite-horizon",
   "metadata": {},
   "source": [
    "#### Readline"
   ]
  },
  {
   "cell_type": "code",
   "execution_count": null,
   "id": "ready-villa",
   "metadata": {},
   "outputs": [],
   "source": [
    "file = open('sh.txt', 'r')\n",
    "print(file.readline())\n",
    "print(file.readline())\n",
    "print(file.readline())"
   ]
  },
  {
   "cell_type": "code",
   "execution_count": null,
   "id": "recorded-import",
   "metadata": {},
   "outputs": [],
   "source": [
    "for i in range(10000):\n",
    "    file.readline()\n",
    "\n",
    "print(file.readline())  # File was read"
   ]
  },
  {
   "cell_type": "code",
   "execution_count": null,
   "id": "impossible-cabinet",
   "metadata": {},
   "outputs": [],
   "source": [
    "file.close()"
   ]
  },
  {
   "cell_type": "markdown",
   "id": "important-tucson",
   "metadata": {},
   "source": [
    "#### Readlines"
   ]
  },
  {
   "cell_type": "code",
   "execution_count": null,
   "id": "charming-sweden",
   "metadata": {},
   "outputs": [],
   "source": [
    "file = open('sh.txt', 'r')\n",
    "lines = file.readlines()\n",
    "file.close()\n",
    "print(len(lines))"
   ]
  },
  {
   "cell_type": "markdown",
   "id": "driven-romance",
   "metadata": {},
   "source": [
    "#### for line"
   ]
  },
  {
   "cell_type": "code",
   "execution_count": null,
   "id": "european-subscriber",
   "metadata": {},
   "outputs": [],
   "source": [
    "file = open('sh.txt', 'r')\n",
    "for line in file:\n",
    "    if '?' in line:\n",
    "        print(line)\n",
    "file.close()"
   ]
  },
  {
   "cell_type": "markdown",
   "id": "ready-modern",
   "metadata": {},
   "source": [
    "#### Write"
   ]
  },
  {
   "cell_type": "code",
   "execution_count": null,
   "id": "cellular-shade",
   "metadata": {},
   "outputs": [],
   "source": [
    "file = open('names.txt', 'w')\n",
    "names = ['Bob', 'Alex', 'Naruto', 'Peter']\n",
    "for pos, name in enumerate(names):\n",
    "    file.write(f'{pos}) {name}\\n')\n",
    "\n",
    "file.close()"
   ]
  },
  {
   "cell_type": "code",
   "execution_count": null,
   "id": "coated-raise",
   "metadata": {},
   "outputs": [],
   "source": [
    "file = open('names.txt', 'w')\n",
    "print(*names, file=file, sep=', ')\n",
    "file.close()"
   ]
  },
  {
   "cell_type": "markdown",
   "id": "objective-twins",
   "metadata": {},
   "source": [
    "#### Seek/Tell"
   ]
  },
  {
   "cell_type": "code",
   "execution_count": null,
   "id": "brief-layer",
   "metadata": {},
   "outputs": [],
   "source": [
    "file = open('sh.txt')\n",
    "print(file.tell(), '- Start postion')\n",
    "file.readline()\n",
    "print(file.tell(), '- New position')"
   ]
  },
  {
   "cell_type": "code",
   "execution_count": null,
   "id": "worst-garden",
   "metadata": {},
   "outputs": [],
   "source": [
    "file.seek(0, 0)  # Return to start\n",
    "print(file.tell())"
   ]
  },
  {
   "cell_type": "markdown",
   "id": "beautiful-professor",
   "metadata": {},
   "source": [
    "#### Context"
   ]
  },
  {
   "cell_type": "code",
   "execution_count": null,
   "id": "searching-extraction",
   "metadata": {},
   "outputs": [],
   "source": [
    "with open('names.txt') as file:\n",
    "    for line in file:\n",
    "        print(line)\n",
    "\n",
    "print(file.closed)"
   ]
  },
  {
   "cell_type": "markdown",
   "id": "subsequent-momentum",
   "metadata": {},
   "source": [
    "#### Serealization"
   ]
  },
  {
   "cell_type": "code",
   "execution_count": null,
   "id": "floating-stations",
   "metadata": {},
   "outputs": [],
   "source": [
    "import pickle\n",
    "\n",
    "storage_file = 'storage.data'\n",
    "data = ['abc', 123, 456.789]\n",
    "with open(storage_file, 'wb') as file_storage:\n",
    "    pickle.dump(data, file_storage)\n",
    "del data\n",
    "\n",
    "\n",
    "with open(storage_file, 'rb') as file_storage:\n",
    "    print(pickle.load(file_storage))"
   ]
  },
  {
   "cell_type": "markdown",
   "id": "harmful-confidence",
   "metadata": {},
   "source": [
    "## Modules"
   ]
  },
  {
   "cell_type": "markdown",
   "id": "brown-flush",
   "metadata": {},
   "source": [
    "#### imports"
   ]
  },
  {
   "cell_type": "code",
   "execution_count": null,
   "id": "reserved-tribune",
   "metadata": {},
   "outputs": [],
   "source": [
    "import custom\n",
    "\n",
    "custom.say_hello('Bob')\n",
    "custom.say_bue()"
   ]
  },
  {
   "cell_type": "code",
   "execution_count": null,
   "id": "painted-missile",
   "metadata": {},
   "outputs": [],
   "source": [
    "dir(custom)"
   ]
  },
  {
   "cell_type": "code",
   "execution_count": null,
   "id": "terminal-tattoo",
   "metadata": {},
   "outputs": [],
   "source": [
    "from custom import say_hello\n",
    "\n",
    "say_hello('Peter')"
   ]
  },
  {
   "cell_type": "code",
   "execution_count": null,
   "id": "permanent-rwanda",
   "metadata": {},
   "outputs": [],
   "source": [
    "say_bue()"
   ]
  },
  {
   "cell_type": "code",
   "execution_count": null,
   "id": "protective-subsection",
   "metadata": {},
   "outputs": [],
   "source": [
    "from custom import say_bue as bue\n",
    "import custom as c\n",
    "\n",
    "bue()\n",
    "c.say_bue()"
   ]
  },
  {
   "cell_type": "markdown",
   "id": "inside-attack",
   "metadata": {},
   "source": [
    "#### Reload"
   ]
  },
  {
   "cell_type": "code",
   "execution_count": null,
   "id": "elect-mexican",
   "metadata": {},
   "outputs": [],
   "source": [
    "import custom\n",
    "\n",
    "custom.say_hello('Saske')"
   ]
  },
  {
   "cell_type": "code",
   "execution_count": null,
   "id": "dominant-impact",
   "metadata": {},
   "outputs": [],
   "source": [
    "# Change `say_hello` function\n",
    "custom.say_hello('Saske')  # Same resutl"
   ]
  },
  {
   "cell_type": "code",
   "execution_count": null,
   "id": "official-fever",
   "metadata": {},
   "outputs": [],
   "source": [
    "from imp import reload\n",
    "\n",
    "reload(custom)\n",
    "custom.say_hello('Saske')  # New result"
   ]
  },
  {
   "cell_type": "markdown",
   "id": "mobile-outreach",
   "metadata": {},
   "source": [
    "#### Paths"
   ]
  },
  {
   "cell_type": "code",
   "execution_count": null,
   "id": "warming-folder",
   "metadata": {},
   "outputs": [],
   "source": [
    "import sys\n",
    "\n",
    "sys.path"
   ]
  },
  {
   "cell_type": "code",
   "execution_count": null,
   "id": "resistant-output",
   "metadata": {},
   "outputs": [],
   "source": [
    "sys.modules"
   ]
  },
  {
   "cell_type": "markdown",
   "id": "confused-martial",
   "metadata": {},
   "source": [
    "## Modules"
   ]
  },
  {
   "cell_type": "markdown",
   "id": "modern-pregnancy",
   "metadata": {},
   "source": [
    "#### Working with package"
   ]
  },
  {
   "cell_type": "code",
   "execution_count": null,
   "id": "muslim-perception",
   "metadata": {},
   "outputs": [],
   "source": [
    "import package\n",
    "\n",
    "dir(package)"
   ]
  },
  {
   "cell_type": "code",
   "execution_count": null,
   "id": "split-hearts",
   "metadata": {},
   "outputs": [],
   "source": [
    "package.python()\n",
    "package.linux()\n",
    "package.c()\n",
    "package.nim()"
   ]
  },
  {
   "cell_type": "code",
   "execution_count": null,
   "id": "olympic-lighting",
   "metadata": {},
   "outputs": [],
   "source": [
    "from package import *\n",
    "\n",
    "python()\n",
    "linux()\n",
    "c()\n",
    "nim()"
   ]
  },
  {
   "cell_type": "markdown",
   "id": "distinguished-fountain",
   "metadata": {},
   "source": [
    "#### `__main__`"
   ]
  },
  {
   "cell_type": "code",
   "execution_count": null,
   "id": "vital-walnut",
   "metadata": {},
   "outputs": [],
   "source": [
    "%%bash\n",
    "python -m package"
   ]
  },
  {
   "cell_type": "code",
   "execution_count": null,
   "id": "graphic-inventory",
   "metadata": {},
   "outputs": [],
   "source": [
    "%%bash\n",
    "python package2  # __main__ without dots"
   ]
  }
 ],
 "metadata": {
  "kernelspec": {
   "display_name": "Python 3",
   "language": "python",
   "name": "python3"
  },
  "language_info": {
   "codemirror_mode": {
    "name": "ipython",
    "version": 3
   },
   "file_extension": ".py",
   "mimetype": "text/x-python",
   "name": "python",
   "nbconvert_exporter": "python",
   "pygments_lexer": "ipython3",
   "version": "3.8.6"
  }
 },
 "nbformat": 4,
 "nbformat_minor": 5
}
