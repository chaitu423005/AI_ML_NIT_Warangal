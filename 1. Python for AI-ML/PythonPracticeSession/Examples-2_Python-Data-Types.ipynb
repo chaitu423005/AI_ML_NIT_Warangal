{
 "cells": [
  {
   "cell_type": "markdown",
   "id": "civic-europe",
   "metadata": {
    "tags": []
   },
   "source": [
    "## Strings"
   ]
  },
  {
   "cell_type": "markdown",
   "id": "fc0ec209-b686-4cad-9bb9-35b4b337e63c",
   "metadata": {
    "tags": []
   },
   "source": [
    "#### '' vs \"\""
   ]
  },
  {
   "cell_type": "code",
   "execution_count": 34,
   "id": "90374240",
   "metadata": {},
   "outputs": [
    {
     "data": {
      "text/plain": [
       "40"
      ]
     },
     "execution_count": 34,
     "metadata": {},
     "output_type": "execute_result"
    }
   ],
   "source": []
  },
  {
   "cell_type": "code",
   "execution_count": 1,
   "id": "operational-gilbert",
   "metadata": {},
   "outputs": [
    {
     "data": {
      "text/plain": [
       "True"
      ]
     },
     "execution_count": 1,
     "metadata": {},
     "output_type": "execute_result"
    }
   ],
   "source": [
    "a = 'string'\n",
    "b = \"string\"\n",
    "a == b"
   ]
  },
  {
   "cell_type": "markdown",
   "id": "1b615a09-cf58-4c21-af57-4bfc09190184",
   "metadata": {
    "tags": []
   },
   "source": [
    "#### Empty string"
   ]
  },
  {
   "cell_type": "code",
   "execution_count": null,
   "id": "blessed-sunrise",
   "metadata": {},
   "outputs": [],
   "source": [
    "a = str()\n",
    "print(a)"
   ]
  },
  {
   "cell_type": "markdown",
   "id": "b9d72eb6-665a-402e-9f8f-675fe426ab1c",
   "metadata": {
    "tags": []
   },
   "source": [
    "#### Accessing string elements"
   ]
  },
  {
   "cell_type": "code",
   "execution_count": 4,
   "id": "collect-scheme",
   "metadata": {},
   "outputs": [
    {
     "name": "stdout",
     "output_type": "stream",
     "text": [
      "0\n",
      "8\n"
     ]
    }
   ],
   "source": [
    "my_str = \"0123456789\"\n",
    "print(my_str[0])  # starts at 0 \n",
    "print(my_str[-2]) # last symbol (starts at -1)"
   ]
  },
  {
   "cell_type": "markdown",
   "id": "d0c4d924-56bd-459a-bd0f-63f0742d0a77",
   "metadata": {
    "tags": []
   },
   "source": [
    "#### Strings are immutable"
   ]
  },
  {
   "cell_type": "code",
   "execution_count": 10,
   "id": "scenic-crawford",
   "metadata": {},
   "outputs": [
    {
     "data": {
      "text/plain": [
       "'0123416789'"
      ]
     },
     "execution_count": 10,
     "metadata": {},
     "output_type": "execute_result"
    }
   ],
   "source": [
    "# my_str[5] = \"1\"\n",
    "my_str_new = my_str[:5] + \"1\" + my_str[6:]\n",
    "my_str_new"
   ]
  },
  {
   "cell_type": "code",
   "execution_count": null,
   "id": "alternative-placement",
   "metadata": {},
   "outputs": [],
   "source": [
    "my_str[-1] = 1"
   ]
  },
  {
   "cell_type": "markdown",
   "id": "a38458d8-2a5c-4006-bf7d-f4da59b0cb40",
   "metadata": {
    "tags": []
   },
   "source": [
    "#### String formating"
   ]
  },
  {
   "cell_type": "code",
   "execution_count": 16,
   "id": "isolated-survivor",
   "metadata": {},
   "outputs": [
    {
     "data": {
      "text/plain": [
       "'Hello! My name is Bob and I amd 32.500000'"
      ]
     },
     "execution_count": 16,
     "metadata": {},
     "output_type": "execute_result"
    }
   ],
   "source": [
    "'Hello! My name is %s and I amd %f' % ('Bob', 32.5)"
   ]
  },
  {
   "cell_type": "code",
   "execution_count": 18,
   "id": "fifth-budget",
   "metadata": {},
   "outputs": [
    {
     "data": {
      "text/plain": [
       "'meat and eggs'"
      ]
     },
     "execution_count": 18,
     "metadata": {},
     "output_type": "execute_result"
    }
   ],
   "source": [
    "TEMPLATE = '{} and {}'\n",
    "TEMPLATE.format('meat', 'eggs')"
   ]
  },
  {
   "cell_type": "code",
   "execution_count": 19,
   "id": "aerial-sierra",
   "metadata": {},
   "outputs": [
    {
     "name": "stdout",
     "output_type": "stream",
     "text": [
      "meat and eggs\n",
      "eggs and meat\n"
     ]
    }
   ],
   "source": [
    "print('{0} and {1}'.format('meat', 'eggs'))\n",
    "print('{1} and {0}'.format('meat', 'eggs'))"
   ]
  },
  {
   "cell_type": "code",
   "execution_count": 23,
   "id": "motivated-connecticut",
   "metadata": {},
   "outputs": [
    {
     "name": "stdout",
     "output_type": "stream",
     "text": [
      "My name is Bob and I am 32\n",
      "I am 32.000000 and my name is Bob\n"
     ]
    }
   ],
   "source": [
    "print('My name is {name} and I am {age}'.format(name='Bob', age=32))\n",
    "print('I am {age:f} and my name is {name}'.format(name='Bob', age=32))"
   ]
  },
  {
   "cell_type": "code",
   "execution_count": 25,
   "id": "complex-tuition",
   "metadata": {},
   "outputs": [
    {
     "data": {
      "text/plain": [
       "'1 + 2 = {} and {}'"
      ]
     },
     "execution_count": 25,
     "metadata": {},
     "output_type": "execute_result"
    }
   ],
   "source": [
    "f'1 + 2 = {TEMPLATE}'"
   ]
  },
  {
   "cell_type": "code",
   "execution_count": null,
   "id": "civic-piece",
   "metadata": {},
   "outputs": [],
   "source": [
    "a = 'Some variable'\n",
    "print(f\"Variable is '{a}'\")"
   ]
  },
  {
   "cell_type": "markdown",
   "id": "9a94ef17-5599-4796-a9fc-eb2495a46f3c",
   "metadata": {
    "tags": []
   },
   "source": [
    "#### Everything is an object"
   ]
  },
  {
   "cell_type": "code",
   "execution_count": null,
   "id": "diverse-exercise",
   "metadata": {},
   "outputs": [],
   "source": [
    "dir(str())"
   ]
  },
  {
   "cell_type": "markdown",
   "id": "productive-branch",
   "metadata": {
    "tags": []
   },
   "source": [
    "## Numbers"
   ]
  },
  {
   "cell_type": "code",
   "execution_count": null,
   "id": "passive-allergy",
   "metadata": {},
   "outputs": [],
   "source": [
    "a = 1\n",
    "b = 2.01\n",
    "\n",
    "print(a)\n",
    "print(b)"
   ]
  },
  {
   "cell_type": "code",
   "execution_count": null,
   "id": "familiar-china",
   "metadata": {},
   "outputs": [],
   "source": [
    "a = a + b\n",
    "print(a)"
   ]
  },
  {
   "cell_type": "code",
   "execution_count": null,
   "id": "elder-passage",
   "metadata": {},
   "outputs": [],
   "source": [
    "from math import sqrt\n",
    "\n",
    "print(sqrt(b))"
   ]
  },
  {
   "cell_type": "markdown",
   "id": "a0ab3e60-e083-48ac-b007-3e65e55ec752",
   "metadata": {},
   "source": [
    "#### Operations "
   ]
  },
  {
   "cell_type": "code",
   "execution_count": 26,
   "id": "rocky-finnish",
   "metadata": {},
   "outputs": [
    {
     "data": {
      "text/plain": [
       "3.345"
      ]
     },
     "execution_count": 26,
     "metadata": {},
     "output_type": "execute_result"
    }
   ],
   "source": [
    "1 + 2.345"
   ]
  },
  {
   "cell_type": "code",
   "execution_count": 27,
   "id": "robust-sudan",
   "metadata": {},
   "outputs": [
    {
     "data": {
      "text/plain": [
       "2.8"
      ]
     },
     "execution_count": 27,
     "metadata": {},
     "output_type": "execute_result"
    }
   ],
   "source": [
    "4 * 7 / 10"
   ]
  },
  {
   "cell_type": "code",
   "execution_count": 28,
   "id": "distant-distance",
   "metadata": {},
   "outputs": [
    {
     "name": "stdout",
     "output_type": "stream",
     "text": [
      "3.3333333333333335\n",
      "3\n",
      "1\n"
     ]
    }
   ],
   "source": [
    "print(10 / 3)\n",
    "print(10 // 3)\n",
    "print(10 % 3)"
   ]
  },
  {
   "cell_type": "code",
   "execution_count": 29,
   "id": "necessary-vacuum",
   "metadata": {},
   "outputs": [
    {
     "name": "stdout",
     "output_type": "stream",
     "text": [
      "True\n",
      "False\n"
     ]
    }
   ],
   "source": [
    "print(10 // 3 * 3 + 10 % 3 == 10)\n",
    "print(7 // 3 >= 2.5)"
   ]
  },
  {
   "cell_type": "markdown",
   "id": "80302f6c-d960-4deb-b745-4e47594ecf57",
   "metadata": {
    "tags": []
   },
   "source": [
    "#### Everything is an object"
   ]
  },
  {
   "cell_type": "code",
   "execution_count": 30,
   "id": "discrete-trial",
   "metadata": {},
   "outputs": [
    {
     "data": {
      "text/plain": [
       "['__abs__',\n",
       " '__add__',\n",
       " '__bool__',\n",
       " '__class__',\n",
       " '__delattr__',\n",
       " '__dir__',\n",
       " '__divmod__',\n",
       " '__doc__',\n",
       " '__eq__',\n",
       " '__float__',\n",
       " '__floordiv__',\n",
       " '__format__',\n",
       " '__ge__',\n",
       " '__getattribute__',\n",
       " '__getformat__',\n",
       " '__getnewargs__',\n",
       " '__gt__',\n",
       " '__hash__',\n",
       " '__init__',\n",
       " '__init_subclass__',\n",
       " '__int__',\n",
       " '__le__',\n",
       " '__lt__',\n",
       " '__mod__',\n",
       " '__mul__',\n",
       " '__ne__',\n",
       " '__neg__',\n",
       " '__new__',\n",
       " '__pos__',\n",
       " '__pow__',\n",
       " '__radd__',\n",
       " '__rdivmod__',\n",
       " '__reduce__',\n",
       " '__reduce_ex__',\n",
       " '__repr__',\n",
       " '__rfloordiv__',\n",
       " '__rmod__',\n",
       " '__rmul__',\n",
       " '__round__',\n",
       " '__rpow__',\n",
       " '__rsub__',\n",
       " '__rtruediv__',\n",
       " '__set_format__',\n",
       " '__setattr__',\n",
       " '__sizeof__',\n",
       " '__str__',\n",
       " '__sub__',\n",
       " '__subclasshook__',\n",
       " '__truediv__',\n",
       " '__trunc__',\n",
       " 'as_integer_ratio',\n",
       " 'conjugate',\n",
       " 'fromhex',\n",
       " 'hex',\n",
       " 'imag',\n",
       " 'is_integer',\n",
       " 'real']"
      ]
     },
     "execution_count": 30,
     "metadata": {},
     "output_type": "execute_result"
    }
   ],
   "source": [
    "b = 2.01\n",
    "dir(b)"
   ]
  },
  {
   "cell_type": "code",
   "execution_count": null,
   "id": "local-capital",
   "metadata": {},
   "outputs": [],
   "source": [
    "b.as_integer_ratio()"
   ]
  },
  {
   "cell_type": "code",
   "execution_count": null,
   "id": "minus-permission",
   "metadata": {},
   "outputs": [],
   "source": [
    "1131529406376837 / 562949953421312"
   ]
  },
  {
   "cell_type": "markdown",
   "id": "attached-onion",
   "metadata": {
    "tags": []
   },
   "source": [
    "## List & Tuple"
   ]
  },
  {
   "cell_type": "markdown",
   "id": "0f4605ee-f76d-4930-a096-8be4f7b4c432",
   "metadata": {},
   "source": [
    "#### Init"
   ]
  },
  {
   "cell_type": "code",
   "execution_count": 31,
   "id": "posted-indonesia",
   "metadata": {},
   "outputs": [
    {
     "name": "stdout",
     "output_type": "stream",
     "text": [
      "[1, 2, 3, 'string']\n",
      "(1, 2, 3, 'string')\n",
      "(1, 2, 'string', (1, 2, 3, 'inner tuple'))\n"
     ]
    }
   ],
   "source": [
    "l1 = [1, 2, 3, 'string']  # any object as element\n",
    "t1 = (1, 2, 3, 'string')  # any object as element\n",
    "t2 = 1, 2, 'string', (1, 2, 3, 'inner tuple') \n",
    "print(l1)\n",
    "print(t1)\n",
    "print(t2)"
   ]
  },
  {
   "cell_type": "markdown",
   "id": "d9a953b6-d488-4200-919a-20b8748fb189",
   "metadata": {},
   "source": [
    "#### Remember"
   ]
  },
  {
   "cell_type": "code",
   "execution_count": 34,
   "id": "narrative-somewhere",
   "metadata": {},
   "outputs": [
    {
     "name": "stdout",
     "output_type": "stream",
     "text": [
      "<class 'list'> [3]\n",
      "<class 'tuple'> (3,)\n"
     ]
    }
   ],
   "source": [
    "e = [3]\n",
    "t = (3,)\n",
    "print(type(e), e)\n",
    "print(type(t), t)"
   ]
  },
  {
   "cell_type": "markdown",
   "id": "0fc4e6c0-a22a-4907-9823-9983299bc9a2",
   "metadata": {},
   "source": [
    "#### Accesing"
   ]
  },
  {
   "cell_type": "code",
   "execution_count": 49,
   "id": "american-schedule",
   "metadata": {},
   "outputs": [
    {
     "name": "stdout",
     "output_type": "stream",
     "text": [
      "2\n",
      "string\n"
     ]
    }
   ],
   "source": [
    "\n",
    "l1 = [1, 2, 'string']\n",
    "t1 = (1, 2, 'string')\n",
    "print(l1[1])\n",
    "print(t1[-1])"
   ]
  },
  {
   "cell_type": "code",
   "execution_count": 50,
   "id": "future-interview",
   "metadata": {},
   "outputs": [
    {
     "name": "stdout",
     "output_type": "stream",
     "text": [
      "[1, (1, 2, 3, 'inner tuple'), 'string']\n"
     ]
    }
   ],
   "source": [
    "l1[1] = 1, 2, 3, 'inner tuple'\n",
    "print(l1)"
   ]
  },
  {
   "cell_type": "code",
   "execution_count": 37,
   "id": "induced-sierra",
   "metadata": {},
   "outputs": [
    {
     "ename": "TypeError",
     "evalue": "'tuple' object does not support item assignment",
     "output_type": "error",
     "traceback": [
      "\u001b[1;31m---------------------------------------------------------------------------\u001b[0m",
      "\u001b[1;31mTypeError\u001b[0m                                 Traceback (most recent call last)",
      "\u001b[1;32m<ipython-input-37-ddc29ad577c7>\u001b[0m in \u001b[0;36m<module>\u001b[1;34m\u001b[0m\n\u001b[1;32m----> 1\u001b[1;33m \u001b[0mt1\u001b[0m\u001b[1;33m[\u001b[0m\u001b[1;33m-\u001b[0m\u001b[1;36m1\u001b[0m\u001b[1;33m]\u001b[0m \u001b[1;33m=\u001b[0m \u001b[1;34m'new string'\u001b[0m\u001b[1;33m\u001b[0m\u001b[1;33m\u001b[0m\u001b[0m\n\u001b[0m",
      "\u001b[1;31mTypeError\u001b[0m: 'tuple' object does not support item assignment"
     ]
    }
   ],
   "source": [
    "t1[-1] = 'new string'"
   ]
  },
  {
   "cell_type": "code",
   "execution_count": 43,
   "id": "knowing-founder",
   "metadata": {},
   "outputs": [
    {
     "data": {
      "text/plain": [
       "[1, 2, 3, [...]]"
      ]
     },
     "execution_count": 43,
     "metadata": {},
     "output_type": "execute_result"
    }
   ],
   "source": [
    "a = [1, 2, 3]\n",
    "a.append(a)\n",
    "a[3][3] # ?"
   ]
  },
  {
   "cell_type": "code",
   "execution_count": 44,
   "id": "genuine-turner",
   "metadata": {},
   "outputs": [
    {
     "name": "stdout",
     "output_type": "stream",
     "text": [
      "[1, 2, 3, [...]]\n",
      "3\n"
     ]
    }
   ],
   "source": [
    "print(a)\n",
    "print(a[-1][-1][-1][-2])"
   ]
  },
  {
   "cell_type": "markdown",
   "id": "77550cf5-d22f-49b1-99b1-57ff21237cec",
   "metadata": {},
   "source": [
    "#### del"
   ]
  },
  {
   "cell_type": "code",
   "execution_count": 51,
   "id": "ranking-spank",
   "metadata": {},
   "outputs": [
    {
     "name": "stdout",
     "output_type": "stream",
     "text": [
      "[1, (1, 2, 3, 'inner tuple')]\n"
     ]
    }
   ],
   "source": [
    "\n",
    "del l1[-1]\n",
    "print(l1)"
   ]
  },
  {
   "cell_type": "code",
   "execution_count": 52,
   "id": "decreased-ethnic",
   "metadata": {},
   "outputs": [
    {
     "ename": "TypeError",
     "evalue": "'tuple' object doesn't support item deletion",
     "output_type": "error",
     "traceback": [
      "\u001b[1;31m---------------------------------------------------------------------------\u001b[0m",
      "\u001b[1;31mTypeError\u001b[0m                                 Traceback (most recent call last)",
      "\u001b[1;32m<ipython-input-52-8940bcde932e>\u001b[0m in \u001b[0;36m<module>\u001b[1;34m\u001b[0m\n\u001b[1;32m----> 1\u001b[1;33m \u001b[1;32mdel\u001b[0m \u001b[0mt1\u001b[0m\u001b[1;33m[\u001b[0m\u001b[1;36m0\u001b[0m\u001b[1;33m]\u001b[0m\u001b[1;33m\u001b[0m\u001b[1;33m\u001b[0m\u001b[0m\n\u001b[0m",
      "\u001b[1;31mTypeError\u001b[0m: 'tuple' object doesn't support item deletion"
     ]
    }
   ],
   "source": [
    "del t1[0]"
   ]
  },
  {
   "cell_type": "markdown",
   "id": "9c1d41ff-2477-46fd-b917-82cb84a91451",
   "metadata": {
    "tags": []
   },
   "source": [
    "#### Inner list"
   ]
  },
  {
   "cell_type": "code",
   "execution_count": 53,
   "id": "korean-skill",
   "metadata": {},
   "outputs": [],
   "source": [
    "\n",
    "t1 = (1, 2, 'string', [1, 'string', 3, 0])"
   ]
  },
  {
   "cell_type": "code",
   "execution_count": 54,
   "id": "massive-protein",
   "metadata": {},
   "outputs": [],
   "source": [
    "t1[-1][2] = (1, 2, 3, 'tuple')  # what will happen?"
   ]
  },
  {
   "cell_type": "code",
   "execution_count": 55,
   "id": "addressed-logistics",
   "metadata": {},
   "outputs": [
    {
     "data": {
      "text/plain": [
       "(1, 2, 'string', [1, 'string', (1, 2, 3, 'tuple'), 0])"
      ]
     },
     "execution_count": 55,
     "metadata": {},
     "output_type": "execute_result"
    }
   ],
   "source": [
    "t1"
   ]
  },
  {
   "cell_type": "markdown",
   "id": "3b18fc66-3897-49d2-96d3-270b4b6c946f",
   "metadata": {
    "tags": []
   },
   "source": [
    "#### Slices"
   ]
  },
  {
   "cell_type": "code",
   "execution_count": 57,
   "id": "comic-threat",
   "metadata": {},
   "outputs": [],
   "source": [
    "l1 = [0, 1, 2, 3, 4, 5, 6, 7, 8, 9]"
   ]
  },
  {
   "cell_type": "code",
   "execution_count": 58,
   "id": "ef24b175-1272-4cfe-92f7-5f514b8ce71c",
   "metadata": {},
   "outputs": [
    {
     "name": "stdout",
     "output_type": "stream",
     "text": [
      "get slice\n",
      "[3, 4, 5]\n",
      "skip index\n",
      "[0, 1, 2, 3, 4]\n",
      "[5, 6, 7, 8, 9]\n",
      "get slice with step\n",
      "[0, 2, 4, 6]\n",
      "copy list\n",
      "[0, 1, 2, 3, 4, 5, 6, 7, 8, 9]\n",
      "[0, 3, 6, 9]\n",
      "slice out of range\n",
      "[0, 1, 2, 3, 4, 5, 6, 7, 8, 9]\n"
     ]
    }
   ],
   "source": [
    "print('get slice')\n",
    "print(l1[3:6]) # [3, 6) half interval\n",
    "print('skip index')\n",
    "print(l1[:5])\n",
    "print(l1[5:])\n",
    "print('get slice with step')\n",
    "print(l1[:8:2])\n",
    "print('copy list')\n",
    "print(l1[:])\n",
    "print(l1[::3])\n",
    "print('slice out of range')\n",
    "print(l1[:1000])"
   ]
  },
  {
   "cell_type": "markdown",
   "id": "08ddf2c5-a4c2-4b63-beb6-8636e56a11e8",
   "metadata": {
    "tags": []
   },
   "source": [
    "#### How to reverse a list?"
   ]
  },
  {
   "cell_type": "code",
   "execution_count": 66,
   "id": "ff45b81d-ae4e-4ab3-86bb-270de7ac22f1",
   "metadata": {},
   "outputs": [
    {
     "data": {
      "text/plain": [
       "[9, 8, 7, 6, 5, 4, 3, 2, 1, 0]"
      ]
     },
     "execution_count": 66,
     "metadata": {},
     "output_type": "execute_result"
    }
   ],
   "source": [
    "l1"
   ]
  },
  {
   "cell_type": "markdown",
   "id": "4109ac47-a33b-4f93-9316-f524819038d6",
   "metadata": {},
   "source": [
    "#### Methods"
   ]
  },
  {
   "cell_type": "code",
   "execution_count": 67,
   "id": "under-blogger",
   "metadata": {},
   "outputs": [
    {
     "data": {
      "text/plain": [
       "['__add__',\n",
       " '__class__',\n",
       " '__contains__',\n",
       " '__delattr__',\n",
       " '__delitem__',\n",
       " '__dir__',\n",
       " '__doc__',\n",
       " '__eq__',\n",
       " '__format__',\n",
       " '__ge__',\n",
       " '__getattribute__',\n",
       " '__getitem__',\n",
       " '__gt__',\n",
       " '__hash__',\n",
       " '__iadd__',\n",
       " '__imul__',\n",
       " '__init__',\n",
       " '__init_subclass__',\n",
       " '__iter__',\n",
       " '__le__',\n",
       " '__len__',\n",
       " '__lt__',\n",
       " '__mul__',\n",
       " '__ne__',\n",
       " '__new__',\n",
       " '__reduce__',\n",
       " '__reduce_ex__',\n",
       " '__repr__',\n",
       " '__reversed__',\n",
       " '__rmul__',\n",
       " '__setattr__',\n",
       " '__setitem__',\n",
       " '__sizeof__',\n",
       " '__str__',\n",
       " '__subclasshook__',\n",
       " 'append',\n",
       " 'clear',\n",
       " 'copy',\n",
       " 'count',\n",
       " 'extend',\n",
       " 'index',\n",
       " 'insert',\n",
       " 'pop',\n",
       " 'remove',\n",
       " 'reverse',\n",
       " 'sort']"
      ]
     },
     "execution_count": 67,
     "metadata": {},
     "output_type": "execute_result"
    }
   ],
   "source": [
    "dir([])"
   ]
  },
  {
   "cell_type": "code",
   "execution_count": 68,
   "id": "swedish-wings",
   "metadata": {},
   "outputs": [
    {
     "data": {
      "text/plain": [
       "['__add__',\n",
       " '__class__',\n",
       " '__contains__',\n",
       " '__delattr__',\n",
       " '__dir__',\n",
       " '__doc__',\n",
       " '__eq__',\n",
       " '__format__',\n",
       " '__ge__',\n",
       " '__getattribute__',\n",
       " '__getitem__',\n",
       " '__getnewargs__',\n",
       " '__gt__',\n",
       " '__hash__',\n",
       " '__init__',\n",
       " '__init_subclass__',\n",
       " '__iter__',\n",
       " '__le__',\n",
       " '__len__',\n",
       " '__lt__',\n",
       " '__mul__',\n",
       " '__ne__',\n",
       " '__new__',\n",
       " '__reduce__',\n",
       " '__reduce_ex__',\n",
       " '__repr__',\n",
       " '__rmul__',\n",
       " '__setattr__',\n",
       " '__sizeof__',\n",
       " '__str__',\n",
       " '__subclasshook__',\n",
       " 'count',\n",
       " 'index']"
      ]
     },
     "execution_count": 68,
     "metadata": {},
     "output_type": "execute_result"
    }
   ],
   "source": [
    "dir(())"
   ]
  },
  {
   "cell_type": "code",
   "execution_count": 73,
   "id": "choice-rebate",
   "metadata": {},
   "outputs": [
    {
     "ename": "TypeError",
     "evalue": "'<' not supported between instances of 'str' and 'int'",
     "output_type": "error",
     "traceback": [
      "\u001b[1;31m---------------------------------------------------------------------------\u001b[0m",
      "\u001b[1;31mTypeError\u001b[0m                                 Traceback (most recent call last)",
      "\u001b[1;32m<ipython-input-73-e35824d028ff>\u001b[0m in \u001b[0;36m<module>\u001b[1;34m\u001b[0m\n\u001b[1;32m----> 1\u001b[1;33m \u001b[0mmin\u001b[0m\u001b[1;33m(\u001b[0m\u001b[1;33m[\u001b[0m\u001b[1;36m1\u001b[0m\u001b[1;33m,\u001b[0m \u001b[1;34m\"ss\"\u001b[0m\u001b[1;33m]\u001b[0m\u001b[1;33m)\u001b[0m\u001b[1;33m\u001b[0m\u001b[1;33m\u001b[0m\u001b[0m\n\u001b[0m",
      "\u001b[1;31mTypeError\u001b[0m: '<' not supported between instances of 'str' and 'int'"
     ]
    }
   ],
   "source": [
    "min([1, \"ss\"])"
   ]
  },
  {
   "cell_type": "markdown",
   "id": "renewable-metropolitan",
   "metadata": {
    "tags": []
   },
   "source": [
    "## Bool"
   ]
  },
  {
   "cell_type": "markdown",
   "id": "6710e87d-e817-4aa9-a2cc-aa93e6d3292d",
   "metadata": {},
   "source": [
    "#### Representing"
   ]
  },
  {
   "cell_type": "code",
   "execution_count": null,
   "id": "numerous-small",
   "metadata": {},
   "outputs": [],
   "source": [
    "print(bool(1))\n",
    "print(bool(0))"
   ]
  },
  {
   "cell_type": "code",
   "execution_count": null,
   "id": "female-hotel",
   "metadata": {},
   "outputs": [],
   "source": [
    "print(bool(-2))\n",
    "print(bool(2))"
   ]
  },
  {
   "cell_type": "code",
   "execution_count": null,
   "id": "bridal-tunnel",
   "metadata": {},
   "outputs": [],
   "source": [
    "1 == True"
   ]
  },
  {
   "cell_type": "code",
   "execution_count": null,
   "id": "thirty-estonia",
   "metadata": {},
   "outputs": [],
   "source": [
    "0 == False"
   ]
  },
  {
   "cell_type": "code",
   "execution_count": null,
   "id": "suburban-qualification",
   "metadata": {},
   "outputs": [],
   "source": [
    "\"asdfsa\" == False  # what will happen?"
   ]
  },
  {
   "cell_type": "code",
   "execution_count": null,
   "id": "dietary-press",
   "metadata": {},
   "outputs": [],
   "source": [
    "print(bool(()))\n",
    "print(bool([]))\n",
    "print(bool(''))\n",
    "print(bool(set()))\n",
    "print(bool({}))"
   ]
  },
  {
   "cell_type": "code",
   "execution_count": null,
   "id": "explicit-pittsburgh",
   "metadata": {},
   "outputs": [],
   "source": [
    "print(bool((1,)))\n",
    "print(bool([1]))\n",
    "print(bool('1'))\n",
    "print(bool({1}))\n",
    "print(bool({1: 1}))"
   ]
  },
  {
   "cell_type": "markdown",
   "id": "disturbed-karen",
   "metadata": {
    "tags": []
   },
   "source": [
    "## Set"
   ]
  },
  {
   "cell_type": "markdown",
   "id": "a1596d38-ea5d-4735-a2af-a240cc2210bf",
   "metadata": {
    "tags": []
   },
   "source": [
    "#### Methods"
   ]
  },
  {
   "cell_type": "code",
   "execution_count": null,
   "id": "rational-wildlife",
   "metadata": {},
   "outputs": [],
   "source": [
    "s = {1, 2, 3}"
   ]
  },
  {
   "cell_type": "code",
   "execution_count": null,
   "id": "crucial-preview",
   "metadata": {},
   "outputs": [],
   "source": [
    "s.add(4)\n",
    "print(s)"
   ]
  },
  {
   "cell_type": "code",
   "execution_count": null,
   "id": "ordinary-international",
   "metadata": {},
   "outputs": [],
   "source": [
    "s.remove(1)\n",
    "print(s)"
   ]
  },
  {
   "cell_type": "code",
   "execution_count": null,
   "id": "technical-arkansas",
   "metadata": {},
   "outputs": [],
   "source": [
    "{(1, 2, 3,), 7, 8, 9}"
   ]
  },
  {
   "cell_type": "markdown",
   "id": "little-concern",
   "metadata": {
    "tags": []
   },
   "source": [
    "## Dicts"
   ]
  },
  {
   "cell_type": "markdown",
   "id": "021f57e9-fde7-4f13-b55e-0f74ab67e9f1",
   "metadata": {},
   "source": [
    "#### Init"
   ]
  },
  {
   "cell_type": "code",
   "execution_count": null,
   "id": "continent-addiction",
   "metadata": {},
   "outputs": [],
   "source": [
    "my_dict = {'one': 1, (1, 2, 3): 'tuple', 'list': [1, 2, 3], 'dict': {2: True}}"
   ]
  },
  {
   "cell_type": "markdown",
   "id": "7d8a13ff-9d40-486b-aa2f-2697b6003352",
   "metadata": {},
   "source": [
    "#### Empty dict"
   ]
  },
  {
   "cell_type": "code",
   "execution_count": null,
   "id": "interpreted-publicity",
   "metadata": {},
   "outputs": [],
   "source": [
    "print({})\n",
    "print(dict())"
   ]
  },
  {
   "cell_type": "markdown",
   "id": "40928406-0525-4d72-94aa-fb0f6c08b3d5",
   "metadata": {},
   "source": [
    "#### Item access"
   ]
  },
  {
   "cell_type": "code",
   "execution_count": null,
   "id": "square-intermediate",
   "metadata": {},
   "outputs": [],
   "source": [
    "my_dict = {\n",
    "    'Name': 'Zara',\n",
    "    'Age': 7,\n",
    "    'Class': 'First',\n",
    "}\n",
    "\n",
    "print(\"my_dict['Name']: \", my_dict['Name'])\n",
    "print(\"my_dict['Age']: \", my_dict['Age'])"
   ]
  },
  {
   "cell_type": "code",
   "execution_count": null,
   "id": "legendary-channels",
   "metadata": {},
   "outputs": [],
   "source": [
    "my_dict['Alice']  # key doesn't exist"
   ]
  },
  {
   "cell_type": "markdown",
   "id": "81e0bcf3-1cc9-49e9-aaaa-13591f1da604",
   "metadata": {},
   "source": [
    "#### Keys in dictionary are unique"
   ]
  },
  {
   "cell_type": "code",
   "execution_count": null,
   "id": "several-marriage",
   "metadata": {},
   "outputs": [],
   "source": [
    "my_dict = {'Name': 'Zara', 'Name': 'Manni'}\n",
    "print(my_dict)"
   ]
  },
  {
   "cell_type": "markdown",
   "id": "fee20c0a-6d1e-4575-a7e0-f0c5fcb3b2cc",
   "metadata": {},
   "source": [
    "#### Updating"
   ]
  },
  {
   "cell_type": "code",
   "execution_count": null,
   "id": "interior-performer",
   "metadata": {},
   "outputs": [],
   "source": [
    "my_dict = {\n",
    "    'Name': 'Zara',\n",
    "    'Age': 7,\n",
    "    'Class': 'First',\n",
    "}\n",
    "\n",
    "my_dict['Age'] = 8  # update existing entry\n",
    "my_dict['School'] = \"DPS School\"  # add new entry\n",
    "\n",
    "print(\"my_dict['Age']: \", my_dict['Age'])\n",
    "print(\"my_dict['School']: \", my_dict['School'])"
   ]
  },
  {
   "cell_type": "code",
   "execution_count": null,
   "id": "nominated-artist",
   "metadata": {},
   "outputs": [],
   "source": [
    "my_dict.update({'Name': 'Naruto', 'Friend': 'Saske'})\n",
    "print(my_dict)"
   ]
  },
  {
   "cell_type": "markdown",
   "id": "33b6c918-9901-44f7-95e2-ff49fef3dc17",
   "metadata": {},
   "source": [
    "#### Removing"
   ]
  },
  {
   "cell_type": "code",
   "execution_count": null,
   "id": "contemporary-ability",
   "metadata": {},
   "outputs": [],
   "source": [
    "my_dict = {\n",
    "    'Name': 'Zara',\n",
    "    'Age': 7,\n",
    "    'Class': 'First',\n",
    "}\n",
    "\n",
    "del my_dict['Name']  # remove entry with key 'Name’\n",
    "print(my_dict)"
   ]
  },
  {
   "cell_type": "code",
   "execution_count": null,
   "id": "graphic-study",
   "metadata": {},
   "outputs": [],
   "source": [
    "my_dict.clear()"
   ]
  },
  {
   "cell_type": "code",
   "execution_count": null,
   "id": "intelligent-myanmar",
   "metadata": {},
   "outputs": [],
   "source": [
    "my_dict"
   ]
  },
  {
   "cell_type": "markdown",
   "id": "3416594d-411d-4255-9e24-e460ecbcd79b",
   "metadata": {
    "tags": []
   },
   "source": [
    "## Hashing"
   ]
  },
  {
   "cell_type": "code",
   "execution_count": null,
   "id": "58944858-150e-4d62-b280-b6f9d87b29ef",
   "metadata": {},
   "outputs": [],
   "source": [
    "list_of_immutable_objects = [5, 6.6, \"string1\", \"string1\", \"string_1\"]\n",
    "\n",
    "print(hash(list_of_immutable_objects[0]))\n",
    "print(hash(list_of_immutable_objects[1]))\n",
    "\n",
    "print(hash(list_of_immutable_objects[2]))\n",
    "print(hash(list_of_immutable_objects[3]))\n",
    "\n",
    "print(hash(list_of_immutable_objects[4]))"
   ]
  },
  {
   "cell_type": "markdown",
   "id": "4e006fba-8c0e-4d4c-8ce5-9fdd9bf42d11",
   "metadata": {
    "tags": []
   },
   "source": [
    "## Operators"
   ]
  },
  {
   "cell_type": "markdown",
   "id": "acb184de-d5cf-4ae7-a84a-1fe7ddb3227e",
   "metadata": {
    "tags": []
   },
   "source": [
    "#### Logical operators"
   ]
  },
  {
   "cell_type": "code",
   "execution_count": null,
   "id": "95767787-c0df-480b-98ba-3b237b58ff71",
   "metadata": {},
   "outputs": [],
   "source": [
    "print(0 and 500)"
   ]
  },
  {
   "cell_type": "code",
   "execution_count": null,
   "id": "8478185c-7a5a-48c5-85dd-e85df13fe85e",
   "metadata": {},
   "outputs": [],
   "source": [
    "print(500 and False and 0)"
   ]
  },
  {
   "cell_type": "code",
   "execution_count": null,
   "id": "c0e18b9b-b912-4a06-b861-2d1c1c4dbb4d",
   "metadata": {},
   "outputs": [],
   "source": [
    "print(True and 1)"
   ]
  },
  {
   "cell_type": "code",
   "execution_count": null,
   "id": "cc90a3a8-b577-43ee-9e6b-48520f8f7df8",
   "metadata": {},
   "outputs": [],
   "source": [
    "print(True or 0)"
   ]
  },
  {
   "cell_type": "code",
   "execution_count": null,
   "id": "f640bc38-6f8e-46d8-a98e-d3319ea7d327",
   "metadata": {},
   "outputs": [],
   "source": [
    "print(True or 1000)"
   ]
  },
  {
   "cell_type": "code",
   "execution_count": null,
   "id": "2cc91d0d-7a7f-463e-8c2d-3c0a47991473",
   "metadata": {},
   "outputs": [],
   "source": [
    "print(1 and 0 or True)"
   ]
  },
  {
   "cell_type": "code",
   "execution_count": null,
   "id": "8570df06-5980-4b80-aef4-c4fd9bcc0902",
   "metadata": {},
   "outputs": [],
   "source": [
    "print(1 and 0 or None)"
   ]
  },
  {
   "cell_type": "markdown",
   "id": "e14740fd-c7a0-4e69-a52f-a84fcaa437ce",
   "metadata": {},
   "source": [
    "#### 'or' equivalent"
   ]
  },
  {
   "cell_type": "code",
   "execution_count": null,
   "id": "6481851a-6f75-480b-a924-1a02a82464c5",
   "metadata": {},
   "outputs": [],
   "source": [
    "list_with_numbers = [1,2,0,-100, 200]\n",
    "print(any(list_with_numbers))\n",
    "\n",
    "list_with_numbers = [None,None,0,None, None]\n",
    "print(any(list_with_numbers))"
   ]
  },
  {
   "cell_type": "markdown",
   "id": "0c90aa5a-3885-4fca-b77f-70af1b13eb09",
   "metadata": {},
   "source": [
    "#### 'and' equivalent "
   ]
  },
  {
   "cell_type": "code",
   "execution_count": null,
   "id": "6abbe434-45f4-42da-a5ca-335a49e1fd20",
   "metadata": {},
   "outputs": [],
   "source": [
    "list_with_numbers = [1,2,0,-100, 200]\n",
    "print(all(list_with_numbers))\n",
    "\n",
    "list_with_numbers = [1000,10,20,100, -1000]\n",
    "print(all(list_with_numbers))"
   ]
  },
  {
   "cell_type": "markdown",
   "id": "139b6770-87eb-4d74-8e7a-1e3f6d64eec6",
   "metadata": {
    "jp-MarkdownHeadingCollapsed": true,
    "tags": []
   },
   "source": [
    "#### CPyton Implementation details"
   ]
  },
  {
   "cell_type": "code",
   "execution_count": null,
   "id": "invisible-validation",
   "metadata": {},
   "outputs": [],
   "source": [
    "a = 1000\n",
    "b = 1000"
   ]
  },
  {
   "cell_type": "code",
   "execution_count": null,
   "id": "interesting-charity",
   "metadata": {},
   "outputs": [],
   "source": [
    "a == b"
   ]
  },
  {
   "cell_type": "code",
   "execution_count": null,
   "id": "40b6014f-723a-4dcf-b0e2-37d57d5cd05f",
   "metadata": {},
   "outputs": [],
   "source": [
    "a is b"
   ]
  },
  {
   "cell_type": "code",
   "execution_count": null,
   "id": "7a3e12b8-5019-4c00-8d90-fcac1c947fef",
   "metadata": {},
   "outputs": [],
   "source": [
    "a = 5\n",
    "b = 5"
   ]
  },
  {
   "cell_type": "code",
   "execution_count": null,
   "id": "30c94df9-8731-4c94-a2e2-1e4b61300b8c",
   "metadata": {},
   "outputs": [],
   "source": [
    "a == b"
   ]
  },
  {
   "cell_type": "code",
   "execution_count": null,
   "id": "f482a282-eef5-4c41-b326-f7fca4476507",
   "metadata": {},
   "outputs": [],
   "source": [
    "a is b"
   ]
  },
  {
   "cell_type": "markdown",
   "id": "funny-racing",
   "metadata": {
    "tags": []
   },
   "source": [
    "## Loops"
   ]
  },
  {
   "cell_type": "code",
   "execution_count": null,
   "id": "taken-nursery",
   "metadata": {},
   "outputs": [],
   "source": [
    "i = int(input('int: '))\n",
    "while i > 0:\n",
    "    i -= 1\n",
    "    if i == 5:\n",
    "        print('5 - skipped')\n",
    "        continue\n",
    "#     elif i == 1:\n",
    "#         print('1 - break')\n",
    "#         break  # no loop else \n",
    "    else:\n",
    "        print(i)\n",
    "    print('aaaaa')\n",
    "else:\n",
    "    print('end')"
   ]
  },
  {
   "cell_type": "markdown",
   "id": "a173b438-6d88-4f29-bbce-44eeca66f0ec",
   "metadata": {
    "tags": []
   },
   "source": [
    "## Comprehensions"
   ]
  },
  {
   "cell_type": "markdown",
   "id": "ea6a5d88-2e98-43e4-a4a5-f6b5aaf8da80",
   "metadata": {},
   "source": [
    "#### List comprehension"
   ]
  },
  {
   "cell_type": "code",
   "execution_count": null,
   "id": "27f4759a-2669-49a6-a459-0a883b6dd27e",
   "metadata": {},
   "outputs": [],
   "source": [
    "dogs= ['Gus', 'Bubba', 'Snoopy']\n",
    "\n",
    "animals = []\n",
    "\n",
    "for dog in dogs:\n",
    "       animals.append(f'Dog {dog}')\n",
    "        \n",
    "print(animals)"
   ]
  },
  {
   "cell_type": "code",
   "execution_count": null,
   "id": "374a94de-cb62-4501-bf45-d7796bda0c3a",
   "metadata": {
    "tags": []
   },
   "outputs": [],
   "source": [
    "dogs= ['Gus', 'Bubba', 'Snoopy']\n",
    "\n",
    "animals = [f'Dog {dog}' for dog in dogs]\n",
    "\n",
    "print(animals)"
   ]
  },
  {
   "cell_type": "markdown",
   "id": "808969cf-1ca4-475a-a0c5-e28971832ba6",
   "metadata": {},
   "source": [
    "#### Dict comprehension"
   ]
  },
  {
   "cell_type": "code",
   "execution_count": null,
   "id": "dded25dd-7bc1-4f96-a02e-cfc1325e6c66",
   "metadata": {},
   "outputs": [],
   "source": [
    "dog_owners = {'Adam': 'Gus', 'Mike': 'Bubba', 'Jessica': 'Snoopy'}\n",
    "\n",
    "animal_owners = {}\n",
    "\n",
    "for owner, dog in dog_owners.items():\n",
    "    animal_owners[owner] = f'Dog {dog}'\n",
    "\n",
    "print(animal_owners)\n"
   ]
  },
  {
   "cell_type": "code",
   "execution_count": null,
   "id": "1ca8f844-712c-46c1-8dd8-1e383eaee112",
   "metadata": {},
   "outputs": [],
   "source": [
    "dog_owners= {'Adam': 'Gus', 'Mike': 'Bubba', 'Jessica': 'Snoopy'}\n",
    "\n",
    "animal_owners = {\n",
    "    owner: f'Dog {dog}' for owner, dog in dog_owners.items()\n",
    "}\n",
    "\n",
    "print(animal_owners)"
   ]
  },
  {
   "cell_type": "markdown",
   "id": "cd8f4a35-54ad-4212-88d4-1aa82603d88e",
   "metadata": {},
   "source": [
    "#### Set comprehension"
   ]
  },
  {
   "cell_type": "code",
   "execution_count": null,
   "id": "703daedb-0021-47dd-919e-d76a723778ac",
   "metadata": {},
   "outputs": [],
   "source": [
    "dogs= {'Gus', 'Bubba', 'Snoopy'}\n",
    "cats = {'Bubba', 'Snow'}\n",
    "\n",
    "unique_dog_names  = set()\n",
    "\n",
    "for dog_name in dog_names:\n",
    "    if dog_name not in cats:\n",
    "        unique_dog_names.add(dog_name)\n",
    "        \n",
    "print(unique_dog_names)"
   ]
  },
  {
   "cell_type": "code",
   "execution_count": null,
   "id": "ce51fa29-3fb3-43a5-bdc0-5fe6fc7c9f7e",
   "metadata": {},
   "outputs": [],
   "source": [
    "dogs= {'Gus', 'Bubba', 'Snoopy'}\n",
    "cats = {'Bubba', 'Snow'}\n",
    "\n",
    "unique_dog_names = {\n",
    "    dog_name for dog_name in dogs \n",
    "    if dog_name not in cats\n",
    "}\n",
    "\n",
    "print(unique_dog_names)"
   ]
  }
 ],
 "metadata": {
  "kernelspec": {
   "display_name": "Python 3",
   "language": "python",
   "name": "python3"
  },
  "language_info": {
   "codemirror_mode": {
    "name": "ipython",
    "version": 3
   },
   "file_extension": ".py",
   "mimetype": "text/x-python",
   "name": "python",
   "nbconvert_exporter": "python",
   "pygments_lexer": "ipython3",
   "version": "3.8.8"
  }
 },
 "nbformat": 4,
 "nbformat_minor": 5
}
