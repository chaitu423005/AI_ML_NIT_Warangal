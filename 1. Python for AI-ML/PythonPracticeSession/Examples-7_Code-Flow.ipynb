{
 "cells": [
  {
   "cell_type": "markdown",
   "id": "hawaiian-dictionary",
   "metadata": {},
   "source": [
    "## Exception situation examples"
   ]
  },
  {
   "cell_type": "markdown",
   "id": "iraqi-trainer",
   "metadata": {},
   "source": [
    "#### Examples"
   ]
  },
  {
   "cell_type": "code",
   "execution_count": null,
   "id": "authorized-insulin",
   "metadata": {
    "scrolled": true
   },
   "outputs": [],
   "source": [
    "1 / 0"
   ]
  },
  {
   "cell_type": "code",
   "execution_count": null,
   "id": "capital-racing",
   "metadata": {
    "scrolled": false
   },
   "outputs": [],
   "source": [
    "'Some text'.rplace('text', 'words')"
   ]
  },
  {
   "cell_type": "code",
   "execution_count": null,
   "id": "international-product",
   "metadata": {
    "scrolled": true
   },
   "outputs": [],
   "source": [
    "int('10abc')"
   ]
  },
  {
   "cell_type": "markdown",
   "id": "exterior-connection",
   "metadata": {},
   "source": [
    "#### Exception generation"
   ]
  },
  {
   "cell_type": "code",
   "execution_count": null,
   "id": "outstanding-jenny",
   "metadata": {},
   "outputs": [],
   "source": [
    "from os.path import exists\n",
    "    \n",
    "def send_file(file_path):\n",
    "    if not exists(file_path):\n",
    "        raise\n",
    "    \n",
    "    print(f'Send the file: {file_path}')\n",
    "\n",
    "send_file('main.py')"
   ]
  },
  {
   "cell_type": "code",
   "execution_count": null,
   "id": "intimate-blank",
   "metadata": {},
   "outputs": [],
   "source": [
    "import logging\n",
    "\n",
    "def configure_logging(verb_level):\n",
    "    if verb_level < 1:\n",
    "        raise ValueError(f'Level value is not valid: {verb_level}')\n",
    "    logging.basicConfig(level=verb_level)\n",
    "\n",
    "configure_logging(0)"
   ]
  },
  {
   "cell_type": "markdown",
   "id": "solid-canberra",
   "metadata": {},
   "source": [
    "#### Handling exceptions "
   ]
  },
  {
   "cell_type": "code",
   "execution_count": null,
   "id": "about-eagle",
   "metadata": {},
   "outputs": [],
   "source": [
    "try:\n",
    "    var = 10\n",
    "except ValueError:\n",
    "    print('ValueError')\n",
    "except ZeroDivisionError:\n",
    "     print('ZeroDivisionError')\n",
    "except (AttributeError, ):\n",
    "    print('Expected errors')\n",
    "except Exception:\n",
    "    print('Unexpected errors')\n",
    "else:\n",
    "    print(var, \"Hello\")\n",
    "finally:\n",
    "    var = 1"
   ]
  },
  {
   "cell_type": "code",
   "execution_count": null,
   "id": "designed-ladder",
   "metadata": {},
   "outputs": [],
   "source": [
    "var"
   ]
  },
  {
   "cell_type": "code",
   "execution_count": null,
   "id": "worldwide-xerox",
   "metadata": {},
   "outputs": [],
   "source": [
    "try:\n",
    "    var = 1 / 0\n",
    "finally:  # or except\n",
    "    print('This code will be run')"
   ]
  },
  {
   "cell_type": "markdown",
   "id": "duplicate-magic",
   "metadata": {},
   "source": [
    "#### Exception re-raising"
   ]
  },
  {
   "cell_type": "code",
   "execution_count": null,
   "id": "medical-threshold",
   "metadata": {},
   "outputs": [],
   "source": [
    "import sys\n",
    "\n",
    "try:\n",
    "    f = open('examples.ipynb')\n",
    "    s = f.readline()\n",
    "    i = s.strip()\n",
    "    from math import sum\n",
    "    # todo something with sum\n",
    "except Exception:\n",
    "    print('Exception')\n",
    "except ImportError as err:\n",
    "    print('Unexpected error:', sys.exc_info())\n",
    "    raise\n",
    "    \n",
    "print('Hello!')"
   ]
  },
  {
   "cell_type": "markdown",
   "id": "finished-digit",
   "metadata": {},
   "source": [
    "#### Custom exceptions"
   ]
  },
  {
   "cell_type": "code",
   "execution_count": null,
   "id": "actual-netscape",
   "metadata": {},
   "outputs": [],
   "source": [
    "import ipaddress\n",
    "\n",
    "\n",
    "class IPAddressError(Exception):\n",
    "    pass\n",
    "\n",
    "def check_ip(ip):\n",
    "    available_ips = [str(ip) for ip in ipaddress.IPv4Network('192.0.2.0/28')]\n",
    "    if ip not in available_ips:\n",
    "        raise IPAddressError(f'IP address is not available {ip}')\n",
    "\n",
    "check_ip('192.168.1.1')"
   ]
  },
  {
   "cell_type": "markdown",
   "id": "accessible-express",
   "metadata": {},
   "source": [
    "#### Best practices"
   ]
  },
  {
   "cell_type": "code",
   "execution_count": null,
   "id": "dying-commerce",
   "metadata": {},
   "outputs": [],
   "source": [
    "# as exc\n",
    "\n",
    "try:\n",
    "    f = open('myfile.txt')  # exception here?\n",
    "    s = f.readline()        # maybe here?\n",
    "    i = int(s.strip())      # or here?\n",
    "except Exception:\n",
    "    print('error')"
   ]
  },
  {
   "cell_type": "code",
   "execution_count": null,
   "id": "computational-programming",
   "metadata": {},
   "outputs": [],
   "source": [
    "try:\n",
    "    f = open('myfile.txt')\n",
    "    s = f.readline()\n",
    "    i = int(s.strip())\n",
    "except Exception as exc:\n",
    "    print(f'error: {exc}')"
   ]
  },
  {
   "cell_type": "code",
   "execution_count": null,
   "id": "helpful-asthma",
   "metadata": {},
   "outputs": [],
   "source": [
    "# raise ... from ...\n",
    "\n",
    "class CustomError(Exception):\n",
    "    pass\n",
    "\n",
    "try:\n",
    "    f = open('myfile.txt')\n",
    "    s = f.readline()\n",
    "    i = int(s.strip())\n",
    "except Exception as exc:\n",
    "    raise CustomError from exc"
   ]
  },
  {
   "cell_type": "code",
   "execution_count": null,
   "id": "white-renaissance",
   "metadata": {},
   "outputs": [],
   "source": [
    "# specify exception type\n",
    "\n",
    "try:\n",
    "    f = open('myfile.txt')\n",
    "    data = int(f.readline())\n",
    "except FileNotFoundError:\n",
    "    print('Set data as None')\n",
    "    data = None    "
   ]
  },
  {
   "cell_type": "code",
   "execution_count": null,
   "id": "aerial-bangkok",
   "metadata": {},
   "outputs": [],
   "source": [
    "try:\n",
    "    f = open('examples.ipynb')\n",
    "    data = int(f.readline())\n",
    "except Exception:\n",
    "    print('Set data as None')\n",
    "    data = None   "
   ]
  },
  {
   "cell_type": "code",
   "execution_count": null,
   "id": "behind-present",
   "metadata": {},
   "outputs": [],
   "source": [
    "from time import sleep\n",
    "\n",
    "while True:\n",
    "    try:\n",
    "        print('HELLO WORLD')\n",
    "        sleep(1)\n",
    "    except Exception:\n",
    "        pass"
   ]
  },
  {
   "cell_type": "code",
   "execution_count": null,
   "id": "disciplinary-lover",
   "metadata": {},
   "outputs": [],
   "source": [
    "from time import sleep\n",
    "\n",
    "while True:\n",
    "    try:\n",
    "        print('HELLO WORLD')\n",
    "        sleep(1)\n",
    "    except:\n",
    "        pass"
   ]
  },
  {
   "cell_type": "code",
   "execution_count": null,
   "id": "unlikely-display",
   "metadata": {},
   "outputs": [],
   "source": [
    "# use ... else ... finally\n",
    "\n",
    "class DBProvider:\n",
    "    def connect(self):\n",
    "        print('Connect to database')\n",
    "    \n",
    "    def fetch(self):\n",
    "        return 10\n",
    "    \n",
    "    def close(self):\n",
    "        print('Close connection')\n",
    "\n",
    "db = DBProvider()\n",
    "db.connect()\n",
    "try:\n",
    "    data = db.fetch()\n",
    "except Exception as exc:\n",
    "    print('Data was not fetched:', exc)\n",
    "    raise\n",
    "else:\n",
    "    print('Handle data:', data)\n",
    "finally:\n",
    "    db.close()"
   ]
  },
  {
   "cell_type": "markdown",
   "id": "exposed-peninsula",
   "metadata": {},
   "source": [
    "## Iterable & Iterators"
   ]
  },
  {
   "cell_type": "code",
   "execution_count": null,
   "id": "developed-somerset",
   "metadata": {},
   "outputs": [],
   "source": [
    "from collections.abc import Iterable\n",
    "\n",
    "my_list = [1, 2, 3]"
   ]
  },
  {
   "cell_type": "code",
   "execution_count": null,
   "id": "psychological-annex",
   "metadata": {},
   "outputs": [],
   "source": [
    "isinstance(my_list, Iterable)"
   ]
  },
  {
   "cell_type": "code",
   "execution_count": null,
   "id": "ordinary-advocacy",
   "metadata": {},
   "outputs": [],
   "source": [
    "for i in my_list:\n",
    "    print(i)"
   ]
  },
  {
   "cell_type": "markdown",
   "id": "challenging-romania",
   "metadata": {},
   "source": [
    "#### `__iter__`"
   ]
  },
  {
   "cell_type": "code",
   "execution_count": null,
   "id": "expected-northeast",
   "metadata": {},
   "outputs": [],
   "source": [
    "class MyIterable:\n",
    "    def __iter__(self):\n",
    "        return # ITERATOR"
   ]
  },
  {
   "cell_type": "code",
   "execution_count": null,
   "id": "heated-adobe",
   "metadata": {},
   "outputs": [],
   "source": [
    "from collections.abc import Iterator\n",
    "\n",
    "iterator_object = iter([1, 2, 3])\n",
    "print(isinstance(iterator_object, Iterator))"
   ]
  },
  {
   "cell_type": "code",
   "execution_count": null,
   "id": "different-auditor",
   "metadata": {},
   "outputs": [],
   "source": [
    "class MyIterable:\n",
    "    def __iter__(self):\n",
    "        print('I am here -- iter')\n",
    "        return iter([1, 2, 3])"
   ]
  },
  {
   "cell_type": "code",
   "execution_count": null,
   "id": "answering-audio",
   "metadata": {},
   "outputs": [],
   "source": [
    "for i in MyIterable():\n",
    "    print(i)"
   ]
  },
  {
   "cell_type": "code",
   "execution_count": null,
   "id": "collective-facial",
   "metadata": {},
   "outputs": [],
   "source": [
    "iter(MyIterable())"
   ]
  },
  {
   "cell_type": "markdown",
   "id": "everyday-banana",
   "metadata": {},
   "source": [
    "#### Iterator"
   ]
  },
  {
   "cell_type": "code",
   "execution_count": null,
   "id": "coordinated-sacramento",
   "metadata": {},
   "outputs": [],
   "source": [
    "class MyIterator:\n",
    "    def __init__(self):\n",
    "        self.num = 0\n",
    "    \n",
    "    def __iter__(self):\n",
    "        return self\n",
    "    \n",
    "    def __next__(self):\n",
    "        print('I am here -- next')\n",
    "        res = self.num ** 2\n",
    "        self.num += 1\n",
    "        return res\n",
    "\n",
    "class MyIterable:\n",
    "    def __iter__(self):\n",
    "        print('I am here -- iter', self.__class__)\n",
    "        return MyIterator()"
   ]
  },
  {
   "cell_type": "code",
   "execution_count": null,
   "id": "pregnant-convertible",
   "metadata": {},
   "outputs": [],
   "source": [
    "from time import sleep\n",
    "\n",
    "for i in MyIterable():\n",
    "    print(i)\n",
    "    sleep(1)"
   ]
  },
  {
   "cell_type": "markdown",
   "id": "tamil-appliance",
   "metadata": {},
   "source": [
    "#### How to stop?"
   ]
  },
  {
   "cell_type": "code",
   "execution_count": null,
   "id": "social-ocean",
   "metadata": {},
   "outputs": [],
   "source": [
    "class MyIterator:\n",
    "    def __init__(self):\n",
    "        self.num = 0\n",
    "    \n",
    "    def __iter__(self):\n",
    "        return self\n",
    "    \n",
    "    def __next__(self):\n",
    "        res = self.num ** 2\n",
    "        if res > 50:\n",
    "            raise StopIteration\n",
    "        self.num += 1\n",
    "        return res\n",
    "\n",
    "class MyIterable:\n",
    "    def __iter__(self):\n",
    "        return MyIterator()\n",
    "\n",
    "for i in MyIterable():\n",
    "    print(i)"
   ]
  },
  {
   "cell_type": "markdown",
   "id": "american-istanbul",
   "metadata": {},
   "source": [
    "#### Is iterator an iterable object?"
   ]
  },
  {
   "cell_type": "code",
   "execution_count": null,
   "id": "rubber-response",
   "metadata": {},
   "outputs": [],
   "source": [
    "from collections.abc import Iterator, Iterable\n",
    "\n",
    "print(isinstance(MyIterator(), Iterator))\n",
    "print(isinstance(MyIterator(), Iterable))"
   ]
  },
  {
   "cell_type": "markdown",
   "id": "super-password",
   "metadata": {},
   "source": [
    "#### Do we need an iterator?"
   ]
  },
  {
   "cell_type": "code",
   "execution_count": null,
   "id": "removable-omaha",
   "metadata": {},
   "outputs": [],
   "source": [
    "class MyIterator:\n",
    "    def __init__(self):\n",
    "        self.num = 0\n",
    "     \n",
    "    def __next__(self):\n",
    "        print('I am here -- next')\n",
    "        res = self.num ** 2\n",
    "        if res > 50:\n",
    "            raise StopIteration\n",
    "        self.num += 1\n",
    "        return res\n",
    "\n",
    "class MyIterable:\n",
    "    def __iter__(self):\n",
    "        print('I am here -- iter', self.__class__)\n",
    "        return MyIterator()\n",
    "\n",
    "for i in MyIterable():\n",
    "    print(i)"
   ]
  },
  {
   "cell_type": "code",
   "execution_count": null,
   "id": "synthetic-moore",
   "metadata": {},
   "outputs": [],
   "source": [
    "print(isinstance(MyIterator(), Iterator))\n",
    "print(isinstance(MyIterator(), Iterable))"
   ]
  },
  {
   "cell_type": "markdown",
   "id": "seeing-characteristic",
   "metadata": {},
   "source": [
    "## Generators"
   ]
  },
  {
   "cell_type": "markdown",
   "id": "decimal-sitting",
   "metadata": {},
   "source": [
    "#### Examples"
   ]
  },
  {
   "cell_type": "code",
   "execution_count": null,
   "id": "apparent-freight",
   "metadata": {},
   "outputs": [],
   "source": [
    "def generator(i):\n",
    "    print(\"Start gen\")\n",
    "    for j in range(i):\n",
    "        yield j ** 2\n",
    "    \n",
    "    return"
   ]
  },
  {
   "cell_type": "code",
   "execution_count": null,
   "id": "subject-campus",
   "metadata": {},
   "outputs": [],
   "source": [
    "generator(5)"
   ]
  },
  {
   "cell_type": "code",
   "execution_count": null,
   "id": "catholic-comment",
   "metadata": {},
   "outputs": [],
   "source": [
    "for i in generator(5):\n",
    "    print(i)\n",
    "    print(\"I am here\")"
   ]
  },
  {
   "cell_type": "markdown",
   "id": "subject-ministry",
   "metadata": {},
   "source": [
    "#### next()"
   ]
  },
  {
   "cell_type": "code",
   "execution_count": null,
   "id": "coastal-proof",
   "metadata": {},
   "outputs": [],
   "source": [
    "gen = generator(3)\n",
    "print(dir(gen))"
   ]
  },
  {
   "cell_type": "code",
   "execution_count": null,
   "id": "changed-artwork",
   "metadata": {},
   "outputs": [],
   "source": [
    "# call 4 times\n",
    "next(gen)"
   ]
  },
  {
   "cell_type": "code",
   "execution_count": null,
   "id": "durable-profession",
   "metadata": {},
   "outputs": [],
   "source": [
    "# stop it\n",
    "def generator(i):\n",
    "    res = 0\n",
    "    while True:\n",
    "        if res ** 2 > i:\n",
    "            return\n",
    "        yield res ** 2\n",
    "        res += 1\n",
    "        "
   ]
  },
  {
   "cell_type": "code",
   "execution_count": null,
   "id": "intimate-channels",
   "metadata": {},
   "outputs": [],
   "source": [
    "gen = generator(8)"
   ]
  },
  {
   "cell_type": "code",
   "execution_count": null,
   "id": "removable-threat",
   "metadata": {},
   "outputs": [],
   "source": [
    "# call 4 times\n",
    "next(gen)"
   ]
  },
  {
   "cell_type": "markdown",
   "id": "exterior-safety",
   "metadata": {},
   "source": [
    "#### Iterable via generator"
   ]
  },
  {
   "cell_type": "code",
   "execution_count": null,
   "id": "psychological-accessory",
   "metadata": {},
   "outputs": [],
   "source": [
    "class MyIterable:\n",
    "    def __iter__(self):\n",
    "        for i in range(10):  # generator has __next__ method\n",
    "            yield i ** 2\n",
    "\n",
    "for i in MyIterable():\n",
    "    print(i)"
   ]
  },
  {
   "cell_type": "markdown",
   "id": "sustainable-notebook",
   "metadata": {},
   "source": [
    "#### Is generator an iterator object?"
   ]
  },
  {
   "cell_type": "code",
   "execution_count": null,
   "id": "executed-vampire",
   "metadata": {},
   "outputs": [],
   "source": [
    "from collections.abc import Iterator\n",
    "\n",
    "print(isinstance(generator(1), Iterator))  # True or False?"
   ]
  },
  {
   "cell_type": "markdown",
   "id": "appreciated-script",
   "metadata": {},
   "source": [
    "#### Inline generator"
   ]
  },
  {
   "cell_type": "code",
   "execution_count": null,
   "id": "dirty-policy",
   "metadata": {},
   "outputs": [],
   "source": [
    "gen = (num ** 2 for num in range(10))\n",
    "\n",
    "print(type(gen))"
   ]
  },
  {
   "cell_type": "markdown",
   "id": "environmental-johnson",
   "metadata": {},
   "source": [
    "## Context managers"
   ]
  },
  {
   "cell_type": "markdown",
   "id": "fresh-recipe",
   "metadata": {},
   "source": [
    "####  Context manager as a class"
   ]
  },
  {
   "cell_type": "code",
   "execution_count": null,
   "id": "acting-tennis",
   "metadata": {},
   "outputs": [],
   "source": [
    "class Resource:\n",
    "\n",
    "    def __enter__(self):  # defines a runtime context\n",
    "        print('Resource.__enter__()')\n",
    "        return [1, 2, 3]\n",
    "\n",
    "    def __exit__(self, exception, value, trace):  # exits from the context and handles exceptions\n",
    "        \"\"\"\n",
    "        :param exception: Exception type or None.\n",
    "        :param value: Exception object or None.\n",
    "        :param trace: Traceback object or None.\n",
    "        \"\"\"\n",
    "        print(f'Resource.__exit__{(exception, value, trace)}')"
   ]
  },
  {
   "cell_type": "code",
   "execution_count": null,
   "id": "intellectual-guyana",
   "metadata": {},
   "outputs": [],
   "source": [
    "with Resource() as rs:\n",
    "    print(f'Inside the context resource = {rs}')\n",
    "    raise Exception('Error')\n",
    "\n",
    "print('Not in context manager')"
   ]
  },
  {
   "cell_type": "code",
   "execution_count": null,
   "id": "practical-alliance",
   "metadata": {},
   "outputs": [],
   "source": [
    "class DBError(Exception):  # custom error to handle db errors \n",
    "    pass\n",
    "\n",
    "\n",
    "class DBProvider:\n",
    "    def connect(self):\n",
    "        print('Connect to database')\n",
    "    \n",
    "    def fetch(self):\n",
    "        print('Try to fetch data')\n",
    "        raise DBError('Error during fetching data')\n",
    "    \n",
    "    def close(self):\n",
    "        print('Close connection')\n",
    "    \n",
    "    def __enter__(self):\n",
    "        print('Enter to the context')\n",
    "        self.connect()\n",
    "        return self\n",
    "    \n",
    "    def __exit__(self, exception, value, trace):\n",
    "        print(f'Resource.__exit__{(exception, value, trace)}')\n",
    "        self.close()"
   ]
  },
  {
   "cell_type": "code",
   "execution_count": null,
   "id": "outdoor-composite",
   "metadata": {},
   "outputs": [],
   "source": [
    "with DBProvider() as db:\n",
    "    data = db.fetch()"
   ]
  },
  {
   "cell_type": "markdown",
   "id": "arctic-requirement",
   "metadata": {},
   "source": [
    "#### Context manager as a function"
   ]
  },
  {
   "cell_type": "code",
   "execution_count": null,
   "id": "otherwise-render",
   "metadata": {},
   "outputs": [],
   "source": [
    "from contextlib import contextmanager\n",
    "\n",
    "\n",
    "@contextmanager\n",
    "def resource():\n",
    "    print('before context (aka `enter`)')\n",
    "    yield 'Some data'\n",
    "    print('after context goes `exit`')\n",
    "    print('still inside `exit`')"
   ]
  },
  {
   "cell_type": "code",
   "execution_count": null,
   "id": "catholic-banks",
   "metadata": {},
   "outputs": [],
   "source": [
    "with resource() as rs:\n",
    "    print(f'inside context resource = {rs}')"
   ]
  },
  {
   "cell_type": "code",
   "execution_count": null,
   "id": "quiet-works",
   "metadata": {},
   "outputs": [],
   "source": [
    "# ignore an exception\n",
    "import os\n",
    "\n",
    "try:\n",
    "    os.remove('somefile.tmp')\n",
    "except FileNotFoundError:\n",
    "    pass"
   ]
  },
  {
   "cell_type": "code",
   "execution_count": null,
   "id": "catholic-retrieval",
   "metadata": {},
   "outputs": [],
   "source": [
    "# via context manager\n",
    "from contextlib import contextmanager\n",
    "\n",
    "\n",
    "@contextmanager\n",
    "def ignore_error(error):\n",
    "    try:\n",
    "        yield\n",
    "    except error:\n",
    "        pass\n",
    "\n",
    "with ignore_error(ZeroDivisionError):\n",
    "    print('I\\'m here')\n",
    "    a = 1\n",
    "    print('I\\'m not here')"
   ]
  },
  {
   "cell_type": "code",
   "execution_count": null,
   "id": "aware-yahoo",
   "metadata": {},
   "outputs": [],
   "source": [
    "# ready to use\n",
    "\n",
    "import os\n",
    "from contextlib import suppress\n",
    "\n",
    "with suppress(FileNotFoundError):\n",
    "    os.remove('somefile.tmp')"
   ]
  },
  {
   "cell_type": "code",
   "execution_count": null,
   "id": "eight-failing",
   "metadata": {},
   "outputs": [],
   "source": [
    "# Redirect stdout\n",
    "from contextlib import redirect_stdout\n",
    "\n",
    "with open('help.txt', 'w') as f:\n",
    "    with redirect_stdout(f):\n",
    "        help(pow)"
   ]
  }
 ],
 "metadata": {
  "kernelspec": {
   "display_name": "Python 3",
   "language": "python",
   "name": "python3"
  },
  "language_info": {
   "codemirror_mode": {
    "name": "ipython",
    "version": 3
   },
   "file_extension": ".py",
   "mimetype": "text/x-python",
   "name": "python",
   "nbconvert_exporter": "python",
   "pygments_lexer": "ipython3",
   "version": "3.8.6"
  }
 },
 "nbformat": 4,
 "nbformat_minor": 5
}
