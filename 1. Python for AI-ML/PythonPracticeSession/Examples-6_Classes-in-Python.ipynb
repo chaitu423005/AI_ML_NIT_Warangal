{
 "cells": [
  {
   "cell_type": "markdown",
   "id": "70b04568-cf62-4623-ba60-b84d44cf77d0",
   "metadata": {},
   "source": [
    "# Classes in Python"
   ]
  },
  {
   "cell_type": "markdown",
   "id": "acb9df03-bfcf-4843-b23c-8de3232f9aee",
   "metadata": {
    "tags": []
   },
   "source": [
    "## Magic attributes"
   ]
  },
  {
   "cell_type": "code",
   "execution_count": 116,
   "id": "fb302731-fe74-45cb-b2d5-13185c4470ad",
   "metadata": {},
   "outputs": [],
   "source": [
    "class D:\n",
    "    class_attr = 100\n",
    "\n",
    "    def method_for_D(self):\n",
    "        pass\n",
    "    \n",
    "    def __init__(self, instance_var):\n",
    "        self.instance_var = instance_var\n"
   ]
  },
  {
   "cell_type": "markdown",
   "id": "d6ef1d12-628d-4b39-8763-c3df565c605c",
   "metadata": {},
   "source": [
    "#### \\_\\_dict__ and vars "
   ]
  },
  {
   "cell_type": "code",
   "execution_count": 117,
   "id": "bfadc43a-705d-4149-82e9-c74f794d29c6",
   "metadata": {},
   "outputs": [
    {
     "name": "stdout",
     "output_type": "stream",
     "text": [
      "{'instance_var': 1000}\n",
      "{'instance_var': 1000}\n"
     ]
    }
   ],
   "source": [
    "d = D(1000)\n",
    "\n",
    "print(d.__dict__)\n",
    "print(vars(d))"
   ]
  },
  {
   "cell_type": "markdown",
   "id": "1ebe3b08-2f8f-4e49-9984-35c002358c48",
   "metadata": {},
   "source": [
    "#### \\_\\_mro__"
   ]
  },
  {
   "cell_type": "code",
   "execution_count": 118,
   "id": "ed18c6bc-db0f-49b3-b285-92be9eec8e43",
   "metadata": {},
   "outputs": [],
   "source": [
    "class A:\n",
    "    def method_for_A(self):\n",
    "        pass\n",
    "\n",
    "class B(A):\n",
    "    def method_for_B(self):\n",
    "        pass\n",
    "\n",
    "class C(A):\n",
    "    def method_for_C(self):\n",
    "        pass\n",
    "\n",
    "class D(C,B):\n",
    "    class_attr = 100\n",
    "\n",
    "    def method_for_D(self):\n",
    "        pass"
   ]
  },
  {
   "cell_type": "code",
   "execution_count": 119,
   "id": "b792db05-460f-4d2a-80b2-037d6b7ae72f",
   "metadata": {},
   "outputs": [
    {
     "data": {
      "text/plain": [
       "(__main__.D, __main__.C, __main__.B, __main__.A, object)"
      ]
     },
     "execution_count": 119,
     "metadata": {},
     "output_type": "execute_result"
    }
   ],
   "source": [
    "D.__mro__"
   ]
  },
  {
   "cell_type": "markdown",
   "id": "8caec91a-69af-422c-bff4-ce4e435ead98",
   "metadata": {},
   "source": [
    "## Magic methods"
   ]
  },
  {
   "cell_type": "markdown",
   "id": "bbdac962-414f-4519-a2f9-1ecaed99ceb8",
   "metadata": {},
   "source": [
    "#### Operator \\_\\_add__"
   ]
  },
  {
   "cell_type": "code",
   "execution_count": 120,
   "id": "ff76ed9e-2a09-44ef-bee4-f7fa679ff8bb",
   "metadata": {},
   "outputs": [],
   "source": [
    "class CustomNumber:\n",
    "    def __init__(self, number):\n",
    "        self._number = number\n",
    "    def __add__(self, number):\n",
    "        print(\"I'm counting!\")\n",
    "        self._number += number\n",
    "        return self._number"
   ]
  },
  {
   "cell_type": "code",
   "execution_count": 121,
   "id": "1ada063d-0293-4e06-91a5-90660deb93e0",
   "metadata": {},
   "outputs": [
    {
     "name": "stdout",
     "output_type": "stream",
     "text": [
      "I'm counting!\n"
     ]
    },
    {
     "data": {
      "text/plain": [
       "22"
      ]
     },
     "execution_count": 121,
     "metadata": {},
     "output_type": "execute_result"
    }
   ],
   "source": [
    "number = CustomNumber(12)\n",
    "\n",
    "number + 10"
   ]
  },
  {
   "cell_type": "code",
   "execution_count": 122,
   "id": "cd1386e4-d906-4229-9945-dcc80889a2cc",
   "metadata": {},
   "outputs": [
    {
     "name": "stdout",
     "output_type": "stream",
     "text": [
      "I'm counting!\n"
     ]
    },
    {
     "data": {
      "text/plain": [
       "1022"
      ]
     },
     "execution_count": 122,
     "metadata": {},
     "output_type": "execute_result"
    }
   ],
   "source": [
    "number + 1000"
   ]
  },
  {
   "cell_type": "markdown",
   "id": "db6790c8-0521-487d-bf02-ded02984c5ce",
   "metadata": {},
   "source": [
    "#### \\_\\_str__"
   ]
  },
  {
   "cell_type": "code",
   "execution_count": 123,
   "id": "01284781-5ff8-45e9-aab1-daa16cb37a7a",
   "metadata": {},
   "outputs": [],
   "source": [
    "class CustomObject:\n",
    "    pass\n",
    "    "
   ]
  },
  {
   "cell_type": "code",
   "execution_count": 124,
   "id": "4161880b-9f72-404b-bb00-575cc3a8e33d",
   "metadata": {},
   "outputs": [
    {
     "name": "stdout",
     "output_type": "stream",
     "text": [
      "<__main__.CustomObject object at 0x1073d3820>\n"
     ]
    }
   ],
   "source": [
    "print(CustomObject())"
   ]
  },
  {
   "cell_type": "code",
   "execution_count": 125,
   "id": "dd98ba66-feb0-499c-aebf-e7d4c22e0cc8",
   "metadata": {},
   "outputs": [],
   "source": [
    "class CustomObject:\n",
    "    def __str__(self):\n",
    "        return \"This is custom object.\""
   ]
  },
  {
   "cell_type": "code",
   "execution_count": 126,
   "id": "05dd42f3-674c-458e-9381-99aa9d656657",
   "metadata": {},
   "outputs": [
    {
     "name": "stdout",
     "output_type": "stream",
     "text": [
      "This is custom object.\n"
     ]
    }
   ],
   "source": [
    "print(CustomObject())"
   ]
  },
  {
   "cell_type": "code",
   "execution_count": 127,
   "id": "a8fd730d-3d33-45aa-8c33-4895957ae9a9",
   "metadata": {},
   "outputs": [
    {
     "data": {
      "text/plain": [
       "'This is custom object.'"
      ]
     },
     "execution_count": 127,
     "metadata": {},
     "output_type": "execute_result"
    }
   ],
   "source": [
    "str(CustomObject())"
   ]
  },
  {
   "cell_type": "code",
   "execution_count": 128,
   "id": "21beb593-41bc-470d-9ffe-dedff3fce8df",
   "metadata": {},
   "outputs": [
    {
     "data": {
      "text/plain": [
       "<__main__.CustomObject at 0x107400c70>"
      ]
     },
     "execution_count": 128,
     "metadata": {},
     "output_type": "execute_result"
    }
   ],
   "source": [
    "CustomObject()"
   ]
  },
  {
   "cell_type": "markdown",
   "id": "7a709daa-33dc-48c1-9416-5ad857db6ffe",
   "metadata": {},
   "source": [
    "#### \\_\\_repr__"
   ]
  },
  {
   "cell_type": "code",
   "execution_count": 129,
   "id": "06ec7e91-2bef-4959-b962-d2f7c1bc7f33",
   "metadata": {},
   "outputs": [],
   "source": [
    "from time import localtime, strftime\n",
    "\n",
    "class CustomObject:\n",
    "    \n",
    "    def __init__(self):\n",
    "        self._time_of_creation = strftime(\"%H:%M:%S\", localtime())\n",
    "    def __str__(self):\n",
    "        return \"This is custom object.\"\n",
    "    def __repr__(self):\n",
    "        return f\"This is special object that was created at {self._time_of_creation}.\""
   ]
  },
  {
   "cell_type": "code",
   "execution_count": 130,
   "id": "c64839a3-4bca-4980-ad9f-bafb103d7119",
   "metadata": {},
   "outputs": [
    {
     "name": "stdout",
     "output_type": "stream",
     "text": [
      "This is custom object.\n"
     ]
    }
   ],
   "source": [
    "print(CustomObject())"
   ]
  },
  {
   "cell_type": "code",
   "execution_count": 131,
   "id": "a50a591b-c4ae-4c7a-83dd-ce954d20c761",
   "metadata": {},
   "outputs": [
    {
     "data": {
      "text/plain": [
       "This is special object that was created at 19:08:34."
      ]
     },
     "execution_count": 131,
     "metadata": {},
     "output_type": "execute_result"
    }
   ],
   "source": [
    "CustomObject()"
   ]
  },
  {
   "cell_type": "markdown",
   "id": "1c9d087e-72d2-4a8b-9289-d073b1015a5e",
   "metadata": {},
   "source": [
    "#### \\_\\_getitem__"
   ]
  },
  {
   "cell_type": "code",
   "execution_count": 132,
   "id": "e41dc424-49b4-4363-a6c2-c1ab0eee07ad",
   "metadata": {},
   "outputs": [],
   "source": [
    "class CustomContainer:\n",
    "    def __init__(self, internal_list):\n",
    "        self._internal_list = internal_list\n",
    "    def __getitem__(self, item):\n",
    "        return self._internal_list[item]*10"
   ]
  },
  {
   "cell_type": "code",
   "execution_count": 133,
   "id": "403b5b0a-2d19-4fe6-8294-a22dd6639af2",
   "metadata": {},
   "outputs": [],
   "source": [
    "prepared_list = [1, 2, 3, 4, 5]\n",
    "\n",
    "my_container = CustomContainer(prepared_list)"
   ]
  },
  {
   "cell_type": "code",
   "execution_count": 134,
   "id": "2c7ba55a-50be-4ba8-823c-1777373be210",
   "metadata": {},
   "outputs": [
    {
     "data": {
      "text/plain": [
       "40"
      ]
     },
     "execution_count": 134,
     "metadata": {},
     "output_type": "execute_result"
    }
   ],
   "source": [
    "my_container[3]"
   ]
  },
  {
   "cell_type": "markdown",
   "id": "e754be25-d41e-4b98-986c-b42905fa5fd2",
   "metadata": {},
   "source": [
    "## Class-related decorators"
   ]
  },
  {
   "cell_type": "markdown",
   "id": "b85cb79a-cf9a-444e-8db4-c8f24861d6c3",
   "metadata": {},
   "source": [
    "#### How to work with class methods:"
   ]
  },
  {
   "cell_type": "code",
   "execution_count": 135,
   "id": "30761a9f-e026-4082-bb64-5e723d4dccc4",
   "metadata": {},
   "outputs": [],
   "source": [
    "# Wrong way\n",
    "\n",
    "class ShopAssistant:\n",
    "\n",
    "    goods_count = 10\n",
    "    \n",
    "    def sell_good(self):\n",
    "        print(\"Hi, I'm selling good\")\n",
    "        self.goods_count -= 1\n",
    "    "
   ]
  },
  {
   "cell_type": "code",
   "execution_count": 136,
   "id": "32e51c15-2b93-4dc4-be77-4932071d3009",
   "metadata": {},
   "outputs": [],
   "source": [
    "shop_assistant_1 = ShopAssistant()\n",
    "shop_assistant_2 = ShopAssistant()"
   ]
  },
  {
   "cell_type": "code",
   "execution_count": 137,
   "id": "b8e2f9c9-f578-4a96-94ec-fe56b92e1727",
   "metadata": {},
   "outputs": [
    {
     "data": {
      "text/plain": [
       "{}"
      ]
     },
     "execution_count": 137,
     "metadata": {},
     "output_type": "execute_result"
    }
   ],
   "source": [
    "vars(shop_assistant_1)"
   ]
  },
  {
   "cell_type": "code",
   "execution_count": 138,
   "id": "bc7f521b-c50e-42cf-bb5b-9384bd95b340",
   "metadata": {},
   "outputs": [
    {
     "name": "stdout",
     "output_type": "stream",
     "text": [
      "Hi, I'm selling good\n"
     ]
    }
   ],
   "source": [
    "shop_assistant_1.sell_good()"
   ]
  },
  {
   "cell_type": "code",
   "execution_count": 139,
   "id": "4d6942ce-a29e-4b70-9904-6e5157c6a95b",
   "metadata": {},
   "outputs": [
    {
     "name": "stdout",
     "output_type": "stream",
     "text": [
      "9\n",
      "10\n",
      "10\n"
     ]
    }
   ],
   "source": [
    "print(shop_assistant_1.goods_count)\n",
    "print(shop_assistant_2.goods_count)\n",
    "print(ShopAssistant.goods_count)"
   ]
  },
  {
   "cell_type": "code",
   "execution_count": 140,
   "id": "0bd04ce1-9fb9-4227-96c5-c7b8da871049",
   "metadata": {},
   "outputs": [
    {
     "name": "stdout",
     "output_type": "stream",
     "text": [
      "{'goods_count': 9}\n",
      "{}\n"
     ]
    }
   ],
   "source": [
    "print(vars(shop_assistant_1))\n",
    "print(vars(shop_assistant_2))"
   ]
  },
  {
   "cell_type": "code",
   "execution_count": 141,
   "id": "170180ab-51f5-4964-b288-f89d2ae56dae",
   "metadata": {},
   "outputs": [],
   "source": [
    "# Good way \n",
    "\n",
    "class ShopAssistant:\n",
    "    \n",
    "    _goods_count = 10\n",
    "    \n",
    "    @classmethod\n",
    "    def sell_good(cls):\n",
    "        print(\"Hi, I'm selling good\")\n",
    "        cls._goods_count -= 1"
   ]
  },
  {
   "cell_type": "code",
   "execution_count": 142,
   "id": "03227b44-56fe-4422-8d3f-b02ed089b747",
   "metadata": {},
   "outputs": [],
   "source": [
    "shop_assistant_1 = ShopAssistant()\n",
    "shop_assistant_2 = ShopAssistant()"
   ]
  },
  {
   "cell_type": "code",
   "execution_count": 143,
   "id": "1237c3e2-0c63-4b8d-9fd2-4dd5a0bbf629",
   "metadata": {},
   "outputs": [
    {
     "data": {
      "text/plain": [
       "{}"
      ]
     },
     "execution_count": 143,
     "metadata": {},
     "output_type": "execute_result"
    }
   ],
   "source": [
    "vars(shop_assistant_1)"
   ]
  },
  {
   "cell_type": "code",
   "execution_count": 144,
   "id": "21ee21b1-c6b9-4d45-bd35-ba739acacfdf",
   "metadata": {},
   "outputs": [
    {
     "name": "stdout",
     "output_type": "stream",
     "text": [
      "Hi, I'm selling good\n"
     ]
    }
   ],
   "source": [
    "shop_assistant_1.sell_good()"
   ]
  },
  {
   "cell_type": "code",
   "execution_count": 145,
   "id": "e870695b-3ef0-4382-a0f9-346e75337273",
   "metadata": {},
   "outputs": [
    {
     "name": "stdout",
     "output_type": "stream",
     "text": [
      "9\n",
      "9\n",
      "9\n"
     ]
    }
   ],
   "source": [
    "print(shop_assistant_1._goods_count)\n",
    "print(shop_assistant_2._goods_count)\n",
    "print(ShopAssistant._goods_count)"
   ]
  },
  {
   "cell_type": "code",
   "execution_count": 146,
   "id": "d02a8e61-ff29-4bce-8458-9c16b9c87416",
   "metadata": {},
   "outputs": [
    {
     "name": "stdout",
     "output_type": "stream",
     "text": [
      "{}\n"
     ]
    }
   ],
   "source": [
    "print(vars(shop_assistant_1))"
   ]
  },
  {
   "cell_type": "markdown",
   "id": "58d0f3f0-0f84-4bc0-8004-827ed4834034",
   "metadata": {},
   "source": [
    "## Abstract methods"
   ]
  },
  {
   "cell_type": "code",
   "execution_count": 147,
   "id": "dd8799c7-90a0-4af6-a79e-7b6c083d666a",
   "metadata": {},
   "outputs": [],
   "source": [
    "from abc import ABC, abstractmethod\n",
    "\n",
    "class Animal(ABC):\n",
    "    def __init__(self, name):\n",
    "        self.name = name\n",
    "    \n",
    "    @abstractmethod\n",
    "    def say_name(self):\n",
    "        pass"
   ]
  },
  {
   "cell_type": "code",
   "execution_count": 148,
   "id": "2e24d5a6-b2f9-494a-83fd-e394758ab8ed",
   "metadata": {},
   "outputs": [],
   "source": [
    "class Goose(Animal):\n",
    "    pass"
   ]
  },
  {
   "cell_type": "code",
   "execution_count": 149,
   "id": "c0854675-de54-4ba5-bd1e-24d0c35d93c9",
   "metadata": {},
   "outputs": [
    {
     "ename": "TypeError",
     "evalue": "Can't instantiate abstract class Goose with abstract methods say_name",
     "output_type": "error",
     "traceback": [
      "\u001b[0;31m---------------------------------------------------------------------------\u001b[0m",
      "\u001b[0;31mTypeError\u001b[0m                                 Traceback (most recent call last)",
      "\u001b[0;32m/var/folders/v0/lq4k7qzj5fl15bcppyvty39w0000gp/T/ipykernel_42134/2435787125.py\u001b[0m in \u001b[0;36m<module>\u001b[0;34m\u001b[0m\n\u001b[0;32m----> 1\u001b[0;31m \u001b[0mgoose_alex\u001b[0m \u001b[0;34m=\u001b[0m \u001b[0mGoose\u001b[0m\u001b[0;34m(\u001b[0m\u001b[0;34m\"Alex\"\u001b[0m\u001b[0;34m)\u001b[0m\u001b[0;34m\u001b[0m\u001b[0;34m\u001b[0m\u001b[0m\n\u001b[0m",
      "\u001b[0;31mTypeError\u001b[0m: Can't instantiate abstract class Goose with abstract methods say_name"
     ]
    }
   ],
   "source": [
    "goose_alex = Goose(\"Alex\")"
   ]
  },
  {
   "cell_type": "code",
   "execution_count": 150,
   "id": "859fdddb-bb7d-4b6b-a5c8-752d6e094d25",
   "metadata": {},
   "outputs": [],
   "source": [
    "class Goose(Animal):\n",
    "    def say_name(self):\n",
    "        print(f\"Quack, I'm {self.name}\")"
   ]
  },
  {
   "cell_type": "code",
   "execution_count": 151,
   "id": "cd5ccd7a-48ac-46d0-9269-65d13a85f5d1",
   "metadata": {},
   "outputs": [
    {
     "name": "stdout",
     "output_type": "stream",
     "text": [
      "Quack, I'm Alex\n"
     ]
    }
   ],
   "source": [
    "goose_alex = Goose(\"Alex\")\n",
    "goose_alex.say_name()"
   ]
  },
  {
   "cell_type": "code",
   "execution_count": null,
   "id": "8ba63c97-b079-4d20-9f23-50bd466e310b",
   "metadata": {},
   "outputs": [],
   "source": []
  }
 ],
 "metadata": {
  "kernelspec": {
   "display_name": "Python 3 (ipykernel)",
   "language": "python",
   "name": "python3"
  },
  "language_info": {
   "codemirror_mode": {
    "name": "ipython",
    "version": 3
   },
   "file_extension": ".py",
   "mimetype": "text/x-python",
   "name": "python",
   "nbconvert_exporter": "python",
   "pygments_lexer": "ipython3",
   "version": "3.8.2"
  }
 },
 "nbformat": 4,
 "nbformat_minor": 5
}
