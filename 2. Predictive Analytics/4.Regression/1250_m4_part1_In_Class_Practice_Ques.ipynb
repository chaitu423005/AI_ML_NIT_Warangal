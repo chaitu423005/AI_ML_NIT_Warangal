{
 "cells": [
  {
   "cell_type": "markdown",
   "metadata": {
    "id": "znkeKon89FIF"
   },
   "source": [
    "<h2><u>Predictive Analystics</u></h2>\n",
    "\n",
    "# Module 4 – Regression Part 1\n",
    "\n",
    "<h2> In-class Practice Questions I </h2>"
   ]
  },
  {
   "cell_type": "markdown",
   "metadata": {
    "id": "ul8g3hPo9Pb2"
   },
   "source": [
    "#### **Downloading the dataset from Dropbox**"
   ]
  },
  {
   "cell_type": "code",
   "execution_count": 1,
   "metadata": {
    "colab": {
     "base_uri": "https://localhost:8080/",
     "height": 392
    },
    "id": "4H7DsbAj9ApH",
    "outputId": "3842f53c-876e-41a2-8c3e-373b4f475cb6"
   },
   "outputs": [
    {
     "name": "stdout",
     "output_type": "stream",
     "text": [
      "--2020-10-08 11:04:27--  https://www.dropbox.com/s/9qhb97j4fcpz0rk/canada_per_capita_income.csv\n",
      "Resolving www.dropbox.com (www.dropbox.com)... 162.125.82.1, 2620:100:6032:1::a27d:5201\n",
      "Connecting to www.dropbox.com (www.dropbox.com)|162.125.82.1|:443... connected.\n",
      "HTTP request sent, awaiting response... 301 Moved Permanently\n",
      "Location: /s/raw/9qhb97j4fcpz0rk/canada_per_capita_income.csv [following]\n",
      "--2020-10-08 11:04:27--  https://www.dropbox.com/s/raw/9qhb97j4fcpz0rk/canada_per_capita_income.csv\n",
      "Reusing existing connection to www.dropbox.com:443.\n",
      "HTTP request sent, awaiting response... 302 Found\n",
      "Location: https://uc5d50e3130306fc7f7f2d67a299.dl.dropboxusercontent.com/cd/0/inline/BA3T0oXv-C0tt8rAzuhRmfDQHwHFYHVeVnX1ch9osGIHVLqVYOw8WubwsUNw0CSMjJ120YLfBADiwUPaGF7G8RQ9TR5f8JYtdNfdbYsp1Jb8VyS9s3rimi5nVlacdZzqzro/file# [following]\n",
      "--2020-10-08 11:04:28--  https://uc5d50e3130306fc7f7f2d67a299.dl.dropboxusercontent.com/cd/0/inline/BA3T0oXv-C0tt8rAzuhRmfDQHwHFYHVeVnX1ch9osGIHVLqVYOw8WubwsUNw0CSMjJ120YLfBADiwUPaGF7G8RQ9TR5f8JYtdNfdbYsp1Jb8VyS9s3rimi5nVlacdZzqzro/file\n",
      "Resolving uc5d50e3130306fc7f7f2d67a299.dl.dropboxusercontent.com (uc5d50e3130306fc7f7f2d67a299.dl.dropboxusercontent.com)... 162.125.82.15, 2620:100:6032:15::a27d:520f\n",
      "Connecting to uc5d50e3130306fc7f7f2d67a299.dl.dropboxusercontent.com (uc5d50e3130306fc7f7f2d67a299.dl.dropboxusercontent.com)|162.125.82.15|:443... connected.\n",
      "HTTP request sent, awaiting response... 200 OK\n",
      "Length: 826 [text/plain]\n",
      "Saving to: ‘canada_per_capita_income.csv’\n",
      "\n",
      "canada_per_capita_i 100%[===================>]     826  --.-KB/s    in 0s      \n",
      "\n",
      "2020-10-08 11:04:28 (107 MB/s) - ‘canada_per_capita_income.csv’ saved [826/826]\n",
      "\n"
     ]
    }
   ],
   "source": [
    "!wget https://www.dropbox.com/s/9qhb97j4fcpz0rk/canada_per_capita_income.csv"
   ]
  },
  {
   "cell_type": "markdown",
   "metadata": {
    "id": "C9_yx9MM9L0k"
   },
   "source": [
    "#### **Importing Required Libraries**"
   ]
  },
  {
   "cell_type": "code",
   "execution_count": 2,
   "metadata": {
    "id": "xFrOL0as9LE1"
   },
   "outputs": [],
   "source": [
    "import pandas as pd\n",
    "import numpy as np\n",
    "from sklearn import linear_model\n",
    "import matplotlib.pyplot as plt"
   ]
  },
  {
   "cell_type": "code",
   "execution_count": 3,
   "metadata": {
    "colab": {
     "base_uri": "https://localhost:8080/",
     "height": 197
    },
    "id": "nGEdCsHj9V2v",
    "outputId": "7b3972a0-57e6-46e8-810b-3085d89c8fba"
   },
   "outputs": [
    {
     "data": {
      "text/html": [
       "<div>\n",
       "<style scoped>\n",
       "    .dataframe tbody tr th:only-of-type {\n",
       "        vertical-align: middle;\n",
       "    }\n",
       "\n",
       "    .dataframe tbody tr th {\n",
       "        vertical-align: top;\n",
       "    }\n",
       "\n",
       "    .dataframe thead th {\n",
       "        text-align: right;\n",
       "    }\n",
       "</style>\n",
       "<table border=\"1\" class=\"dataframe\">\n",
       "  <thead>\n",
       "    <tr style=\"text-align: right;\">\n",
       "      <th></th>\n",
       "      <th>year</th>\n",
       "      <th>per capita income (US$)</th>\n",
       "    </tr>\n",
       "  </thead>\n",
       "  <tbody>\n",
       "    <tr>\n",
       "      <th>0</th>\n",
       "      <td>1970</td>\n",
       "      <td>3399.299037</td>\n",
       "    </tr>\n",
       "    <tr>\n",
       "      <th>1</th>\n",
       "      <td>1971</td>\n",
       "      <td>3768.297935</td>\n",
       "    </tr>\n",
       "    <tr>\n",
       "      <th>2</th>\n",
       "      <td>1972</td>\n",
       "      <td>4251.175484</td>\n",
       "    </tr>\n",
       "    <tr>\n",
       "      <th>3</th>\n",
       "      <td>1973</td>\n",
       "      <td>4804.463248</td>\n",
       "    </tr>\n",
       "    <tr>\n",
       "      <th>4</th>\n",
       "      <td>1974</td>\n",
       "      <td>5576.514583</td>\n",
       "    </tr>\n",
       "  </tbody>\n",
       "</table>\n",
       "</div>"
      ],
      "text/plain": [
       "   year  per capita income (US$)\n",
       "0  1970              3399.299037\n",
       "1  1971              3768.297935\n",
       "2  1972              4251.175484\n",
       "3  1973              4804.463248\n",
       "4  1974              5576.514583"
      ]
     },
     "execution_count": 3,
     "metadata": {
      "tags": []
     },
     "output_type": "execute_result"
    }
   ],
   "source": [
    "df = pd.read_csv('canada_per_capita_income.csv')\n",
    "df.head()"
   ]
  },
  {
   "cell_type": "markdown",
   "metadata": {
    "id": "7iOeL-BwB3Zj"
   },
   "source": [
    "#### **Visualizing the dataset**"
   ]
  },
  {
   "cell_type": "code",
   "execution_count": 4,
   "metadata": {
    "colab": {
     "base_uri": "https://localhost:8080/",
     "height": 496
    },
    "id": "U30MLFZ89et7",
    "outputId": "145db399-6d1c-4e07-e09d-0e86010fd321"
   },
   "outputs": [
    {
     "data": {
      "image/png": "[encoded data removed]",
      "text/plain": [
       "<Figure size 864x576 with 1 Axes>"
      ]
     },
     "metadata": {
      "needs_background": "light",
      "tags": []
     },
     "output_type": "display_data"
    }
   ],
   "source": [
    "plt.figure(figsize=(12,8))\n",
    "\n",
    "plt.scatter(df.year,df['per capita income (US$)'],color='red',marker='+')\n",
    "\n",
    "plt.xlabel('Year')\n",
    "plt.ylabel('Per Capiat Income (US$)')\n",
    "\n",
    "plt.show()"
   ]
  },
  {
   "cell_type": "code",
   "execution_count": 5,
   "metadata": {
    "colab": {
     "base_uri": "https://localhost:8080/",
     "height": 197
    },
    "id": "PrPI-O-D-dVM",
    "outputId": "209bd950-b95c-45e6-e021-7494fe0e35bc"
   },
   "outputs": [
    {
     "data": {
      "text/html": [
       "<div>\n",
       "<style scoped>\n",
       "    .dataframe tbody tr th:only-of-type {\n",
       "        vertical-align: middle;\n",
       "    }\n",
       "\n",
       "    .dataframe tbody tr th {\n",
       "        vertical-align: top;\n",
       "    }\n",
       "\n",
       "    .dataframe thead th {\n",
       "        text-align: right;\n",
       "    }\n",
       "</style>\n",
       "<table border=\"1\" class=\"dataframe\">\n",
       "  <thead>\n",
       "    <tr style=\"text-align: right;\">\n",
       "      <th></th>\n",
       "      <th>year</th>\n",
       "    </tr>\n",
       "  </thead>\n",
       "  <tbody>\n",
       "    <tr>\n",
       "      <th>0</th>\n",
       "      <td>1970</td>\n",
       "    </tr>\n",
       "    <tr>\n",
       "      <th>1</th>\n",
       "      <td>1971</td>\n",
       "    </tr>\n",
       "    <tr>\n",
       "      <th>2</th>\n",
       "      <td>1972</td>\n",
       "    </tr>\n",
       "    <tr>\n",
       "      <th>3</th>\n",
       "      <td>1973</td>\n",
       "    </tr>\n",
       "    <tr>\n",
       "      <th>4</th>\n",
       "      <td>1974</td>\n",
       "    </tr>\n",
       "  </tbody>\n",
       "</table>\n",
       "</div>"
      ],
      "text/plain": [
       "   year\n",
       "0  1970\n",
       "1  1971\n",
       "2  1972\n",
       "3  1973\n",
       "4  1974"
      ]
     },
     "execution_count": 5,
     "metadata": {
      "tags": []
     },
     "output_type": "execute_result"
    }
   ],
   "source": [
    "new_df = df.drop('per capita income (US$)',axis='columns')\n",
    "new_df.head()"
   ]
  },
  {
   "cell_type": "code",
   "execution_count": 6,
   "metadata": {
    "colab": {
     "base_uri": "https://localhost:8080/",
     "height": 123
    },
    "id": "wiKeZs6B_5k2",
    "outputId": "4262dd7f-29ed-4e63-f5bd-8ca746ccfb51"
   },
   "outputs": [
    {
     "data": {
      "text/plain": [
       "0    3399.299037\n",
       "1    3768.297935\n",
       "2    4251.175484\n",
       "3    4804.463248\n",
       "4    5576.514583\n",
       "Name: per capita income (US$), dtype: float64"
      ]
     },
     "execution_count": 6,
     "metadata": {
      "tags": []
     },
     "output_type": "execute_result"
    }
   ],
   "source": [
    "p_cap_in = df['per capita income (US$)']\n",
    "p_cap_in.head()"
   ]
  },
  {
   "cell_type": "code",
   "execution_count": 7,
   "metadata": {
    "colab": {
     "base_uri": "https://localhost:8080/",
     "height": 34
    },
    "id": "KBdIEb70AH_1",
    "outputId": "dfcc38a7-c675-43a6-e172-39cbafd3fe70"
   },
   "outputs": [
    {
     "data": {
      "text/plain": [
       "LinearRegression(copy_X=True, fit_intercept=True, n_jobs=None, normalize=False)"
      ]
     },
     "execution_count": 7,
     "metadata": {
      "tags": []
     },
     "output_type": "execute_result"
    }
   ],
   "source": [
    "# Create a Linear Regression Object\n",
    "\n",
    "reg = linear_model.LinearRegression()\n",
    "reg.fit(new_df,p_cap_in)"
   ]
  },
  {
   "cell_type": "markdown",
   "metadata": {
    "id": "DNvMvXrN4Vix"
   },
   "source": [
    "#### **Evaluate the Model**"
   ]
  },
  {
   "cell_type": "code",
   "execution_count": 9,
   "metadata": {
    "colab": {
     "base_uri": "https://localhost:8080/",
     "height": 34
    },
    "id": "BlbAo-BT4VKZ",
    "outputId": "e60593a8-e91f-4a00-e676-e9c4c2df9383"
   },
   "outputs": [
    {
     "name": "stdout",
     "output_type": "stream",
     "text": [
      "0.890916917957032\n"
     ]
    }
   ],
   "source": [
    "accuracy_lr = reg.score(new_df, p_cap_in)\n",
    "print(accuracy_lr)"
   ]
  },
  {
   "cell_type": "markdown",
   "metadata": {
    "id": "wlgb31CJAsAc"
   },
   "source": [
    "#### **Predict Canada's per capita income in the year 2021**"
   ]
  },
  {
   "cell_type": "code",
   "execution_count": null,
   "metadata": {
    "id": "vGOySIRCARyR"
   },
   "outputs": [],
   "source": [
    "reg.predict([[2021]])"
   ]
  },
  {
   "cell_type": "markdown",
   "metadata": {
    "id": "KGg-Yk2GA89v"
   },
   "source": [
    "#### **Predict Canada's per capita income in the year 2025**"
   ]
  },
  {
   "cell_type": "code",
   "execution_count": null,
   "metadata": {
    "id": "EC6P3rJnAYcn"
   },
   "outputs": [],
   "source": [
    "reg.predict([[2025]])"
   ]
  },
  {
   "cell_type": "markdown",
   "metadata": {
    "id": "AtIAuEKLA9xS"
   },
   "source": [
    "#### **Predict Canada's per capita income in the year 2031**"
   ]
  },
  {
   "cell_type": "code",
   "execution_count": null,
   "metadata": {
    "id": "--_l7pxsAhcO"
   },
   "outputs": [],
   "source": [
    "reg.predict([[2031]])"
   ]
  }
 ],
 "metadata": {
  "colab": {
   "collapsed_sections": [
    "znkeKon89FIF"
   ],
   "name": "In_Class_Practice_Ques_1.ipynb",
   "provenance": []
  },
  "kernelspec": {
   "display_name": "Python 3",
   "language": "python",
   "name": "python3"
  },
  "language_info": {
   "codemirror_mode": {
    "name": "ipython",
    "version": 3
   },
   "file_extension": ".py",
   "mimetype": "text/x-python",
   "name": "python",
   "nbconvert_exporter": "python",
   "pygments_lexer": "ipython3",
   "version": "3.7.3"
  }
 },
 "nbformat": 4,
 "nbformat_minor": 1
}
