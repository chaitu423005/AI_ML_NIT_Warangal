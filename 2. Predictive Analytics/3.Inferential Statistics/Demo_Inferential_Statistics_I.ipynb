{
  "nbformat": 4,
  "nbformat_minor": 0,
  "metadata": {
    "colab": {
      "name": "Demo: Inferential_Statistics I.ipynb",
      "provenance": [],
      "collapsed_sections": []
    },
    "kernelspec": {
      "name": "python3",
      "display_name": "Python 3"
    },
    "widgets": {
      "application/vnd.jupyter.widget-state+json": {
        "7fbb8a97d0184d3eaf12933527854f94": {
          "model_module": "@jupyter-widgets/controls",
          "model_name": "HBoxModel",
          "state": {
            "_view_name": "HBoxView",
            "_dom_classes": [],
            "_model_name": "HBoxModel",
            "_view_module": "@jupyter-widgets/controls",
            "_model_module_version": "1.5.0",
            "_view_count": null,
            "_view_module_version": "1.5.0",
            "box_style": "",
            "layout": "IPY_MODEL_7ca76271cf1e4a09962bfdb83565c1f8",
            "_model_module": "@jupyter-widgets/controls",
            "children": [
              "IPY_MODEL_33a41284715e4d10bc7035d275563695",
              "IPY_MODEL_2364696ec2e64814902a429aeb9aa5f4",
              "IPY_MODEL_f3748c8cca39432086eddd4a565909e9"
            ]
          }
        },
        "7ca76271cf1e4a09962bfdb83565c1f8": {
          "model_module": "@jupyter-widgets/base",
          "model_name": "LayoutModel",
          "state": {
            "_view_name": "LayoutView",
            "grid_template_rows": null,
            "right": null,
            "justify_content": null,
            "_view_module": "@jupyter-widgets/base",
            "overflow": null,
            "_model_module_version": "1.2.0",
            "_view_count": null,
            "flex_flow": null,
            "width": null,
            "min_width": null,
            "border": null,
            "align_items": null,
            "bottom": null,
            "_model_module": "@jupyter-widgets/base",
            "top": null,
            "grid_column": null,
            "overflow_y": null,
            "overflow_x": null,
            "grid_auto_flow": null,
            "grid_area": null,
            "grid_template_columns": null,
            "flex": null,
            "_model_name": "LayoutModel",
            "justify_items": null,
            "grid_row": null,
            "max_height": null,
            "align_content": null,
            "visibility": null,
            "align_self": null,
            "height": null,
            "min_height": null,
            "padding": null,
            "grid_auto_rows": null,
            "grid_gap": null,
            "max_width": null,
            "order": null,
            "_view_module_version": "1.2.0",
            "grid_template_areas": null,
            "object_position": null,
            "object_fit": null,
            "grid_auto_columns": null,
            "margin": null,
            "display": null,
            "left": null
          }
        },
        "33a41284715e4d10bc7035d275563695": {
          "model_module": "@jupyter-widgets/controls",
          "model_name": "HTMLModel",
          "state": {
            "_view_name": "HTMLView",
            "style": "IPY_MODEL_543ddf66e0cf4f499ba2b95746a2da9f",
            "_dom_classes": [],
            "description": "",
            "_model_name": "HTMLModel",
            "placeholder": "​",
            "_view_module": "@jupyter-widgets/controls",
            "_model_module_version": "1.5.0",
            "value": "Summarize dataset: 100%",
            "_view_count": null,
            "_view_module_version": "1.5.0",
            "description_tooltip": null,
            "_model_module": "@jupyter-widgets/controls",
            "layout": "IPY_MODEL_fa2d9443041343c58304e323a53d9cc3"
          }
        },
        "2364696ec2e64814902a429aeb9aa5f4": {
          "model_module": "@jupyter-widgets/controls",
          "model_name": "FloatProgressModel",
          "state": {
            "_view_name": "ProgressView",
            "style": "IPY_MODEL_efd10766f6ac4f85a37b41db4acd1be0",
            "_dom_classes": [],
            "description": "",
            "_model_name": "FloatProgressModel",
            "bar_style": "success",
            "max": 95,
            "_view_module": "@jupyter-widgets/controls",
            "_model_module_version": "1.5.0",
            "value": 95,
            "_view_count": null,
            "_view_module_version": "1.5.0",
            "orientation": "horizontal",
            "min": 0,
            "description_tooltip": null,
            "_model_module": "@jupyter-widgets/controls",
            "layout": "IPY_MODEL_05a9f3bdaf7b4d06bd480fd913a3a777"
          }
        },
        "f3748c8cca39432086eddd4a565909e9": {
          "model_module": "@jupyter-widgets/controls",
          "model_name": "HTMLModel",
          "state": {
            "_view_name": "HTMLView",
            "style": "IPY_MODEL_514debef9eb8433baef579c4bb2b5568",
            "_dom_classes": [],
            "description": "",
            "_model_name": "HTMLModel",
            "placeholder": "​",
            "_view_module": "@jupyter-widgets/controls",
            "_model_module_version": "1.5.0",
            "value": " 95/95 [03:13&lt;00:00,  2.04s/it, Completed]",
            "_view_count": null,
            "_view_module_version": "1.5.0",
            "description_tooltip": null,
            "_model_module": "@jupyter-widgets/controls",
            "layout": "IPY_MODEL_6b28e6edcfc24ae189ff71929a46d531"
          }
        },
        "543ddf66e0cf4f499ba2b95746a2da9f": {
          "model_module": "@jupyter-widgets/controls",
          "model_name": "DescriptionStyleModel",
          "state": {
            "_view_name": "StyleView",
            "_model_name": "DescriptionStyleModel",
            "description_width": "",
            "_view_module": "@jupyter-widgets/base",
            "_model_module_version": "1.5.0",
            "_view_count": null,
            "_view_module_version": "1.2.0",
            "_model_module": "@jupyter-widgets/controls"
          }
        },
        "fa2d9443041343c58304e323a53d9cc3": {
          "model_module": "@jupyter-widgets/base",
          "model_name": "LayoutModel",
          "state": {
            "_view_name": "LayoutView",
            "grid_template_rows": null,
            "right": null,
            "justify_content": null,
            "_view_module": "@jupyter-widgets/base",
            "overflow": null,
            "_model_module_version": "1.2.0",
            "_view_count": null,
            "flex_flow": null,
            "width": null,
            "min_width": null,
            "border": null,
            "align_items": null,
            "bottom": null,
            "_model_module": "@jupyter-widgets/base",
            "top": null,
            "grid_column": null,
            "overflow_y": null,
            "overflow_x": null,
            "grid_auto_flow": null,
            "grid_area": null,
            "grid_template_columns": null,
            "flex": null,
            "_model_name": "LayoutModel",
            "justify_items": null,
            "grid_row": null,
            "max_height": null,
            "align_content": null,
            "visibility": null,
            "align_self": null,
            "height": null,
            "min_height": null,
            "padding": null,
            "grid_auto_rows": null,
            "grid_gap": null,
            "max_width": null,
            "order": null,
            "_view_module_version": "1.2.0",
            "grid_template_areas": null,
            "object_position": null,
            "object_fit": null,
            "grid_auto_columns": null,
            "margin": null,
            "display": null,
            "left": null
          }
        },
        "efd10766f6ac4f85a37b41db4acd1be0": {
          "model_module": "@jupyter-widgets/controls",
          "model_name": "ProgressStyleModel",
          "state": {
            "_view_name": "StyleView",
            "_model_name": "ProgressStyleModel",
            "description_width": "",
            "_view_module": "@jupyter-widgets/base",
            "_model_module_version": "1.5.0",
            "_view_count": null,
            "_view_module_version": "1.2.0",
            "bar_color": null,
            "_model_module": "@jupyter-widgets/controls"
          }
        },
        "05a9f3bdaf7b4d06bd480fd913a3a777": {
          "model_module": "@jupyter-widgets/base",
          "model_name": "LayoutModel",
          "state": {
            "_view_name": "LayoutView",
            "grid_template_rows": null,
            "right": null,
            "justify_content": null,
            "_view_module": "@jupyter-widgets/base",
            "overflow": null,
            "_model_module_version": "1.2.0",
            "_view_count": null,
            "flex_flow": null,
            "width": null,
            "min_width": null,
            "border": null,
            "align_items": null,
            "bottom": null,
            "_model_module": "@jupyter-widgets/base",
            "top": null,
            "grid_column": null,
            "overflow_y": null,
            "overflow_x": null,
            "grid_auto_flow": null,
            "grid_area": null,
            "grid_template_columns": null,
            "flex": null,
            "_model_name": "LayoutModel",
            "justify_items": null,
            "grid_row": null,
            "max_height": null,
            "align_content": null,
            "visibility": null,
            "align_self": null,
            "height": null,
            "min_height": null,
            "padding": null,
            "grid_auto_rows": null,
            "grid_gap": null,
            "max_width": null,
            "order": null,
            "_view_module_version": "1.2.0",
            "grid_template_areas": null,
            "object_position": null,
            "object_fit": null,
            "grid_auto_columns": null,
            "margin": null,
            "display": null,
            "left": null
          }
        },
        "514debef9eb8433baef579c4bb2b5568": {
          "model_module": "@jupyter-widgets/controls",
          "model_name": "DescriptionStyleModel",
          "state": {
            "_view_name": "StyleView",
            "_model_name": "DescriptionStyleModel",
            "description_width": "",
            "_view_module": "@jupyter-widgets/base",
            "_model_module_version": "1.5.0",
            "_view_count": null,
            "_view_module_version": "1.2.0",
            "_model_module": "@jupyter-widgets/controls"
          }
        },
        "6b28e6edcfc24ae189ff71929a46d531": {
          "model_module": "@jupyter-widgets/base",
          "model_name": "LayoutModel",
          "state": {
            "_view_name": "LayoutView",
            "grid_template_rows": null,
            "right": null,
            "justify_content": null,
            "_view_module": "@jupyter-widgets/base",
            "overflow": null,
            "_model_module_version": "1.2.0",
            "_view_count": null,
            "flex_flow": null,
            "width": null,
            "min_width": null,
            "border": null,
            "align_items": null,
            "bottom": null,
            "_model_module": "@jupyter-widgets/base",
            "top": null,
            "grid_column": null,
            "overflow_y": null,
            "overflow_x": null,
            "grid_auto_flow": null,
            "grid_area": null,
            "grid_template_columns": null,
            "flex": null,
            "_model_name": "LayoutModel",
            "justify_items": null,
            "grid_row": null,
            "max_height": null,
            "align_content": null,
            "visibility": null,
            "align_self": null,
            "height": null,
            "min_height": null,
            "padding": null,
            "grid_auto_rows": null,
            "grid_gap": null,
            "max_width": null,
            "order": null,
            "_view_module_version": "1.2.0",
            "grid_template_areas": null,
            "object_position": null,
            "object_fit": null,
            "grid_auto_columns": null,
            "margin": null,
            "display": null,
            "left": null
          }
        },
        "7ae8974da8fc4e68800fd43af913c0d5": {
          "model_module": "@jupyter-widgets/controls",
          "model_name": "HBoxModel",
          "state": {
            "_view_name": "HBoxView",
            "_dom_classes": [],
            "_model_name": "HBoxModel",
            "_view_module": "@jupyter-widgets/controls",
            "_model_module_version": "1.5.0",
            "_view_count": null,
            "_view_module_version": "1.5.0",
            "box_style": "",
            "layout": "IPY_MODEL_2b376ed1d50d4afebc543fc0348bbcd0",
            "_model_module": "@jupyter-widgets/controls",
            "children": [
              "IPY_MODEL_1d22409ff3af4bb0840fb37ae77d8e8d",
              "IPY_MODEL_9e618c97fd124463845c3eb373b9883a",
              "IPY_MODEL_8bc15a6346594c48975e502779fe91f5"
            ]
          }
        },
        "2b376ed1d50d4afebc543fc0348bbcd0": {
          "model_module": "@jupyter-widgets/base",
          "model_name": "LayoutModel",
          "state": {
            "_view_name": "LayoutView",
            "grid_template_rows": null,
            "right": null,
            "justify_content": null,
            "_view_module": "@jupyter-widgets/base",
            "overflow": null,
            "_model_module_version": "1.2.0",
            "_view_count": null,
            "flex_flow": null,
            "width": null,
            "min_width": null,
            "border": null,
            "align_items": null,
            "bottom": null,
            "_model_module": "@jupyter-widgets/base",
            "top": null,
            "grid_column": null,
            "overflow_y": null,
            "overflow_x": null,
            "grid_auto_flow": null,
            "grid_area": null,
            "grid_template_columns": null,
            "flex": null,
            "_model_name": "LayoutModel",
            "justify_items": null,
            "grid_row": null,
            "max_height": null,
            "align_content": null,
            "visibility": null,
            "align_self": null,
            "height": null,
            "min_height": null,
            "padding": null,
            "grid_auto_rows": null,
            "grid_gap": null,
            "max_width": null,
            "order": null,
            "_view_module_version": "1.2.0",
            "grid_template_areas": null,
            "object_position": null,
            "object_fit": null,
            "grid_auto_columns": null,
            "margin": null,
            "display": null,
            "left": null
          }
        },
        "1d22409ff3af4bb0840fb37ae77d8e8d": {
          "model_module": "@jupyter-widgets/controls",
          "model_name": "HTMLModel",
          "state": {
            "_view_name": "HTMLView",
            "style": "IPY_MODEL_48f0b0388df64cfa964e60a1f3887894",
            "_dom_classes": [],
            "description": "",
            "_model_name": "HTMLModel",
            "placeholder": "​",
            "_view_module": "@jupyter-widgets/controls",
            "_model_module_version": "1.5.0",
            "value": "Generate report structure: 100%",
            "_view_count": null,
            "_view_module_version": "1.5.0",
            "description_tooltip": null,
            "_model_module": "@jupyter-widgets/controls",
            "layout": "IPY_MODEL_4295ef4538c84fd89271bce411966f5f"
          }
        },
        "9e618c97fd124463845c3eb373b9883a": {
          "model_module": "@jupyter-widgets/controls",
          "model_name": "FloatProgressModel",
          "state": {
            "_view_name": "ProgressView",
            "style": "IPY_MODEL_09105981c1694859b0cd260b4d8247cc",
            "_dom_classes": [],
            "description": "",
            "_model_name": "FloatProgressModel",
            "bar_style": "success",
            "max": 1,
            "_view_module": "@jupyter-widgets/controls",
            "_model_module_version": "1.5.0",
            "value": 1,
            "_view_count": null,
            "_view_module_version": "1.5.0",
            "orientation": "horizontal",
            "min": 0,
            "description_tooltip": null,
            "_model_module": "@jupyter-widgets/controls",
            "layout": "IPY_MODEL_f7725a9fa8ed48d2bce9e1687f169bd8"
          }
        },
        "8bc15a6346594c48975e502779fe91f5": {
          "model_module": "@jupyter-widgets/controls",
          "model_name": "HTMLModel",
          "state": {
            "_view_name": "HTMLView",
            "style": "IPY_MODEL_0308b5d1b97e4a0d82799d931740f761",
            "_dom_classes": [],
            "description": "",
            "_model_name": "HTMLModel",
            "placeholder": "​",
            "_view_module": "@jupyter-widgets/controls",
            "_model_module_version": "1.5.0",
            "value": " 1/1 [01:35&lt;00:00, 95.94s/it]",
            "_view_count": null,
            "_view_module_version": "1.5.0",
            "description_tooltip": null,
            "_model_module": "@jupyter-widgets/controls",
            "layout": "IPY_MODEL_31a4ef4f1550463f87960715ce857f48"
          }
        },
        "48f0b0388df64cfa964e60a1f3887894": {
          "model_module": "@jupyter-widgets/controls",
          "model_name": "DescriptionStyleModel",
          "state": {
            "_view_name": "StyleView",
            "_model_name": "DescriptionStyleModel",
            "description_width": "",
            "_view_module": "@jupyter-widgets/base",
            "_model_module_version": "1.5.0",
            "_view_count": null,
            "_view_module_version": "1.2.0",
            "_model_module": "@jupyter-widgets/controls"
          }
        },
        "4295ef4538c84fd89271bce411966f5f": {
          "model_module": "@jupyter-widgets/base",
          "model_name": "LayoutModel",
          "state": {
            "_view_name": "LayoutView",
            "grid_template_rows": null,
            "right": null,
            "justify_content": null,
            "_view_module": "@jupyter-widgets/base",
            "overflow": null,
            "_model_module_version": "1.2.0",
            "_view_count": null,
            "flex_flow": null,
            "width": null,
            "min_width": null,
            "border": null,
            "align_items": null,
            "bottom": null,
            "_model_module": "@jupyter-widgets/base",
            "top": null,
            "grid_column": null,
            "overflow_y": null,
            "overflow_x": null,
            "grid_auto_flow": null,
            "grid_area": null,
            "grid_template_columns": null,
            "flex": null,
            "_model_name": "LayoutModel",
            "justify_items": null,
            "grid_row": null,
            "max_height": null,
            "align_content": null,
            "visibility": null,
            "align_self": null,
            "height": null,
            "min_height": null,
            "padding": null,
            "grid_auto_rows": null,
            "grid_gap": null,
            "max_width": null,
            "order": null,
            "_view_module_version": "1.2.0",
            "grid_template_areas": null,
            "object_position": null,
            "object_fit": null,
            "grid_auto_columns": null,
            "margin": null,
            "display": null,
            "left": null
          }
        },
        "09105981c1694859b0cd260b4d8247cc": {
          "model_module": "@jupyter-widgets/controls",
          "model_name": "ProgressStyleModel",
          "state": {
            "_view_name": "StyleView",
            "_model_name": "ProgressStyleModel",
            "description_width": "",
            "_view_module": "@jupyter-widgets/base",
            "_model_module_version": "1.5.0",
            "_view_count": null,
            "_view_module_version": "1.2.0",
            "bar_color": null,
            "_model_module": "@jupyter-widgets/controls"
          }
        },
        "f7725a9fa8ed48d2bce9e1687f169bd8": {
          "model_module": "@jupyter-widgets/base",
          "model_name": "LayoutModel",
          "state": {
            "_view_name": "LayoutView",
            "grid_template_rows": null,
            "right": null,
            "justify_content": null,
            "_view_module": "@jupyter-widgets/base",
            "overflow": null,
            "_model_module_version": "1.2.0",
            "_view_count": null,
            "flex_flow": null,
            "width": null,
            "min_width": null,
            "border": null,
            "align_items": null,
            "bottom": null,
            "_model_module": "@jupyter-widgets/base",
            "top": null,
            "grid_column": null,
            "overflow_y": null,
            "overflow_x": null,
            "grid_auto_flow": null,
            "grid_area": null,
            "grid_template_columns": null,
            "flex": null,
            "_model_name": "LayoutModel",
            "justify_items": null,
            "grid_row": null,
            "max_height": null,
            "align_content": null,
            "visibility": null,
            "align_self": null,
            "height": null,
            "min_height": null,
            "padding": null,
            "grid_auto_rows": null,
            "grid_gap": null,
            "max_width": null,
            "order": null,
            "_view_module_version": "1.2.0",
            "grid_template_areas": null,
            "object_position": null,
            "object_fit": null,
            "grid_auto_columns": null,
            "margin": null,
            "display": null,
            "left": null
          }
        },
        "0308b5d1b97e4a0d82799d931740f761": {
          "model_module": "@jupyter-widgets/controls",
          "model_name": "DescriptionStyleModel",
          "state": {
            "_view_name": "StyleView",
            "_model_name": "DescriptionStyleModel",
            "description_width": "",
            "_view_module": "@jupyter-widgets/base",
            "_model_module_version": "1.5.0",
            "_view_count": null,
            "_view_module_version": "1.2.0",
            "_model_module": "@jupyter-widgets/controls"
          }
        },
        "31a4ef4f1550463f87960715ce857f48": {
          "model_module": "@jupyter-widgets/base",
          "model_name": "LayoutModel",
          "state": {
            "_view_name": "LayoutView",
            "grid_template_rows": null,
            "right": null,
            "justify_content": null,
            "_view_module": "@jupyter-widgets/base",
            "overflow": null,
            "_model_module_version": "1.2.0",
            "_view_count": null,
            "flex_flow": null,
            "width": null,
            "min_width": null,
            "border": null,
            "align_items": null,
            "bottom": null,
            "_model_module": "@jupyter-widgets/base",
            "top": null,
            "grid_column": null,
            "overflow_y": null,
            "overflow_x": null,
            "grid_auto_flow": null,
            "grid_area": null,
            "grid_template_columns": null,
            "flex": null,
            "_model_name": "LayoutModel",
            "justify_items": null,
            "grid_row": null,
            "max_height": null,
            "align_content": null,
            "visibility": null,
            "align_self": null,
            "height": null,
            "min_height": null,
            "padding": null,
            "grid_auto_rows": null,
            "grid_gap": null,
            "max_width": null,
            "order": null,
            "_view_module_version": "1.2.0",
            "grid_template_areas": null,
            "object_position": null,
            "object_fit": null,
            "grid_auto_columns": null,
            "margin": null,
            "display": null,
            "left": null
          }
        },
        "ff7969f41ff74be2ac68b80e2ad012a2": {
          "model_module": "@jupyter-widgets/controls",
          "model_name": "HBoxModel",
          "state": {
            "_view_name": "HBoxView",
            "_dom_classes": [],
            "_model_name": "HBoxModel",
            "_view_module": "@jupyter-widgets/controls",
            "_model_module_version": "1.5.0",
            "_view_count": null,
            "_view_module_version": "1.5.0",
            "box_style": "",
            "layout": "IPY_MODEL_55ec42fa0051440e9ae512a22b90b097",
            "_model_module": "@jupyter-widgets/controls",
            "children": [
              "IPY_MODEL_2ca375c366df4dc58be43b668df0743a",
              "IPY_MODEL_ed9c8737375140c78c434140c5e3a262",
              "IPY_MODEL_badc66e0c61a4ec0adba0a136d136ecc"
            ]
          }
        },
        "55ec42fa0051440e9ae512a22b90b097": {
          "model_module": "@jupyter-widgets/base",
          "model_name": "LayoutModel",
          "state": {
            "_view_name": "LayoutView",
            "grid_template_rows": null,
            "right": null,
            "justify_content": null,
            "_view_module": "@jupyter-widgets/base",
            "overflow": null,
            "_model_module_version": "1.2.0",
            "_view_count": null,
            "flex_flow": null,
            "width": null,
            "min_width": null,
            "border": null,
            "align_items": null,
            "bottom": null,
            "_model_module": "@jupyter-widgets/base",
            "top": null,
            "grid_column": null,
            "overflow_y": null,
            "overflow_x": null,
            "grid_auto_flow": null,
            "grid_area": null,
            "grid_template_columns": null,
            "flex": null,
            "_model_name": "LayoutModel",
            "justify_items": null,
            "grid_row": null,
            "max_height": null,
            "align_content": null,
            "visibility": null,
            "align_self": null,
            "height": null,
            "min_height": null,
            "padding": null,
            "grid_auto_rows": null,
            "grid_gap": null,
            "max_width": null,
            "order": null,
            "_view_module_version": "1.2.0",
            "grid_template_areas": null,
            "object_position": null,
            "object_fit": null,
            "grid_auto_columns": null,
            "margin": null,
            "display": null,
            "left": null
          }
        },
        "2ca375c366df4dc58be43b668df0743a": {
          "model_module": "@jupyter-widgets/controls",
          "model_name": "HTMLModel",
          "state": {
            "_view_name": "HTMLView",
            "style": "IPY_MODEL_7f5dbf4cfa9c4d238d07ed1cb567b1d6",
            "_dom_classes": [],
            "description": "",
            "_model_name": "HTMLModel",
            "placeholder": "​",
            "_view_module": "@jupyter-widgets/controls",
            "_model_module_version": "1.5.0",
            "value": "Render HTML: 100%",
            "_view_count": null,
            "_view_module_version": "1.5.0",
            "description_tooltip": null,
            "_model_module": "@jupyter-widgets/controls",
            "layout": "IPY_MODEL_c2fc0d4ce5c5437fbaffaf206f5e5d51"
          }
        },
        "ed9c8737375140c78c434140c5e3a262": {
          "model_module": "@jupyter-widgets/controls",
          "model_name": "FloatProgressModel",
          "state": {
            "_view_name": "ProgressView",
            "style": "IPY_MODEL_a0051707141e4b8fa43172162998480c",
            "_dom_classes": [],
            "description": "",
            "_model_name": "FloatProgressModel",
            "bar_style": "success",
            "max": 1,
            "_view_module": "@jupyter-widgets/controls",
            "_model_module_version": "1.5.0",
            "value": 1,
            "_view_count": null,
            "_view_module_version": "1.5.0",
            "orientation": "horizontal",
            "min": 0,
            "description_tooltip": null,
            "_model_module": "@jupyter-widgets/controls",
            "layout": "IPY_MODEL_69856ea1f53742a3a4c68ea7b82b93cb"
          }
        },
        "badc66e0c61a4ec0adba0a136d136ecc": {
          "model_module": "@jupyter-widgets/controls",
          "model_name": "HTMLModel",
          "state": {
            "_view_name": "HTMLView",
            "style": "IPY_MODEL_20ee61f5bb864560b599d724559783ff",
            "_dom_classes": [],
            "description": "",
            "_model_name": "HTMLModel",
            "placeholder": "​",
            "_view_module": "@jupyter-widgets/controls",
            "_model_module_version": "1.5.0",
            "value": " 1/1 [00:31&lt;00:00, 31.98s/it]",
            "_view_count": null,
            "_view_module_version": "1.5.0",
            "description_tooltip": null,
            "_model_module": "@jupyter-widgets/controls",
            "layout": "IPY_MODEL_05f15cb3d5d34e8da5b0812974280d96"
          }
        },
        "7f5dbf4cfa9c4d238d07ed1cb567b1d6": {
          "model_module": "@jupyter-widgets/controls",
          "model_name": "DescriptionStyleModel",
          "state": {
            "_view_name": "StyleView",
            "_model_name": "DescriptionStyleModel",
            "description_width": "",
            "_view_module": "@jupyter-widgets/base",
            "_model_module_version": "1.5.0",
            "_view_count": null,
            "_view_module_version": "1.2.0",
            "_model_module": "@jupyter-widgets/controls"
          }
        },
        "c2fc0d4ce5c5437fbaffaf206f5e5d51": {
          "model_module": "@jupyter-widgets/base",
          "model_name": "LayoutModel",
          "state": {
            "_view_name": "LayoutView",
            "grid_template_rows": null,
            "right": null,
            "justify_content": null,
            "_view_module": "@jupyter-widgets/base",
            "overflow": null,
            "_model_module_version": "1.2.0",
            "_view_count": null,
            "flex_flow": null,
            "width": null,
            "min_width": null,
            "border": null,
            "align_items": null,
            "bottom": null,
            "_model_module": "@jupyter-widgets/base",
            "top": null,
            "grid_column": null,
            "overflow_y": null,
            "overflow_x": null,
            "grid_auto_flow": null,
            "grid_area": null,
            "grid_template_columns": null,
            "flex": null,
            "_model_name": "LayoutModel",
            "justify_items": null,
            "grid_row": null,
            "max_height": null,
            "align_content": null,
            "visibility": null,
            "align_self": null,
            "height": null,
            "min_height": null,
            "padding": null,
            "grid_auto_rows": null,
            "grid_gap": null,
            "max_width": null,
            "order": null,
            "_view_module_version": "1.2.0",
            "grid_template_areas": null,
            "object_position": null,
            "object_fit": null,
            "grid_auto_columns": null,
            "margin": null,
            "display": null,
            "left": null
          }
        },
        "a0051707141e4b8fa43172162998480c": {
          "model_module": "@jupyter-widgets/controls",
          "model_name": "ProgressStyleModel",
          "state": {
            "_view_name": "StyleView",
            "_model_name": "ProgressStyleModel",
            "description_width": "",
            "_view_module": "@jupyter-widgets/base",
            "_model_module_version": "1.5.0",
            "_view_count": null,
            "_view_module_version": "1.2.0",
            "bar_color": null,
            "_model_module": "@jupyter-widgets/controls"
          }
        },
        "69856ea1f53742a3a4c68ea7b82b93cb": {
          "model_module": "@jupyter-widgets/base",
          "model_name": "LayoutModel",
          "state": {
            "_view_name": "LayoutView",
            "grid_template_rows": null,
            "right": null,
            "justify_content": null,
            "_view_module": "@jupyter-widgets/base",
            "overflow": null,
            "_model_module_version": "1.2.0",
            "_view_count": null,
            "flex_flow": null,
            "width": null,
            "min_width": null,
            "border": null,
            "align_items": null,
            "bottom": null,
            "_model_module": "@jupyter-widgets/base",
            "top": null,
            "grid_column": null,
            "overflow_y": null,
            "overflow_x": null,
            "grid_auto_flow": null,
            "grid_area": null,
            "grid_template_columns": null,
            "flex": null,
            "_model_name": "LayoutModel",
            "justify_items": null,
            "grid_row": null,
            "max_height": null,
            "align_content": null,
            "visibility": null,
            "align_self": null,
            "height": null,
            "min_height": null,
            "padding": null,
            "grid_auto_rows": null,
            "grid_gap": null,
            "max_width": null,
            "order": null,
            "_view_module_version": "1.2.0",
            "grid_template_areas": null,
            "object_position": null,
            "object_fit": null,
            "grid_auto_columns": null,
            "margin": null,
            "display": null,
            "left": null
          }
        },
        "20ee61f5bb864560b599d724559783ff": {
          "model_module": "@jupyter-widgets/controls",
          "model_name": "DescriptionStyleModel",
          "state": {
            "_view_name": "StyleView",
            "_model_name": "DescriptionStyleModel",
            "description_width": "",
            "_view_module": "@jupyter-widgets/base",
            "_model_module_version": "1.5.0",
            "_view_count": null,
            "_view_module_version": "1.2.0",
            "_model_module": "@jupyter-widgets/controls"
          }
        },
        "05f15cb3d5d34e8da5b0812974280d96": {
          "model_module": "@jupyter-widgets/base",
          "model_name": "LayoutModel",
          "state": {
            "_view_name": "LayoutView",
            "grid_template_rows": null,
            "right": null,
            "justify_content": null,
            "_view_module": "@jupyter-widgets/base",
            "overflow": null,
            "_model_module_version": "1.2.0",
            "_view_count": null,
            "flex_flow": null,
            "width": null,
            "min_width": null,
            "border": null,
            "align_items": null,
            "bottom": null,
            "_model_module": "@jupyter-widgets/base",
            "top": null,
            "grid_column": null,
            "overflow_y": null,
            "overflow_x": null,
            "grid_auto_flow": null,
            "grid_area": null,
            "grid_template_columns": null,
            "flex": null,
            "_model_name": "LayoutModel",
            "justify_items": null,
            "grid_row": null,
            "max_height": null,
            "align_content": null,
            "visibility": null,
            "align_self": null,
            "height": null,
            "min_height": null,
            "padding": null,
            "grid_auto_rows": null,
            "grid_gap": null,
            "max_width": null,
            "order": null,
            "_view_module_version": "1.2.0",
            "grid_template_areas": null,
            "object_position": null,
            "object_fit": null,
            "grid_auto_columns": null,
            "margin": null,
            "display": null,
            "left": null
          }
        }
      }
    }
  },
  "cells": [
    {
      "cell_type": "markdown",
      "metadata": {
        "id": "xLiWxDF1h9C9"
      },
      "source": [
        "![](https://i.imgur.com/cvN5CQ1.png)"
      ]
    },
    {
      "cell_type": "markdown",
      "metadata": {
        "id": "U-z9LsxOeVWT"
      },
      "source": [
        "# Introduction to Inferential Statistics\n",
        "\n",
        "## Introduction to Probability\n",
        "\n",
        "* Basic Probability\n",
        "* Conditional Probability\n",
        "* Simple Probability Distribution\n",
        "* Probability Mass Function (p.m.f) & Probability Density Function (p.d.f)\n",
        "* Normal Distribution\n",
        "* Normal Distribution & Standard Deviation\n",
        "* Concept of Z-score\n",
        "\n",
        "## Introduction to Inference\n",
        "\n",
        "* Sample Mean & Population Mean\n",
        "* Statistical Inference\n",
        "* Central Limit Theorem\n",
        "* Confidence Intervals\n",
        "* Interpretation Of Confidence Interval\n",
        "* Hypothesis Testing\n",
        "* Why Null Hypothesis ?\n",
        "* Alternate Hypothesis\n",
        "* P-Value\n"
      ]
    },
    {
      "cell_type": "code",
      "metadata": {
        "id": "UrQV55I80RbM",
        "colab": {
          "base_uri": "https://localhost:8080/"
        },
        "outputId": "1fbbedae-0011-4c39-9e79-b4a39613cb6f"
      },
      "source": [
        "!pip install https://github.com/pandas-profiling/pandas-profiling/archive/master.zip"
      ],
      "execution_count": null,
      "outputs": [
        {
          "output_type": "stream",
          "text": [
            "Collecting https://github.com/pandas-profiling/pandas-profiling/archive/master.zip\n",
            "\u001b[?25l  Downloading https://github.com/pandas-profiling/pandas-profiling/archive/master.zip\n",
            "\u001b[K     - 56.9MB 772kB/s\n",
            "\u001b[?25hRequirement already satisfied: joblib in /usr/local/lib/python3.6/dist-packages (from pandas-profiling==2.9.0) (0.17.0)\n",
            "Requirement already satisfied: scipy>=1.4.1 in /usr/local/lib/python3.6/dist-packages (from pandas-profiling==2.9.0) (1.4.1)\n",
            "Requirement already satisfied: pandas!=1.0.0,!=1.0.1,!=1.0.2,!=1.1.0,>=0.25.3 in /usr/local/lib/python3.6/dist-packages (from pandas-profiling==2.9.0) (1.1.4)\n",
            "Requirement already satisfied: matplotlib>=3.2.0 in /usr/local/lib/python3.6/dist-packages (from pandas-profiling==2.9.0) (3.2.2)\n",
            "Collecting confuse>=1.0.0\n",
            "\u001b[?25l  Downloading https://files.pythonhosted.org/packages/b5/6d/bedc0d1068bd244cee05843313cbec6cebb9f01f925538269bababc6d887/confuse-1.3.0-py2.py3-none-any.whl (64kB)\n",
            "\u001b[K     |████████████████████████████████| 71kB 3.1MB/s \n",
            "\u001b[?25hRequirement already satisfied: jinja2>=2.11.1 in /usr/local/lib/python3.6/dist-packages (from pandas-profiling==2.9.0) (2.11.2)\n",
            "Collecting visions[type_image_path]==0.5.0\n",
            "\u001b[?25l  Downloading https://files.pythonhosted.org/packages/26/e3/9416e94e767d59a86edcbcb8e1c8f42874d272c3b343676074879e9db0e0/visions-0.5.0-py3-none-any.whl (64kB)\n",
            "\u001b[K     |████████████████████████████████| 71kB 7.2MB/s \n",
            "\u001b[?25hRequirement already satisfied: numpy>=1.16.0 in /usr/local/lib/python3.6/dist-packages (from pandas-profiling==2.9.0) (1.18.5)\n",
            "Requirement already satisfied: attrs>=19.3.0 in /usr/local/lib/python3.6/dist-packages (from pandas-profiling==2.9.0) (20.2.0)\n",
            "Collecting htmlmin>=0.1.12\n",
            "  Downloading https://files.pythonhosted.org/packages/b3/e7/fcd59e12169de19f0131ff2812077f964c6b960e7c09804d30a7bf2ab461/htmlmin-0.1.12.tar.gz\n",
            "Requirement already satisfied: missingno>=0.4.2 in /usr/local/lib/python3.6/dist-packages (from pandas-profiling==2.9.0) (0.4.2)\n",
            "Collecting phik>=0.9.10\n",
            "\u001b[?25l  Downloading https://files.pythonhosted.org/packages/01/5a/7ef1c04ce62cd72f900c06298dc2385840550d5c653a0dbc19109a5477e6/phik-0.10.0-py3-none-any.whl (599kB)\n",
            "\u001b[K     |████████████████████████████████| 604kB 19.3MB/s \n",
            "\u001b[?25hCollecting tangled-up-in-unicode>=0.0.6\n",
            "\u001b[?25l  Downloading https://files.pythonhosted.org/packages/4a/e2/e588ab9298d4989ce7fdb2b97d18aac878d99dbdc379a4476a09d9271b68/tangled_up_in_unicode-0.0.6-py3-none-any.whl (3.1MB)\n",
            "\u001b[K     |████████████████████████████████| 3.1MB 44.5MB/s \n",
            "\u001b[?25hRequirement already satisfied: requests>=2.23.0 in /usr/local/lib/python3.6/dist-packages (from pandas-profiling==2.9.0) (2.23.0)\n",
            "Collecting tqdm>=4.43.0\n",
            "\u001b[?25l  Downloading https://files.pythonhosted.org/packages/93/3a/96b3dc293aa72443cf9627444c3c221a7ba34bb622e4d8bf1b5d4f2d9d08/tqdm-4.51.0-py2.py3-none-any.whl (70kB)\n",
            "\u001b[K     |████████████████████████████████| 71kB 8.5MB/s \n",
            "\u001b[?25hRequirement already satisfied: ipywidgets>=7.5.1 in /usr/local/lib/python3.6/dist-packages (from pandas-profiling==2.9.0) (7.5.1)\n",
            "Requirement already satisfied: seaborn>=0.10.1 in /usr/local/lib/python3.6/dist-packages (from pandas-profiling==2.9.0) (0.11.0)\n",
            "Requirement already satisfied: python-dateutil>=2.7.3 in /usr/local/lib/python3.6/dist-packages (from pandas!=1.0.0,!=1.0.1,!=1.0.2,!=1.1.0,>=0.25.3->pandas-profiling==2.9.0) (2.8.1)\n",
            "Requirement already satisfied: pytz>=2017.2 in /usr/local/lib/python3.6/dist-packages (from pandas!=1.0.0,!=1.0.1,!=1.0.2,!=1.1.0,>=0.25.3->pandas-profiling==2.9.0) (2018.9)\n",
            "Requirement already satisfied: kiwisolver>=1.0.1 in /usr/local/lib/python3.6/dist-packages (from matplotlib>=3.2.0->pandas-profiling==2.9.0) (1.3.1)\n",
            "Requirement already satisfied: pyparsing!=2.0.4,!=2.1.2,!=2.1.6,>=2.0.1 in /usr/local/lib/python3.6/dist-packages (from matplotlib>=3.2.0->pandas-profiling==2.9.0) (2.4.7)\n",
            "Requirement already satisfied: cycler>=0.10 in /usr/local/lib/python3.6/dist-packages (from matplotlib>=3.2.0->pandas-profiling==2.9.0) (0.10.0)\n",
            "Requirement already satisfied: pyyaml in /usr/local/lib/python3.6/dist-packages (from confuse>=1.0.0->pandas-profiling==2.9.0) (3.13)\n",
            "Requirement already satisfied: MarkupSafe>=0.23 in /usr/local/lib/python3.6/dist-packages (from jinja2>=2.11.1->pandas-profiling==2.9.0) (1.1.1)\n",
            "Requirement already satisfied: networkx>=2.4 in /usr/local/lib/python3.6/dist-packages (from visions[type_image_path]==0.5.0->pandas-profiling==2.9.0) (2.5)\n",
            "Collecting imagehash; extra == \"type_image_path\"\n",
            "\u001b[?25l  Downloading https://files.pythonhosted.org/packages/1a/5d/cc81830be3c4705a46cdbca74439b67f1017881383ba0127c41c4cecb7b3/ImageHash-4.1.0.tar.gz (291kB)\n",
            "\u001b[K     |████████████████████████████████| 296kB 25.5MB/s \n",
            "\u001b[?25hRequirement already satisfied: Pillow; extra == \"type_image_path\" in /usr/local/lib/python3.6/dist-packages (from visions[type_image_path]==0.5.0->pandas-profiling==2.9.0) (7.0.0)\n",
            "Requirement already satisfied: numba>=0.38.1 in /usr/local/lib/python3.6/dist-packages (from phik>=0.9.10->pandas-profiling==2.9.0) (0.48.0)\n",
            "Requirement already satisfied: chardet<4,>=3.0.2 in /usr/local/lib/python3.6/dist-packages (from requests>=2.23.0->pandas-profiling==2.9.0) (3.0.4)\n",
            "Requirement already satisfied: idna<3,>=2.5 in /usr/local/lib/python3.6/dist-packages (from requests>=2.23.0->pandas-profiling==2.9.0) (2.10)\n",
            "Requirement already satisfied: urllib3!=1.25.0,!=1.25.1,<1.26,>=1.21.1 in /usr/local/lib/python3.6/dist-packages (from requests>=2.23.0->pandas-profiling==2.9.0) (1.24.3)\n",
            "Requirement already satisfied: certifi>=2017.4.17 in /usr/local/lib/python3.6/dist-packages (from requests>=2.23.0->pandas-profiling==2.9.0) (2020.6.20)\n",
            "Requirement already satisfied: widgetsnbextension~=3.5.0 in /usr/local/lib/python3.6/dist-packages (from ipywidgets>=7.5.1->pandas-profiling==2.9.0) (3.5.1)\n",
            "Requirement already satisfied: ipython>=4.0.0; python_version >= \"3.3\" in /usr/local/lib/python3.6/dist-packages (from ipywidgets>=7.5.1->pandas-profiling==2.9.0) (5.5.0)\n",
            "Requirement already satisfied: nbformat>=4.2.0 in /usr/local/lib/python3.6/dist-packages (from ipywidgets>=7.5.1->pandas-profiling==2.9.0) (5.0.8)\n",
            "Requirement already satisfied: ipykernel>=4.5.1 in /usr/local/lib/python3.6/dist-packages (from ipywidgets>=7.5.1->pandas-profiling==2.9.0) (4.10.1)\n",
            "Requirement already satisfied: traitlets>=4.3.1 in /usr/local/lib/python3.6/dist-packages (from ipywidgets>=7.5.1->pandas-profiling==2.9.0) (4.3.3)\n",
            "Requirement already satisfied: six>=1.5 in /usr/local/lib/python3.6/dist-packages (from python-dateutil>=2.7.3->pandas!=1.0.0,!=1.0.1,!=1.0.2,!=1.1.0,>=0.25.3->pandas-profiling==2.9.0) (1.15.0)\n",
            "Requirement already satisfied: decorator>=4.3.0 in /usr/local/lib/python3.6/dist-packages (from networkx>=2.4->visions[type_image_path]==0.5.0->pandas-profiling==2.9.0) (4.4.2)\n",
            "Requirement already satisfied: PyWavelets in /usr/local/lib/python3.6/dist-packages (from imagehash; extra == \"type_image_path\"->visions[type_image_path]==0.5.0->pandas-profiling==2.9.0) (1.1.1)\n",
            "Requirement already satisfied: setuptools in /usr/local/lib/python3.6/dist-packages (from numba>=0.38.1->phik>=0.9.10->pandas-profiling==2.9.0) (50.3.2)\n",
            "Requirement already satisfied: llvmlite<0.32.0,>=0.31.0dev0 in /usr/local/lib/python3.6/dist-packages (from numba>=0.38.1->phik>=0.9.10->pandas-profiling==2.9.0) (0.31.0)\n",
            "Requirement already satisfied: notebook>=4.4.1 in /usr/local/lib/python3.6/dist-packages (from widgetsnbextension~=3.5.0->ipywidgets>=7.5.1->pandas-profiling==2.9.0) (5.3.1)\n",
            "Requirement already satisfied: simplegeneric>0.8 in /usr/local/lib/python3.6/dist-packages (from ipython>=4.0.0; python_version >= \"3.3\"->ipywidgets>=7.5.1->pandas-profiling==2.9.0) (0.8.1)\n",
            "Requirement already satisfied: pygments in /usr/local/lib/python3.6/dist-packages (from ipython>=4.0.0; python_version >= \"3.3\"->ipywidgets>=7.5.1->pandas-profiling==2.9.0) (2.6.1)\n",
            "Requirement already satisfied: prompt-toolkit<2.0.0,>=1.0.4 in /usr/local/lib/python3.6/dist-packages (from ipython>=4.0.0; python_version >= \"3.3\"->ipywidgets>=7.5.1->pandas-profiling==2.9.0) (1.0.18)\n",
            "Requirement already satisfied: pexpect; sys_platform != \"win32\" in /usr/local/lib/python3.6/dist-packages (from ipython>=4.0.0; python_version >= \"3.3\"->ipywidgets>=7.5.1->pandas-profiling==2.9.0) (4.8.0)\n",
            "Requirement already satisfied: pickleshare in /usr/local/lib/python3.6/dist-packages (from ipython>=4.0.0; python_version >= \"3.3\"->ipywidgets>=7.5.1->pandas-profiling==2.9.0) (0.7.5)\n",
            "Requirement already satisfied: jsonschema!=2.5.0,>=2.4 in /usr/local/lib/python3.6/dist-packages (from nbformat>=4.2.0->ipywidgets>=7.5.1->pandas-profiling==2.9.0) (2.6.0)\n",
            "Requirement already satisfied: jupyter-core in /usr/local/lib/python3.6/dist-packages (from nbformat>=4.2.0->ipywidgets>=7.5.1->pandas-profiling==2.9.0) (4.6.3)\n",
            "Requirement already satisfied: ipython-genutils in /usr/local/lib/python3.6/dist-packages (from nbformat>=4.2.0->ipywidgets>=7.5.1->pandas-profiling==2.9.0) (0.2.0)\n",
            "Requirement already satisfied: tornado>=4.0 in /usr/local/lib/python3.6/dist-packages (from ipykernel>=4.5.1->ipywidgets>=7.5.1->pandas-profiling==2.9.0) (5.1.1)\n",
            "Requirement already satisfied: jupyter-client in /usr/local/lib/python3.6/dist-packages (from ipykernel>=4.5.1->ipywidgets>=7.5.1->pandas-profiling==2.9.0) (5.3.5)\n",
            "Requirement already satisfied: Send2Trash in /usr/local/lib/python3.6/dist-packages (from notebook>=4.4.1->widgetsnbextension~=3.5.0->ipywidgets>=7.5.1->pandas-profiling==2.9.0) (1.5.0)\n",
            "Requirement already satisfied: terminado>=0.8.1 in /usr/local/lib/python3.6/dist-packages (from notebook>=4.4.1->widgetsnbextension~=3.5.0->ipywidgets>=7.5.1->pandas-profiling==2.9.0) (0.9.1)\n",
            "Requirement already satisfied: nbconvert in /usr/local/lib/python3.6/dist-packages (from notebook>=4.4.1->widgetsnbextension~=3.5.0->ipywidgets>=7.5.1->pandas-profiling==2.9.0) (5.6.1)\n",
            "Requirement already satisfied: wcwidth in /usr/local/lib/python3.6/dist-packages (from prompt-toolkit<2.0.0,>=1.0.4->ipython>=4.0.0; python_version >= \"3.3\"->ipywidgets>=7.5.1->pandas-profiling==2.9.0) (0.2.5)\n",
            "Requirement already satisfied: ptyprocess>=0.5 in /usr/local/lib/python3.6/dist-packages (from pexpect; sys_platform != \"win32\"->ipython>=4.0.0; python_version >= \"3.3\"->ipywidgets>=7.5.1->pandas-profiling==2.9.0) (0.6.0)\n",
            "Requirement already satisfied: pyzmq>=13 in /usr/local/lib/python3.6/dist-packages (from jupyter-client->ipykernel>=4.5.1->ipywidgets>=7.5.1->pandas-profiling==2.9.0) (19.0.2)\n",
            "Requirement already satisfied: defusedxml in /usr/local/lib/python3.6/dist-packages (from nbconvert->notebook>=4.4.1->widgetsnbextension~=3.5.0->ipywidgets>=7.5.1->pandas-profiling==2.9.0) (0.6.0)\n",
            "Requirement already satisfied: bleach in /usr/local/lib/python3.6/dist-packages (from nbconvert->notebook>=4.4.1->widgetsnbextension~=3.5.0->ipywidgets>=7.5.1->pandas-profiling==2.9.0) (3.2.1)\n",
            "Requirement already satisfied: testpath in /usr/local/lib/python3.6/dist-packages (from nbconvert->notebook>=4.4.1->widgetsnbextension~=3.5.0->ipywidgets>=7.5.1->pandas-profiling==2.9.0) (0.4.4)\n",
            "Requirement already satisfied: pandocfilters>=1.4.1 in /usr/local/lib/python3.6/dist-packages (from nbconvert->notebook>=4.4.1->widgetsnbextension~=3.5.0->ipywidgets>=7.5.1->pandas-profiling==2.9.0) (1.4.3)\n",
            "Requirement already satisfied: mistune<2,>=0.8.1 in /usr/local/lib/python3.6/dist-packages (from nbconvert->notebook>=4.4.1->widgetsnbextension~=3.5.0->ipywidgets>=7.5.1->pandas-profiling==2.9.0) (0.8.4)\n",
            "Requirement already satisfied: entrypoints>=0.2.2 in /usr/local/lib/python3.6/dist-packages (from nbconvert->notebook>=4.4.1->widgetsnbextension~=3.5.0->ipywidgets>=7.5.1->pandas-profiling==2.9.0) (0.3)\n",
            "Requirement already satisfied: webencodings in /usr/local/lib/python3.6/dist-packages (from bleach->nbconvert->notebook>=4.4.1->widgetsnbextension~=3.5.0->ipywidgets>=7.5.1->pandas-profiling==2.9.0) (0.5.1)\n",
            "Requirement already satisfied: packaging in /usr/local/lib/python3.6/dist-packages (from bleach->nbconvert->notebook>=4.4.1->widgetsnbextension~=3.5.0->ipywidgets>=7.5.1->pandas-profiling==2.9.0) (20.4)\n",
            "Building wheels for collected packages: pandas-profiling, htmlmin, imagehash\n",
            "  Building wheel for pandas-profiling (setup.py) ... \u001b[?25l\u001b[?25hdone\n",
            "  Created wheel for pandas-profiling: filename=pandas_profiling-2.9.0-py2.py3-none-any.whl size=258952 sha256=5f16f0539ec7b2d1406fc40baae11f5e3c4d579de511c415c8d02e92b005ea40\n",
            "  Stored in directory: /tmp/pip-ephem-wheel-cache-w8te36tu/wheels/56/c2/dd/8d945b0443c35df7d5f62fa9e9ae105a2d8b286302b92e0109\n",
            "  Building wheel for htmlmin (setup.py) ... \u001b[?25l\u001b[?25hdone\n",
            "  Created wheel for htmlmin: filename=htmlmin-0.1.12-cp36-none-any.whl size=27085 sha256=9a5e20a52dbccb6093ab865067692477ef933c6805bd801728114575a6063e90\n",
            "  Stored in directory: /root/.cache/pip/wheels/43/07/ac/7c5a9d708d65247ac1f94066cf1db075540b85716c30255459\n",
            "  Building wheel for imagehash (setup.py) ... \u001b[?25l\u001b[?25hdone\n",
            "  Created wheel for imagehash: filename=ImageHash-4.1.0-py2.py3-none-any.whl size=291991 sha256=9b74d5c38af73bdd08764d8c5942e79a7cceeb49731365c12efb553cd771f7e9\n",
            "  Stored in directory: /root/.cache/pip/wheels/07/1c/dc/6831446f09feb8cc199ec73a0f2f0703253f6ae013a22f4be9\n",
            "Successfully built pandas-profiling htmlmin imagehash\n",
            "Installing collected packages: confuse, tangled-up-in-unicode, imagehash, visions, htmlmin, phik, tqdm, pandas-profiling\n",
            "  Found existing installation: tqdm 4.41.1\n",
            "    Uninstalling tqdm-4.41.1:\n",
            "      Successfully uninstalled tqdm-4.41.1\n",
            "  Found existing installation: pandas-profiling 1.4.1\n",
            "    Uninstalling pandas-profiling-1.4.1:\n",
            "      Successfully uninstalled pandas-profiling-1.4.1\n",
            "Successfully installed confuse-1.3.0 htmlmin-0.1.12 imagehash-4.1.0 pandas-profiling-2.9.0 phik-0.10.0 tangled-up-in-unicode-0.0.6 tqdm-4.51.0 visions-0.5.0\n"
          ],
          "name": "stdout"
        }
      ]
    },
    {
      "cell_type": "code",
      "metadata": {
        "id": "hKX_y4Fledj4",
        "colab": {
          "base_uri": "https://localhost:8080/"
        },
        "outputId": "1f244520-a38b-43fe-f239-385e3e1c192f"
      },
      "source": [
        "!wget https://www.dropbox.com/s/d0azrfwynya0xjb/train.csv?dl=0"
      ],
      "execution_count": null,
      "outputs": [
        {
          "output_type": "stream",
          "text": [
            "--2020-11-06 04:44:52--  https://www.dropbox.com/s/d0azrfwynya0xjb/train.csv?dl=0\n",
            "Resolving www.dropbox.com (www.dropbox.com)... 162.125.1.1, 2620:100:6016:1::a27d:101\n",
            "Connecting to www.dropbox.com (www.dropbox.com)|162.125.1.1|:443... connected.\n",
            "HTTP request sent, awaiting response... 301 Moved Permanently\n",
            "Location: /s/raw/d0azrfwynya0xjb/train.csv [following]\n",
            "--2020-11-06 04:44:52--  https://www.dropbox.com/s/raw/d0azrfwynya0xjb/train.csv\n",
            "Reusing existing connection to www.dropbox.com:443.\n",
            "HTTP request sent, awaiting response... 302 Found\n",
            "Location: https://uc94bc7d7ce68b46d32dbc3db3cd.dl.dropboxusercontent.com/cd/0/inline/BCqLbOw8f_-N_pJSB6XDBALtPlr0M1iuPuKzq4udThhwghTcW8LK9H2iLljiq43-09K_zT_ccBeV6ThZECZglc7_pVA8t2ateNiOtWneI32p9i01upfa20Y0v2wUlhSS124/file# [following]\n",
            "--2020-11-06 04:44:52--  https://uc94bc7d7ce68b46d32dbc3db3cd.dl.dropboxusercontent.com/cd/0/inline/BCqLbOw8f_-N_pJSB6XDBALtPlr0M1iuPuKzq4udThhwghTcW8LK9H2iLljiq43-09K_zT_ccBeV6ThZECZglc7_pVA8t2ateNiOtWneI32p9i01upfa20Y0v2wUlhSS124/file\n",
            "Resolving uc94bc7d7ce68b46d32dbc3db3cd.dl.dropboxusercontent.com (uc94bc7d7ce68b46d32dbc3db3cd.dl.dropboxusercontent.com)... 162.125.1.15, 2620:100:6016:15::a27d:10f\n",
            "Connecting to uc94bc7d7ce68b46d32dbc3db3cd.dl.dropboxusercontent.com (uc94bc7d7ce68b46d32dbc3db3cd.dl.dropboxusercontent.com)|162.125.1.15|:443... connected.\n",
            "HTTP request sent, awaiting response... 200 OK\n",
            "Length: 460676 (450K) [text/plain]\n",
            "Saving to: ‘train.csv?dl=0’\n",
            "\n",
            "train.csv?dl=0      100%[===================>] 449.88K  --.-KB/s    in 0.04s   \n",
            "\n",
            "2020-11-06 04:44:52 (11.6 MB/s) - ‘train.csv?dl=0’ saved [460676/460676]\n",
            "\n"
          ],
          "name": "stdout"
        }
      ]
    },
    {
      "cell_type": "code",
      "metadata": {
        "id": "YiCsysQTetAj"
      },
      "source": [
        "#importing basic libraries\n",
        "import numpy as np \n",
        "import pandas as pd \n",
        "from pandas_profiling import ProfileReport\n",
        "\n",
        "#import visualization libraries\n",
        "\n",
        "import plotly.express as px\n",
        "import seaborn as sns\n",
        "import matplotlib.pyplot as plt\n",
        "import scipy.stats as stats\n",
        "\n"
      ],
      "execution_count": null,
      "outputs": []
    },
    {
      "cell_type": "code",
      "metadata": {
        "id": "r0RKXXDvf2pP",
        "colab": {
          "base_uri": "https://localhost:8080/"
        },
        "outputId": "56965191-a5d1-46d6-a596-433ec2b17f1d"
      },
      "source": [
        "df = pd.read_csv(\"train.csv?dl=0\")\n",
        "\n",
        "df.shape"
      ],
      "execution_count": null,
      "outputs": [
        {
          "output_type": "execute_result",
          "data": {
            "text/plain": [
              "(1460, 81)"
            ]
          },
          "metadata": {
            "tags": []
          },
          "execution_count": 4
        }
      ]
    },
    {
      "cell_type": "code",
      "metadata": {
        "id": "S2EGo1GvgjYr",
        "colab": {
          "base_uri": "https://localhost:8080/",
          "height": 244
        },
        "outputId": "50410617-161a-4653-a2a6-cd1d2fb2e81a"
      },
      "source": [
        "df.head()"
      ],
      "execution_count": null,
      "outputs": [
        {
          "output_type": "execute_result",
          "data": {
            "text/html": [
              "<div>\n",
              "<style scoped>\n",
              "    .dataframe tbody tr th:only-of-type {\n",
              "        vertical-align: middle;\n",
              "    }\n",
              "\n",
              "    .dataframe tbody tr th {\n",
              "        vertical-align: top;\n",
              "    }\n",
              "\n",
              "    .dataframe thead th {\n",
              "        text-align: right;\n",
              "    }\n",
              "</style>\n",
              "<table border=\"1\" class=\"dataframe\">\n",
              "  <thead>\n",
              "    <tr style=\"text-align: right;\">\n",
              "      <th></th>\n",
              "      <th>Id</th>\n",
              "      <th>MSSubClass</th>\n",
              "      <th>MSZoning</th>\n",
              "      <th>LotFrontage</th>\n",
              "      <th>LotArea</th>\n",
              "      <th>Street</th>\n",
              "      <th>Alley</th>\n",
              "      <th>LotShape</th>\n",
              "      <th>LandContour</th>\n",
              "      <th>Utilities</th>\n",
              "      <th>LotConfig</th>\n",
              "      <th>LandSlope</th>\n",
              "      <th>Neighborhood</th>\n",
              "      <th>Condition1</th>\n",
              "      <th>Condition2</th>\n",
              "      <th>BldgType</th>\n",
              "      <th>HouseStyle</th>\n",
              "      <th>OverallQual</th>\n",
              "      <th>OverallCond</th>\n",
              "      <th>YearBuilt</th>\n",
              "      <th>YearRemodAdd</th>\n",
              "      <th>RoofStyle</th>\n",
              "      <th>RoofMatl</th>\n",
              "      <th>Exterior1st</th>\n",
              "      <th>Exterior2nd</th>\n",
              "      <th>MasVnrType</th>\n",
              "      <th>MasVnrArea</th>\n",
              "      <th>ExterQual</th>\n",
              "      <th>ExterCond</th>\n",
              "      <th>Foundation</th>\n",
              "      <th>BsmtQual</th>\n",
              "      <th>BsmtCond</th>\n",
              "      <th>BsmtExposure</th>\n",
              "      <th>BsmtFinType1</th>\n",
              "      <th>BsmtFinSF1</th>\n",
              "      <th>BsmtFinType2</th>\n",
              "      <th>BsmtFinSF2</th>\n",
              "      <th>BsmtUnfSF</th>\n",
              "      <th>TotalBsmtSF</th>\n",
              "      <th>Heating</th>\n",
              "      <th>...</th>\n",
              "      <th>CentralAir</th>\n",
              "      <th>Electrical</th>\n",
              "      <th>1stFlrSF</th>\n",
              "      <th>2ndFlrSF</th>\n",
              "      <th>LowQualFinSF</th>\n",
              "      <th>GrLivArea</th>\n",
              "      <th>BsmtFullBath</th>\n",
              "      <th>BsmtHalfBath</th>\n",
              "      <th>FullBath</th>\n",
              "      <th>HalfBath</th>\n",
              "      <th>BedroomAbvGr</th>\n",
              "      <th>KitchenAbvGr</th>\n",
              "      <th>KitchenQual</th>\n",
              "      <th>TotRmsAbvGrd</th>\n",
              "      <th>Functional</th>\n",
              "      <th>Fireplaces</th>\n",
              "      <th>FireplaceQu</th>\n",
              "      <th>GarageType</th>\n",
              "      <th>GarageYrBlt</th>\n",
              "      <th>GarageFinish</th>\n",
              "      <th>GarageCars</th>\n",
              "      <th>GarageArea</th>\n",
              "      <th>GarageQual</th>\n",
              "      <th>GarageCond</th>\n",
              "      <th>PavedDrive</th>\n",
              "      <th>WoodDeckSF</th>\n",
              "      <th>OpenPorchSF</th>\n",
              "      <th>EnclosedPorch</th>\n",
              "      <th>3SsnPorch</th>\n",
              "      <th>ScreenPorch</th>\n",
              "      <th>PoolArea</th>\n",
              "      <th>PoolQC</th>\n",
              "      <th>Fence</th>\n",
              "      <th>MiscFeature</th>\n",
              "      <th>MiscVal</th>\n",
              "      <th>MoSold</th>\n",
              "      <th>YrSold</th>\n",
              "      <th>SaleType</th>\n",
              "      <th>SaleCondition</th>\n",
              "      <th>SalePrice</th>\n",
              "    </tr>\n",
              "  </thead>\n",
              "  <tbody>\n",
              "    <tr>\n",
              "      <th>0</th>\n",
              "      <td>1</td>\n",
              "      <td>60</td>\n",
              "      <td>RL</td>\n",
              "      <td>65.0</td>\n",
              "      <td>8450</td>\n",
              "      <td>Pave</td>\n",
              "      <td>NaN</td>\n",
              "      <td>Reg</td>\n",
              "      <td>Lvl</td>\n",
              "      <td>AllPub</td>\n",
              "      <td>Inside</td>\n",
              "      <td>Gtl</td>\n",
              "      <td>CollgCr</td>\n",
              "      <td>Norm</td>\n",
              "      <td>Norm</td>\n",
              "      <td>1Fam</td>\n",
              "      <td>2Story</td>\n",
              "      <td>7</td>\n",
              "      <td>5</td>\n",
              "      <td>2003</td>\n",
              "      <td>2003</td>\n",
              "      <td>Gable</td>\n",
              "      <td>CompShg</td>\n",
              "      <td>VinylSd</td>\n",
              "      <td>VinylSd</td>\n",
              "      <td>BrkFace</td>\n",
              "      <td>196.0</td>\n",
              "      <td>Gd</td>\n",
              "      <td>TA</td>\n",
              "      <td>PConc</td>\n",
              "      <td>Gd</td>\n",
              "      <td>TA</td>\n",
              "      <td>No</td>\n",
              "      <td>GLQ</td>\n",
              "      <td>706</td>\n",
              "      <td>Unf</td>\n",
              "      <td>0</td>\n",
              "      <td>150</td>\n",
              "      <td>856</td>\n",
              "      <td>GasA</td>\n",
              "      <td>...</td>\n",
              "      <td>Y</td>\n",
              "      <td>SBrkr</td>\n",
              "      <td>856</td>\n",
              "      <td>854</td>\n",
              "      <td>0</td>\n",
              "      <td>1710</td>\n",
              "      <td>1</td>\n",
              "      <td>0</td>\n",
              "      <td>2</td>\n",
              "      <td>1</td>\n",
              "      <td>3</td>\n",
              "      <td>1</td>\n",
              "      <td>Gd</td>\n",
              "      <td>8</td>\n",
              "      <td>Typ</td>\n",
              "      <td>0</td>\n",
              "      <td>NaN</td>\n",
              "      <td>Attchd</td>\n",
              "      <td>2003.0</td>\n",
              "      <td>RFn</td>\n",
              "      <td>2</td>\n",
              "      <td>548</td>\n",
              "      <td>TA</td>\n",
              "      <td>TA</td>\n",
              "      <td>Y</td>\n",
              "      <td>0</td>\n",
              "      <td>61</td>\n",
              "      <td>0</td>\n",
              "      <td>0</td>\n",
              "      <td>0</td>\n",
              "      <td>0</td>\n",
              "      <td>NaN</td>\n",
              "      <td>NaN</td>\n",
              "      <td>NaN</td>\n",
              "      <td>0</td>\n",
              "      <td>2</td>\n",
              "      <td>2008</td>\n",
              "      <td>WD</td>\n",
              "      <td>Normal</td>\n",
              "      <td>208500</td>\n",
              "    </tr>\n",
              "    <tr>\n",
              "      <th>1</th>\n",
              "      <td>2</td>\n",
              "      <td>20</td>\n",
              "      <td>RL</td>\n",
              "      <td>80.0</td>\n",
              "      <td>9600</td>\n",
              "      <td>Pave</td>\n",
              "      <td>NaN</td>\n",
              "      <td>Reg</td>\n",
              "      <td>Lvl</td>\n",
              "      <td>AllPub</td>\n",
              "      <td>FR2</td>\n",
              "      <td>Gtl</td>\n",
              "      <td>Veenker</td>\n",
              "      <td>Feedr</td>\n",
              "      <td>Norm</td>\n",
              "      <td>1Fam</td>\n",
              "      <td>1Story</td>\n",
              "      <td>6</td>\n",
              "      <td>8</td>\n",
              "      <td>1976</td>\n",
              "      <td>1976</td>\n",
              "      <td>Gable</td>\n",
              "      <td>CompShg</td>\n",
              "      <td>MetalSd</td>\n",
              "      <td>MetalSd</td>\n",
              "      <td>None</td>\n",
              "      <td>0.0</td>\n",
              "      <td>TA</td>\n",
              "      <td>TA</td>\n",
              "      <td>CBlock</td>\n",
              "      <td>Gd</td>\n",
              "      <td>TA</td>\n",
              "      <td>Gd</td>\n",
              "      <td>ALQ</td>\n",
              "      <td>978</td>\n",
              "      <td>Unf</td>\n",
              "      <td>0</td>\n",
              "      <td>284</td>\n",
              "      <td>1262</td>\n",
              "      <td>GasA</td>\n",
              "      <td>...</td>\n",
              "      <td>Y</td>\n",
              "      <td>SBrkr</td>\n",
              "      <td>1262</td>\n",
              "      <td>0</td>\n",
              "      <td>0</td>\n",
              "      <td>1262</td>\n",
              "      <td>0</td>\n",
              "      <td>1</td>\n",
              "      <td>2</td>\n",
              "      <td>0</td>\n",
              "      <td>3</td>\n",
              "      <td>1</td>\n",
              "      <td>TA</td>\n",
              "      <td>6</td>\n",
              "      <td>Typ</td>\n",
              "      <td>1</td>\n",
              "      <td>TA</td>\n",
              "      <td>Attchd</td>\n",
              "      <td>1976.0</td>\n",
              "      <td>RFn</td>\n",
              "      <td>2</td>\n",
              "      <td>460</td>\n",
              "      <td>TA</td>\n",
              "      <td>TA</td>\n",
              "      <td>Y</td>\n",
              "      <td>298</td>\n",
              "      <td>0</td>\n",
              "      <td>0</td>\n",
              "      <td>0</td>\n",
              "      <td>0</td>\n",
              "      <td>0</td>\n",
              "      <td>NaN</td>\n",
              "      <td>NaN</td>\n",
              "      <td>NaN</td>\n",
              "      <td>0</td>\n",
              "      <td>5</td>\n",
              "      <td>2007</td>\n",
              "      <td>WD</td>\n",
              "      <td>Normal</td>\n",
              "      <td>181500</td>\n",
              "    </tr>\n",
              "    <tr>\n",
              "      <th>2</th>\n",
              "      <td>3</td>\n",
              "      <td>60</td>\n",
              "      <td>RL</td>\n",
              "      <td>68.0</td>\n",
              "      <td>11250</td>\n",
              "      <td>Pave</td>\n",
              "      <td>NaN</td>\n",
              "      <td>IR1</td>\n",
              "      <td>Lvl</td>\n",
              "      <td>AllPub</td>\n",
              "      <td>Inside</td>\n",
              "      <td>Gtl</td>\n",
              "      <td>CollgCr</td>\n",
              "      <td>Norm</td>\n",
              "      <td>Norm</td>\n",
              "      <td>1Fam</td>\n",
              "      <td>2Story</td>\n",
              "      <td>7</td>\n",
              "      <td>5</td>\n",
              "      <td>2001</td>\n",
              "      <td>2002</td>\n",
              "      <td>Gable</td>\n",
              "      <td>CompShg</td>\n",
              "      <td>VinylSd</td>\n",
              "      <td>VinylSd</td>\n",
              "      <td>BrkFace</td>\n",
              "      <td>162.0</td>\n",
              "      <td>Gd</td>\n",
              "      <td>TA</td>\n",
              "      <td>PConc</td>\n",
              "      <td>Gd</td>\n",
              "      <td>TA</td>\n",
              "      <td>Mn</td>\n",
              "      <td>GLQ</td>\n",
              "      <td>486</td>\n",
              "      <td>Unf</td>\n",
              "      <td>0</td>\n",
              "      <td>434</td>\n",
              "      <td>920</td>\n",
              "      <td>GasA</td>\n",
              "      <td>...</td>\n",
              "      <td>Y</td>\n",
              "      <td>SBrkr</td>\n",
              "      <td>920</td>\n",
              "      <td>866</td>\n",
              "      <td>0</td>\n",
              "      <td>1786</td>\n",
              "      <td>1</td>\n",
              "      <td>0</td>\n",
              "      <td>2</td>\n",
              "      <td>1</td>\n",
              "      <td>3</td>\n",
              "      <td>1</td>\n",
              "      <td>Gd</td>\n",
              "      <td>6</td>\n",
              "      <td>Typ</td>\n",
              "      <td>1</td>\n",
              "      <td>TA</td>\n",
              "      <td>Attchd</td>\n",
              "      <td>2001.0</td>\n",
              "      <td>RFn</td>\n",
              "      <td>2</td>\n",
              "      <td>608</td>\n",
              "      <td>TA</td>\n",
              "      <td>TA</td>\n",
              "      <td>Y</td>\n",
              "      <td>0</td>\n",
              "      <td>42</td>\n",
              "      <td>0</td>\n",
              "      <td>0</td>\n",
              "      <td>0</td>\n",
              "      <td>0</td>\n",
              "      <td>NaN</td>\n",
              "      <td>NaN</td>\n",
              "      <td>NaN</td>\n",
              "      <td>0</td>\n",
              "      <td>9</td>\n",
              "      <td>2008</td>\n",
              "      <td>WD</td>\n",
              "      <td>Normal</td>\n",
              "      <td>223500</td>\n",
              "    </tr>\n",
              "    <tr>\n",
              "      <th>3</th>\n",
              "      <td>4</td>\n",
              "      <td>70</td>\n",
              "      <td>RL</td>\n",
              "      <td>60.0</td>\n",
              "      <td>9550</td>\n",
              "      <td>Pave</td>\n",
              "      <td>NaN</td>\n",
              "      <td>IR1</td>\n",
              "      <td>Lvl</td>\n",
              "      <td>AllPub</td>\n",
              "      <td>Corner</td>\n",
              "      <td>Gtl</td>\n",
              "      <td>Crawfor</td>\n",
              "      <td>Norm</td>\n",
              "      <td>Norm</td>\n",
              "      <td>1Fam</td>\n",
              "      <td>2Story</td>\n",
              "      <td>7</td>\n",
              "      <td>5</td>\n",
              "      <td>1915</td>\n",
              "      <td>1970</td>\n",
              "      <td>Gable</td>\n",
              "      <td>CompShg</td>\n",
              "      <td>Wd Sdng</td>\n",
              "      <td>Wd Shng</td>\n",
              "      <td>None</td>\n",
              "      <td>0.0</td>\n",
              "      <td>TA</td>\n",
              "      <td>TA</td>\n",
              "      <td>BrkTil</td>\n",
              "      <td>TA</td>\n",
              "      <td>Gd</td>\n",
              "      <td>No</td>\n",
              "      <td>ALQ</td>\n",
              "      <td>216</td>\n",
              "      <td>Unf</td>\n",
              "      <td>0</td>\n",
              "      <td>540</td>\n",
              "      <td>756</td>\n",
              "      <td>GasA</td>\n",
              "      <td>...</td>\n",
              "      <td>Y</td>\n",
              "      <td>SBrkr</td>\n",
              "      <td>961</td>\n",
              "      <td>756</td>\n",
              "      <td>0</td>\n",
              "      <td>1717</td>\n",
              "      <td>1</td>\n",
              "      <td>0</td>\n",
              "      <td>1</td>\n",
              "      <td>0</td>\n",
              "      <td>3</td>\n",
              "      <td>1</td>\n",
              "      <td>Gd</td>\n",
              "      <td>7</td>\n",
              "      <td>Typ</td>\n",
              "      <td>1</td>\n",
              "      <td>Gd</td>\n",
              "      <td>Detchd</td>\n",
              "      <td>1998.0</td>\n",
              "      <td>Unf</td>\n",
              "      <td>3</td>\n",
              "      <td>642</td>\n",
              "      <td>TA</td>\n",
              "      <td>TA</td>\n",
              "      <td>Y</td>\n",
              "      <td>0</td>\n",
              "      <td>35</td>\n",
              "      <td>272</td>\n",
              "      <td>0</td>\n",
              "      <td>0</td>\n",
              "      <td>0</td>\n",
              "      <td>NaN</td>\n",
              "      <td>NaN</td>\n",
              "      <td>NaN</td>\n",
              "      <td>0</td>\n",
              "      <td>2</td>\n",
              "      <td>2006</td>\n",
              "      <td>WD</td>\n",
              "      <td>Abnorml</td>\n",
              "      <td>140000</td>\n",
              "    </tr>\n",
              "    <tr>\n",
              "      <th>4</th>\n",
              "      <td>5</td>\n",
              "      <td>60</td>\n",
              "      <td>RL</td>\n",
              "      <td>84.0</td>\n",
              "      <td>14260</td>\n",
              "      <td>Pave</td>\n",
              "      <td>NaN</td>\n",
              "      <td>IR1</td>\n",
              "      <td>Lvl</td>\n",
              "      <td>AllPub</td>\n",
              "      <td>FR2</td>\n",
              "      <td>Gtl</td>\n",
              "      <td>NoRidge</td>\n",
              "      <td>Norm</td>\n",
              "      <td>Norm</td>\n",
              "      <td>1Fam</td>\n",
              "      <td>2Story</td>\n",
              "      <td>8</td>\n",
              "      <td>5</td>\n",
              "      <td>2000</td>\n",
              "      <td>2000</td>\n",
              "      <td>Gable</td>\n",
              "      <td>CompShg</td>\n",
              "      <td>VinylSd</td>\n",
              "      <td>VinylSd</td>\n",
              "      <td>BrkFace</td>\n",
              "      <td>350.0</td>\n",
              "      <td>Gd</td>\n",
              "      <td>TA</td>\n",
              "      <td>PConc</td>\n",
              "      <td>Gd</td>\n",
              "      <td>TA</td>\n",
              "      <td>Av</td>\n",
              "      <td>GLQ</td>\n",
              "      <td>655</td>\n",
              "      <td>Unf</td>\n",
              "      <td>0</td>\n",
              "      <td>490</td>\n",
              "      <td>1145</td>\n",
              "      <td>GasA</td>\n",
              "      <td>...</td>\n",
              "      <td>Y</td>\n",
              "      <td>SBrkr</td>\n",
              "      <td>1145</td>\n",
              "      <td>1053</td>\n",
              "      <td>0</td>\n",
              "      <td>2198</td>\n",
              "      <td>1</td>\n",
              "      <td>0</td>\n",
              "      <td>2</td>\n",
              "      <td>1</td>\n",
              "      <td>4</td>\n",
              "      <td>1</td>\n",
              "      <td>Gd</td>\n",
              "      <td>9</td>\n",
              "      <td>Typ</td>\n",
              "      <td>1</td>\n",
              "      <td>TA</td>\n",
              "      <td>Attchd</td>\n",
              "      <td>2000.0</td>\n",
              "      <td>RFn</td>\n",
              "      <td>3</td>\n",
              "      <td>836</td>\n",
              "      <td>TA</td>\n",
              "      <td>TA</td>\n",
              "      <td>Y</td>\n",
              "      <td>192</td>\n",
              "      <td>84</td>\n",
              "      <td>0</td>\n",
              "      <td>0</td>\n",
              "      <td>0</td>\n",
              "      <td>0</td>\n",
              "      <td>NaN</td>\n",
              "      <td>NaN</td>\n",
              "      <td>NaN</td>\n",
              "      <td>0</td>\n",
              "      <td>12</td>\n",
              "      <td>2008</td>\n",
              "      <td>WD</td>\n",
              "      <td>Normal</td>\n",
              "      <td>250000</td>\n",
              "    </tr>\n",
              "  </tbody>\n",
              "</table>\n",
              "<p>5 rows × 81 columns</p>\n",
              "</div>"
            ],
            "text/plain": [
              "   Id  MSSubClass MSZoning  ...  SaleType  SaleCondition SalePrice\n",
              "0   1          60       RL  ...        WD         Normal    208500\n",
              "1   2          20       RL  ...        WD         Normal    181500\n",
              "2   3          60       RL  ...        WD         Normal    223500\n",
              "3   4          70       RL  ...        WD        Abnorml    140000\n",
              "4   5          60       RL  ...        WD         Normal    250000\n",
              "\n",
              "[5 rows x 81 columns]"
            ]
          },
          "metadata": {
            "tags": []
          },
          "execution_count": 5
        }
      ]
    },
    {
      "cell_type": "code",
      "metadata": {
        "id": "lsxULxGgoDaJ",
        "colab": {
          "base_uri": "https://localhost:8080/",
          "height": 394
        },
        "outputId": "be86e606-bad3-4ab1-ec2f-6741c1b32c35"
      },
      "source": [
        "#sns.set_style('whitegrid') \n",
        "sns.distplot(df['SalePrice'],kde=True,  color ='red', bins = 25) \n",
        "\n"
      ],
      "execution_count": null,
      "outputs": [
        {
          "output_type": "stream",
          "text": [
            "/usr/local/lib/python3.6/dist-packages/seaborn/distributions.py:2551: FutureWarning:\n",
            "\n",
            "`distplot` is a deprecated function and will be removed in a future version. Please adapt your code to use either `displot` (a figure-level function with similar flexibility) or `histplot` (an axes-level function for histograms).\n",
            "\n"
          ],
          "name": "stderr"
        },
        {
          "output_type": "execute_result",
          "data": {
            "text/plain": [
              "<matplotlib.axes._subplots.AxesSubplot at 0x7f653a3400f0>"
            ]
          },
          "metadata": {
            "tags": []
          },
          "execution_count": 6
        },
        {
          "output_type": "display_data",
          "data": {
            "image/png": "[encoded data removed]",
            "text/plain": [
              "<Figure size 432x288 with 1 Axes>"
            ]
          },
          "metadata": {
            "tags": [],
            "needs_background": "light"
          }
        }
      ]
    },
    {
      "cell_type": "markdown",
      "metadata": {
        "id": "7panMHhljObb"
      },
      "source": [
        "Observations:-\n",
        "\n",
        "*  We can observe in above graph that the maximimum sold houses are fallen under the price range of 100000-200000.\n",
        "\n",
        "* We also observe that houses ranging from 500000-700000 were sold minimum."
      ]
    },
    {
      "cell_type": "code",
      "metadata": {
        "id": "TVFQLWwU6R3F",
        "colab": {
          "base_uri": "https://localhost:8080/",
          "height": 542
        },
        "outputId": "ccd832a5-750c-4eb5-e9db-afb4cda0c6cb"
      },
      "source": [
        "px.box(df, x=\"OverallQual\", y=\"SalePrice\")"
      ],
      "execution_count": null,
      "outputs": [
        {
          "output_type": "display_data",
          "data": {
            "text/html": [
              "<html>\n",
              "<head><meta charset=\"utf-8\" /></head>\n",
              "<body>\n",
              "    <div>\n",
              "            <script src=\"https://cdnjs.cloudflare.com/ajax/libs/mathjax/2.7.5/MathJax.js?config=TeX-AMS-MML_SVG\"></script><script type=\"text/javascript\">if (window.MathJax) {MathJax.Hub.Config({SVG: {font: \"STIX-Web\"}});}</script>\n",
              "                <script type=\"text/javascript\">window.PlotlyConfig = {MathJaxConfig: 'local'};</script>\n",
              "        <script src=\"https://cdn.plot.ly/plotly-latest.min.js\"></script>    \n",
              "            <div id=\"2c7304c0-a457-43c1-a230-cb2eaca9be8c\" class=\"plotly-graph-div\" style=\"height:525px; width:100%;\"></div>\n",
              "            <script type=\"text/javascript\">\n",
              "                \n",
              "                    window.PLOTLYENV=window.PLOTLYENV || {};\n",
              "                    \n",
              "                if (document.getElementById(\"2c7304c0-a457-43c1-a230-cb2eaca9be8c\")) {\n",
              "                    Plotly.newPlot(\n",
              "                        '2c7304c0-a457-43c1-a230-cb2eaca9be8c',\n",
              "                        [{\"alignmentgroup\": \"True\", \"hoverlabel\": {\"namelength\": 0}, \"hovertemplate\": \"OverallQual=%{x}<br>SalePrice=%{y}\", \"legendgroup\": \"\", \"marker\": {\"color\": \"#636efa\"}, \"name\": \"\", \"notched\": false, \"offsetgroup\": \"\", \"orientation\": \"v\", \"showlegend\": false, \"type\": \"box\", \"x\": [7, 6, 7, 7, 8, 5, 8, 7, 7, 5, 5, 9, 5, 7, 6, 7, 6, 4, 5, 5, 8, 7, 8, 5, 5, 8, 5, 8, 5, 4, 4, 5, 8, 5, 9, 8, 5, 5, 5, 4, 6, 5, 5, 5, 5, 9, 7, 8, 4, 5, 6, 6, 5, 9, 5, 6, 8, 7, 10, 5, 6, 5, 8, 7, 7, 8, 7, 7, 4, 7, 7, 4, 7, 5, 3, 4, 4, 5, 4, 5, 6, 6, 8, 5, 7, 8, 6, 6, 3, 4, 4, 5, 5, 6, 6, 6, 7, 4, 5, 4, 6, 6, 5, 7, 7, 8, 4, 5, 5, 6, 6, 7, 7, 6, 6, 6, 5, 5, 7, 6, 6, 4, 6, 6, 6, 6, 6, 5, 6, 5, 7, 6, 5, 8, 5, 7, 5, 7, 8, 6, 4, 7, 5, 7, 5, 6, 5, 7, 7, 5, 5, 8, 6, 6, 6, 6, 5, 8, 7, 7, 6, 9, 7, 4, 6, 5, 5, 8, 7, 8, 5, 6, 7, 6, 6, 6, 6, 5, 9, 5, 6, 7, 5, 7, 5, 10, 7, 5, 5, 8, 8, 7, 7, 7, 5, 6, 7, 8, 6, 8, 4, 6, 6, 6, 5, 7, 5, 4, 7, 6, 5, 6, 7, 5, 6, 5, 7, 4, 7, 7, 7, 6, 6, 4, 10, 5, 7, 6, 5, 7, 6, 8, 6, 5, 6, 6, 7, 7, 8, 6, 8, 5, 5, 6, 7, 7, 6, 6, 7, 6, 3, 8, 6, 6, 5, 7, 6, 7, 7, 5, 6, 8, 6, 5, 5, 6, 6, 5, 5, 6, 8, 7, 8, 6, 5, 7, 7, 4, 9, 7, 7, 6, 7, 8, 6, 7, 6, 4, 5, 6, 8, 5, 5, 7, 6, 6, 5, 7, 6, 6, 5, 8, 7, 5, 7, 8, 7, 6, 4, 9, 6, 6, 5, 7, 7, 7, 7, 8, 7, 7, 9, 8, 7, 3, 7, 5, 8, 6, 6, 5, 5, 5, 8, 7, 6, 5, 9, 7, 7, 6, 8, 4, 3, 9, 5, 6, 6, 6, 7, 9, 9, 7, 5, 6, 6, 6, 6, 5, 5, 8, 6, 5, 7, 6, 6, 5, 6, 6, 5, 5, 6, 4, 6, 5, 7, 1, 5, 8, 9, 6, 5, 7, 7, 6, 6, 8, 5, 6, 7, 10, 5, 6, 5, 4, 5, 5, 5, 5, 5, 7, 8, 7, 5, 8, 6, 4, 6, 6, 7, 8, 5, 5, 7, 5, 7, 7, 6, 6, 5, 5, 7, 6, 5, 8, 6, 7, 7, 4, 7, 6, 6, 6, 5, 6, 4, 7, 6, 6, 5, 6, 10, 4, 5, 7, 7, 6, 6, 7, 6, 3, 6, 7, 6, 8, 5, 7, 5, 4, 8, 5, 8, 7, 5, 6, 5, 7, 7, 5, 8, 6, 8, 7, 6, 8, 8, 5, 6, 9, 8, 4, 9, 9, 7, 6, 5, 5, 5, 5, 5, 4, 5, 6, 6, 5, 5, 4, 8, 7, 5, 5, 6, 7, 5, 7, 6, 5, 8, 6, 7, 5, 5, 7, 5, 6, 5, 10, 6, 7, 6, 7, 4, 6, 6, 10, 7, 7, 5, 9, 4, 6, 6, 6, 5, 1, 8, 5, 7, 4, 5, 8, 9, 8, 7, 7, 7, 7, 6, 5, 5, 7, 6, 5, 8, 4, 7, 5, 5, 4, 7, 7, 5, 5, 5, 6, 7, 6, 9, 7, 8, 5, 5, 6, 7, 7, 5, 5, 7, 5, 7, 5, 6, 8, 6, 10, 4, 8, 6, 5, 5, 5, 7, 10, 5, 6, 5, 8, 6, 7, 5, 6, 8, 6, 8, 7, 7, 7, 5, 5, 8, 4, 9, 6, 8, 5, 4, 6, 6, 6, 9, 8, 3, 6, 5, 6, 6, 6, 5, 6, 5, 6, 5, 8, 7, 5, 6, 6, 2, 5, 5, 8, 8, 7, 8, 5, 9, 6, 5, 6, 6, 4, 7, 4, 7, 6, 8, 6, 5, 7, 6, 5, 7, 8, 6, 4, 8, 8, 6, 6, 5, 4, 6, 6, 6, 6, 6, 6, 4, 5, 8, 5, 6, 5, 6, 9, 7, 7, 7, 7, 8, 6, 6, 10, 7, 5, 5, 6, 5, 5, 5, 7, 8, 7, 8, 5, 7, 4, 7, 8, 7, 5, 3, 4, 8, 4, 6, 6, 7, 5, 7, 5, 8, 6, 4, 4, 9, 4, 6, 7, 5, 4, 8, 7, 7, 5, 5, 7, 3, 8, 5, 7, 5, 6, 7, 5, 8, 8, 7, 7, 7, 4, 4, 7, 6, 8, 6, 6, 8, 6, 7, 8, 6, 5, 7, 8, 8, 9, 7, 6, 7, 8, 5, 4, 6, 5, 8, 6, 7, 5, 5, 6, 7, 6, 7, 5, 6, 6, 5, 7, 4, 6, 7, 6, 7, 8, 7, 6, 6, 5, 9, 5, 6, 4, 7, 9, 5, 7, 5, 5, 5, 5, 6, 6, 5, 6, 5, 7, 5, 8, 6, 7, 7, 4, 7, 6, 8, 10, 5, 7, 5, 7, 6, 7, 7, 6, 5, 4, 5, 6, 5, 5, 6, 5, 6, 5, 5, 5, 7, 5, 6, 6, 6, 8, 7, 6, 5, 5, 6, 6, 7, 6, 7, 5, 6, 5, 7, 5, 8, 4, 5, 7, 5, 6, 5, 5, 5, 8, 4, 9, 5, 5, 5, 7, 6, 4, 5, 9, 5, 5, 8, 6, 5, 6, 6, 5, 5, 6, 4, 5, 9, 5, 4, 5, 7, 7, 5, 5, 8, 7, 5, 6, 5, 5, 5, 5, 6, 4, 2, 4, 7, 6, 6, 5, 6, 6, 6, 5, 8, 7, 8, 7, 8, 5, 9, 7, 7, 4, 7, 7, 7, 7, 6, 7, 4, 5, 6, 5, 5, 8, 7, 6, 5, 5, 5, 5, 6, 6, 6, 5, 7, 7, 5, 6, 6, 9, 7, 6, 5, 5, 3, 6, 4, 7, 6, 7, 7, 7, 4, 7, 4, 5, 7, 8, 7, 8, 5, 5, 6, 9, 6, 7, 8, 8, 6, 6, 10, 4, 5, 6, 3, 7, 3, 5, 8, 5, 7, 5, 6, 4, 7, 5, 5, 5, 6, 5, 6, 8, 7, 8, 7, 7, 4, 7, 5, 7, 8, 5, 5, 8, 5, 6, 5, 7, 8, 7, 5, 4, 9, 8, 4, 4, 5, 6, 6, 7, 8, 3, 9, 5, 5, 4, 7, 7, 6, 5, 8, 6, 7, 7, 9, 6, 8, 3, 5, 6, 5, 7, 6, 6, 6, 5, 5, 6, 5, 6, 7, 7, 5, 5, 6, 5, 6, 5, 7, 6, 6, 6, 4, 8, 7, 8, 3, 7, 6, 5, 5, 6, 6, 8, 4, 7, 2, 5, 5, 6, 5, 8, 7, 7, 6, 8, 6, 7, 5, 5, 5, 8, 8, 5, 5, 5, 6, 7, 4, 5, 7, 4, 7, 7, 7, 5, 4, 5, 6, 8, 6, 6, 6, 5, 6, 5, 5, 5, 8, 5, 4, 5, 6, 7, 7, 7, 6, 5, 6, 6, 7, 5, 5, 7, 8, 6, 6, 6, 5, 4, 5, 7, 8, 6, 6, 10, 6, 6, 7, 5, 6, 8, 5, 6, 5, 5, 7, 8, 10, 5, 5, 5, 3, 8, 7, 7, 4, 8, 5, 6, 6, 6, 7, 7, 7, 4, 4, 7, 5, 7, 5, 7, 4, 6, 5, 8, 6, 8, 4, 4, 5, 5, 6, 8, 4, 6, 5, 5, 6, 5, 7, 6, 6, 5, 9, 5, 5, 5, 4, 5, 5, 5, 7, 7, 6, 8, 7, 7, 7, 10, 8, 6, 7, 6, 6, 5, 7, 7, 5, 7, 7, 6, 8, 5, 7, 6, 6, 5, 4, 6, 6, 7, 7, 9, 8, 5, 7, 6, 5, 6, 5, 5, 6, 6, 8, 4, 7, 7, 5, 6, 6, 6, 6, 5, 8, 8, 5, 5, 5, 7, 5, 5, 5, 6, 10, 5, 7, 6, 8, 7, 7, 9, 7, 5, 5, 6, 7, 7, 8, 9, 4, 6, 8, 7, 8, 4, 6, 3, 7, 4, 8, 4, 3, 5, 6, 7, 8, 5, 4, 5, 5, 6, 5, 4, 7, 5, 4, 6, 8, 6, 7, 4, 7, 8, 7, 8, 5, 6, 6, 8, 7, 7, 5, 5, 6, 9, 5, 7, 4, 6, 7, 7, 7, 5, 6, 8, 4, 6, 7, 10, 7, 8, 6, 5, 6, 5, 3, 6, 7, 5, 6, 4, 7, 6, 9, 6, 7, 5, 5, 6, 7, 8, 5, 5, 5, 6, 6, 6, 7, 8, 3, 8, 5, 5, 4, 7, 7, 6, 4, 8, 6, 7, 4, 8, 5, 6, 6, 6, 6, 6, 5, 6, 7, 5, 5, 6, 5, 6, 4, 6, 5, 6, 4, 8, 6, 7, 6, 6, 10, 6, 7, 6, 5, 8, 4, 5, 5, 8, 5, 5, 7, 6, 6, 7, 5, 5], \"x0\": \" \", \"xaxis\": \"x\", \"y\": [208500, 181500, 223500, 140000, 250000, 143000, 307000, 200000, 129900, 118000, 129500, 345000, 144000, 279500, 157000, 132000, 149000, 90000, 159000, 139000, 325300, 139400, 230000, 129900, 154000, 256300, 134800, 306000, 207500, 68500, 40000, 149350, 179900, 165500, 277500, 309000, 145000, 153000, 109000, 82000, 160000, 170000, 144000, 130250, 141000, 319900, 239686, 249700, 113000, 127000, 177000, 114500, 110000, 385000, 130000, 180500, 172500, 196500, 438780, 124900, 158000, 101000, 202500, 140000, 219500, 317000, 180000, 226000, 80000, 225000, 244000, 129500, 185000, 144900, 107400, 91000, 135750, 127000, 136500, 110000, 193500, 153500, 245000, 126500, 168500, 260000, 174000, 164500, 85000, 123600, 109900, 98600, 163500, 133900, 204750, 185000, 214000, 94750, 83000, 128950, 205000, 178000, 118964, 198900, 169500, 250000, 100000, 115000, 115000, 190000, 136900, 180000, 383970, 217000, 259500, 176000, 139000, 155000, 320000, 163990, 180000, 100000, 136000, 153900, 181000, 84500, 128000, 87000, 155000, 150000, 226000, 244000, 150750, 220000, 180000, 174000, 143000, 171000, 230000, 231500, 115000, 260000, 166000, 204000, 125000, 130000, 105000, 222500, 141000, 115000, 122000, 372402, 190000, 235000, 125000, 79000, 109500, 269500, 254900, 320000, 162500, 412500, 220000, 103200, 152000, 127500, 190000, 325624, 183500, 228000, 128500, 215000, 239000, 163000, 184000, 243000, 211000, 172500, 501837, 100000, 177000, 200100, 120000, 200000, 127000, 475000, 173000, 135000, 153337, 286000, 315000, 184000, 192000, 130000, 127000, 148500, 311872, 235000, 104000, 274900, 140000, 171500, 112000, 149000, 110000, 180500, 143900, 141000, 277000, 145000, 98000, 186000, 252678, 156000, 161750, 134450, 210000, 107000, 311500, 167240, 204900, 200000, 179900, 97000, 386250, 112000, 290000, 106000, 125000, 192500, 148000, 403000, 94500, 128200, 216500, 89500, 185500, 194500, 318000, 113000, 262500, 110500, 79000, 120000, 205000, 241500, 137000, 140000, 180000, 277000, 76500, 235000, 173000, 158000, 145000, 230000, 207500, 220000, 231500, 97000, 176000, 276000, 151000, 130000, 73000, 175500, 185000, 179500, 120500, 148000, 266000, 241500, 290000, 139000, 124500, 205000, 201000, 141000, 415298, 192000, 228500, 185000, 207500, 244600, 179200, 164700, 159000, 88000, 122000, 153575, 233230, 135900, 131000, 235000, 167000, 142500, 152000, 239000, 175000, 158500, 157000, 267000, 205000, 149900, 295000, 305900, 225000, 89500, 82500, 360000, 165600, 132000, 119900, 375000, 178000, 188500, 260000, 270000, 260000, 187500, 342643, 354000, 301000, 126175, 242000, 87000, 324000, 145250, 214500, 78000, 119000, 139000, 284000, 207000, 192000, 228950, 377426, 214000, 202500, 155000, 202900, 82000, 87500, 266000, 85000, 140200, 151500, 157500, 154000, 437154, 318061, 190000, 95000, 105900, 140000, 177500, 173000, 134000, 130000, 280000, 156000, 145000, 198500, 118000, 190000, 147000, 159000, 165000, 132000, 162000, 172400, 134432, 125000, 123000, 219500, 61000, 148000, 340000, 394432, 179000, 127000, 187750, 213500, 76000, 240000, 192000, 81000, 125000, 191000, 426000, 119000, 215000, 106500, 100000, 109000, 129000, 123000, 169500, 67000, 241000, 245500, 164990, 108000, 258000, 168000, 150000, 115000, 177000, 280000, 339750, 60000, 145000, 222000, 115000, 228000, 181134, 149500, 239000, 126000, 142000, 206300, 215000, 113000, 315000, 139000, 135000, 275000, 109008, 195400, 175000, 85400, 79900, 122500, 181000, 81000, 212000, 116000, 119000, 90350, 110000, 555000, 118000, 162900, 172500, 210000, 127500, 190000, 199900, 119500, 120000, 110000, 280000, 204000, 210000, 188000, 175500, 98000, 256000, 161000, 110000, 263435, 155000, 62383, 188700, 124000, 178740, 167000, 146500, 250000, 187000, 212000, 190000, 148000, 440000, 251000, 132500, 208900, 380000, 297000, 89471, 326000, 374000, 155000, 164000, 132500, 147000, 156000, 175000, 160000, 86000, 115000, 133000, 172785, 155000, 91300, 34900, 430000, 184000, 130000, 120000, 113000, 226700, 140000, 289000, 147000, 124500, 215000, 208300, 161000, 124500, 164900, 202665, 129900, 134000, 96500, 402861, 158000, 265000, 211000, 234000, 106250, 150000, 159000, 184750, 315750, 176000, 132000, 446261, 86000, 200624, 175000, 128000, 107500, 39300, 178000, 107500, 188000, 111250, 158000, 272000, 315000, 248000, 213250, 133000, 179665, 229000, 210000, 129500, 125000, 263000, 140000, 112500, 255500, 108000, 284000, 113000, 141000, 108000, 175000, 234000, 121500, 170000, 108000, 185000, 268000, 128000, 325000, 214000, 316600, 135960, 142600, 120000, 224500, 170000, 139000, 118500, 145000, 164500, 146000, 131500, 181900, 253293, 118500, 325000, 133000, 369900, 130000, 137000, 143000, 79500, 185900, 451950, 138000, 140000, 110000, 319000, 114504, 194201, 217500, 151000, 275000, 141000, 220000, 151000, 221000, 205000, 152000, 225000, 359100, 118500, 313000, 148000, 261500, 147000, 75500, 137500, 183200, 105500, 314813, 305000, 67000, 240000, 135000, 168500, 165150, 160000, 139900, 153000, 135000, 168500, 124000, 209500, 82500, 139400, 144000, 200000, 60000, 93000, 85000, 264561, 274000, 226000, 345000, 152000, 370878, 143250, 98300, 155000, 155000, 84500, 205950, 108000, 191000, 135000, 350000, 88000, 145500, 149000, 97500, 167000, 197900, 402000, 110000, 137500, 423000, 230500, 129000, 193500, 168000, 137500, 173500, 103600, 165000, 257500, 140000, 148500, 87000, 109500, 372500, 128500, 143000, 159434, 173000, 285000, 221000, 207500, 227875, 148800, 392000, 194700, 141000, 755000, 335000, 108480, 141500, 176000, 89000, 123500, 138500, 196000, 312500, 140000, 361919, 140000, 213000, 55000, 302000, 254000, 179540, 109900, 52000, 102776, 189000, 129000, 130500, 165000, 159500, 157000, 341000, 128500, 275000, 143000, 124500, 135000, 320000, 120500, 222000, 194500, 110000, 103000, 236500, 187500, 222500, 131400, 108000, 163000, 93500, 239900, 179000, 190000, 132000, 142000, 179000, 175000, 180000, 299800, 236000, 265979, 260400, 98000, 96500, 162000, 217000, 275500, 156000, 172500, 212000, 158900, 179400, 290000, 127500, 100000, 215200, 337000, 270000, 264132, 196500, 160000, 216837, 538000, 134900, 102000, 107000, 114500, 395000, 162000, 221500, 142500, 144000, 135000, 176000, 175900, 187100, 165500, 128000, 161500, 139000, 233000, 107900, 187500, 160200, 146800, 269790, 225000, 194500, 171000, 143500, 110000, 485000, 175000, 200000, 109900, 189000, 582933, 118000, 227680, 135500, 223500, 159950, 106000, 181000, 144500, 55993, 157900, 116000, 224900, 137000, 271000, 155000, 224000, 183000, 93000, 225000, 139500, 232600, 385000, 109500, 189000, 185000, 147400, 166000, 151000, 237000, 167000, 139950, 128000, 153500, 100000, 144000, 130500, 140000, 157500, 174900, 141000, 153900, 171000, 213000, 133500, 240000, 187000, 131500, 215000, 164000, 158000, 170000, 127000, 147000, 174000, 152000, 250000, 189950, 131500, 152000, 132500, 250580, 148500, 248900, 129000, 169000, 236000, 109500, 200500, 116000, 133000, 66500, 303477, 132250, 350000, 148000, 136500, 157000, 187500, 178000, 118500, 100000, 328900, 145000, 135500, 268000, 149500, 122900, 172500, 154500, 165000, 118858, 140000, 106500, 142953, 611657, 135000, 110000, 153000, 180000, 240000, 125500, 128000, 255000, 250000, 131000, 174000, 154300, 143500, 88000, 145000, 173733, 75000, 35311, 135000, 238000, 176500, 201000, 145900, 169990, 193000, 207500, 175000, 285000, 176000, 236500, 222000, 201000, 117500, 320000, 190000, 242000, 79900, 184900, 253000, 239799, 244400, 150900, 214000, 150000, 143000, 137500, 124900, 143000, 270000, 192500, 197500, 129000, 119900, 133900, 172000, 127500, 145000, 124000, 132000, 185000, 155000, 116500, 272000, 155000, 239000, 214900, 178900, 160000, 135000, 37900, 140000, 135000, 173000, 99500, 182000, 167500, 165000, 85500, 199900, 110000, 139000, 178400, 336000, 159895, 255900, 126000, 125000, 117000, 395192, 195000, 197000, 348000, 168000, 187000, 173900, 337500, 121600, 136500, 185000, 91000, 206000, 82000, 86000, 232000, 136905, 181000, 149900, 163500, 88000, 240000, 102000, 135000, 100000, 165000, 85000, 119200, 227000, 203000, 187500, 160000, 213490, 176000, 194000, 87000, 191000, 287000, 112500, 167500, 293077, 105000, 118000, 160000, 197000, 310000, 230000, 119750, 84000, 315500, 287000, 97000, 80000, 155000, 173000, 196000, 262280, 278000, 139600, 556581, 145000, 115000, 84900, 176485, 200141, 165000, 144500, 255000, 180000, 185850, 248000, 335000, 220000, 213500, 81000, 90000, 110500, 154000, 328000, 178000, 167900, 151400, 135000, 135000, 154000, 91500, 159500, 194000, 219500, 170000, 138800, 155900, 126000, 145000, 133000, 192000, 160000, 187500, 147000, 83500, 252000, 137500, 197000, 92900, 160000, 136500, 146000, 129000, 176432, 127000, 170000, 128000, 157000, 60000, 119500, 135000, 159500, 106000, 325000, 179900, 274725, 181000, 280000, 188000, 205000, 129900, 134500, 117000, 318000, 184100, 130000, 140000, 133700, 118400, 212900, 112000, 118000, 163900, 115000, 174000, 259000, 215000, 140000, 135000, 93500, 117500, 239500, 169000, 102000, 119000, 94000, 196000, 144000, 139000, 197500, 424870, 80000, 80000, 149000, 180000, 174500, 116900, 143000, 124000, 149900, 230000, 120500, 201800, 218000, 179900, 230000, 235128, 185000, 146000, 224000, 129000, 108959, 194000, 233170, 245350, 173000, 235000, 625000, 171000, 163000, 171900, 200500, 239000, 285000, 119500, 115000, 154900, 93000, 250000, 392500, 745000, 120000, 186700, 104900, 95000, 262000, 195000, 189000, 168000, 174000, 125000, 165000, 158000, 176000, 219210, 144000, 178000, 148000, 116050, 197900, 117000, 213000, 153500, 271900, 107000, 200000, 140000, 290000, 189000, 164000, 113000, 145000, 134500, 125000, 112000, 229456, 80500, 91500, 115000, 134000, 143000, 137900, 184000, 145000, 214000, 147000, 367294, 127000, 190000, 132500, 101800, 142000, 130000, 138887, 175500, 195000, 142500, 265900, 224900, 248328, 170000, 465000, 230000, 178000, 186500, 169900, 129500, 119000, 244000, 171750, 130000, 294000, 165400, 127500, 301500, 99900, 190000, 151000, 181000, 128900, 161500, 180500, 181000, 183900, 122000, 378500, 381000, 144000, 260000, 185750, 137000, 177000, 139000, 137000, 162000, 197900, 237000, 68400, 227000, 180000, 150500, 139000, 169000, 132500, 143000, 190000, 278000, 281000, 180500, 119500, 107500, 162900, 115000, 138500, 155000, 140000, 160000, 154000, 225000, 177500, 290000, 232000, 130000, 325000, 202500, 138000, 147000, 179200, 335000, 203000, 302000, 333168, 119000, 206900, 295493, 208900, 275000, 111000, 156500, 72500, 190000, 82500, 147000, 55000, 79000, 130500, 256000, 176500, 227000, 132500, 100000, 125500, 125000, 167900, 135000, 52500, 200000, 128500, 123000, 155000, 228500, 177000, 155835, 108500, 262500, 283463, 215000, 122000, 200000, 171000, 134900, 410000, 235000, 170000, 110000, 149900, 177500, 315000, 189000, 260000, 104900, 156932, 144152, 216000, 193000, 127000, 144000, 232000, 105000, 165500, 274300, 466500, 250000, 239000, 91000, 117000, 83000, 167500, 58500, 237500, 157000, 112000, 105000, 125500, 250000, 136000, 377500, 131000, 235000, 124000, 123000, 163000, 246578, 281213, 160000, 137500, 138000, 137450, 120000, 193000, 193879, 282922, 105000, 275000, 133000, 112000, 125500, 215000, 230000, 140000, 90000, 257000, 207000, 175900, 122500, 340000, 124000, 223000, 179900, 127500, 136500, 274970, 144000, 142000, 271000, 140000, 119000, 182900, 192140, 143750, 64500, 186500, 160000, 174000, 120500, 394617, 149700, 197000, 191000, 149300, 310000, 121000, 179600, 129000, 157900, 240000, 112000, 92000, 136000, 287090, 145000, 84500, 185000, 175000, 210000, 266500, 142125, 147500], \"y0\": \" \", \"yaxis\": \"y\"}],\n",
              "                        {\"boxmode\": \"group\", \"legend\": {\"tracegroupgap\": 0}, \"margin\": {\"t\": 60}, \"template\": {\"data\": {\"bar\": [{\"error_x\": {\"color\": \"#2a3f5f\"}, \"error_y\": {\"color\": \"#2a3f5f\"}, \"marker\": {\"line\": {\"color\": \"#E5ECF6\", \"width\": 0.5}}, \"type\": \"bar\"}], \"barpolar\": [{\"marker\": {\"line\": {\"color\": \"#E5ECF6\", \"width\": 0.5}}, \"type\": \"barpolar\"}], \"carpet\": [{\"aaxis\": {\"endlinecolor\": \"#2a3f5f\", \"gridcolor\": \"white\", \"linecolor\": \"white\", \"minorgridcolor\": \"white\", \"startlinecolor\": \"#2a3f5f\"}, \"baxis\": {\"endlinecolor\": \"#2a3f5f\", \"gridcolor\": \"white\", \"linecolor\": \"white\", \"minorgridcolor\": \"white\", \"startlinecolor\": \"#2a3f5f\"}, \"type\": \"carpet\"}], \"choropleth\": [{\"colorbar\": {\"outlinewidth\": 0, \"ticks\": \"\"}, \"type\": \"choropleth\"}], \"contour\": [{\"colorbar\": {\"outlinewidth\": 0, \"ticks\": \"\"}, \"colorscale\": [[0.0, \"#0d0887\"], [0.1111111111111111, \"#46039f\"], [0.2222222222222222, \"#7201a8\"], [0.3333333333333333, \"#9c179e\"], [0.4444444444444444, \"#bd3786\"], [0.5555555555555556, \"#d8576b\"], [0.6666666666666666, \"#ed7953\"], [0.7777777777777778, \"#fb9f3a\"], [0.8888888888888888, \"#fdca26\"], [1.0, \"#f0f921\"]], \"type\": \"contour\"}], \"contourcarpet\": [{\"colorbar\": {\"outlinewidth\": 0, \"ticks\": \"\"}, \"type\": \"contourcarpet\"}], \"heatmap\": [{\"colorbar\": {\"outlinewidth\": 0, \"ticks\": \"\"}, \"colorscale\": [[0.0, \"#0d0887\"], [0.1111111111111111, \"#46039f\"], [0.2222222222222222, \"#7201a8\"], [0.3333333333333333, \"#9c179e\"], [0.4444444444444444, \"#bd3786\"], [0.5555555555555556, \"#d8576b\"], [0.6666666666666666, \"#ed7953\"], [0.7777777777777778, \"#fb9f3a\"], [0.8888888888888888, \"#fdca26\"], [1.0, \"#f0f921\"]], \"type\": \"heatmap\"}], \"heatmapgl\": [{\"colorbar\": {\"outlinewidth\": 0, \"ticks\": \"\"}, \"colorscale\": [[0.0, \"#0d0887\"], [0.1111111111111111, \"#46039f\"], [0.2222222222222222, \"#7201a8\"], [0.3333333333333333, \"#9c179e\"], [0.4444444444444444, \"#bd3786\"], [0.5555555555555556, \"#d8576b\"], [0.6666666666666666, \"#ed7953\"], [0.7777777777777778, \"#fb9f3a\"], [0.8888888888888888, \"#fdca26\"], [1.0, \"#f0f921\"]], \"type\": \"heatmapgl\"}], \"histogram\": [{\"marker\": {\"colorbar\": {\"outlinewidth\": 0, \"ticks\": \"\"}}, \"type\": \"histogram\"}], \"histogram2d\": [{\"colorbar\": {\"outlinewidth\": 0, \"ticks\": \"\"}, \"colorscale\": [[0.0, \"#0d0887\"], [0.1111111111111111, \"#46039f\"], [0.2222222222222222, \"#7201a8\"], [0.3333333333333333, \"#9c179e\"], [0.4444444444444444, \"#bd3786\"], [0.5555555555555556, \"#d8576b\"], [0.6666666666666666, \"#ed7953\"], [0.7777777777777778, \"#fb9f3a\"], [0.8888888888888888, \"#fdca26\"], [1.0, \"#f0f921\"]], \"type\": \"histogram2d\"}], \"histogram2dcontour\": [{\"colorbar\": {\"outlinewidth\": 0, \"ticks\": \"\"}, \"colorscale\": [[0.0, \"#0d0887\"], [0.1111111111111111, \"#46039f\"], [0.2222222222222222, \"#7201a8\"], [0.3333333333333333, \"#9c179e\"], [0.4444444444444444, \"#bd3786\"], [0.5555555555555556, \"#d8576b\"], [0.6666666666666666, \"#ed7953\"], [0.7777777777777778, \"#fb9f3a\"], [0.8888888888888888, \"#fdca26\"], [1.0, \"#f0f921\"]], \"type\": \"histogram2dcontour\"}], \"mesh3d\": [{\"colorbar\": {\"outlinewidth\": 0, \"ticks\": \"\"}, \"type\": \"mesh3d\"}], \"parcoords\": [{\"line\": {\"colorbar\": {\"outlinewidth\": 0, \"ticks\": \"\"}}, \"type\": \"parcoords\"}], \"pie\": [{\"automargin\": true, \"type\": \"pie\"}], \"scatter\": [{\"marker\": {\"colorbar\": {\"outlinewidth\": 0, \"ticks\": \"\"}}, \"type\": \"scatter\"}], \"scatter3d\": [{\"line\": {\"colorbar\": {\"outlinewidth\": 0, \"ticks\": \"\"}}, \"marker\": {\"colorbar\": {\"outlinewidth\": 0, \"ticks\": \"\"}}, \"type\": \"scatter3d\"}], \"scattercarpet\": [{\"marker\": {\"colorbar\": {\"outlinewidth\": 0, \"ticks\": \"\"}}, \"type\": \"scattercarpet\"}], \"scattergeo\": [{\"marker\": {\"colorbar\": {\"outlinewidth\": 0, \"ticks\": \"\"}}, \"type\": \"scattergeo\"}], \"scattergl\": [{\"marker\": {\"colorbar\": {\"outlinewidth\": 0, \"ticks\": \"\"}}, \"type\": \"scattergl\"}], \"scattermapbox\": [{\"marker\": {\"colorbar\": {\"outlinewidth\": 0, \"ticks\": \"\"}}, \"type\": \"scattermapbox\"}], \"scatterpolar\": [{\"marker\": {\"colorbar\": {\"outlinewidth\": 0, \"ticks\": \"\"}}, \"type\": \"scatterpolar\"}], \"scatterpolargl\": [{\"marker\": {\"colorbar\": {\"outlinewidth\": 0, \"ticks\": \"\"}}, \"type\": \"scatterpolargl\"}], \"scatterternary\": [{\"marker\": {\"colorbar\": {\"outlinewidth\": 0, \"ticks\": \"\"}}, \"type\": \"scatterternary\"}], \"surface\": [{\"colorbar\": {\"outlinewidth\": 0, \"ticks\": \"\"}, \"colorscale\": [[0.0, \"#0d0887\"], [0.1111111111111111, \"#46039f\"], [0.2222222222222222, \"#7201a8\"], [0.3333333333333333, \"#9c179e\"], [0.4444444444444444, \"#bd3786\"], [0.5555555555555556, \"#d8576b\"], [0.6666666666666666, \"#ed7953\"], [0.7777777777777778, \"#fb9f3a\"], [0.8888888888888888, \"#fdca26\"], [1.0, \"#f0f921\"]], \"type\": \"surface\"}], \"table\": [{\"cells\": {\"fill\": {\"color\": \"#EBF0F8\"}, \"line\": {\"color\": \"white\"}}, \"header\": {\"fill\": {\"color\": \"#C8D4E3\"}, \"line\": {\"color\": \"white\"}}, \"type\": \"table\"}]}, \"layout\": {\"annotationdefaults\": {\"arrowcolor\": \"#2a3f5f\", \"arrowhead\": 0, \"arrowwidth\": 1}, \"coloraxis\": {\"colorbar\": {\"outlinewidth\": 0, \"ticks\": \"\"}}, \"colorscale\": {\"diverging\": [[0, \"#8e0152\"], [0.1, \"#c51b7d\"], [0.2, \"#de77ae\"], [0.3, \"#f1b6da\"], [0.4, \"#fde0ef\"], [0.5, \"#f7f7f7\"], [0.6, \"#e6f5d0\"], [0.7, \"#b8e186\"], [0.8, \"#7fbc41\"], [0.9, \"#4d9221\"], [1, \"#276419\"]], \"sequential\": [[0.0, \"#0d0887\"], [0.1111111111111111, \"#46039f\"], [0.2222222222222222, \"#7201a8\"], [0.3333333333333333, \"#9c179e\"], [0.4444444444444444, \"#bd3786\"], [0.5555555555555556, \"#d8576b\"], [0.6666666666666666, \"#ed7953\"], [0.7777777777777778, \"#fb9f3a\"], [0.8888888888888888, \"#fdca26\"], [1.0, \"#f0f921\"]], \"sequentialminus\": [[0.0, \"#0d0887\"], [0.1111111111111111, \"#46039f\"], [0.2222222222222222, \"#7201a8\"], [0.3333333333333333, \"#9c179e\"], [0.4444444444444444, \"#bd3786\"], [0.5555555555555556, \"#d8576b\"], [0.6666666666666666, \"#ed7953\"], [0.7777777777777778, \"#fb9f3a\"], [0.8888888888888888, \"#fdca26\"], [1.0, \"#f0f921\"]]}, \"colorway\": [\"#636efa\", \"#EF553B\", \"#00cc96\", \"#ab63fa\", \"#FFA15A\", \"#19d3f3\", \"#FF6692\", \"#B6E880\", \"#FF97FF\", \"#FECB52\"], \"font\": {\"color\": \"#2a3f5f\"}, \"geo\": {\"bgcolor\": \"white\", \"lakecolor\": \"white\", \"landcolor\": \"#E5ECF6\", \"showlakes\": true, \"showland\": true, \"subunitcolor\": \"white\"}, \"hoverlabel\": {\"align\": \"left\"}, \"hovermode\": \"closest\", \"mapbox\": {\"style\": \"light\"}, \"paper_bgcolor\": \"white\", \"plot_bgcolor\": \"#E5ECF6\", \"polar\": {\"angularaxis\": {\"gridcolor\": \"white\", \"linecolor\": \"white\", \"ticks\": \"\"}, \"bgcolor\": \"#E5ECF6\", \"radialaxis\": {\"gridcolor\": \"white\", \"linecolor\": \"white\", \"ticks\": \"\"}}, \"scene\": {\"xaxis\": {\"backgroundcolor\": \"#E5ECF6\", \"gridcolor\": \"white\", \"gridwidth\": 2, \"linecolor\": \"white\", \"showbackground\": true, \"ticks\": \"\", \"zerolinecolor\": \"white\"}, \"yaxis\": {\"backgroundcolor\": \"#E5ECF6\", \"gridcolor\": \"white\", \"gridwidth\": 2, \"linecolor\": \"white\", \"showbackground\": true, \"ticks\": \"\", \"zerolinecolor\": \"white\"}, \"zaxis\": {\"backgroundcolor\": \"#E5ECF6\", \"gridcolor\": \"white\", \"gridwidth\": 2, \"linecolor\": \"white\", \"showbackground\": true, \"ticks\": \"\", \"zerolinecolor\": \"white\"}}, \"shapedefaults\": {\"line\": {\"color\": \"#2a3f5f\"}}, \"ternary\": {\"aaxis\": {\"gridcolor\": \"white\", \"linecolor\": \"white\", \"ticks\": \"\"}, \"baxis\": {\"gridcolor\": \"white\", \"linecolor\": \"white\", \"ticks\": \"\"}, \"bgcolor\": \"#E5ECF6\", \"caxis\": {\"gridcolor\": \"white\", \"linecolor\": \"white\", \"ticks\": \"\"}}, \"title\": {\"x\": 0.05}, \"xaxis\": {\"automargin\": true, \"gridcolor\": \"white\", \"linecolor\": \"white\", \"ticks\": \"\", \"title\": {\"standoff\": 15}, \"zerolinecolor\": \"white\", \"zerolinewidth\": 2}, \"yaxis\": {\"automargin\": true, \"gridcolor\": \"white\", \"linecolor\": \"white\", \"ticks\": \"\", \"title\": {\"standoff\": 15}, \"zerolinecolor\": \"white\", \"zerolinewidth\": 2}}}, \"xaxis\": {\"anchor\": \"y\", \"domain\": [0.0, 1.0], \"title\": {\"text\": \"OverallQual\"}}, \"yaxis\": {\"anchor\": \"x\", \"domain\": [0.0, 1.0], \"title\": {\"text\": \"SalePrice\"}}},\n",
              "                        {\"responsive\": true}\n",
              "                    ).then(function(){\n",
              "                            \n",
              "var gd = document.getElementById('2c7304c0-a457-43c1-a230-cb2eaca9be8c');\n",
              "var x = new MutationObserver(function (mutations, observer) {{\n",
              "        var display = window.getComputedStyle(gd).display;\n",
              "        if (!display || display === 'none') {{\n",
              "            console.log([gd, 'removed!']);\n",
              "            Plotly.purge(gd);\n",
              "            observer.disconnect();\n",
              "        }}\n",
              "}});\n",
              "\n",
              "// Listen for the removal of the full notebook cells\n",
              "var notebookContainer = gd.closest('#notebook-container');\n",
              "if (notebookContainer) {{\n",
              "    x.observe(notebookContainer, {childList: true});\n",
              "}}\n",
              "\n",
              "// Listen for the clearing of the current output cell\n",
              "var outputEl = gd.closest('.output');\n",
              "if (outputEl) {{\n",
              "    x.observe(outputEl, {childList: true});\n",
              "}}\n",
              "\n",
              "                        })\n",
              "                };\n",
              "                \n",
              "            </script>\n",
              "        </div>\n",
              "</body>\n",
              "</html>"
            ]
          },
          "metadata": {
            "tags": []
          }
        }
      ]
    },
    {
      "cell_type": "markdown",
      "metadata": {
        "id": "7yP8Lj4jrEuz"
      },
      "source": [
        "Observations:-\n",
        "\n",
        "* We can observe from above boxplot that houses having excellent material quality and finshing were sold at the maximum cost.\n",
        "\n",
        "*  We also observe that houses with very poor and poor quality were sold at minimum price range."
      ]
    },
    {
      "cell_type": "code",
      "metadata": {
        "id": "AH7CDJGH37sP"
      },
      "source": [
        "profile=ProfileReport(df)\n"
      ],
      "execution_count": null,
      "outputs": []
    },
    {
      "cell_type": "code",
      "metadata": {
        "id": "U4RzZm3egWYs",
        "colab": {
          "base_uri": "https://localhost:8080/",
          "height": 163,
          "referenced_widgets": [
            "7fbb8a97d0184d3eaf12933527854f94",
            "7ca76271cf1e4a09962bfdb83565c1f8",
            "33a41284715e4d10bc7035d275563695",
            "2364696ec2e64814902a429aeb9aa5f4",
            "f3748c8cca39432086eddd4a565909e9",
            "543ddf66e0cf4f499ba2b95746a2da9f",
            "fa2d9443041343c58304e323a53d9cc3",
            "efd10766f6ac4f85a37b41db4acd1be0",
            "05a9f3bdaf7b4d06bd480fd913a3a777",
            "514debef9eb8433baef579c4bb2b5568",
            "6b28e6edcfc24ae189ff71929a46d531",
            "7ae8974da8fc4e68800fd43af913c0d5",
            "2b376ed1d50d4afebc543fc0348bbcd0",
            "1d22409ff3af4bb0840fb37ae77d8e8d",
            "9e618c97fd124463845c3eb373b9883a",
            "8bc15a6346594c48975e502779fe91f5",
            "48f0b0388df64cfa964e60a1f3887894",
            "4295ef4538c84fd89271bce411966f5f",
            "09105981c1694859b0cd260b4d8247cc",
            "f7725a9fa8ed48d2bce9e1687f169bd8",
            "0308b5d1b97e4a0d82799d931740f761",
            "31a4ef4f1550463f87960715ce857f48",
            "ff7969f41ff74be2ac68b80e2ad012a2",
            "55ec42fa0051440e9ae512a22b90b097",
            "2ca375c366df4dc58be43b668df0743a",
            "ed9c8737375140c78c434140c5e3a262",
            "badc66e0c61a4ec0adba0a136d136ecc",
            "7f5dbf4cfa9c4d238d07ed1cb567b1d6",
            "c2fc0d4ce5c5437fbaffaf206f5e5d51",
            "a0051707141e4b8fa43172162998480c",
            "69856ea1f53742a3a4c68ea7b82b93cb",
            "20ee61f5bb864560b599d724559783ff",
            "05f15cb3d5d34e8da5b0812974280d96"
          ]
        },
        "outputId": "17c727a2-901d-462a-b93a-72f30d82d71a"
      },
      "source": [
        "profile"
      ],
      "execution_count": null,
      "outputs": [
        {
          "output_type": "display_data",
          "data": {
            "application/vnd.jupyter.widget-view+json": {
              "model_id": "7fbb8a97d0184d3eaf12933527854f94",
              "version_minor": 0,
              "version_major": 2
            },
            "text/plain": [
              "HBox(children=(HTML(value='Summarize dataset'), FloatProgress(value=0.0, max=95.0), HTML(value='')))"
            ]
          },
          "metadata": {
            "tags": []
          }
        },
        {
          "output_type": "stream",
          "text": [
            "\n"
          ],
          "name": "stdout"
        },
        {
          "output_type": "display_data",
          "data": {
            "application/vnd.jupyter.widget-view+json": {
              "model_id": "7ae8974da8fc4e68800fd43af913c0d5",
              "version_minor": 0,
              "version_major": 2
            },
            "text/plain": [
              "HBox(children=(HTML(value='Generate report structure'), FloatProgress(value=0.0, max=1.0), HTML(value='')))"
            ]
          },
          "metadata": {
            "tags": []
          }
        },
        {
          "output_type": "stream",
          "text": [
            "\n"
          ],
          "name": "stdout"
        },
        {
          "output_type": "display_data",
          "data": {
            "application/vnd.jupyter.widget-view+json": {
              "model_id": "ff7969f41ff74be2ac68b80e2ad012a2",
              "version_minor": 0,
              "version_major": 2
            },
            "text/plain": [
              "HBox(children=(HTML(value='Render HTML'), FloatProgress(value=0.0, max=1.0), HTML(value='')))"
            ]
          },
          "metadata": {
            "tags": []
          }
        },
        {
          "output_type": "stream",
          "text": [
            "\n"
          ],
          "name": "stdout"
        }
      ]
    },
    {
      "cell_type": "code",
      "metadata": {
        "id": "dJQbw08e8R2W"
      },
      "source": [
        "profile.to_widgets()"
      ],
      "execution_count": null,
      "outputs": []
    },
    {
      "cell_type": "code",
      "metadata": {
        "id": "PbI8uIPt91E0"
      },
      "source": [
        "profile.to_file(\"Report.html\")"
      ],
      "execution_count": null,
      "outputs": []
    },
    {
      "cell_type": "code",
      "metadata": {
        "id": "erb-pd2pek4m"
      },
      "source": [
        "report=pd.read_html(\"REPORT.html\")\n"
      ],
      "execution_count": null,
      "outputs": []
    },
    {
      "cell_type": "code",
      "metadata": {
        "id": "-B3OG2Vje5Sj"
      },
      "source": [
        "report"
      ],
      "execution_count": null,
      "outputs": []
    },
    {
      "cell_type": "code",
      "metadata": {
        "id": "Dya0zywUYD94"
      },
      "source": [
        "px.box(df, x=\"OverallCond\", y=\"SalePrice\")"
      ],
      "execution_count": null,
      "outputs": []
    },
    {
      "cell_type": "markdown",
      "metadata": {
        "id": "vkT_r7CXqlsj"
      },
      "source": [
        "Observations:-\n",
        "\n",
        "*  We observe from the above scatter plot that house which are having average, and above average overall condition are maximum and were sold at maximum price.\n",
        "\n",
        "*  We also observe that the houses having very poor overall condition were  sold minimum.\n",
        "\n",
        "*  Intrestingly we also observe here that maximum ranges of prices of houses were available in average overall condition of houses. "
      ]
    },
    {
      "cell_type": "code",
      "metadata": {
        "id": "Ycl83R_q62e3"
      },
      "source": [
        "px.pie(df, names='Neighborhood')"
      ],
      "execution_count": null,
      "outputs": []
    },
    {
      "cell_type": "code",
      "metadata": {
        "id": "TQqOtlGv7Dui"
      },
      "source": [
        "px.histogram(df, x=\"SalePrice\",color='LandContour',histfunc='avg')\n",
        "#px.histogram(data, x=\"LandContour\",y='SalePrice',histfunc='avg',barmode='group')\n",
        "#px.box(data, y=\"SalePrice\",color='LandContour',points=False)"
      ],
      "execution_count": null,
      "outputs": []
    },
    {
      "cell_type": "code",
      "metadata": {
        "id": "4EhPqM7tAGHF"
      },
      "source": [
        "!ls"
      ],
      "execution_count": null,
      "outputs": []
    },
    {
      "cell_type": "code",
      "metadata": {
        "id": "hNgCJEs0WkCO"
      },
      "source": [
        "df.columns"
      ],
      "execution_count": null,
      "outputs": []
    },
    {
      "cell_type": "markdown",
      "metadata": {
        "id": "DuBwTKv8w0yZ"
      },
      "source": [
        "####Conditional Probability\n"
      ]
    },
    {
      "cell_type": "code",
      "metadata": {
        "id": "-ivSg2RvXAU-"
      },
      "source": [
        "df['Neighborhood'].value_counts()"
      ],
      "execution_count": null,
      "outputs": []
    },
    {
      "cell_type": "code",
      "metadata": {
        "id": "fzp2S1CtX1u8"
      },
      "source": [
        "Total_houses = df.shape[0]\n",
        "print(\"Total Number of Houses in the Neighborhood :\", all_houses)"
      ],
      "execution_count": null,
      "outputs": []
    },
    {
      "cell_type": "code",
      "metadata": {
        "id": "VHL3N2GDX-eo"
      },
      "source": [
        "houses_in_OldTown = df[df['Neighborhood'] == 'OldTown'].shape[0]\n",
        "print(\"Total Number of Houses in the Old Town Road :\", houses_in_OldTown)"
      ],
      "execution_count": null,
      "outputs": []
    },
    {
      "cell_type": "code",
      "metadata": {
        "id": "O5sby0OKYG3f"
      },
      "source": [
        "probability = (houses_in_OldTown/Total_houses)*100\n",
        "print('Probability of picking a house in OldTown: {0:.2f}'.format(probability )+'%')"
      ],
      "execution_count": null,
      "outputs": []
    },
    {
      "cell_type": "code",
      "metadata": {
        "id": "_Au5irPFYSzo"
      },
      "source": [
        "cond_prob = (houses_in_OldTown/Total_houses) * ((houses_in_OldTown - 1)/(Total_houses - 1)) \n",
        "print(\"The Probability of Picking a House in Old Town and again picking a house from the same neighborhood is {0:.9f}\".\n",
        "      format(cond_prob*100))"
      ],
      "execution_count": null,
      "outputs": []
    },
    {
      "cell_type": "markdown",
      "metadata": {
        "id": "x7Gmzp9Onyrw"
      },
      "source": [
        "## Simple Probability Distribution\n",
        "\n",
        "* Lets Take an example, that we throw a dice of containing six faces.\n",
        "* so, there are Total no. of Combinations = 6*6 = 36\n",
        "\n",
        "Let’s see how:\n",
        "\n",
        "2 {(1,1)} => 1/36\n",
        "\n",
        "3 {(1,2),(2,1)} => 2/36\n",
        "\n",
        "4 {(2,2),(3,1),(1,3)} => 3/36\n",
        "\n",
        "5 {(1,4),(4,1),(2,3),(3,2)} => 4/36\n",
        "\n",
        "6 {(3,3),(1,5),(5,1),(2,4),(4,2)} => 5/36\n",
        "\n",
        "7 {(1,6),(6,1),(2,5),(5,2),(3,4),(4,3)} => 6/36\n",
        "\n",
        "8 {(2,6),(6,2),(3,5),(5,3),(4,4)} => 5/36\n",
        "\n",
        "9 {(3,6),(6,3),(5,4),(4,5)} => 4/36\n",
        "\n",
        "10 {(4,6),(6,4),(5,5)} => 3/36\n",
        "\n",
        "11 {(5,6),(6,5)} => 2/36\n",
        "\n",
        "12 {(6,6)} = > 1/36"
      ]
    },
    {
      "cell_type": "markdown",
      "metadata": {
        "id": "QTPVMzwCZdb7"
      },
      "source": [
        "## Inference"
      ]
    },
    {
      "cell_type": "markdown",
      "metadata": {
        "id": "aLnt8I-_Zmb-"
      },
      "source": [
        "### Sample Mean and population Mean\n",
        "\n",
        "\n",
        "* Let's consider a sample of 500 houses at random from 1460 houses and plot it's mean\n",
        "* But the mean of these 500 houses can be near or pretty far away from the mean of the 1460 houses calculated earlier."
      ]
    },
    {
      "cell_type": "markdown",
      "metadata": {
        "id": "SNfsZPebnjrI"
      },
      "source": [
        "## Central Limit Theorem\n",
        "\n",
        "The central limit theorem states that if you have a population with mean μ and standard deviation σ and take sufficiently large random samples from the population  then the distribution of the sample means will be approximately normally distributed.\n",
        "\n",
        "## Explanation\n",
        "\n",
        "Suppose we are interested in estimating average height of a population. We can not measure every person height in the given population. We take a sample from the given population. But when we take the sample 2 important things should be noted, 1. Sample size and 2. Distribution of sample.\n",
        "\n",
        "The central limit theorem says, if we take the sample in significantly large size, the mean of the sample will be normally distributed. For instance, let us assume the sample size as N to be 3, which means we take 3 data points randomly as groups from the given population data such as [155, 160, 171], [152, 168, 164], [172, 151, 154], and so on. Suppose we collect 1000 such groups from the population and calculate average of every group, we will have 1000 averages. When we plot this 1000 average data we will have a distribution as a normal distribution. \n",
        "\n",
        "## Importance of Central Limit Theorem\n",
        "\n",
        "*  Signifies the importance of Sample size\n",
        "\n",
        "*   No matter what the distribution of population, the shape of sample distribution becomes normal when the sample size (N) increases.\n",
        "\n",
        "*  Important for Inferential Statistical Analysis\n"
      ]
    },
    {
      "cell_type": "markdown",
      "metadata": {
        "id": "f_ODZu7rp3Cd"
      },
      "source": [
        "Creating a varaible and storing sales price data."
      ]
    },
    {
      "cell_type": "code",
      "metadata": {
        "id": "gU0W21uipDqg"
      },
      "source": [
        "df_SalePrice=df['SalePrice']\n",
        "\n",
        "df_SalePrice.describe()"
      ],
      "execution_count": null,
      "outputs": []
    },
    {
      "cell_type": "code",
      "metadata": {
        "id": "c3kpxBl6eW97"
      },
      "source": [
        "df_SalePrice.mean()"
      ],
      "execution_count": null,
      "outputs": []
    },
    {
      "cell_type": "code",
      "metadata": {
        "id": "9J0ZaRDEgWyx"
      },
      "source": [
        "# plot all the observation in SalesPrice data\n",
        "plt.hist(df_SalePrice, bins=100)\n",
        "\n",
        "plt.xlabel('SalePrice')\n",
        "plt.ylabel('count')\n",
        "plt.title('Histogram of Sales frequency')\n",
        "plt.axvline(x=df_SalePrice.mean(),color='r')"
      ],
      "execution_count": null,
      "outputs": []
    },
    {
      "cell_type": "markdown",
      "metadata": {
        "id": "VQNqJ-pB02tS"
      },
      "source": [
        "Observation:\n",
        "\n",
        "*  We can see the vertical red line, mean of data, almost at the centre of main distribution.\n",
        "\n",
        "*  Most of the distribution is in normal but not 100%.\n",
        "\n",
        "*  Here, the data point after the 500000 on x-axis is an outlier, and the points around 400000 maybe or maynot be an outlier since they are very close to out main distribution graph."
      ]
    },
    {
      "cell_type": "markdown",
      "metadata": {
        "id": "-BeAbD6v31ZB"
      },
      "source": [
        "**Note:-** We can also see from the above plot that the population is not normal,  Therefore, we need to draw sufficient samples of different sizes and compute their means (known as sample means). We will then plot those sample means to get a normal distribution."
      ]
    },
    {
      "cell_type": "code",
      "metadata": {
        "id": "PxMhFgU8n6H0"
      },
      "source": [
        "#We will take sample size=20, 60 & 500 \n",
        "#Calculate the arithmetice mean and plot the mean of sample 500 times\n",
        "\n",
        "array1 = []\n",
        "array2 = []\n",
        "array3 = []\n",
        "n = 500\n",
        "for i in range(1,n):\n",
        "    array1.append(df_SalePrice.sample(n=20,replace= True).mean())\n",
        "    array2.append(df_SalePrice.sample(n=60,replace= True).mean())\n",
        "    array3.append(df_SalePrice.sample(n=500,replace= True).mean())\n",
        "\n",
        "#print(array)\n",
        "fig , (ax1,ax2,ax3) = plt.subplots(nrows=1, ncols=3,figsize=(25,8))\n",
        "#plt.figure()\n",
        "\n",
        "#plt.subplot(311)\n",
        "ax1.hist(array1, bins=100,color='r')\n",
        "ax1.set_xlabel('SalePrice')\n",
        "ax1.set_ylabel('count')\n",
        "ax1.set_title('Sample size = 20')\n",
        "ax1.axvline(x=np.mean(array1),color='b') # for giving mean line\n",
        "\n",
        "#ax2.subplot(312)\n",
        "ax2.hist(array2, bins=100, color='g')\n",
        "ax2.set_xlabel('SalePrice')\n",
        "ax2.set_ylabel('count')\n",
        "ax2.set_title('Sample size = 60')\n",
        "ax2.axvline(x=np.mean(array2),color='r') # for giving mean line\n",
        "\n",
        "#ax3.subplot(313)\n",
        "ax3.hist(array3,bins=100)\n",
        "ax3.set_xlabel('SalePrice')\n",
        "ax3.set_ylabel('count')\n",
        "ax3.set_title('Sample size = 500')\n",
        "ax3.axvline(x=np.mean(array3),color='r') # for giving mean line"
      ],
      "execution_count": null,
      "outputs": []
    },
    {
      "cell_type": "markdown",
      "metadata": {
        "id": "VTPvcy9kv8W7"
      },
      "source": [
        "## Confidence Interval\n",
        "\n",
        "**Confidence Interval (CI)** is a type of estimate computed from the statistics of the observed data. This proposes a range of plausible values for an unknown parameter (for example, the mean). The interval has an associated confidence level that the true parameter is in the proposed range."
      ]
    },
    {
      "cell_type": "markdown",
      "metadata": {
        "id": "elLp-G6pxTON"
      },
      "source": [
        "The 95% confidence interval defines a range of values that you can be 95% certain contains the population mean. With large samples, you know that mean with much more precision than you do with a small sample, so the confidence interval is quite narrow when computed from a large sample."
      ]
    },
    {
      "cell_type": "markdown",
      "metadata": {
        "id": "bpJz5fxNxb7R"
      },
      "source": [
        "##**Calculating the Confidence Interval**\n",
        "\n",
        "Step 1: start with\n",
        "\n",
        "    The number of observations n\n",
        "    Thhe mean X\n",
        "    The standard deviation s\n",
        "\n",
        "**Note:** we should use the standard deviation of the entire population, but in many cases we won't know it.\n",
        "\n",
        "We can use the standard deviation for the sample if we have enough observations (at least n=30, hopefully more)\n",
        "\n",
        "Step 2: \n",
        "\n",
        "Decide what Confidence Interval we want: 95% or 99% are common choices. Then find the \"Z\" value for that Confidence Interval here:\n",
        "\n",
        "![](https://i.imgur.com/AjRb5aG.png)\n",
        "\n",
        "\n",
        "\n",
        "**Step 3:** Use that Z value in this formula for the Confidence Interval\n",
        "\n",
        "![](https://i.imgur.com/jdrj6wC.png)\n",
        "\n",
        "**Note:-**The value after the ± is called the margin of error\n",
        "\n"
      ]
    },
    {
      "cell_type": "code",
      "metadata": {
        "id": "UmGo758awQJ1"
      },
      "source": [
        "# importing math library\n",
        "import math\n",
        "\n",
        "# lets seed the random values\n",
        "np.random.seed(10)\n",
        "\n",
        "# lets take a sample size\n",
        "sample_size = 1000\n",
        "sample = np.random.choice(a= df['SalePrice'],\n",
        "                          size = sample_size)\n",
        "sample_mean = sample.mean()\n",
        "\n",
        "print(\"Sample Mean:\",sample_mean)\n",
        "\n",
        "# Get the z-critical value*\n",
        "z_critical = stats.norm.ppf(q = 0.95)  \n",
        "\n",
        " # Check the z-critical value  \n",
        "print(\"z-critical value: \",z_critical)                                \n",
        "\n",
        "# Get the population standard deviation\n",
        "pop_stdev = df['SalePrice'].std()  \n",
        "\n",
        "# checking the margin of error\n",
        "margin_of_error = z_critical * (pop_stdev/math.sqrt(sample_size)) \n",
        "\n",
        "# defining our confidence interval\n",
        "confidence_interval = (sample_mean - margin_of_error,\n",
        "                       sample_mean + margin_of_error)  \n",
        "\n",
        "# lets print the results\n",
        "print(\"Confidence interval:\",end=\" \")\n",
        "print(confidence_interval)\n",
        "print(\"True mean: {}\".format(df['SalePrice'].mean()))\n",
        "\n"
      ],
      "execution_count": null,
      "outputs": []
    },
    {
      "cell_type": "markdown",
      "metadata": {
        "id": "TZilBKNeJ5HS"
      },
      "source": [
        "## Hypothesis Testing\n",
        "\n",
        "* $Statistical Hypothesis$, sometimes called confirmatory data analysis, is a hypothesis that is testable on the basis of observing a process that is modeled via a set of random variables. A statistical hypothesis test is a method of statistical inference.\n",
        "\n",
        "### Null Hypothesis\n",
        "\n",
        "* In Inferential Statistics, **The Null Hypothesis is a general statement or default position that there is no relationship between two measured phenomena or no association among groups.**\n",
        "\n",
        "* Statistical hypothesis tests are based on a statement called the null hypothesis that assumes nothing interesting is going on between whatever variables you are testing.\n",
        "\n",
        "* Therefore, in our case the Null Hypothesis would be:\n",
        "**The Mean of House Prices in OldTown is not different from the houses of other neighborhoods**\n",
        "\n",
        "### Alternate Hypothesis\n",
        "\n",
        "* The alternate hypothesis is just an alternative to the null. For example, if your null is **I'm going to win up to 1000** then your alternate is **I'm going to win more than 1000.** Basically, you're looking at whether there's enough change (with the alternate hypothesis) to be able to reject the null hypothesis\n",
        "\n",
        "###  The Null Hypothesis is assumed to be true and Statistical evidence is required to reject it in favor of an Alternative Hypothesis.\n",
        "\n",
        "\n",
        "1. Once you have the null and alternative hypothesis in hand, you choose a significance level (often denoted by the Greek letter α). The significance level is a probability threshold that determines when you reject the null hypothesis.\n",
        "\n",
        "2. After carrying out a test, if the probability of getting a result as extreme as the one you observe due to chance is lower than the significance level, you reject the null hypothesis in favor of the alternative.\n",
        "\n",
        "3. This probability of seeing a result as extreme or more extreme than the one observed is known as the p-value."
      ]
    },
    {
      "cell_type": "markdown",
      "metadata": {
        "id": "wnQ0lIjWJ9UE"
      },
      "source": [
        "### P Value\n",
        "\n",
        "* In statistical hypothesis testing, **the p-value or probability value** is the probability of obtaining test results at least as extreme as the results actually observed during the test, assuming that the null hypothesis is correct. \n",
        "\n",
        "* So now say that we have put a significance (α) = 0.05\n",
        "* This means that if we see a p-value of lesser than 0.05, we reject our Null and accept the Alternative to be true\n"
      ]
    },
    {
      "cell_type": "markdown",
      "metadata": {
        "id": "q9wfeeEtMG4L"
      },
      "source": [
        "\n",
        "\n",
        "*  The pvalue is the Probability that tells that result from sample data occured by chance.\n",
        "* The pvalue tells the number of times null hypothesis is true\n",
        "\n",
        "*  Low p-value is good; It indicates data did not occur by chance.\n",
        "*  For example, a p-value of .01 means there is only a 1% probability that the results from an experiment happened by chance.\n",
        "*  Usually it is accepted that if the p-value is lower than significance level α (equal to 0.05) , then we should reject the null hypothesis.\n"
      ]
    },
    {
      "cell_type": "markdown",
      "metadata": {
        "id": "3HdcFQalPyRe"
      },
      "source": [
        "###**T-Test**\n",
        "\n",
        "The T-test is a statistical test used to determine whether a numeric data sample differs significantly from the population or whether two samples differ from one another.\n",
        "\n",
        "**Purpose:**\n",
        "\n",
        "*  It tells us - Is there a significant difference between two sets of data.\n",
        "\n",
        "*  It lets us know if those differences could have happened by chance.\n",
        "\n",
        "*  It doesn't look at only mean but spread of standard deviation to derive conclusion how significant two data sets are\n"
      ]
    },
    {
      "cell_type": "markdown",
      "metadata": {
        "id": "G_MEoYqw_974"
      },
      "source": [
        "## Type 1 and Type 2 Error\n",
        "\n",
        "* In statistical hypothesis testing, a type I error is the rejection of a true null hypothesis.\n",
        "\n",
        "*  Type II error is the rejection of a false null hypothesis.\n",
        "\n",
        "### Type 1  and Type 2 Error Example\n",
        "\n",
        "For example, let's look at the trail of an accused criminal. The null hypothesis is that the person is innocent, while the alternative is guilty. \n",
        "* A Type 1 error in this case would mean that the person is not found innocent and is sent to jail, despite actually being innocent.\n",
        "* A Type 2 Erroe Example In this case would be, the person is found innocent and not sent to jail despite of him being guilty in real."
      ]
    }
  ]
}