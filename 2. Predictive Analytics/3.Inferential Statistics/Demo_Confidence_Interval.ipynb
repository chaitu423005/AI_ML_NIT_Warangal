{
  "nbformat": 4,
  "nbformat_minor": 0,
  "metadata": {
    "kernelspec": {
      "display_name": "Python 3",
      "language": "python",
      "name": "python3"
    },
    "language_info": {
      "codemirror_mode": {
        "name": "ipython",
        "version": 3
      },
      "file_extension": ".py",
      "mimetype": "text/x-python",
      "name": "python",
      "nbconvert_exporter": "python",
      "pygments_lexer": "ipython3",
      "version": "3.8.3"
    },
    "colab": {
      "name": "Demo:Confidence Interval.ipynb",
      "provenance": [],
      "toc_visible": true
    }
  },
  "cells": [
    {
      "cell_type": "markdown",
      "metadata": {
        "id": "KRpYKlOJkQDM"
      },
      "source": [
        "# Scenario: **Confidence Interval**"
      ]
    },
    {
      "cell_type": "markdown",
      "metadata": {
        "id": "Nhn9NNHNkReG"
      },
      "source": [
        "###**Dataset Description**"
      ]
    },
    {
      "cell_type": "markdown",
      "metadata": {
        "id": "S0kgKiHuXe2m"
      },
      "source": [
        "\n",
        "\n",
        "Dataset from Davide Chicco, Giuseppe Jurman: Machine learning can predict survival of patients with heart failure from serum creatinine and ejection fraction alone. BMC Medical Informatics and Decision Making 20, 16 (2020)\n",
        "\n",
        "The columns in this dataset:\n",
        "\n",
        "- **age**\n",
        "- **anaemia**\n",
        "- **creatinine_phosphokinase**\n",
        "- **diabetes**\n",
        "- **ejection_fraction**\n",
        "- **high_blood_pressure**\n",
        "- **platelets**\n",
        "- **serum_creatinine**\n",
        "- **serum_sodium**\n",
        "- **sex**\n",
        "- **smoking**\n",
        "- **time**\t\n",
        "- **DEATH_EVENT**\n",
        "    \n",
        "Lets perform inferential statitics on this dataset\n",
        "\n",
        "# Topics covered: Confidence Interval\n",
        "    "
      ]
    },
    {
      "cell_type": "markdown",
      "metadata": {
        "id": "s_RQXJ_yXe2r"
      },
      "source": [
        "# Objectives\n",
        "In this demo we will estimate the confidence interval of an estimate \n"
      ]
    },
    {
      "cell_type": "markdown",
      "metadata": {
        "id": "avTPwcLQk91-"
      },
      "source": [
        "You can also download the dataset from [**here**](https://www.dropbox.com/s/kr6f2lednm1pvc4/heart_failure_clinical_records_dataset%20%281%29.csv)"
      ]
    },
    {
      "cell_type": "code",
      "metadata": {
        "colab": {
          "base_uri": "https://localhost:8080/"
        },
        "id": "Y6BoNDi5k4d8",
        "outputId": "0c240715-4e06-4ea2-b1e3-48b1f986edfb"
      },
      "source": [
        "#Please run this cell in Google Colab to download the dataset\r\n",
        "!wget https://www.dropbox.com/s/kr6f2lednm1pvc4/heart_failure_clinical_records_dataset%20%281%29.csv"
      ],
      "execution_count": null,
      "outputs": [
        {
          "output_type": "stream",
          "text": [
            "--2021-02-10 10:55:03--  https://www.dropbox.com/s/kr6f2lednm1pvc4/heart_failure_clinical_records_dataset%20%281%29.csv\n",
            "Resolving www.dropbox.com (www.dropbox.com)... 162.125.5.18, 2620:100:601d:18::a27d:512\n",
            "Connecting to www.dropbox.com (www.dropbox.com)|162.125.5.18|:443... connected.\n",
            "HTTP request sent, awaiting response... 301 Moved Permanently\n",
            "Location: /s/raw/kr6f2lednm1pvc4/heart_failure_clinical_records_dataset%20%281%29.csv [following]\n",
            "--2021-02-10 10:55:03--  https://www.dropbox.com/s/raw/kr6f2lednm1pvc4/heart_failure_clinical_records_dataset%20%281%29.csv\n",
            "Reusing existing connection to www.dropbox.com:443.\n",
            "HTTP request sent, awaiting response... 302 Found\n",
            "Location: https://uca2e1002bd53f0d300804a625fe.dl.dropboxusercontent.com/cd/0/inline/BIrZFl6tMR5UFU5apYDHDhS8iXNxveSTzicHgUQQOecNabUazAGbhsQxYdYdokI2gDAHVR7S_FmeBoszRZ6OeTHHp6U0dYNE2t2gA8GjOctdCcuz2PF-qrp-OJVj681BXeE/file# [following]\n",
            "--2021-02-10 10:55:04--  https://uca2e1002bd53f0d300804a625fe.dl.dropboxusercontent.com/cd/0/inline/BIrZFl6tMR5UFU5apYDHDhS8iXNxveSTzicHgUQQOecNabUazAGbhsQxYdYdokI2gDAHVR7S_FmeBoszRZ6OeTHHp6U0dYNE2t2gA8GjOctdCcuz2PF-qrp-OJVj681BXeE/file\n",
            "Resolving uca2e1002bd53f0d300804a625fe.dl.dropboxusercontent.com (uca2e1002bd53f0d300804a625fe.dl.dropboxusercontent.com)... 162.125.5.15, 2620:100:601d:15::a27d:50f\n",
            "Connecting to uca2e1002bd53f0d300804a625fe.dl.dropboxusercontent.com (uca2e1002bd53f0d300804a625fe.dl.dropboxusercontent.com)|162.125.5.15|:443... connected.\n",
            "HTTP request sent, awaiting response... 200 OK\n",
            "Length: 12239 (12K) [text/plain]\n",
            "Saving to: ‘heart_failure_clinical_records_dataset (1).csv’\n",
            "\n",
            "heart_failure_clini 100%[===================>]  11.95K  --.-KB/s    in 0s      \n",
            "\n",
            "2021-02-10 10:55:04 (225 MB/s) - ‘heart_failure_clinical_records_dataset (1).csv’ saved [12239/12239]\n",
            "\n"
          ],
          "name": "stdout"
        }
      ]
    },
    {
      "cell_type": "code",
      "metadata": {
        "id": "_iAFNmS8Xe2s"
      },
      "source": [
        "# importing libraries\n",
        "\n",
        "import numpy as np\n",
        "import pandas as pd\n",
        "import scipy as sp"
      ],
      "execution_count": null,
      "outputs": []
    },
    {
      "cell_type": "code",
      "metadata": {
        "id": "PL_RGw7tXe2t",
        "colab": {
          "base_uri": "https://localhost:8080/",
          "height": 217
        },
        "outputId": "9e42df81-e8ab-4a5a-8411-0b6a5532fb96"
      },
      "source": [
        "# reading data\n",
        "\n",
        "data = pd.read_csv('/content/heart_failure_clinical_records_dataset (1).csv')\n",
        "data.head()"
      ],
      "execution_count": null,
      "outputs": [
        {
          "output_type": "execute_result",
          "data": {
            "text/html": [
              "<div>\n",
              "<style scoped>\n",
              "    .dataframe tbody tr th:only-of-type {\n",
              "        vertical-align: middle;\n",
              "    }\n",
              "\n",
              "    .dataframe tbody tr th {\n",
              "        vertical-align: top;\n",
              "    }\n",
              "\n",
              "    .dataframe thead th {\n",
              "        text-align: right;\n",
              "    }\n",
              "</style>\n",
              "<table border=\"1\" class=\"dataframe\">\n",
              "  <thead>\n",
              "    <tr style=\"text-align: right;\">\n",
              "      <th></th>\n",
              "      <th>age</th>\n",
              "      <th>anaemia</th>\n",
              "      <th>creatinine_phosphokinase</th>\n",
              "      <th>diabetes</th>\n",
              "      <th>ejection_fraction</th>\n",
              "      <th>high_blood_pressure</th>\n",
              "      <th>platelets</th>\n",
              "      <th>serum_creatinine</th>\n",
              "      <th>serum_sodium</th>\n",
              "      <th>sex</th>\n",
              "      <th>smoking</th>\n",
              "      <th>time</th>\n",
              "      <th>DEATH_EVENT</th>\n",
              "    </tr>\n",
              "  </thead>\n",
              "  <tbody>\n",
              "    <tr>\n",
              "      <th>0</th>\n",
              "      <td>75.0</td>\n",
              "      <td>0</td>\n",
              "      <td>582</td>\n",
              "      <td>0</td>\n",
              "      <td>20</td>\n",
              "      <td>1</td>\n",
              "      <td>265000.00</td>\n",
              "      <td>1.9</td>\n",
              "      <td>130</td>\n",
              "      <td>1</td>\n",
              "      <td>0</td>\n",
              "      <td>4</td>\n",
              "      <td>1</td>\n",
              "    </tr>\n",
              "    <tr>\n",
              "      <th>1</th>\n",
              "      <td>55.0</td>\n",
              "      <td>0</td>\n",
              "      <td>7861</td>\n",
              "      <td>0</td>\n",
              "      <td>38</td>\n",
              "      <td>0</td>\n",
              "      <td>263358.03</td>\n",
              "      <td>1.1</td>\n",
              "      <td>136</td>\n",
              "      <td>1</td>\n",
              "      <td>0</td>\n",
              "      <td>6</td>\n",
              "      <td>1</td>\n",
              "    </tr>\n",
              "    <tr>\n",
              "      <th>2</th>\n",
              "      <td>65.0</td>\n",
              "      <td>0</td>\n",
              "      <td>146</td>\n",
              "      <td>0</td>\n",
              "      <td>20</td>\n",
              "      <td>0</td>\n",
              "      <td>162000.00</td>\n",
              "      <td>1.3</td>\n",
              "      <td>129</td>\n",
              "      <td>1</td>\n",
              "      <td>1</td>\n",
              "      <td>7</td>\n",
              "      <td>1</td>\n",
              "    </tr>\n",
              "    <tr>\n",
              "      <th>3</th>\n",
              "      <td>50.0</td>\n",
              "      <td>1</td>\n",
              "      <td>111</td>\n",
              "      <td>0</td>\n",
              "      <td>20</td>\n",
              "      <td>0</td>\n",
              "      <td>210000.00</td>\n",
              "      <td>1.9</td>\n",
              "      <td>137</td>\n",
              "      <td>1</td>\n",
              "      <td>0</td>\n",
              "      <td>7</td>\n",
              "      <td>1</td>\n",
              "    </tr>\n",
              "    <tr>\n",
              "      <th>4</th>\n",
              "      <td>65.0</td>\n",
              "      <td>1</td>\n",
              "      <td>160</td>\n",
              "      <td>1</td>\n",
              "      <td>20</td>\n",
              "      <td>0</td>\n",
              "      <td>327000.00</td>\n",
              "      <td>2.7</td>\n",
              "      <td>116</td>\n",
              "      <td>0</td>\n",
              "      <td>0</td>\n",
              "      <td>8</td>\n",
              "      <td>1</td>\n",
              "    </tr>\n",
              "  </tbody>\n",
              "</table>\n",
              "</div>"
            ],
            "text/plain": [
              "    age  anaemia  creatinine_phosphokinase  ...  smoking  time  DEATH_EVENT\n",
              "0  75.0        0                       582  ...        0     4            1\n",
              "1  55.0        0                      7861  ...        0     6            1\n",
              "2  65.0        0                       146  ...        1     7            1\n",
              "3  50.0        1                       111  ...        0     7            1\n",
              "4  65.0        1                       160  ...        0     8            1\n",
              "\n",
              "[5 rows x 13 columns]"
            ]
          },
          "metadata": {
            "tags": []
          },
          "execution_count": 3
        }
      ]
    },
    {
      "cell_type": "markdown",
      "metadata": {
        "id": "3royBFm5Xe2u"
      },
      "source": [
        "## Confidence Interval\n",
        "\n",
        "A confidence interval proposes a range of plausible values for an unknown parameter. This interval is associted with a confidence level that the parameter is located in the interval.\n",
        "\n",
        "$ Confidence Interval = [Point Estimate-Margin of Error, Point Estimate+Margin of Error]$\n",
        "\n",
        "### 1. Find the confidence interval of average of blood platelets in a human with 95% confidence level\n",
        "Let us find the Point Estimate"
      ]
    },
    {
      "cell_type": "code",
      "metadata": {
        "id": "SjDd9KuGXe2v",
        "colab": {
          "base_uri": "https://localhost:8080/"
        },
        "outputId": "a1f2f8b7-17b9-4d8e-998d-263224a22c60"
      },
      "source": [
        "# Collecting data\n",
        "\n",
        "blood_platelets = data.platelets.sample(40, random_state = 1)\n",
        "blood_platelets"
      ],
      "execution_count": null,
      "outputs": [
        {
          "output_type": "execute_result",
          "data": {
            "text/plain": [
              "173    189000.00\n",
              "287    543000.00\n",
              "51     418000.00\n",
              "146    218000.00\n",
              "214    290000.00\n",
              "197    259000.00\n",
              "274    150000.00\n",
              "62     254000.00\n",
              "27     284000.00\n",
              "201    377000.00\n",
              "112    252000.00\n",
              "119    263358.03\n",
              "11     253000.00\n",
              "244    264000.00\n",
              "110    306000.00\n",
              "295    270000.00\n",
              "73     149000.00\n",
              "105    621000.00\n",
              "265    362000.00\n",
              "107    226000.00\n",
              "188    201000.00\n",
              "12     136000.00\n",
              "70     374000.00\n",
              "18     237000.00\n",
              "88     235000.00\n",
              "108    304000.00\n",
              "298    395000.00\n",
              "176    105000.00\n",
              "120    210000.00\n",
              "250    404000.00\n",
              "85     406000.00\n",
              "296    742000.00\n",
              "132    263358.03\n",
              "285    336000.00\n",
              "131    250000.00\n",
              "78     283000.00\n",
              "253    236000.00\n",
              "138    221000.00\n",
              "90     249000.00\n",
              "189    275000.00\n",
              "Name: platelets, dtype: float64"
            ]
          },
          "metadata": {
            "tags": []
          },
          "execution_count": 4
        }
      ]
    },
    {
      "cell_type": "code",
      "metadata": {
        "id": "Q9CPypHiXe2v",
        "colab": {
          "base_uri": "https://localhost:8080/"
        },
        "outputId": "7d7245a2-043f-4236-adba-78947f26e875"
      },
      "source": [
        "# Finding mean of the sample as a point estimate to the population\n",
        "\n",
        "point_estimate = blood_platelets.mean()\n",
        "print('The point estimation of blood platelets is:',point_estimate)"
      ],
      "execution_count": null,
      "outputs": [
        {
          "output_type": "stream",
          "text": [
            "The point estimation of blood platelets is: 295267.90150000004\n"
          ],
          "name": "stdout"
        }
      ]
    },
    {
      "cell_type": "markdown",
      "metadata": {
        "id": "rC5nkwQsXe2w"
      },
      "source": [
        "We have the point estimate of the population mean. Let us find out the Margin of Error in order to find the confidence interval.\n",
        "\n",
        "If we know sample statistics then $ Margin of Error = Critical Value*Standard Error of Sample$ <br>\n",
        "\n",
        "As we do not know anything about population, we are going to calculate the Margin of Error using sample statistics\n",
        "\n",
        "Let us find the critical value of the <b>95% confidence level</b> and with <b>19 degrees of freedom</b>"
      ]
    },
    {
      "cell_type": "markdown",
      "metadata": {
        "id": "E0JsUNWVXe2x"
      },
      "source": [
        "### Critical Value\n",
        "\n",
        "We calculate the critical value using Percent Point Function(PPF) which is an inverse of Cumulative Distributive Function(CDF)\n",
        "\n",
        "<b>Cumulative Distribution Function(CDF):</b> The cumulative distribution function (cdf) is the probability that the variable takes a value less than or equal to x.\n",
        "\n",
        "<b>Percent Point Function(PPF):</b> The percent point function (ppf) is the inverse of the cumulative distribution function. That is, for a distribution function we calculate the probability that the variable is less than or equal to x for a given x."
      ]
    },
    {
      "cell_type": "code",
      "metadata": {
        "id": "bgwctzilXe2x",
        "colab": {
          "base_uri": "https://localhost:8080/"
        },
        "outputId": "d86c3d5b-6455-404a-f698-8a8a193944c5"
      },
      "source": [
        "# Student t-distribution Percent Point Function\n",
        "from scipy.stats import t\n",
        "# define probability\n",
        "p = 0.95\n",
        "df = 19\n",
        "\n",
        "# retrieve value <= probability\n",
        "critical_value = t.ppf(p, df)\n",
        "print(\"The critical value of 95% confidence level and with 19 degrees of freedom:\",critical_value)"
      ],
      "execution_count": null,
      "outputs": [
        {
          "output_type": "stream",
          "text": [
            "The critical value of 95% confidence level and with 19 degrees of freedom: 1.729132811521367\n"
          ],
          "name": "stdout"
        }
      ]
    },
    {
      "cell_type": "code",
      "metadata": {
        "id": "1yz7TZRRXe2y",
        "colab": {
          "base_uri": "https://localhost:8080/"
        },
        "outputId": "a530c6c9-abb3-4590-925e-2d384d818d59"
      },
      "source": [
        "# Standard deviation of sample\n",
        "\n",
        "se = blood_platelets.std()/np.sqrt(39)\n",
        "print(\"The standard deviation of the sample is:\",se)"
      ],
      "execution_count": null,
      "outputs": [
        {
          "output_type": "stream",
          "text": [
            "The standard deviation of the sample is: 20008.11074333843\n"
          ],
          "name": "stdout"
        }
      ]
    },
    {
      "cell_type": "code",
      "metadata": {
        "id": "VPBkvN07Xe2z",
        "colab": {
          "base_uri": "https://localhost:8080/"
        },
        "outputId": "8f8029b5-0faf-47f5-d1a6-f8cdbd18be09"
      },
      "source": [
        "# Margin of error\n",
        "\n",
        "error = critical_value * se\n",
        "print(\"The Margin of Error is:\", error)"
      ],
      "execution_count": null,
      "outputs": [
        {
          "output_type": "stream",
          "text": [
            "The Margin of Error is: 34596.68078285965\n"
          ],
          "name": "stdout"
        }
      ]
    },
    {
      "cell_type": "markdown",
      "metadata": {
        "id": "VAJIN3d_Xe2z"
      },
      "source": [
        "As we have the point estimation and the margin of error, we can calculate the confidence interval of the estimate\n",
        "\n",
        "$ Confidence Interval = [Point Estimate-Margin of Error, Point Estimate+Margin of Error]$"
      ]
    },
    {
      "cell_type": "code",
      "metadata": {
        "id": "A5jZdFCmXe20",
        "colab": {
          "base_uri": "https://localhost:8080/"
        },
        "outputId": "ae9e7141-6605-4d25-de67-d38e0693bc85"
      },
      "source": [
        "# Calculating the confidence interval\n",
        "\n",
        "lower_bound = point_estimate-error\n",
        "upper_bound = point_estimate+error\n",
        "\n",
        "print(\"The confidence interval of average of the blood platelets in a human is [{}, {}]\".format(lower_bound,upper_bound))"
      ],
      "execution_count": null,
      "outputs": [
        {
          "output_type": "stream",
          "text": [
            "The confidence interval of average of the blood platelets in a human is [260671.2207171404, 329864.5822828597]\n"
          ],
          "name": "stdout"
        }
      ]
    },
    {
      "cell_type": "markdown",
      "metadata": {
        "id": "gFFU6eiSXe20"
      },
      "source": [
        "### Inference \n",
        "The confidence interval of average of blood platelets in a human is [260671.2207171404,329864.5822828597] with 95% confidence level"
      ]
    }
  ]
}