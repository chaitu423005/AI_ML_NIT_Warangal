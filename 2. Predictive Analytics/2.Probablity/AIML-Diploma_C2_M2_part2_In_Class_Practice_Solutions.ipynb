{
 "cells": [
  {
   "cell_type": "markdown",
   "metadata": {},
   "source": [
    "# In-Class Practice Session I"
   ]
  },
  {
   "attachments": {},
   "cell_type": "markdown",
   "metadata": {},
   "source": [
    "__Mobimania is a smartphone retailers spread across the India. To perceive customer choice, \n",
    "they collected past months sales data along with the rating given by the customers. Find the \n",
    "answers to the following questions after reading Mobiles.csv separated by pipe(|):__\n",
    "   \n",
    "    Q1. Find the probability that a randomly picked customer rated his newly bought phone 4 out of 5.\n",
    "    \n",
    "    Q2. Find the probability that a phone has IPS display.\n",
    "    \n",
    "    Q3. Find the probability that a randomly bought phone has brand name Xiaomi.\n",
    "    \n",
    "    Q4. Find the probability that a phone has 23MP front and rear camera.\n",
    "    \n",
    "    Q5. Find the probability that a phone has 256GB ROM and 8GB RAM.\n",
    "    \n",
    "    Q6. If a randomly purchased phone has 64GB ROM, what will be the probability it has 4GB RAM?\n",
    "    \n",
    "    Q7. Given the phone has MicroSD Slot, find out the probability that it has \n",
    "        at least 3 star rating.\n",
    "\n",
    "    Q8. If the phone has 3 star ratings, find the probability that it has at least 8 GB RAM.\n",
    "\n",
    "    Q9. Given the phone has an IPS display, find the probability that it has a rear camera."
   ]
  },
  {
   "cell_type": "markdown",
   "metadata": {},
   "source": [
    "#### Data is available here:  https://www.dropbox.com/s/00d81prb1q7hxw2/Mobiles.csv"
   ]
  },
  {
   "cell_type": "code",
   "execution_count": 1,
   "metadata": {},
   "outputs": [],
   "source": [
    "import pandas as pd"
   ]
  },
  {
   "cell_type": "code",
   "execution_count": 2,
   "metadata": {},
   "outputs": [],
   "source": [
    "data = pd.read_csv('Mobiles.csv',sep='|')"
   ]
  },
  {
   "cell_type": "code",
   "execution_count": 3,
   "metadata": {
    "scrolled": false
   },
   "outputs": [
    {
     "data": {
      "text/html": [
       "<div>\n",
       "<style scoped>\n",
       "    .dataframe tbody tr th:only-of-type {\n",
       "        vertical-align: middle;\n",
       "    }\n",
       "\n",
       "    .dataframe tbody tr th {\n",
       "        vertical-align: top;\n",
       "    }\n",
       "\n",
       "    .dataframe thead th {\n",
       "        text-align: right;\n",
       "    }\n",
       "</style>\n",
       "<table border=\"1\" class=\"dataframe\">\n",
       "  <thead>\n",
       "    <tr style=\"text-align: right;\">\n",
       "      <th></th>\n",
       "      <th>PurchaseID</th>\n",
       "      <th>Brand</th>\n",
       "      <th>FrontCamera</th>\n",
       "      <th>RearCamera</th>\n",
       "      <th>ROM</th>\n",
       "      <th>RAM</th>\n",
       "      <th>MicroSD</th>\n",
       "      <th>DisplayType</th>\n",
       "      <th>Ratings</th>\n",
       "    </tr>\n",
       "  </thead>\n",
       "  <tbody>\n",
       "    <tr>\n",
       "      <th>0</th>\n",
       "      <td>6dc8d963-8be1-4f16-9ce8-7241b671ecc6</td>\n",
       "      <td>Apple</td>\n",
       "      <td>2 MP</td>\n",
       "      <td>8 MP</td>\n",
       "      <td>256 GB</td>\n",
       "      <td>256 GB</td>\n",
       "      <td>False</td>\n",
       "      <td>AMOLED</td>\n",
       "      <td>5</td>\n",
       "    </tr>\n",
       "    <tr>\n",
       "      <th>1</th>\n",
       "      <td>655dd155-3a4a-48af-832d-bd5fc7d24ba6</td>\n",
       "      <td>Microsoft</td>\n",
       "      <td>5 MP</td>\n",
       "      <td>12 MP</td>\n",
       "      <td>16 GB</td>\n",
       "      <td>2 GB</td>\n",
       "      <td>False</td>\n",
       "      <td>AMOLED</td>\n",
       "      <td>3</td>\n",
       "    </tr>\n",
       "    <tr>\n",
       "      <th>2</th>\n",
       "      <td>fd5ee7a0-abcd-4fb0-88a9-581bc1d400f1</td>\n",
       "      <td>Blackberry</td>\n",
       "      <td>23 MP</td>\n",
       "      <td>10 MP</td>\n",
       "      <td>256 GB</td>\n",
       "      <td>16 GB</td>\n",
       "      <td>False</td>\n",
       "      <td>IPS</td>\n",
       "      <td>3</td>\n",
       "    </tr>\n",
       "    <tr>\n",
       "      <th>3</th>\n",
       "      <td>90039014-2c01-4040-a835-3ab4501680ed</td>\n",
       "      <td>Blackberry</td>\n",
       "      <td>No</td>\n",
       "      <td>23 MP</td>\n",
       "      <td>16 GB</td>\n",
       "      <td>128 GB</td>\n",
       "      <td>False</td>\n",
       "      <td>AMOLED</td>\n",
       "      <td>4</td>\n",
       "    </tr>\n",
       "    <tr>\n",
       "      <th>4</th>\n",
       "      <td>a086de1b-9717-40a5-a4b9-1e9ec374670b</td>\n",
       "      <td>Panasonic</td>\n",
       "      <td>8 MP</td>\n",
       "      <td>23 MP</td>\n",
       "      <td>256 GB</td>\n",
       "      <td>16 GB</td>\n",
       "      <td>False</td>\n",
       "      <td>AMOLED</td>\n",
       "      <td>5</td>\n",
       "    </tr>\n",
       "  </tbody>\n",
       "</table>\n",
       "</div>"
      ],
      "text/plain": [
       "                             PurchaseID       Brand FrontCamera RearCamera  \\\n",
       "0  6dc8d963-8be1-4f16-9ce8-7241b671ecc6       Apple        2 MP       8 MP   \n",
       "1  655dd155-3a4a-48af-832d-bd5fc7d24ba6   Microsoft        5 MP      12 MP   \n",
       "2  fd5ee7a0-abcd-4fb0-88a9-581bc1d400f1  Blackberry       23 MP      10 MP   \n",
       "3  90039014-2c01-4040-a835-3ab4501680ed  Blackberry          No      23 MP   \n",
       "4  a086de1b-9717-40a5-a4b9-1e9ec374670b   Panasonic        8 MP      23 MP   \n",
       "\n",
       "      ROM     RAM  MicroSD DisplayType  Ratings  \n",
       "0  256 GB  256 GB    False      AMOLED        5  \n",
       "1   16 GB    2 GB    False      AMOLED        3  \n",
       "2  256 GB   16 GB    False         IPS        3  \n",
       "3   16 GB  128 GB    False      AMOLED        4  \n",
       "4  256 GB   16 GB    False      AMOLED        5  "
      ]
     },
     "execution_count": 3,
     "metadata": {},
     "output_type": "execute_result"
    }
   ],
   "source": [
    "data.head()"
   ]
  },
  {
   "cell_type": "markdown",
   "metadata": {},
   "source": [
    "####   Q1. Find the probability that a randomly picked customer rated his newly bought phone 4 out of 5.\n",
    "   "
   ]
  },
  {
   "cell_type": "code",
   "execution_count": 4,
   "metadata": {},
   "outputs": [
    {
     "data": {
      "text/plain": [
       "1000"
      ]
     },
     "execution_count": 4,
     "metadata": {},
     "output_type": "execute_result"
    }
   ],
   "source": [
    "data.shape[0]"
   ]
  },
  {
   "cell_type": "code",
   "execution_count": 5,
   "metadata": {},
   "outputs": [],
   "source": [
    "# We have 100 customers that makes:\n",
    "S=1000"
   ]
  },
  {
   "cell_type": "code",
   "execution_count": 6,
   "metadata": {
    "scrolled": true
   },
   "outputs": [
    {
     "data": {
      "text/plain": [
       "4    231\n",
       "5    202\n",
       "1    198\n",
       "3    195\n",
       "2    174\n",
       "Name: Ratings, dtype: int64"
      ]
     },
     "execution_count": 6,
     "metadata": {},
     "output_type": "execute_result"
    }
   ],
   "source": [
    "data.Ratings.value_counts()"
   ]
  },
  {
   "cell_type": "code",
   "execution_count": 7,
   "metadata": {},
   "outputs": [],
   "source": [
    "# Event: Customer rates the phone 4 out of 5.\n",
    "E=231"
   ]
  },
  {
   "cell_type": "code",
   "execution_count": 8,
   "metadata": {},
   "outputs": [
    {
     "name": "stdout",
     "output_type": "stream",
     "text": [
      "Probabilty that a customer will rate the phone 4/5 is 0.231\n"
     ]
    }
   ],
   "source": [
    "print('Probabilty that a customer will rate the phone 4/5 is {}'.format(round(E/S,3)))"
   ]
  },
  {
   "cell_type": "markdown",
   "metadata": {},
   "source": [
    "####    Q2. Find the probability that a phone has IPS display.\n",
    "    \n",
    "    "
   ]
  },
  {
   "cell_type": "code",
   "execution_count": 9,
   "metadata": {},
   "outputs": [
    {
     "data": {
      "text/plain": [
       "AMOLED    511\n",
       "IPS       489\n",
       "Name: DisplayType, dtype: int64"
      ]
     },
     "execution_count": 9,
     "metadata": {},
     "output_type": "execute_result"
    }
   ],
   "source": [
    "# Event E: Phone has IPS Display\n",
    "data.DisplayType.value_counts()"
   ]
  },
  {
   "cell_type": "code",
   "execution_count": 10,
   "metadata": {},
   "outputs": [],
   "source": [
    "E=489"
   ]
  },
  {
   "cell_type": "code",
   "execution_count": 11,
   "metadata": {},
   "outputs": [
    {
     "name": "stdout",
     "output_type": "stream",
     "text": [
      "Probability that a phone has IPS display 0.489\n"
     ]
    }
   ],
   "source": [
    "print('Probability that a phone has IPS display {}'.format(round(E/S,3)))"
   ]
  },
  {
   "cell_type": "markdown",
   "metadata": {},
   "source": [
    "#### Q3. Find the probability that a randomly bought phone has brand name Xiaomi.\n",
    "   "
   ]
  },
  {
   "cell_type": "code",
   "execution_count": 12,
   "metadata": {},
   "outputs": [
    {
     "data": {
      "text/plain": [
       "Xiaomi        86\n",
       "Microsoft     85\n",
       "Sony          84\n",
       "LG            80\n",
       "Gionee        78\n",
       "HTC           78\n",
       "Nokia         77\n",
       "Samsung       76\n",
       "Micromax      75\n",
       "Vertu         74\n",
       "Panasonic     72\n",
       "Apple         68\n",
       "Blackberry    67\n",
       "Name: Brand, dtype: int64"
      ]
     },
     "execution_count": 12,
     "metadata": {},
     "output_type": "execute_result"
    }
   ],
   "source": [
    "# Event E: Phone has a brand name Xiaomi\n",
    "data.Brand.value_counts()"
   ]
  },
  {
   "cell_type": "code",
   "execution_count": 13,
   "metadata": {},
   "outputs": [],
   "source": [
    "E=86"
   ]
  },
  {
   "cell_type": "code",
   "execution_count": 14,
   "metadata": {},
   "outputs": [
    {
     "name": "stdout",
     "output_type": "stream",
     "text": [
      "Probability that a phone has brand name Xiaomi 0.086\n"
     ]
    }
   ],
   "source": [
    "print('Probability that a phone has brand name Xiaomi {}'.format(round(E/S,3)))"
   ]
  },
  {
   "cell_type": "markdown",
   "metadata": {},
   "source": [
    "####     Q4. Find the probability that a phone has 23MP front and rear camera.\n",
    "    \n",
    "  "
   ]
  },
  {
   "cell_type": "code",
   "execution_count": 15,
   "metadata": {},
   "outputs": [
    {
     "data": {
      "text/plain": [
       "7 MP      96\n",
       "No        84\n",
       "2.1 MP    82\n",
       "VGA       81\n",
       "5.1 MP    78\n",
       "8 MP      73\n",
       "5 MP      72\n",
       "2 MP      68\n",
       "1.3 MP    67\n",
       "13 MP     64\n",
       "0.9 MP    64\n",
       "23 MP     61\n",
       "4 MP      56\n",
       "1.2 MP    54\n",
       "Name: FrontCamera, dtype: int64"
      ]
     },
     "execution_count": 15,
     "metadata": {},
     "output_type": "execute_result"
    }
   ],
   "source": [
    "'''\n",
    "Events:\n",
    "Event E: Phone has 23MP front and rear camera.\n",
    "Event A: Phone has 23MP front camera.\n",
    "Event B: Phone has 23MP rear camera.\n",
    "'''\n",
    "data.FrontCamera.value_counts()"
   ]
  },
  {
   "cell_type": "code",
   "execution_count": 16,
   "metadata": {},
   "outputs": [],
   "source": [
    "A=61"
   ]
  },
  {
   "cell_type": "code",
   "execution_count": 17,
   "metadata": {
    "scrolled": false
   },
   "outputs": [
    {
     "data": {
      "text/plain": [
       "13 MP      75\n",
       "10 MP      74\n",
       "20 MP      74\n",
       "23 MP      73\n",
       "3 MP       73\n",
       "0.3 MP     71\n",
       "1.3 MP     70\n",
       "20.7 MP    68\n",
       "2 MP       67\n",
       "16 MP      66\n",
       "5 MP       64\n",
       "8 MP       63\n",
       "12 MP      61\n",
       "3.15 MP    58\n",
       "No         42\n",
       "21 MP       1\n",
       "Name: RearCamera, dtype: int64"
      ]
     },
     "execution_count": 17,
     "metadata": {},
     "output_type": "execute_result"
    }
   ],
   "source": [
    "data.RearCamera.value_counts()"
   ]
  },
  {
   "cell_type": "code",
   "execution_count": 18,
   "metadata": {},
   "outputs": [],
   "source": [
    "B=73"
   ]
  },
  {
   "cell_type": "code",
   "execution_count": 19,
   "metadata": {},
   "outputs": [
    {
     "data": {
      "text/html": [
       "<div>\n",
       "<style scoped>\n",
       "    .dataframe tbody tr th:only-of-type {\n",
       "        vertical-align: middle;\n",
       "    }\n",
       "\n",
       "    .dataframe tbody tr th {\n",
       "        vertical-align: top;\n",
       "    }\n",
       "\n",
       "    .dataframe thead th {\n",
       "        text-align: right;\n",
       "    }\n",
       "</style>\n",
       "<table border=\"1\" class=\"dataframe\">\n",
       "  <thead>\n",
       "    <tr style=\"text-align: right;\">\n",
       "      <th></th>\n",
       "      <th>PurchaseID</th>\n",
       "      <th>Brand</th>\n",
       "      <th>FrontCamera</th>\n",
       "      <th>RearCamera</th>\n",
       "      <th>ROM</th>\n",
       "      <th>RAM</th>\n",
       "      <th>MicroSD</th>\n",
       "      <th>DisplayType</th>\n",
       "      <th>Ratings</th>\n",
       "    </tr>\n",
       "  </thead>\n",
       "  <tbody>\n",
       "    <tr>\n",
       "      <th>24</th>\n",
       "      <td>6d68342f-02e1-4578-9ceb-a427a0f71d86</td>\n",
       "      <td>Micromax</td>\n",
       "      <td>23 MP</td>\n",
       "      <td>23 MP</td>\n",
       "      <td>8 GB</td>\n",
       "      <td>512 MB</td>\n",
       "      <td>False</td>\n",
       "      <td>IPS</td>\n",
       "      <td>4</td>\n",
       "    </tr>\n",
       "    <tr>\n",
       "      <th>51</th>\n",
       "      <td>d15ca9fb-f87e-4a1a-813b-03c85bdda867</td>\n",
       "      <td>Microsoft</td>\n",
       "      <td>23 MP</td>\n",
       "      <td>23 MP</td>\n",
       "      <td>128 GB</td>\n",
       "      <td>16 GB</td>\n",
       "      <td>True</td>\n",
       "      <td>IPS</td>\n",
       "      <td>1</td>\n",
       "    </tr>\n",
       "    <tr>\n",
       "      <th>64</th>\n",
       "      <td>8a3d164e-d315-4031-8918-fc5f7ac117cc</td>\n",
       "      <td>LG</td>\n",
       "      <td>23 MP</td>\n",
       "      <td>23 MP</td>\n",
       "      <td>128 GB</td>\n",
       "      <td>2 GB</td>\n",
       "      <td>False</td>\n",
       "      <td>AMOLED</td>\n",
       "      <td>4</td>\n",
       "    </tr>\n",
       "    <tr>\n",
       "      <th>178</th>\n",
       "      <td>a180e608-df52-49ec-98a2-95264faea870</td>\n",
       "      <td>Vertu</td>\n",
       "      <td>23 MP</td>\n",
       "      <td>23 MP</td>\n",
       "      <td>256 GB</td>\n",
       "      <td>128 GB</td>\n",
       "      <td>True</td>\n",
       "      <td>IPS</td>\n",
       "      <td>2</td>\n",
       "    </tr>\n",
       "    <tr>\n",
       "      <th>761</th>\n",
       "      <td>461ea69c-736c-49f7-b2c5-581ddf015231</td>\n",
       "      <td>Micromax</td>\n",
       "      <td>23 MP</td>\n",
       "      <td>23 MP</td>\n",
       "      <td>16 GB</td>\n",
       "      <td>1 GB</td>\n",
       "      <td>False</td>\n",
       "      <td>AMOLED</td>\n",
       "      <td>4</td>\n",
       "    </tr>\n",
       "  </tbody>\n",
       "</table>\n",
       "</div>"
      ],
      "text/plain": [
       "                               PurchaseID      Brand FrontCamera RearCamera  \\\n",
       "24   6d68342f-02e1-4578-9ceb-a427a0f71d86   Micromax       23 MP      23 MP   \n",
       "51   d15ca9fb-f87e-4a1a-813b-03c85bdda867  Microsoft       23 MP      23 MP   \n",
       "64   8a3d164e-d315-4031-8918-fc5f7ac117cc         LG       23 MP      23 MP   \n",
       "178  a180e608-df52-49ec-98a2-95264faea870      Vertu       23 MP      23 MP   \n",
       "761  461ea69c-736c-49f7-b2c5-581ddf015231   Micromax       23 MP      23 MP   \n",
       "\n",
       "        ROM     RAM  MicroSD DisplayType  Ratings  \n",
       "24     8 GB  512 MB    False         IPS        4  \n",
       "51   128 GB   16 GB     True         IPS        1  \n",
       "64   128 GB    2 GB    False      AMOLED        4  \n",
       "178  256 GB  128 GB     True         IPS        2  \n",
       "761   16 GB    1 GB    False      AMOLED        4  "
      ]
     },
     "execution_count": 19,
     "metadata": {},
     "output_type": "execute_result"
    }
   ],
   "source": [
    "data[(data.FrontCamera=='23 MP') & (data.RearCamera=='23 MP')]"
   ]
  },
  {
   "cell_type": "code",
   "execution_count": 20,
   "metadata": {},
   "outputs": [],
   "source": [
    "E=5"
   ]
  },
  {
   "cell_type": "code",
   "execution_count": 21,
   "metadata": {},
   "outputs": [
    {
     "name": "stdout",
     "output_type": "stream",
     "text": [
      "Probability that a phone has 23 MP front and rear camera 0.005\n"
     ]
    }
   ],
   "source": [
    "print('Probability that a phone has 23 MP front and rear camera {}'.format(round(E/S,3)))"
   ]
  },
  {
   "cell_type": "markdown",
   "metadata": {},
   "source": [
    "####  Q5. Find the probability that a phone has 256GB ROM and 8GB RAM.\n",
    "    \n",
    "    "
   ]
  },
  {
   "cell_type": "code",
   "execution_count": 22,
   "metadata": {},
   "outputs": [
    {
     "data": {
      "text/plain": [
       "256 GB    190\n",
       "128 GB    165\n",
       "8 GB      164\n",
       "16 GB     164\n",
       "32 GB     159\n",
       "64 GB     158\n",
       "Name: ROM, dtype: int64"
      ]
     },
     "execution_count": 22,
     "metadata": {},
     "output_type": "execute_result"
    }
   ],
   "source": [
    "'''\n",
    "Events:\n",
    "Event E: Phone has 256GB ROM and 8GB RAM.\n",
    "Event A: Phone has 256GB ROM.\n",
    "Event B: Phone has 8GB RAM.\n",
    "'''\n",
    "data.ROM.value_counts()"
   ]
  },
  {
   "cell_type": "code",
   "execution_count": 23,
   "metadata": {},
   "outputs": [
    {
     "data": {
      "text/plain": [
       "16 GB     111\n",
       "3 GB      103\n",
       "64 GB      99\n",
       "128 GB     97\n",
       "4 GB       93\n",
       "1 GB       90\n",
       "8 GB       90\n",
       "32 GB      83\n",
       "2 GB       83\n",
       "256 GB     80\n",
       "512 MB     71\n",
       "Name: RAM, dtype: int64"
      ]
     },
     "execution_count": 23,
     "metadata": {},
     "output_type": "execute_result"
    }
   ],
   "source": [
    "data.RAM.value_counts()"
   ]
  },
  {
   "cell_type": "code",
   "execution_count": 24,
   "metadata": {},
   "outputs": [
    {
     "data": {
      "text/html": [
       "<div>\n",
       "<style scoped>\n",
       "    .dataframe tbody tr th:only-of-type {\n",
       "        vertical-align: middle;\n",
       "    }\n",
       "\n",
       "    .dataframe tbody tr th {\n",
       "        vertical-align: top;\n",
       "    }\n",
       "\n",
       "    .dataframe thead th {\n",
       "        text-align: right;\n",
       "    }\n",
       "</style>\n",
       "<table border=\"1\" class=\"dataframe\">\n",
       "  <thead>\n",
       "    <tr style=\"text-align: right;\">\n",
       "      <th></th>\n",
       "      <th>PurchaseID</th>\n",
       "      <th>Brand</th>\n",
       "      <th>FrontCamera</th>\n",
       "      <th>RearCamera</th>\n",
       "      <th>ROM</th>\n",
       "      <th>RAM</th>\n",
       "      <th>MicroSD</th>\n",
       "      <th>DisplayType</th>\n",
       "      <th>Ratings</th>\n",
       "    </tr>\n",
       "  </thead>\n",
       "  <tbody>\n",
       "    <tr>\n",
       "      <th>149</th>\n",
       "      <td>b3d8cf6f-6621-4051-95d9-4fc02b13e6ac</td>\n",
       "      <td>HTC</td>\n",
       "      <td>4 MP</td>\n",
       "      <td>3.15 MP</td>\n",
       "      <td>256 GB</td>\n",
       "      <td>8 GB</td>\n",
       "      <td>True</td>\n",
       "      <td>IPS</td>\n",
       "      <td>4</td>\n",
       "    </tr>\n",
       "    <tr>\n",
       "      <th>150</th>\n",
       "      <td>6345dada-6c28-4056-941b-012fbd745b25</td>\n",
       "      <td>Nokia</td>\n",
       "      <td>2.1 MP</td>\n",
       "      <td>23 MP</td>\n",
       "      <td>256 GB</td>\n",
       "      <td>8 GB</td>\n",
       "      <td>True</td>\n",
       "      <td>AMOLED</td>\n",
       "      <td>4</td>\n",
       "    </tr>\n",
       "    <tr>\n",
       "      <th>223</th>\n",
       "      <td>ecc9d8cb-9767-467d-ab3a-779e7dd1051f</td>\n",
       "      <td>Micromax</td>\n",
       "      <td>0.9 MP</td>\n",
       "      <td>No</td>\n",
       "      <td>256 GB</td>\n",
       "      <td>8 GB</td>\n",
       "      <td>False</td>\n",
       "      <td>IPS</td>\n",
       "      <td>3</td>\n",
       "    </tr>\n",
       "    <tr>\n",
       "      <th>228</th>\n",
       "      <td>42ed89dd-5f2f-486c-9d5a-caef0014fb31</td>\n",
       "      <td>Samsung</td>\n",
       "      <td>1.2 MP</td>\n",
       "      <td>2 MP</td>\n",
       "      <td>256 GB</td>\n",
       "      <td>8 GB</td>\n",
       "      <td>True</td>\n",
       "      <td>AMOLED</td>\n",
       "      <td>3</td>\n",
       "    </tr>\n",
       "    <tr>\n",
       "      <th>331</th>\n",
       "      <td>e387b438-1913-45d8-ae85-7386f18bcf2c</td>\n",
       "      <td>HTC</td>\n",
       "      <td>No</td>\n",
       "      <td>13 MP</td>\n",
       "      <td>256 GB</td>\n",
       "      <td>8 GB</td>\n",
       "      <td>True</td>\n",
       "      <td>AMOLED</td>\n",
       "      <td>5</td>\n",
       "    </tr>\n",
       "    <tr>\n",
       "      <th>333</th>\n",
       "      <td>164d9afc-8ef3-43b8-853f-bfe08b9ee51c</td>\n",
       "      <td>Apple</td>\n",
       "      <td>VGA</td>\n",
       "      <td>3 MP</td>\n",
       "      <td>256 GB</td>\n",
       "      <td>8 GB</td>\n",
       "      <td>False</td>\n",
       "      <td>AMOLED</td>\n",
       "      <td>4</td>\n",
       "    </tr>\n",
       "    <tr>\n",
       "      <th>350</th>\n",
       "      <td>4bc04df0-998a-4292-b84e-ef46e7094e88</td>\n",
       "      <td>Vertu</td>\n",
       "      <td>2.1 MP</td>\n",
       "      <td>1.3 MP</td>\n",
       "      <td>256 GB</td>\n",
       "      <td>8 GB</td>\n",
       "      <td>False</td>\n",
       "      <td>AMOLED</td>\n",
       "      <td>1</td>\n",
       "    </tr>\n",
       "    <tr>\n",
       "      <th>395</th>\n",
       "      <td>a687296c-0019-419f-bd49-0da356c03a1b</td>\n",
       "      <td>Vertu</td>\n",
       "      <td>8 MP</td>\n",
       "      <td>0.3 MP</td>\n",
       "      <td>256 GB</td>\n",
       "      <td>8 GB</td>\n",
       "      <td>False</td>\n",
       "      <td>IPS</td>\n",
       "      <td>2</td>\n",
       "    </tr>\n",
       "    <tr>\n",
       "      <th>431</th>\n",
       "      <td>7b09064e-5251-4888-ae37-f876193add7f</td>\n",
       "      <td>HTC</td>\n",
       "      <td>5 MP</td>\n",
       "      <td>3.15 MP</td>\n",
       "      <td>256 GB</td>\n",
       "      <td>8 GB</td>\n",
       "      <td>False</td>\n",
       "      <td>IPS</td>\n",
       "      <td>1</td>\n",
       "    </tr>\n",
       "    <tr>\n",
       "      <th>453</th>\n",
       "      <td>015ee502-73c7-4408-9a07-984bcb06c089</td>\n",
       "      <td>Blackberry</td>\n",
       "      <td>8 MP</td>\n",
       "      <td>20.7 MP</td>\n",
       "      <td>256 GB</td>\n",
       "      <td>8 GB</td>\n",
       "      <td>True</td>\n",
       "      <td>AMOLED</td>\n",
       "      <td>5</td>\n",
       "    </tr>\n",
       "    <tr>\n",
       "      <th>513</th>\n",
       "      <td>49a9eccd-db20-4ad8-a97e-c860a28ef246</td>\n",
       "      <td>Gionee</td>\n",
       "      <td>7 MP</td>\n",
       "      <td>23 MP</td>\n",
       "      <td>256 GB</td>\n",
       "      <td>8 GB</td>\n",
       "      <td>True</td>\n",
       "      <td>AMOLED</td>\n",
       "      <td>1</td>\n",
       "    </tr>\n",
       "    <tr>\n",
       "      <th>516</th>\n",
       "      <td>0bdc8cf6-4983-45f7-98ad-f7ea4cb6a0eb</td>\n",
       "      <td>Microsoft</td>\n",
       "      <td>No</td>\n",
       "      <td>16 MP</td>\n",
       "      <td>256 GB</td>\n",
       "      <td>8 GB</td>\n",
       "      <td>True</td>\n",
       "      <td>IPS</td>\n",
       "      <td>4</td>\n",
       "    </tr>\n",
       "    <tr>\n",
       "      <th>604</th>\n",
       "      <td>54c2e37b-fb7d-48a7-8c92-c8911c34afca</td>\n",
       "      <td>Panasonic</td>\n",
       "      <td>5.1 MP</td>\n",
       "      <td>3 MP</td>\n",
       "      <td>256 GB</td>\n",
       "      <td>8 GB</td>\n",
       "      <td>True</td>\n",
       "      <td>IPS</td>\n",
       "      <td>3</td>\n",
       "    </tr>\n",
       "    <tr>\n",
       "      <th>658</th>\n",
       "      <td>5fffafeb-b3d5-45c5-b68a-376833cf5c32</td>\n",
       "      <td>Panasonic</td>\n",
       "      <td>1.2 MP</td>\n",
       "      <td>20 MP</td>\n",
       "      <td>256 GB</td>\n",
       "      <td>8 GB</td>\n",
       "      <td>False</td>\n",
       "      <td>IPS</td>\n",
       "      <td>4</td>\n",
       "    </tr>\n",
       "    <tr>\n",
       "      <th>700</th>\n",
       "      <td>e2e426c6-0dcb-4864-984f-1eb3bb87c9b2</td>\n",
       "      <td>Blackberry</td>\n",
       "      <td>1.3 MP</td>\n",
       "      <td>0.3 MP</td>\n",
       "      <td>256 GB</td>\n",
       "      <td>8 GB</td>\n",
       "      <td>True</td>\n",
       "      <td>AMOLED</td>\n",
       "      <td>5</td>\n",
       "    </tr>\n",
       "    <tr>\n",
       "      <th>740</th>\n",
       "      <td>8ba30f63-6c83-484e-a372-d29bc506dd5a</td>\n",
       "      <td>Micromax</td>\n",
       "      <td>4 MP</td>\n",
       "      <td>8 MP</td>\n",
       "      <td>256 GB</td>\n",
       "      <td>8 GB</td>\n",
       "      <td>True</td>\n",
       "      <td>IPS</td>\n",
       "      <td>5</td>\n",
       "    </tr>\n",
       "    <tr>\n",
       "      <th>768</th>\n",
       "      <td>891a2c57-c87e-4ec7-a9ff-f640c115025c</td>\n",
       "      <td>Sony</td>\n",
       "      <td>23 MP</td>\n",
       "      <td>0.3 MP</td>\n",
       "      <td>256 GB</td>\n",
       "      <td>8 GB</td>\n",
       "      <td>False</td>\n",
       "      <td>IPS</td>\n",
       "      <td>3</td>\n",
       "    </tr>\n",
       "    <tr>\n",
       "      <th>769</th>\n",
       "      <td>80f9733d-a748-4183-94f4-ca33574d8b20</td>\n",
       "      <td>Nokia</td>\n",
       "      <td>5.1 MP</td>\n",
       "      <td>12 MP</td>\n",
       "      <td>256 GB</td>\n",
       "      <td>8 GB</td>\n",
       "      <td>True</td>\n",
       "      <td>IPS</td>\n",
       "      <td>1</td>\n",
       "    </tr>\n",
       "    <tr>\n",
       "      <th>907</th>\n",
       "      <td>2b3e17d0-abc3-44cf-84f4-c3d6db669269</td>\n",
       "      <td>HTC</td>\n",
       "      <td>5.1 MP</td>\n",
       "      <td>10 MP</td>\n",
       "      <td>256 GB</td>\n",
       "      <td>8 GB</td>\n",
       "      <td>True</td>\n",
       "      <td>AMOLED</td>\n",
       "      <td>3</td>\n",
       "    </tr>\n",
       "    <tr>\n",
       "      <th>917</th>\n",
       "      <td>4eccffde-f64b-4978-9171-ae4eeab8e53b</td>\n",
       "      <td>HTC</td>\n",
       "      <td>23 MP</td>\n",
       "      <td>5 MP</td>\n",
       "      <td>256 GB</td>\n",
       "      <td>8 GB</td>\n",
       "      <td>False</td>\n",
       "      <td>AMOLED</td>\n",
       "      <td>2</td>\n",
       "    </tr>\n",
       "  </tbody>\n",
       "</table>\n",
       "</div>"
      ],
      "text/plain": [
       "                               PurchaseID       Brand FrontCamera RearCamera  \\\n",
       "149  b3d8cf6f-6621-4051-95d9-4fc02b13e6ac         HTC        4 MP    3.15 MP   \n",
       "150  6345dada-6c28-4056-941b-012fbd745b25       Nokia      2.1 MP      23 MP   \n",
       "223  ecc9d8cb-9767-467d-ab3a-779e7dd1051f    Micromax      0.9 MP         No   \n",
       "228  42ed89dd-5f2f-486c-9d5a-caef0014fb31     Samsung      1.2 MP       2 MP   \n",
       "331  e387b438-1913-45d8-ae85-7386f18bcf2c         HTC          No      13 MP   \n",
       "333  164d9afc-8ef3-43b8-853f-bfe08b9ee51c       Apple         VGA       3 MP   \n",
       "350  4bc04df0-998a-4292-b84e-ef46e7094e88       Vertu      2.1 MP     1.3 MP   \n",
       "395  a687296c-0019-419f-bd49-0da356c03a1b       Vertu        8 MP     0.3 MP   \n",
       "431  7b09064e-5251-4888-ae37-f876193add7f         HTC        5 MP    3.15 MP   \n",
       "453  015ee502-73c7-4408-9a07-984bcb06c089  Blackberry        8 MP    20.7 MP   \n",
       "513  49a9eccd-db20-4ad8-a97e-c860a28ef246      Gionee        7 MP      23 MP   \n",
       "516  0bdc8cf6-4983-45f7-98ad-f7ea4cb6a0eb   Microsoft          No      16 MP   \n",
       "604  54c2e37b-fb7d-48a7-8c92-c8911c34afca   Panasonic      5.1 MP       3 MP   \n",
       "658  5fffafeb-b3d5-45c5-b68a-376833cf5c32   Panasonic      1.2 MP      20 MP   \n",
       "700  e2e426c6-0dcb-4864-984f-1eb3bb87c9b2  Blackberry      1.3 MP     0.3 MP   \n",
       "740  8ba30f63-6c83-484e-a372-d29bc506dd5a    Micromax        4 MP       8 MP   \n",
       "768  891a2c57-c87e-4ec7-a9ff-f640c115025c        Sony       23 MP     0.3 MP   \n",
       "769  80f9733d-a748-4183-94f4-ca33574d8b20       Nokia      5.1 MP      12 MP   \n",
       "907  2b3e17d0-abc3-44cf-84f4-c3d6db669269         HTC      5.1 MP      10 MP   \n",
       "917  4eccffde-f64b-4978-9171-ae4eeab8e53b         HTC       23 MP       5 MP   \n",
       "\n",
       "        ROM   RAM  MicroSD DisplayType  Ratings  \n",
       "149  256 GB  8 GB     True         IPS        4  \n",
       "150  256 GB  8 GB     True      AMOLED        4  \n",
       "223  256 GB  8 GB    False         IPS        3  \n",
       "228  256 GB  8 GB     True      AMOLED        3  \n",
       "331  256 GB  8 GB     True      AMOLED        5  \n",
       "333  256 GB  8 GB    False      AMOLED        4  \n",
       "350  256 GB  8 GB    False      AMOLED        1  \n",
       "395  256 GB  8 GB    False         IPS        2  \n",
       "431  256 GB  8 GB    False         IPS        1  \n",
       "453  256 GB  8 GB     True      AMOLED        5  \n",
       "513  256 GB  8 GB     True      AMOLED        1  \n",
       "516  256 GB  8 GB     True         IPS        4  \n",
       "604  256 GB  8 GB     True         IPS        3  \n",
       "658  256 GB  8 GB    False         IPS        4  \n",
       "700  256 GB  8 GB     True      AMOLED        5  \n",
       "740  256 GB  8 GB     True         IPS        5  \n",
       "768  256 GB  8 GB    False         IPS        3  \n",
       "769  256 GB  8 GB     True         IPS        1  \n",
       "907  256 GB  8 GB     True      AMOLED        3  \n",
       "917  256 GB  8 GB    False      AMOLED        2  "
      ]
     },
     "execution_count": 24,
     "metadata": {},
     "output_type": "execute_result"
    }
   ],
   "source": [
    "data[(data.RAM=='8 GB')&(data.ROM=='256 GB')]"
   ]
  },
  {
   "cell_type": "code",
   "execution_count": 25,
   "metadata": {},
   "outputs": [
    {
     "data": {
      "text/plain": [
       "20"
      ]
     },
     "execution_count": 25,
     "metadata": {},
     "output_type": "execute_result"
    }
   ],
   "source": [
    "len(data[(data.RAM=='8 GB')&(data.ROM=='256 GB')])"
   ]
  },
  {
   "cell_type": "code",
   "execution_count": 26,
   "metadata": {},
   "outputs": [],
   "source": [
    "E=20"
   ]
  },
  {
   "cell_type": "code",
   "execution_count": 27,
   "metadata": {},
   "outputs": [
    {
     "name": "stdout",
     "output_type": "stream",
     "text": [
      "Probability that a phone has 256GB ROM and 8GB RAM 0.02\n"
     ]
    }
   ],
   "source": [
    "print('Probability that a phone has 256GB ROM and 8GB RAM {}'.format(round(E/S,3)))"
   ]
  },
  {
   "cell_type": "markdown",
   "metadata": {},
   "source": [
    "#### Q6. If a randomly purchased phone has 64GB ROM, what will be the probability it has 4GB RAM?\n",
    "    \n",
    "   "
   ]
  },
  {
   "cell_type": "code",
   "execution_count": 28,
   "metadata": {},
   "outputs": [
    {
     "data": {
      "text/plain": [
       "256 GB    190\n",
       "128 GB    165\n",
       "8 GB      164\n",
       "16 GB     164\n",
       "32 GB     159\n",
       "64 GB     158\n",
       "Name: ROM, dtype: int64"
      ]
     },
     "execution_count": 28,
     "metadata": {},
     "output_type": "execute_result"
    }
   ],
   "source": [
    "'''\n",
    "Events:\n",
    "Event E: If phone has 64GB ROM, then it also has 4GB RAM\n",
    "Event A: Phone has 64GB ROM\n",
    "Event B: Phone has 4GB RAM.\n",
    "'''\n",
    "data.ROM.value_counts()"
   ]
  },
  {
   "cell_type": "code",
   "execution_count": 29,
   "metadata": {},
   "outputs": [],
   "source": [
    "A=158"
   ]
  },
  {
   "cell_type": "code",
   "execution_count": 30,
   "metadata": {},
   "outputs": [],
   "source": [
    "probability_A=round(A/S,3)"
   ]
  },
  {
   "cell_type": "code",
   "execution_count": 31,
   "metadata": {},
   "outputs": [
    {
     "data": {
      "text/html": [
       "<div>\n",
       "<style scoped>\n",
       "    .dataframe tbody tr th:only-of-type {\n",
       "        vertical-align: middle;\n",
       "    }\n",
       "\n",
       "    .dataframe tbody tr th {\n",
       "        vertical-align: top;\n",
       "    }\n",
       "\n",
       "    .dataframe thead th {\n",
       "        text-align: right;\n",
       "    }\n",
       "</style>\n",
       "<table border=\"1\" class=\"dataframe\">\n",
       "  <thead>\n",
       "    <tr style=\"text-align: right;\">\n",
       "      <th>RAM</th>\n",
       "      <th>1 GB</th>\n",
       "      <th>128 GB</th>\n",
       "      <th>16 GB</th>\n",
       "      <th>2 GB</th>\n",
       "      <th>256 GB</th>\n",
       "      <th>3 GB</th>\n",
       "      <th>32 GB</th>\n",
       "      <th>4 GB</th>\n",
       "      <th>512 MB</th>\n",
       "      <th>64 GB</th>\n",
       "      <th>8 GB</th>\n",
       "      <th>All</th>\n",
       "    </tr>\n",
       "    <tr>\n",
       "      <th>ROM</th>\n",
       "      <th></th>\n",
       "      <th></th>\n",
       "      <th></th>\n",
       "      <th></th>\n",
       "      <th></th>\n",
       "      <th></th>\n",
       "      <th></th>\n",
       "      <th></th>\n",
       "      <th></th>\n",
       "      <th></th>\n",
       "      <th></th>\n",
       "      <th></th>\n",
       "    </tr>\n",
       "  </thead>\n",
       "  <tbody>\n",
       "    <tr>\n",
       "      <th>128 GB</th>\n",
       "      <td>11</td>\n",
       "      <td>11</td>\n",
       "      <td>20</td>\n",
       "      <td>14</td>\n",
       "      <td>19</td>\n",
       "      <td>15</td>\n",
       "      <td>15</td>\n",
       "      <td>14</td>\n",
       "      <td>16</td>\n",
       "      <td>18</td>\n",
       "      <td>12</td>\n",
       "      <td>165</td>\n",
       "    </tr>\n",
       "    <tr>\n",
       "      <th>16 GB</th>\n",
       "      <td>15</td>\n",
       "      <td>16</td>\n",
       "      <td>17</td>\n",
       "      <td>13</td>\n",
       "      <td>14</td>\n",
       "      <td>16</td>\n",
       "      <td>15</td>\n",
       "      <td>21</td>\n",
       "      <td>12</td>\n",
       "      <td>14</td>\n",
       "      <td>11</td>\n",
       "      <td>164</td>\n",
       "    </tr>\n",
       "    <tr>\n",
       "      <th>256 GB</th>\n",
       "      <td>20</td>\n",
       "      <td>19</td>\n",
       "      <td>23</td>\n",
       "      <td>18</td>\n",
       "      <td>15</td>\n",
       "      <td>19</td>\n",
       "      <td>10</td>\n",
       "      <td>13</td>\n",
       "      <td>13</td>\n",
       "      <td>20</td>\n",
       "      <td>20</td>\n",
       "      <td>190</td>\n",
       "    </tr>\n",
       "    <tr>\n",
       "      <th>32 GB</th>\n",
       "      <td>14</td>\n",
       "      <td>18</td>\n",
       "      <td>18</td>\n",
       "      <td>10</td>\n",
       "      <td>13</td>\n",
       "      <td>15</td>\n",
       "      <td>11</td>\n",
       "      <td>17</td>\n",
       "      <td>9</td>\n",
       "      <td>22</td>\n",
       "      <td>12</td>\n",
       "      <td>159</td>\n",
       "    </tr>\n",
       "    <tr>\n",
       "      <th>64 GB</th>\n",
       "      <td>15</td>\n",
       "      <td>18</td>\n",
       "      <td>18</td>\n",
       "      <td>12</td>\n",
       "      <td>8</td>\n",
       "      <td>22</td>\n",
       "      <td>15</td>\n",
       "      <td>11</td>\n",
       "      <td>10</td>\n",
       "      <td>11</td>\n",
       "      <td>18</td>\n",
       "      <td>158</td>\n",
       "    </tr>\n",
       "    <tr>\n",
       "      <th>8 GB</th>\n",
       "      <td>15</td>\n",
       "      <td>15</td>\n",
       "      <td>15</td>\n",
       "      <td>16</td>\n",
       "      <td>11</td>\n",
       "      <td>16</td>\n",
       "      <td>17</td>\n",
       "      <td>17</td>\n",
       "      <td>11</td>\n",
       "      <td>14</td>\n",
       "      <td>17</td>\n",
       "      <td>164</td>\n",
       "    </tr>\n",
       "    <tr>\n",
       "      <th>All</th>\n",
       "      <td>90</td>\n",
       "      <td>97</td>\n",
       "      <td>111</td>\n",
       "      <td>83</td>\n",
       "      <td>80</td>\n",
       "      <td>103</td>\n",
       "      <td>83</td>\n",
       "      <td>93</td>\n",
       "      <td>71</td>\n",
       "      <td>99</td>\n",
       "      <td>90</td>\n",
       "      <td>1000</td>\n",
       "    </tr>\n",
       "  </tbody>\n",
       "</table>\n",
       "</div>"
      ],
      "text/plain": [
       "RAM     1 GB  128 GB  16 GB  2 GB  256 GB  3 GB  32 GB  4 GB  512 MB  64 GB  \\\n",
       "ROM                                                                           \n",
       "128 GB    11      11     20    14      19    15     15    14      16     18   \n",
       "16 GB     15      16     17    13      14    16     15    21      12     14   \n",
       "256 GB    20      19     23    18      15    19     10    13      13     20   \n",
       "32 GB     14      18     18    10      13    15     11    17       9     22   \n",
       "64 GB     15      18     18    12       8    22     15    11      10     11   \n",
       "8 GB      15      15     15    16      11    16     17    17      11     14   \n",
       "All       90      97    111    83      80   103     83    93      71     99   \n",
       "\n",
       "RAM     8 GB   All  \n",
       "ROM                 \n",
       "128 GB    12   165  \n",
       "16 GB     11   164  \n",
       "256 GB    20   190  \n",
       "32 GB     12   159  \n",
       "64 GB     18   158  \n",
       "8 GB      17   164  \n",
       "All       90  1000  "
      ]
     },
     "execution_count": 31,
     "metadata": {},
     "output_type": "execute_result"
    }
   ],
   "source": [
    "# Let's see joint event when phone has both 64GB ROM and 4GB RAM\n",
    "pd.crosstab(data.ROM,data.RAM, margins=True)"
   ]
  },
  {
   "cell_type": "code",
   "execution_count": 32,
   "metadata": {},
   "outputs": [],
   "source": [
    "A_and_B=11"
   ]
  },
  {
   "cell_type": "code",
   "execution_count": 33,
   "metadata": {},
   "outputs": [],
   "source": [
    "probability_A_and_B=round(A_and_B/S,3)"
   ]
  },
  {
   "cell_type": "code",
   "execution_count": 34,
   "metadata": {},
   "outputs": [
    {
     "name": "stdout",
     "output_type": "stream",
     "text": [
      "Joint probability that a phone has 64GB ROM and 4GB RAM:  0.011\n"
     ]
    }
   ],
   "source": [
    "print('Joint probability that a phone has 64GB ROM and 4GB RAM: ',probability_A_and_B)"
   ]
  },
  {
   "cell_type": "code",
   "execution_count": 35,
   "metadata": {},
   "outputs": [
    {
     "name": "stdout",
     "output_type": "stream",
     "text": [
      "Probability that a phone has 64GB ROM, then it also has 4GB RAM 0.07\n"
     ]
    }
   ],
   "source": [
    "print('Probability that a phone has 64GB ROM, then it also has 4GB RAM {}'.format(\n",
    "    round(probability_A_and_B/probability_A,3)))"
   ]
  },
  {
   "cell_type": "markdown",
   "metadata": {},
   "source": [
    "####  Q7. Given the phone has MicroSD Slot, find out the probability that it has at least 3 star rating.\n",
    "\n",
    "    "
   ]
  },
  {
   "cell_type": "code",
   "execution_count": 36,
   "metadata": {},
   "outputs": [
    {
     "data": {
      "text/plain": [
       "True     506\n",
       "False    494\n",
       "Name: MicroSD, dtype: int64"
      ]
     },
     "execution_count": 36,
     "metadata": {},
     "output_type": "execute_result"
    }
   ],
   "source": [
    "'''\n",
    "Events:\n",
    "Event E: If phone has MicroSD Slot, then it has atleast 3 star rating.\n",
    "Event A: Phone has MicroSD Slot\n",
    "Event B: Phone has 3 star rating.\n",
    "'''\n",
    "data.MicroSD.value_counts()"
   ]
  },
  {
   "cell_type": "code",
   "execution_count": 37,
   "metadata": {},
   "outputs": [],
   "source": [
    "A=506"
   ]
  },
  {
   "cell_type": "code",
   "execution_count": 38,
   "metadata": {},
   "outputs": [],
   "source": [
    "probability_A=round(A/S,3)"
   ]
  },
  {
   "cell_type": "code",
   "execution_count": 39,
   "metadata": {},
   "outputs": [
    {
     "name": "stdout",
     "output_type": "stream",
     "text": [
      "Probability that a phone has MicroSD Slot 0.506\n"
     ]
    }
   ],
   "source": [
    "print('Probability that a phone has MicroSD Slot {}'.format(probability_A))"
   ]
  },
  {
   "cell_type": "code",
   "execution_count": 40,
   "metadata": {},
   "outputs": [
    {
     "data": {
      "text/html": [
       "<div>\n",
       "<style scoped>\n",
       "    .dataframe tbody tr th:only-of-type {\n",
       "        vertical-align: middle;\n",
       "    }\n",
       "\n",
       "    .dataframe tbody tr th {\n",
       "        vertical-align: top;\n",
       "    }\n",
       "\n",
       "    .dataframe thead th {\n",
       "        text-align: right;\n",
       "    }\n",
       "</style>\n",
       "<table border=\"1\" class=\"dataframe\">\n",
       "  <thead>\n",
       "    <tr style=\"text-align: right;\">\n",
       "      <th>Ratings</th>\n",
       "      <th>1</th>\n",
       "      <th>2</th>\n",
       "      <th>3</th>\n",
       "      <th>4</th>\n",
       "      <th>5</th>\n",
       "      <th>All</th>\n",
       "    </tr>\n",
       "    <tr>\n",
       "      <th>MicroSD</th>\n",
       "      <th></th>\n",
       "      <th></th>\n",
       "      <th></th>\n",
       "      <th></th>\n",
       "      <th></th>\n",
       "      <th></th>\n",
       "    </tr>\n",
       "  </thead>\n",
       "  <tbody>\n",
       "    <tr>\n",
       "      <th>False</th>\n",
       "      <td>88</td>\n",
       "      <td>90</td>\n",
       "      <td>100</td>\n",
       "      <td>120</td>\n",
       "      <td>96</td>\n",
       "      <td>494</td>\n",
       "    </tr>\n",
       "    <tr>\n",
       "      <th>True</th>\n",
       "      <td>110</td>\n",
       "      <td>84</td>\n",
       "      <td>95</td>\n",
       "      <td>111</td>\n",
       "      <td>106</td>\n",
       "      <td>506</td>\n",
       "    </tr>\n",
       "    <tr>\n",
       "      <th>All</th>\n",
       "      <td>198</td>\n",
       "      <td>174</td>\n",
       "      <td>195</td>\n",
       "      <td>231</td>\n",
       "      <td>202</td>\n",
       "      <td>1000</td>\n",
       "    </tr>\n",
       "  </tbody>\n",
       "</table>\n",
       "</div>"
      ],
      "text/plain": [
       "Ratings    1    2    3    4    5   All\n",
       "MicroSD                               \n",
       "False     88   90  100  120   96   494\n",
       "True     110   84   95  111  106   506\n",
       "All      198  174  195  231  202  1000"
      ]
     },
     "execution_count": 40,
     "metadata": {},
     "output_type": "execute_result"
    }
   ],
   "source": [
    "# Let's see joint event when phone has MicroSD SLot and 3 star rating\n",
    "pd.crosstab(data.MicroSD,data.Ratings, margins=True)"
   ]
  },
  {
   "cell_type": "code",
   "execution_count": 41,
   "metadata": {},
   "outputs": [],
   "source": [
    "A_and_B=95"
   ]
  },
  {
   "cell_type": "code",
   "execution_count": 42,
   "metadata": {},
   "outputs": [],
   "source": [
    "probability_A_and_B=round(A_and_B/S,3)"
   ]
  },
  {
   "cell_type": "code",
   "execution_count": 43,
   "metadata": {},
   "outputs": [
    {
     "name": "stdout",
     "output_type": "stream",
     "text": [
      "Probability that phone has MicroSD Slot and 3 star rating 0.095\n"
     ]
    }
   ],
   "source": [
    "print('Probability that phone has MicroSD Slot and 3 star rating {}'.format(probability_A_and_B))"
   ]
  },
  {
   "cell_type": "code",
   "execution_count": 44,
   "metadata": {},
   "outputs": [
    {
     "name": "stdout",
     "output_type": "stream",
     "text": [
      "Probability that if phone has MicroSD Slot, then it has atleast 3 star rating 0.188\n"
     ]
    }
   ],
   "source": [
    "print('Probability that if phone has MicroSD Slot, then it has atleast 3 star rating {}'.format(\n",
    "        round(probability_A_and_B/probability_A,3)))"
   ]
  },
  {
   "cell_type": "markdown",
   "metadata": {},
   "source": [
    "#### Q8. If the phone has 3 star ratings, find the probability that it has at least 8 GB RAM.\n",
    "\n",
    "    "
   ]
  },
  {
   "cell_type": "code",
   "execution_count": 45,
   "metadata": {},
   "outputs": [
    {
     "data": {
      "text/plain": [
       "4    231\n",
       "5    202\n",
       "1    198\n",
       "3    195\n",
       "2    174\n",
       "Name: Ratings, dtype: int64"
      ]
     },
     "execution_count": 45,
     "metadata": {},
     "output_type": "execute_result"
    }
   ],
   "source": [
    "'''\n",
    "Events:\n",
    "Event E: If phone has 3 star rating, then it has at leat 8 GB ROM.\n",
    "Event A: Phone has 3 star rating.\n",
    "Event B: Phone has 8 GB ROM.\n",
    "'''\n",
    "data.Ratings.value_counts()"
   ]
  },
  {
   "cell_type": "code",
   "execution_count": 46,
   "metadata": {},
   "outputs": [],
   "source": [
    "A=195"
   ]
  },
  {
   "cell_type": "code",
   "execution_count": 47,
   "metadata": {},
   "outputs": [],
   "source": [
    "probability_A=round(A/S,3)"
   ]
  },
  {
   "cell_type": "code",
   "execution_count": 48,
   "metadata": {},
   "outputs": [
    {
     "name": "stdout",
     "output_type": "stream",
     "text": [
      "Probability that a phone has 3 star rating 0.195\n"
     ]
    }
   ],
   "source": [
    "print('Probability that a phone has 3 star rating {}'.format(probability_A))"
   ]
  },
  {
   "cell_type": "code",
   "execution_count": 49,
   "metadata": {},
   "outputs": [
    {
     "data": {
      "text/html": [
       "<div>\n",
       "<style scoped>\n",
       "    .dataframe tbody tr th:only-of-type {\n",
       "        vertical-align: middle;\n",
       "    }\n",
       "\n",
       "    .dataframe tbody tr th {\n",
       "        vertical-align: top;\n",
       "    }\n",
       "\n",
       "    .dataframe thead th {\n",
       "        text-align: right;\n",
       "    }\n",
       "</style>\n",
       "<table border=\"1\" class=\"dataframe\">\n",
       "  <thead>\n",
       "    <tr style=\"text-align: right;\">\n",
       "      <th>ROM</th>\n",
       "      <th>128 GB</th>\n",
       "      <th>16 GB</th>\n",
       "      <th>256 GB</th>\n",
       "      <th>32 GB</th>\n",
       "      <th>64 GB</th>\n",
       "      <th>8 GB</th>\n",
       "      <th>All</th>\n",
       "    </tr>\n",
       "    <tr>\n",
       "      <th>Ratings</th>\n",
       "      <th></th>\n",
       "      <th></th>\n",
       "      <th></th>\n",
       "      <th></th>\n",
       "      <th></th>\n",
       "      <th></th>\n",
       "      <th></th>\n",
       "    </tr>\n",
       "  </thead>\n",
       "  <tbody>\n",
       "    <tr>\n",
       "      <th>1</th>\n",
       "      <td>32</td>\n",
       "      <td>35</td>\n",
       "      <td>30</td>\n",
       "      <td>41</td>\n",
       "      <td>25</td>\n",
       "      <td>35</td>\n",
       "      <td>198</td>\n",
       "    </tr>\n",
       "    <tr>\n",
       "      <th>2</th>\n",
       "      <td>29</td>\n",
       "      <td>23</td>\n",
       "      <td>36</td>\n",
       "      <td>29</td>\n",
       "      <td>31</td>\n",
       "      <td>26</td>\n",
       "      <td>174</td>\n",
       "    </tr>\n",
       "    <tr>\n",
       "      <th>3</th>\n",
       "      <td>27</td>\n",
       "      <td>36</td>\n",
       "      <td>47</td>\n",
       "      <td>29</td>\n",
       "      <td>28</td>\n",
       "      <td>28</td>\n",
       "      <td>195</td>\n",
       "    </tr>\n",
       "    <tr>\n",
       "      <th>4</th>\n",
       "      <td>43</td>\n",
       "      <td>38</td>\n",
       "      <td>41</td>\n",
       "      <td>34</td>\n",
       "      <td>34</td>\n",
       "      <td>41</td>\n",
       "      <td>231</td>\n",
       "    </tr>\n",
       "    <tr>\n",
       "      <th>5</th>\n",
       "      <td>34</td>\n",
       "      <td>32</td>\n",
       "      <td>36</td>\n",
       "      <td>26</td>\n",
       "      <td>40</td>\n",
       "      <td>34</td>\n",
       "      <td>202</td>\n",
       "    </tr>\n",
       "    <tr>\n",
       "      <th>All</th>\n",
       "      <td>165</td>\n",
       "      <td>164</td>\n",
       "      <td>190</td>\n",
       "      <td>159</td>\n",
       "      <td>158</td>\n",
       "      <td>164</td>\n",
       "      <td>1000</td>\n",
       "    </tr>\n",
       "  </tbody>\n",
       "</table>\n",
       "</div>"
      ],
      "text/plain": [
       "ROM      128 GB  16 GB  256 GB  32 GB  64 GB  8 GB   All\n",
       "Ratings                                                 \n",
       "1            32     35      30     41     25    35   198\n",
       "2            29     23      36     29     31    26   174\n",
       "3            27     36      47     29     28    28   195\n",
       "4            43     38      41     34     34    41   231\n",
       "5            34     32      36     26     40    34   202\n",
       "All         165    164     190    159    158   164  1000"
      ]
     },
     "execution_count": 49,
     "metadata": {},
     "output_type": "execute_result"
    }
   ],
   "source": [
    "# Let's see joint event when phone has 3 star rating and 8 GB ROM\n",
    "pd.crosstab(data.Ratings,data.ROM, margins=True)"
   ]
  },
  {
   "cell_type": "code",
   "execution_count": 50,
   "metadata": {},
   "outputs": [],
   "source": [
    "A_and_B=28"
   ]
  },
  {
   "cell_type": "code",
   "execution_count": 51,
   "metadata": {},
   "outputs": [],
   "source": [
    "probability_A_and_B=round(A_and_B/S,3)"
   ]
  },
  {
   "cell_type": "code",
   "execution_count": 52,
   "metadata": {},
   "outputs": [
    {
     "name": "stdout",
     "output_type": "stream",
     "text": [
      "Probability that a phone has 3 star rating and 8 GB ROM 0.028\n"
     ]
    }
   ],
   "source": [
    "print('Probability that a phone has 3 star rating and 8 GB ROM {}'.format(probability_A_and_B))"
   ]
  },
  {
   "cell_type": "code",
   "execution_count": 53,
   "metadata": {},
   "outputs": [
    {
     "name": "stdout",
     "output_type": "stream",
     "text": [
      "Probability that if phone has 3 star rating, then it has at leat 8 GB ROM 0.144\n"
     ]
    }
   ],
   "source": [
    "print('Probability that if phone has 3 star rating, then it has at leat 8 GB ROM {}'.format(\n",
    "        round(probability_A_and_B/probability_A,3)))"
   ]
  },
  {
   "cell_type": "markdown",
   "metadata": {},
   "source": [
    "#### Q9. Given the phone has an IPS display, find the probability that it has a 8 MP rear camera.\n",
    "\n",
    "    "
   ]
  },
  {
   "cell_type": "code",
   "execution_count": 54,
   "metadata": {},
   "outputs": [
    {
     "data": {
      "text/plain": [
       "AMOLED    511\n",
       "IPS       489\n",
       "Name: DisplayType, dtype: int64"
      ]
     },
     "execution_count": 54,
     "metadata": {},
     "output_type": "execute_result"
    }
   ],
   "source": [
    "'''\n",
    "Events:\n",
    "Event E: If phone has IPS display, then it has a 8 MP camera\n",
    "Event A: Phone has IPS display\n",
    "Event B: Phone has 8 MP camera\n",
    "'''\n",
    "data.DisplayType.value_counts()"
   ]
  },
  {
   "cell_type": "code",
   "execution_count": 55,
   "metadata": {},
   "outputs": [],
   "source": [
    "A=489"
   ]
  },
  {
   "cell_type": "code",
   "execution_count": 56,
   "metadata": {},
   "outputs": [],
   "source": [
    "probability_A=round(A/S,3)"
   ]
  },
  {
   "cell_type": "code",
   "execution_count": 57,
   "metadata": {},
   "outputs": [
    {
     "name": "stdout",
     "output_type": "stream",
     "text": [
      " Probability that a phone has  IPS display 0.489\n"
     ]
    }
   ],
   "source": [
    "print(' Probability that a phone has  IPS display {}'.format(probability_A))"
   ]
  },
  {
   "cell_type": "code",
   "execution_count": 58,
   "metadata": {},
   "outputs": [
    {
     "data": {
      "text/html": [
       "<div>\n",
       "<style scoped>\n",
       "    .dataframe tbody tr th:only-of-type {\n",
       "        vertical-align: middle;\n",
       "    }\n",
       "\n",
       "    .dataframe tbody tr th {\n",
       "        vertical-align: top;\n",
       "    }\n",
       "\n",
       "    .dataframe thead th {\n",
       "        text-align: right;\n",
       "    }\n",
       "</style>\n",
       "<table border=\"1\" class=\"dataframe\">\n",
       "  <thead>\n",
       "    <tr style=\"text-align: right;\">\n",
       "      <th>RearCamera</th>\n",
       "      <th>0.3 MP</th>\n",
       "      <th>1.3 MP</th>\n",
       "      <th>10 MP</th>\n",
       "      <th>12 MP</th>\n",
       "      <th>13 MP</th>\n",
       "      <th>16 MP</th>\n",
       "      <th>2 MP</th>\n",
       "      <th>20 MP</th>\n",
       "      <th>20.7 MP</th>\n",
       "      <th>21 MP</th>\n",
       "      <th>23 MP</th>\n",
       "      <th>3 MP</th>\n",
       "      <th>3.15 MP</th>\n",
       "      <th>5 MP</th>\n",
       "      <th>8 MP</th>\n",
       "      <th>No</th>\n",
       "      <th>All</th>\n",
       "    </tr>\n",
       "    <tr>\n",
       "      <th>DisplayType</th>\n",
       "      <th></th>\n",
       "      <th></th>\n",
       "      <th></th>\n",
       "      <th></th>\n",
       "      <th></th>\n",
       "      <th></th>\n",
       "      <th></th>\n",
       "      <th></th>\n",
       "      <th></th>\n",
       "      <th></th>\n",
       "      <th></th>\n",
       "      <th></th>\n",
       "      <th></th>\n",
       "      <th></th>\n",
       "      <th></th>\n",
       "      <th></th>\n",
       "      <th></th>\n",
       "    </tr>\n",
       "  </thead>\n",
       "  <tbody>\n",
       "    <tr>\n",
       "      <th>AMOLED</th>\n",
       "      <td>42</td>\n",
       "      <td>36</td>\n",
       "      <td>45</td>\n",
       "      <td>33</td>\n",
       "      <td>38</td>\n",
       "      <td>27</td>\n",
       "      <td>33</td>\n",
       "      <td>32</td>\n",
       "      <td>39</td>\n",
       "      <td>0</td>\n",
       "      <td>39</td>\n",
       "      <td>38</td>\n",
       "      <td>21</td>\n",
       "      <td>35</td>\n",
       "      <td>32</td>\n",
       "      <td>21</td>\n",
       "      <td>511</td>\n",
       "    </tr>\n",
       "    <tr>\n",
       "      <th>IPS</th>\n",
       "      <td>29</td>\n",
       "      <td>34</td>\n",
       "      <td>29</td>\n",
       "      <td>28</td>\n",
       "      <td>37</td>\n",
       "      <td>39</td>\n",
       "      <td>34</td>\n",
       "      <td>42</td>\n",
       "      <td>29</td>\n",
       "      <td>1</td>\n",
       "      <td>34</td>\n",
       "      <td>35</td>\n",
       "      <td>37</td>\n",
       "      <td>29</td>\n",
       "      <td>31</td>\n",
       "      <td>21</td>\n",
       "      <td>489</td>\n",
       "    </tr>\n",
       "    <tr>\n",
       "      <th>All</th>\n",
       "      <td>71</td>\n",
       "      <td>70</td>\n",
       "      <td>74</td>\n",
       "      <td>61</td>\n",
       "      <td>75</td>\n",
       "      <td>66</td>\n",
       "      <td>67</td>\n",
       "      <td>74</td>\n",
       "      <td>68</td>\n",
       "      <td>1</td>\n",
       "      <td>73</td>\n",
       "      <td>73</td>\n",
       "      <td>58</td>\n",
       "      <td>64</td>\n",
       "      <td>63</td>\n",
       "      <td>42</td>\n",
       "      <td>1000</td>\n",
       "    </tr>\n",
       "  </tbody>\n",
       "</table>\n",
       "</div>"
      ],
      "text/plain": [
       "RearCamera   0.3 MP  1.3 MP  10 MP  12 MP  13 MP  16 MP  2 MP  20 MP  20.7 MP  \\\n",
       "DisplayType                                                                     \n",
       "AMOLED           42      36     45     33     38     27    33     32       39   \n",
       "IPS              29      34     29     28     37     39    34     42       29   \n",
       "All              71      70     74     61     75     66    67     74       68   \n",
       "\n",
       "RearCamera   21 MP  23 MP  3 MP  3.15 MP  5 MP  8 MP  No   All  \n",
       "DisplayType                                                     \n",
       "AMOLED           0     39    38       21    35    32  21   511  \n",
       "IPS              1     34    35       37    29    31  21   489  \n",
       "All              1     73    73       58    64    63  42  1000  "
      ]
     },
     "execution_count": 58,
     "metadata": {},
     "output_type": "execute_result"
    }
   ],
   "source": [
    "pd.crosstab(data.DisplayType,data.RearCamera,margins=True)"
   ]
  },
  {
   "cell_type": "code",
   "execution_count": 59,
   "metadata": {},
   "outputs": [],
   "source": [
    "A_and_B=31"
   ]
  },
  {
   "cell_type": "code",
   "execution_count": 60,
   "metadata": {},
   "outputs": [],
   "source": [
    "probability_A_and_B=round(A_and_B/S,3)"
   ]
  },
  {
   "cell_type": "code",
   "execution_count": 61,
   "metadata": {},
   "outputs": [
    {
     "name": "stdout",
     "output_type": "stream",
     "text": [
      "Probability phone has IPS display and 8 MP Rear Camera 0.031\n"
     ]
    }
   ],
   "source": [
    "print('Probability phone has IPS display and 8 MP Rear Camera',probability_A_and_B)"
   ]
  },
  {
   "cell_type": "code",
   "execution_count": 62,
   "metadata": {},
   "outputs": [
    {
     "name": "stdout",
     "output_type": "stream",
     "text": [
      "Probability that if phone has IPS display, then it has a 8 MP camera  0.063\n"
     ]
    }
   ],
   "source": [
    "print('Probability that if phone has IPS display, then it has a 8 MP camera ',round(probability_A_and_B/probability_A,3))"
   ]
  },
  {
   "cell_type": "markdown",
   "metadata": {},
   "source": [
    "# In-Class Practice Session II"
   ]
  },
  {
   "attachments": {},
   "cell_type": "markdown",
   "metadata": {},
   "source": [
    "Q1. Men heights have a mean of 63.6 inches and a standard deviation of 2.5 inches.  \n",
    "\t Find the z-score corresponding to a man with a height of 78 inches.\n",
    "\n",
    "Q2. The local electricity authority conducted a study on electrical bills. It was found that average bill amount\n",
    "\t was 527 with a standard deviation of 112. What is the probability that a citizen’s bill will be more\n",
    "\t than 500? \n",
    "\n",
    "Q3. The average IQ of a human being is 100 and standard deviation of 16. A certain individual has an IQ of 160.\n",
    " \n",
    "- What is the difference between Individual’s IQ and the mean? \n",
    "- How many standard deviations is that? \n",
    "- Convert Individual’s IQ score to a z score. \n",
    "- If we consider, usual IQ scores to be those that  z-scores between -2 and 2, \n",
    "       then is the Individual’s IQ usual or unusual?  \n"
   ]
  },
  {
   "cell_type": "markdown",
   "metadata": {},
   "source": [
    "#### Q1. Men heights have a mean of 63.6 inches and a standard deviation of 2.5 inches.\n",
    "#### Find the z-score corresponding to a man with a height of 78 inches."
   ]
  },
  {
   "attachments": {
    "image.png": {
     "image/png": "[encoded data removed]"
    }
   },
   "cell_type": "markdown",
   "metadata": {},
   "source": [
    "![image.png](attachment:image.png)"
   ]
  },
  {
   "cell_type": "code",
   "execution_count": 63,
   "metadata": {},
   "outputs": [],
   "source": [
    "# In this case we just have calculate the z score:\n",
    "X = 78\n",
    "mean = 63.6\n",
    "std = 2.5"
   ]
  },
  {
   "cell_type": "code",
   "execution_count": 64,
   "metadata": {},
   "outputs": [],
   "source": [
    "\n",
    "Z = (X-mean)/std"
   ]
  },
  {
   "cell_type": "code",
   "execution_count": 65,
   "metadata": {},
   "outputs": [
    {
     "data": {
      "text/plain": [
       "5.76"
      ]
     },
     "execution_count": 65,
     "metadata": {},
     "output_type": "execute_result"
    }
   ],
   "source": [
    "Z"
   ]
  },
  {
   "cell_type": "markdown",
   "metadata": {},
   "source": [
    "#### Q2. The local electricity authority conducted a study on electrical bills. It was found that average bill amount was 527 with a standard deviation of 112. What is the probability that a citizen’s bill will be more than 500?"
   ]
  },
  {
   "cell_type": "code",
   "execution_count": 66,
   "metadata": {},
   "outputs": [],
   "source": [
    "mean = 527\n",
    "std = 112\n",
    "X = 500"
   ]
  },
  {
   "cell_type": "code",
   "execution_count": 67,
   "metadata": {},
   "outputs": [],
   "source": [
    "# Let's calculate z score\n",
    "\n",
    "Z = (X-mean)/std"
   ]
  },
  {
   "cell_type": "code",
   "execution_count": 68,
   "metadata": {},
   "outputs": [
    {
     "name": "stdout",
     "output_type": "stream",
     "text": [
      "-0.241\n"
     ]
    }
   ],
   "source": [
    "print(round(Z,3))"
   ]
  },
  {
   "cell_type": "markdown",
   "metadata": {},
   "source": [
    "For next step, we can use the Z-score table from here: https://www.dummies.com/education/math/statistics/how-to-use-the-z-table/"
   ]
  },
  {
   "cell_type": "markdown",
   "metadata": {},
   "source": [
    "we get __P(Z<-.241)=0.4052__"
   ]
  },
  {
   "cell_type": "markdown",
   "metadata": {},
   "source": [
    "to calculate __P(Z>-0.241) = 1 - P(Z<-0.241)__"
   ]
  },
  {
   "cell_type": "code",
   "execution_count": 69,
   "metadata": {},
   "outputs": [
    {
     "name": "stdout",
     "output_type": "stream",
     "text": [
      "Probability that customer's bill will be more than 500:  0.5948\n"
     ]
    }
   ],
   "source": [
    "print('Probability that customer\\'s bill will be more than 500: ',1-0.4052)"
   ]
  },
  {
   "cell_type": "markdown",
   "metadata": {},
   "source": [
    "Q3. The average IQ of a human being is 100 and standard deviation of 16. A certain individual has an IQ of 160.\n",
    "<ol> \n",
    "<li> What is the difference between Individual’s IQ and the mean? \n",
    "<li> How many standard deviations is that? \n",
    "<li> Convert Individual’s IQ score to a z score. \n",
    "<li> If we consider, usual IQ scores to be those that  z-scores between -2 and 2, \n",
    "       then is the Individual’s IQ usual or unusual? "
   ]
  },
  {
   "cell_type": "markdown",
   "metadata": {},
   "source": [
    "#### 1. What is the difference between Individual’s IQ and the mean?"
   ]
  },
  {
   "cell_type": "code",
   "execution_count": 70,
   "metadata": {},
   "outputs": [
    {
     "name": "stdout",
     "output_type": "stream",
     "text": [
      "difference between Individual’s IQ and the mean 60\n"
     ]
    }
   ],
   "source": [
    "ind_IQ=160\n",
    "mean=100\n",
    "print('difference between Individual’s IQ and the mean',ind_IQ-mean)"
   ]
  },
  {
   "cell_type": "markdown",
   "metadata": {},
   "source": [
    "#### 2. How many standard deviations is that?"
   ]
  },
  {
   "cell_type": "code",
   "execution_count": 71,
   "metadata": {},
   "outputs": [],
   "source": [
    "std=16"
   ]
  },
  {
   "cell_type": "code",
   "execution_count": 72,
   "metadata": {},
   "outputs": [
    {
     "name": "stdout",
     "output_type": "stream",
     "text": [
      "3.75 number of standard deviations\n"
     ]
    }
   ],
   "source": [
    "print('{} number of standard deviations'.format(60/16))"
   ]
  },
  {
   "cell_type": "markdown",
   "metadata": {},
   "source": [
    "#### 3. Convert Individual’s IQ score to a z score."
   ]
  },
  {
   "cell_type": "code",
   "execution_count": 73,
   "metadata": {},
   "outputs": [],
   "source": [
    "Z=(160-100)/16"
   ]
  },
  {
   "cell_type": "code",
   "execution_count": 74,
   "metadata": {},
   "outputs": [
    {
     "name": "stdout",
     "output_type": "stream",
     "text": [
      "Z-score 3.75\n"
     ]
    }
   ],
   "source": [
    "print('Z-score',Z)"
   ]
  },
  {
   "cell_type": "markdown",
   "metadata": {},
   "source": [
    "#### 4. If we consider, usual IQ scores to be those that z-scores between -2 and 2, then is the Individual’s IQ usual or unusual?"
   ]
  },
  {
   "cell_type": "markdown",
   "metadata": {},
   "source": [
    "since Z-score is more than the range given, we can consider it as __Unusual__."
   ]
  }
 ],
 "metadata": {
  "kernelspec": {
   "display_name": "Python 3",
   "language": "python",
   "name": "python3"
  },
  "language_info": {
   "codemirror_mode": {
    "name": "ipython",
    "version": 3
   },
   "file_extension": ".py",
   "mimetype": "text/x-python",
   "name": "python",
   "nbconvert_exporter": "python",
   "pygments_lexer": "ipython3",
   "version": "3.8.5"
  },
  "varInspector": {
   "cols": {
    "lenName": 16,
    "lenType": 16,
    "lenVar": 40
   },
   "kernels_config": {
    "python": {
     "delete_cmd_postfix": "",
     "delete_cmd_prefix": "del ",
     "library": "var_list.py",
     "varRefreshCmd": "print(var_dic_list())"
    },
    "r": {
     "delete_cmd_postfix": ") ",
     "delete_cmd_prefix": "rm(",
     "library": "var_list.r",
     "varRefreshCmd": "cat(var_dic_list()) "
    }
   },
   "types_to_exclude": [
    "module",
    "function",
    "builtin_function_or_method",
    "instance",
    "_Feature"
   ],
   "window_display": false
  }
 },
 "nbformat": 4,
 "nbformat_minor": 4
}
