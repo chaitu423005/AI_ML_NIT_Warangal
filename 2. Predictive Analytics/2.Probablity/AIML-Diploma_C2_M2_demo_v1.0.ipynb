{
 "cells": [
  {
   "cell_type": "markdown",
   "metadata": {},
   "source": [
    "<h2><u>Predictive Analystics</u></h2>\n",
    "\n",
    "# Module 2 – Probability\n",
    "<h2> EnCare Bank Demo on Marginal and Joint Probability </h2>"
   ]
  },
  {
   "cell_type": "markdown",
   "metadata": {},
   "source": [
    "**Import Libraries**"
   ]
  },
  {
   "cell_type": "code",
   "execution_count": 2,
   "metadata": {
    "cell_id": "00004-75663bda-d766-4824-a7d7-7168c95c465a",
    "execution_millis": 3,
    "execution_start": 1603181615078,
    "output_cleared": false,
    "source_hash": "c76c7c51",
    "tags": []
   },
   "outputs": [],
   "source": [
    "import pandas as pd\n",
    "import numpy as np"
   ]
  },
  {
   "cell_type": "markdown",
   "metadata": {},
   "source": [
    "**Load Dataset**"
   ]
  },
  {
   "cell_type": "code",
   "execution_count": 3,
   "metadata": {
    "cell_id": "00004-0dd574ca-87fc-4c9b-9cfb-512d6ad2da94",
    "execution_millis": 152,
    "execution_start": 1603182705083,
    "output_cleared": false,
    "source_hash": "5401f30e",
    "tags": []
   },
   "outputs": [],
   "source": [
    "data = pd.read_csv('term_deposit.csv')"
   ]
  },
  {
   "cell_type": "code",
   "execution_count": 4,
   "metadata": {
    "cell_id": "00005-5da0872e-b7ee-435b-b0bc-ddae24f0b11d",
    "execution_millis": 64,
    "execution_start": 1603182710318,
    "output_cleared": false,
    "source_hash": "41313cfa",
    "tags": []
   },
   "outputs": [
    {
     "data": {
      "application/vnd.deepnote.dataframe.v2+json": {
       "column_count": 10,
       "columns": [
        {
         "dtype": "object",
         "name": "gender",
         "stats": {
          "categories": [
           {
            "count": 4,
            "name": "female"
           },
           {
            "count": 1,
            "name": "male"
           }
          ],
          "nan_count": 0,
          "unique_count": 2
         }
        },
        {
         "dtype": "int64",
         "name": "age",
         "stats": {
          "histogram": [
           {
            "bin_end": 39,
            "bin_start": 37,
            "count": 1
           },
           {
            "bin_end": 41,
            "bin_start": 39,
            "count": 1
           },
           {
            "bin_end": 43,
            "bin_start": 41,
            "count": 0
           },
           {
            "bin_end": 45,
            "bin_start": 43,
            "count": 0
           },
           {
            "bin_end": 47,
            "bin_start": 45,
            "count": 0
           },
           {
            "bin_end": 49,
            "bin_start": 47,
            "count": 0
           },
           {
            "bin_end": 51,
            "bin_start": 49,
            "count": 0
           },
           {
            "bin_end": 53,
            "bin_start": 51,
            "count": 0
           },
           {
            "bin_end": 55,
            "bin_start": 53,
            "count": 0
           },
           {
            "bin_end": 57,
            "bin_start": 55,
            "count": 3
           }
          ],
          "max": 57,
          "min": 37,
          "nan_count": 0,
          "unique_count": 4
         }
        },
        {
         "dtype": "object",
         "name": "job",
         "stats": {
          "categories": [
           {
            "count": 3,
            "name": "services"
           },
           {
            "count": 1,
            "name": "housemaid"
           },
           {
            "count": 1,
            "name": "admin."
           }
          ],
          "nan_count": 0,
          "unique_count": 3
         }
        },
        {
         "dtype": "object",
         "name": "marital",
         "stats": {
          "categories": [
           {
            "count": 5,
            "name": "married"
           }
          ],
          "nan_count": 0,
          "unique_count": 1
         }
        },
        {
         "dtype": "object",
         "name": "education",
         "stats": {
          "categories": [
           {
            "count": 3,
            "name": "high.school"
           },
           {
            "count": 1,
            "name": "basic.4y"
           },
           {
            "count": 1,
            "name": "basic.6y"
           }
          ],
          "nan_count": 0,
          "unique_count": 3
         }
        },
        {
         "dtype": "object",
         "name": "default",
         "stats": {
          "categories": [
           {
            "count": 4,
            "name": "no"
           },
           {
            "count": 1,
            "name": "yes"
           }
          ],
          "nan_count": 0,
          "unique_count": 2
         }
        },
        {
         "dtype": "object",
         "name": "housing",
         "stats": {
          "categories": [
           {
            "count": 4,
            "name": "no"
           },
           {
            "count": 1,
            "name": "yes"
           }
          ],
          "nan_count": 0,
          "unique_count": 2
         }
        },
        {
         "dtype": "object",
         "name": "loan",
         "stats": {
          "categories": [
           {
            "count": 4,
            "name": "no"
           },
           {
            "count": 1,
            "name": "yes"
           }
          ],
          "nan_count": 0,
          "unique_count": 2
         }
        },
        {
         "dtype": "object",
         "name": "contact",
         "stats": {
          "categories": [
           {
            "count": 5,
            "name": "telephone"
           }
          ],
          "nan_count": 0,
          "unique_count": 1
         }
        },
        {
         "dtype": "object",
         "name": "term_deposit",
         "stats": {
          "categories": [
           {
            "count": 5,
            "name": "no"
           }
          ],
          "nan_count": 0,
          "unique_count": 1
         }
        },
        {
         "dtype": "int64",
         "name": "_deepnote_index_column"
        }
       ],
       "row_count": 5,
       "rows_bottom": null,
       "rows_top": [
        {
         "_deepnote_index_column": 0,
         "age": 56,
         "contact": "telephone",
         "default": "no",
         "education": "basic.4y",
         "gender": "female",
         "housing": "no",
         "job": "housemaid",
         "loan": "no",
         "marital": "married",
         "term_deposit": "no"
        },
        {
         "_deepnote_index_column": 1,
         "age": 57,
         "contact": "telephone",
         "default": "yes",
         "education": "high.school",
         "gender": "male",
         "housing": "no",
         "job": "services",
         "loan": "no",
         "marital": "married",
         "term_deposit": "no"
        },
        {
         "_deepnote_index_column": 2,
         "age": 37,
         "contact": "telephone",
         "default": "no",
         "education": "high.school",
         "gender": "female",
         "housing": "yes",
         "job": "services",
         "loan": "no",
         "marital": "married",
         "term_deposit": "no"
        },
        {
         "_deepnote_index_column": 3,
         "age": 40,
         "contact": "telephone",
         "default": "no",
         "education": "basic.6y",
         "gender": "female",
         "housing": "no",
         "job": "admin.",
         "loan": "no",
         "marital": "married",
         "term_deposit": "no"
        },
        {
         "_deepnote_index_column": 4,
         "age": 56,
         "contact": "telephone",
         "default": "no",
         "education": "high.school",
         "gender": "female",
         "housing": "no",
         "job": "services",
         "loan": "yes",
         "marital": "married",
         "term_deposit": "no"
        }
       ]
      },
      "text/html": [
       "<div>\n",
       "<style scoped>\n",
       "    .dataframe tbody tr th:only-of-type {\n",
       "        vertical-align: middle;\n",
       "    }\n",
       "\n",
       "    .dataframe tbody tr th {\n",
       "        vertical-align: top;\n",
       "    }\n",
       "\n",
       "    .dataframe thead th {\n",
       "        text-align: right;\n",
       "    }\n",
       "</style>\n",
       "<table border=\"1\" class=\"dataframe\">\n",
       "  <thead>\n",
       "    <tr style=\"text-align: right;\">\n",
       "      <th></th>\n",
       "      <th>gender</th>\n",
       "      <th>age</th>\n",
       "      <th>job</th>\n",
       "      <th>marital</th>\n",
       "      <th>education</th>\n",
       "      <th>default</th>\n",
       "      <th>housing</th>\n",
       "      <th>loan</th>\n",
       "      <th>contact</th>\n",
       "      <th>term_deposit</th>\n",
       "    </tr>\n",
       "  </thead>\n",
       "  <tbody>\n",
       "    <tr>\n",
       "      <th>0</th>\n",
       "      <td>female</td>\n",
       "      <td>56</td>\n",
       "      <td>housemaid</td>\n",
       "      <td>married</td>\n",
       "      <td>basic.4y</td>\n",
       "      <td>no</td>\n",
       "      <td>no</td>\n",
       "      <td>no</td>\n",
       "      <td>telephone</td>\n",
       "      <td>no</td>\n",
       "    </tr>\n",
       "    <tr>\n",
       "      <th>1</th>\n",
       "      <td>male</td>\n",
       "      <td>57</td>\n",
       "      <td>services</td>\n",
       "      <td>married</td>\n",
       "      <td>high.school</td>\n",
       "      <td>yes</td>\n",
       "      <td>no</td>\n",
       "      <td>no</td>\n",
       "      <td>telephone</td>\n",
       "      <td>no</td>\n",
       "    </tr>\n",
       "    <tr>\n",
       "      <th>2</th>\n",
       "      <td>female</td>\n",
       "      <td>37</td>\n",
       "      <td>services</td>\n",
       "      <td>married</td>\n",
       "      <td>high.school</td>\n",
       "      <td>no</td>\n",
       "      <td>yes</td>\n",
       "      <td>no</td>\n",
       "      <td>telephone</td>\n",
       "      <td>no</td>\n",
       "    </tr>\n",
       "    <tr>\n",
       "      <th>3</th>\n",
       "      <td>female</td>\n",
       "      <td>40</td>\n",
       "      <td>admin.</td>\n",
       "      <td>married</td>\n",
       "      <td>basic.6y</td>\n",
       "      <td>no</td>\n",
       "      <td>no</td>\n",
       "      <td>no</td>\n",
       "      <td>telephone</td>\n",
       "      <td>no</td>\n",
       "    </tr>\n",
       "    <tr>\n",
       "      <th>4</th>\n",
       "      <td>female</td>\n",
       "      <td>56</td>\n",
       "      <td>services</td>\n",
       "      <td>married</td>\n",
       "      <td>high.school</td>\n",
       "      <td>no</td>\n",
       "      <td>no</td>\n",
       "      <td>yes</td>\n",
       "      <td>telephone</td>\n",
       "      <td>no</td>\n",
       "    </tr>\n",
       "  </tbody>\n",
       "</table>\n",
       "</div>"
      ],
      "text/plain": [
       "   gender  age        job  marital    education default housing loan  \\\n",
       "0  female   56  housemaid  married     basic.4y      no      no   no   \n",
       "1    male   57   services  married  high.school     yes      no   no   \n",
       "2  female   37   services  married  high.school      no     yes   no   \n",
       "3  female   40     admin.  married     basic.6y      no      no   no   \n",
       "4  female   56   services  married  high.school      no      no  yes   \n",
       "\n",
       "     contact term_deposit  \n",
       "0  telephone           no  \n",
       "1  telephone           no  \n",
       "2  telephone           no  \n",
       "3  telephone           no  \n",
       "4  telephone           no  "
      ]
     },
     "execution_count": 4,
     "metadata": {},
     "output_type": "execute_result"
    }
   ],
   "source": [
    "data.head()"
   ]
  },
  {
   "cell_type": "code",
   "execution_count": 74,
   "metadata": {
    "cell_id": "00006-372b1041-5194-4d83-87d9-a38dc5ec101d",
    "execution_millis": 129,
    "execution_start": 1603186720720,
    "output_cleared": false,
    "source_hash": "132f55bc",
    "tags": []
   },
   "outputs": [
    {
     "data": {
      "application/vnd.deepnote.dataframe.v2+json": {
       "column_count": 9,
       "columns": [
        {
         "dtype": "object",
         "name": "gender",
         "stats": {
          "categories": [
           {
            "count": 1,
            "name": "41188"
           },
           {
            "count": 1,
            "name": "2"
           },
           {
            "count": 2,
            "name": "2 others"
           }
          ],
          "nan_count": 0,
          "unique_count": 4
         }
        },
        {
         "dtype": "object",
         "name": "job",
         "stats": {
          "categories": [
           {
            "count": 1,
            "name": "41188"
           },
           {
            "count": 1,
            "name": "12"
           },
           {
            "count": 2,
            "name": "2 others"
           }
          ],
          "nan_count": 0,
          "unique_count": 4
         }
        },
        {
         "dtype": "object",
         "name": "marital",
         "stats": {
          "categories": [
           {
            "count": 1,
            "name": "41188"
           },
           {
            "count": 1,
            "name": "4"
           },
           {
            "count": 2,
            "name": "2 others"
           }
          ],
          "nan_count": 0,
          "unique_count": 4
         }
        },
        {
         "dtype": "object",
         "name": "education",
         "stats": {
          "categories": [
           {
            "count": 1,
            "name": "41188"
           },
           {
            "count": 1,
            "name": "8"
           },
           {
            "count": 2,
            "name": "2 others"
           }
          ],
          "nan_count": 0,
          "unique_count": 4
         }
        },
        {
         "dtype": "object",
         "name": "default",
         "stats": {
          "categories": [
           {
            "count": 1,
            "name": "41188"
           },
           {
            "count": 1,
            "name": "2"
           },
           {
            "count": 2,
            "name": "2 others"
           }
          ],
          "nan_count": 0,
          "unique_count": 4
         }
        },
        {
         "dtype": "object",
         "name": "housing",
         "stats": {
          "categories": [
           {
            "count": 1,
            "name": "41188"
           },
           {
            "count": 1,
            "name": "2"
           },
           {
            "count": 2,
            "name": "2 others"
           }
          ],
          "nan_count": 0,
          "unique_count": 4
         }
        },
        {
         "dtype": "object",
         "name": "loan",
         "stats": {
          "categories": [
           {
            "count": 1,
            "name": "41188"
           },
           {
            "count": 1,
            "name": "2"
           },
           {
            "count": 2,
            "name": "2 others"
           }
          ],
          "nan_count": 0,
          "unique_count": 4
         }
        },
        {
         "dtype": "object",
         "name": "contact",
         "stats": {
          "categories": [
           {
            "count": 1,
            "name": "41188"
           },
           {
            "count": 1,
            "name": "2"
           },
           {
            "count": 2,
            "name": "2 others"
           }
          ],
          "nan_count": 0,
          "unique_count": 4
         }
        },
        {
         "dtype": "object",
         "name": "term_deposit",
         "stats": {
          "categories": [
           {
            "count": 1,
            "name": "41188"
           },
           {
            "count": 1,
            "name": "2"
           },
           {
            "count": 2,
            "name": "2 others"
           }
          ],
          "nan_count": 0,
          "unique_count": 4
         }
        },
        {
         "dtype": "object",
         "name": "_deepnote_index_column"
        }
       ],
       "row_count": 4,
       "rows_bottom": null,
       "rows_top": [
        {
         "_deepnote_index_column": "count",
         "contact": 41188,
         "default": 41188,
         "education": 41188,
         "gender": 41188,
         "housing": 41188,
         "job": 41188,
         "loan": 41188,
         "marital": 41188,
         "term_deposit": 41188
        },
        {
         "_deepnote_index_column": "unique",
         "contact": 2,
         "default": 2,
         "education": 8,
         "gender": 2,
         "housing": 2,
         "job": 12,
         "loan": 2,
         "marital": 4,
         "term_deposit": 2
        },
        {
         "_deepnote_index_column": "top",
         "contact": "cellular",
         "default": "no",
         "education": "university.degree",
         "gender": "female",
         "housing": "yes",
         "job": "admin.",
         "loan": "no",
         "marital": "married",
         "term_deposit": "no"
        },
        {
         "_deepnote_index_column": "freq",
         "contact": 26144,
         "default": 32588,
         "education": 12168,
         "gender": 20798,
         "housing": 22566,
         "job": 10422,
         "loan": 33950,
         "marital": 24928,
         "term_deposit": 36548
        }
       ]
      },
      "text/html": [
       "<div>\n",
       "<style scoped>\n",
       "    .dataframe tbody tr th:only-of-type {\n",
       "        vertical-align: middle;\n",
       "    }\n",
       "\n",
       "    .dataframe tbody tr th {\n",
       "        vertical-align: top;\n",
       "    }\n",
       "\n",
       "    .dataframe thead th {\n",
       "        text-align: right;\n",
       "    }\n",
       "</style>\n",
       "<table border=\"1\" class=\"dataframe\">\n",
       "  <thead>\n",
       "    <tr style=\"text-align: right;\">\n",
       "      <th></th>\n",
       "      <th>gender</th>\n",
       "      <th>job</th>\n",
       "      <th>marital</th>\n",
       "      <th>education</th>\n",
       "      <th>default</th>\n",
       "      <th>housing</th>\n",
       "      <th>loan</th>\n",
       "      <th>contact</th>\n",
       "      <th>term_deposit</th>\n",
       "    </tr>\n",
       "  </thead>\n",
       "  <tbody>\n",
       "    <tr>\n",
       "      <th>count</th>\n",
       "      <td>41188</td>\n",
       "      <td>41188</td>\n",
       "      <td>41188</td>\n",
       "      <td>41188</td>\n",
       "      <td>41188</td>\n",
       "      <td>41188</td>\n",
       "      <td>41188</td>\n",
       "      <td>41188</td>\n",
       "      <td>41188</td>\n",
       "    </tr>\n",
       "    <tr>\n",
       "      <th>unique</th>\n",
       "      <td>2</td>\n",
       "      <td>12</td>\n",
       "      <td>4</td>\n",
       "      <td>8</td>\n",
       "      <td>2</td>\n",
       "      <td>2</td>\n",
       "      <td>2</td>\n",
       "      <td>2</td>\n",
       "      <td>2</td>\n",
       "    </tr>\n",
       "    <tr>\n",
       "      <th>top</th>\n",
       "      <td>female</td>\n",
       "      <td>admin.</td>\n",
       "      <td>married</td>\n",
       "      <td>university.degree</td>\n",
       "      <td>no</td>\n",
       "      <td>yes</td>\n",
       "      <td>no</td>\n",
       "      <td>cellular</td>\n",
       "      <td>no</td>\n",
       "    </tr>\n",
       "    <tr>\n",
       "      <th>freq</th>\n",
       "      <td>20798</td>\n",
       "      <td>10422</td>\n",
       "      <td>24928</td>\n",
       "      <td>12168</td>\n",
       "      <td>32588</td>\n",
       "      <td>22566</td>\n",
       "      <td>33950</td>\n",
       "      <td>26144</td>\n",
       "      <td>36548</td>\n",
       "    </tr>\n",
       "  </tbody>\n",
       "</table>\n",
       "</div>"
      ],
      "text/plain": [
       "        gender     job  marital          education default housing   loan  \\\n",
       "count    41188   41188    41188              41188   41188   41188  41188   \n",
       "unique       2      12        4                  8       2       2      2   \n",
       "top     female  admin.  married  university.degree      no     yes     no   \n",
       "freq     20798   10422    24928              12168   32588   22566  33950   \n",
       "\n",
       "         contact term_deposit  \n",
       "count      41188        41188  \n",
       "unique         2            2  \n",
       "top     cellular           no  \n",
       "freq       26144        36548  "
      ]
     },
     "execution_count": 74,
     "metadata": {},
     "output_type": "execute_result"
    }
   ],
   "source": [
    "data.describe(include='O')"
   ]
  },
  {
   "cell_type": "markdown",
   "metadata": {
    "cell_id": "00008-238b2117-2b11-4953-b8f5-30bd5ca57a62",
    "tags": []
   },
   "source": [
    "### Part 1\n",
    "\n",
    "### Marginal Probability\n",
    "#### Q1. Find the probability that the customer will take the term deposit"
   ]
  },
  {
   "cell_type": "code",
   "execution_count": 9,
   "metadata": {
    "cell_id": "00008-14ecf2f3-56b9-4308-a243-1bf3c677f337",
    "execution_millis": 2,
    "execution_start": 1603184441005,
    "output_cleared": false,
    "source_hash": "5f5452fc",
    "tags": []
   },
   "outputs": [
    {
     "name": "stdout",
     "output_type": "stream",
     "text": [
      "Total number of customers:  41188\n"
     ]
    }
   ],
   "source": [
    "S=data.shape[0]\n",
    "print('Total number of customers: ',S)"
   ]
  },
  {
   "cell_type": "code",
   "execution_count": 10,
   "metadata": {
    "cell_id": "00009-96ba103b-870b-4e54-a299-8467ad77c763",
    "execution_millis": 1,
    "execution_start": 1603184441607,
    "output_cleared": false,
    "source_hash": "27d4bbea",
    "tags": []
   },
   "outputs": [
    {
     "name": "stdout",
     "output_type": "stream",
     "text": [
      "Total number of customer who have term deposit:  4640\n"
     ]
    }
   ],
   "source": [
    "E=len(data[data.term_deposit=='yes'].term_deposit)\n",
    "print('Total number of customer who have term deposit: ',E)"
   ]
  },
  {
   "cell_type": "code",
   "execution_count": 12,
   "metadata": {
    "cell_id": "00010-df6a1ee2-e5cf-425b-b995-37eb6e9ae215",
    "execution_millis": 4,
    "execution_start": 1603184548482,
    "output_cleared": false,
    "source_hash": "164640b5",
    "tags": []
   },
   "outputs": [
    {
     "name": "stdout",
     "output_type": "stream",
     "text": [
      "Probability that a customer will take term deposit:  0.113\n"
     ]
    }
   ],
   "source": [
    "p=round(E/S,3)\n",
    "print('Probability that a customer will take term deposit: ',p)"
   ]
  },
  {
   "cell_type": "markdown",
   "metadata": {
    "cell_id": "00011-e7bdd48b-1aea-41be-981e-db377463c5f7",
    "tags": []
   },
   "source": [
    "#### Q2. Find the probability that a customer has at least 9 year of basic education."
   ]
  },
  {
   "cell_type": "code",
   "execution_count": 22,
   "metadata": {
    "cell_id": "00011-1de9973c-387f-4b4d-9a2a-c4daf8031db4",
    "execution_millis": 2,
    "execution_start": 1603184790224,
    "output_cleared": false,
    "source_hash": "5f5452fc",
    "tags": []
   },
   "outputs": [
    {
     "name": "stdout",
     "output_type": "stream",
     "text": [
      "Total number of customers:  41188\n"
     ]
    }
   ],
   "source": [
    "S=data.shape[0]\n",
    "print('Total number of customers: ',S)"
   ]
  },
  {
   "cell_type": "code",
   "execution_count": 23,
   "metadata": {
    "cell_id": "00013-c67a0e12-7553-4550-b99e-a0f4f239dd1e",
    "execution_millis": 6,
    "execution_start": 1603184790981,
    "output_cleared": false,
    "source_hash": "af30a38d",
    "tags": []
   },
   "outputs": [
    {
     "data": {
      "text/plain": [
       "university.degree      12168\n",
       "high.school             9515\n",
       "basic.9y                6045\n",
       "professional.course     5243\n",
       "basic.4y                4176\n",
       "basic.6y                2292\n",
       "unknown                 1731\n",
       "illiterate                18\n",
       "Name: education, dtype: int64"
      ]
     },
     "execution_count": 23,
     "metadata": {},
     "output_type": "execute_result"
    }
   ],
   "source": [
    "# Let's find how many customers have atleast 9 year basic education.\n",
    "data.education.value_counts()"
   ]
  },
  {
   "cell_type": "code",
   "execution_count": 24,
   "metadata": {
    "cell_id": "00012-a03dc994-ece7-4b7e-81ec-c8055f2f1337",
    "execution_millis": 3,
    "execution_start": 1603184792346,
    "output_cleared": false,
    "source_hash": "8d952bc6",
    "tags": []
   },
   "outputs": [
    {
     "name": "stdout",
     "output_type": "stream",
     "text": [
      "Total number of customer who have at least 9 year basic education:  32971\n"
     ]
    }
   ],
   "source": [
    "E=5243+6045+9515+12168\n",
    "print('Total number of customer who have at least 9 year basic education: ',E)"
   ]
  },
  {
   "cell_type": "code",
   "execution_count": 25,
   "metadata": {
    "cell_id": "00014-3c02d6fa-216a-4d91-ab78-dd66a2021e4b",
    "execution_millis": 2,
    "execution_start": 1603184793925,
    "output_cleared": false,
    "source_hash": "164640b5",
    "tags": []
   },
   "outputs": [
    {
     "name": "stdout",
     "output_type": "stream",
     "text": [
      "Probability that a customer will take term deposit:  0.801\n"
     ]
    }
   ],
   "source": [
    "p=round(E/S,3)\n",
    "print('Probability that a customer will take term deposit: ',p)"
   ]
  },
  {
   "cell_type": "markdown",
   "metadata": {
    "cell_id": "00016-62db2346-b950-48a2-94db-82d018928fff",
    "tags": []
   },
   "source": [
    "#### Q3. Find the probability that a customer is technician."
   ]
  },
  {
   "cell_type": "code",
   "execution_count": 26,
   "metadata": {
    "cell_id": "00016-5f9fb9eb-ccff-4df4-8103-7c1fd083c1f1",
    "execution_millis": 2,
    "execution_start": 1603184849677,
    "output_cleared": false,
    "source_hash": "5f5452fc",
    "tags": []
   },
   "outputs": [
    {
     "name": "stdout",
     "output_type": "stream",
     "text": [
      "Total number of customers:  41188\n"
     ]
    }
   ],
   "source": [
    "S=data.shape[0]\n",
    "print('Total number of customers: ',S)"
   ]
  },
  {
   "cell_type": "code",
   "execution_count": 31,
   "metadata": {
    "cell_id": "00016-37ed20f3-441d-4461-ac24-35f01b1082a1",
    "execution_millis": 5,
    "execution_start": 1603184911677,
    "output_cleared": false,
    "source_hash": "e3b39e4a",
    "tags": []
   },
   "outputs": [
    {
     "data": {
      "text/plain": [
       "admin.           10422\n",
       "blue-collar       9254\n",
       "technician        6743\n",
       "services          3969\n",
       "management        2924\n",
       "retired           1720\n",
       "entrepreneur      1456\n",
       "self-employed     1421\n",
       "housemaid         1060\n",
       "unemployed        1014\n",
       "student            875\n",
       "unknown            330\n",
       "Name: job, dtype: int64"
      ]
     },
     "execution_count": 31,
     "metadata": {},
     "output_type": "execute_result"
    }
   ],
   "source": [
    "# Let's find how many customers visited are technician.\n",
    "data.job.value_counts()"
   ]
  },
  {
   "cell_type": "code",
   "execution_count": 30,
   "metadata": {
    "cell_id": "00019-708c3151-d403-4be1-8566-7337d5796ab7",
    "execution_millis": 3,
    "execution_start": 1603184906845,
    "output_cleared": false,
    "source_hash": "84d18061",
    "tags": []
   },
   "outputs": [
    {
     "name": "stdout",
     "output_type": "stream",
     "text": [
      "Total number of customer who are techician:  6743\n"
     ]
    }
   ],
   "source": [
    "E=6743\n",
    "print('Total number of customer who are techician: ',E)"
   ]
  },
  {
   "cell_type": "code",
   "execution_count": 32,
   "metadata": {
    "cell_id": "00020-812f0c0d-88f0-4576-a57e-651ea14f184e",
    "execution_millis": 2,
    "execution_start": 1603184920413,
    "output_cleared": false,
    "source_hash": "cf1b8e0d",
    "tags": []
   },
   "outputs": [
    {
     "name": "stdout",
     "output_type": "stream",
     "text": [
      "Probability that a customer is a technician :  0.164\n"
     ]
    }
   ],
   "source": [
    "p=round(E/S,3)\n",
    "print('Probability that a customer is a technician : ',p)"
   ]
  },
  {
   "cell_type": "markdown",
   "metadata": {
    "cell_id": "00021-baba7b71-5e3d-4dce-a5d6-3264aa976942",
    "tags": []
   },
   "source": [
    "---\n",
    "### Joint Probability\n",
    "#### Q1. Find the probability for a male customer who has already taken term deposit."
   ]
  },
  {
   "cell_type": "code",
   "execution_count": 38,
   "metadata": {
    "cell_id": "00021-72ca53f2-43e0-4c02-8902-612535f18342",
    "execution_millis": 5,
    "execution_start": 1603185138245,
    "output_cleared": false,
    "source_hash": "5f5452fc",
    "tags": []
   },
   "outputs": [
    {
     "name": "stdout",
     "output_type": "stream",
     "text": [
      "Total number of customers:  41188\n"
     ]
    }
   ],
   "source": [
    "S=data.shape[0]\n",
    "print('Total number of customers: ',S)"
   ]
  },
  {
   "cell_type": "code",
   "execution_count": 43,
   "metadata": {
    "cell_id": "00023-1d8eeb69-efff-44bf-92e3-e41af5751a11",
    "execution_millis": 71,
    "execution_start": 1603185204681,
    "output_cleared": false,
    "source_hash": "94f387c8",
    "tags": []
   },
   "outputs": [
    {
     "data": {
      "application/vnd.deepnote.dataframe.v2+json": {
       "column_count": 3,
       "columns": [
        {
         "dtype": "int64",
         "name": "no",
         "stats": {
          "histogram": [
           {
            "bin_end": 19950.2,
            "bin_start": 18106,
            "count": 2
           },
           {
            "bin_end": 21794.4,
            "bin_start": 19950.2,
            "count": 0
           },
           {
            "bin_end": 23638.6,
            "bin_start": 21794.4,
            "count": 0
           },
           {
            "bin_end": 25482.8,
            "bin_start": 23638.6,
            "count": 0
           },
           {
            "bin_end": 27327,
            "bin_start": 25482.8,
            "count": 0
           },
           {
            "bin_end": 29171.2,
            "bin_start": 27327,
            "count": 0
           },
           {
            "bin_end": 31015.4,
            "bin_start": 29171.2,
            "count": 0
           },
           {
            "bin_end": 32859.6,
            "bin_start": 31015.4,
            "count": 0
           },
           {
            "bin_end": 34703.8,
            "bin_start": 32859.6,
            "count": 0
           },
           {
            "bin_end": 36548,
            "bin_start": 34703.8,
            "count": 1
           }
          ],
          "max": 36548,
          "min": 18106,
          "nan_count": 0,
          "unique_count": 3
         }
        },
        {
         "dtype": "int64",
         "name": "yes",
         "stats": {
          "histogram": [
           {
            "bin_end": 2519.6,
            "bin_start": 2284,
            "count": 2
           },
           {
            "bin_end": 2755.2,
            "bin_start": 2519.6,
            "count": 0
           },
           {
            "bin_end": 2990.8,
            "bin_start": 2755.2,
            "count": 0
           },
           {
            "bin_end": 3226.4,
            "bin_start": 2990.8,
            "count": 0
           },
           {
            "bin_end": 3462,
            "bin_start": 3226.4,
            "count": 0
           },
           {
            "bin_end": 3697.6,
            "bin_start": 3462,
            "count": 0
           },
           {
            "bin_end": 3933.2,
            "bin_start": 3697.6,
            "count": 0
           },
           {
            "bin_end": 4168.8,
            "bin_start": 3933.2,
            "count": 0
           },
           {
            "bin_end": 4404.4,
            "bin_start": 4168.8,
            "count": 0
           },
           {
            "bin_end": 4640,
            "bin_start": 4404.4,
            "count": 1
           }
          ],
          "max": 4640,
          "min": 2284,
          "nan_count": 0,
          "unique_count": 3
         }
        },
        {
         "dtype": "int64",
         "name": "All",
         "stats": {
          "histogram": [
           {
            "bin_end": 22469.8,
            "bin_start": 20390,
            "count": 2
           },
           {
            "bin_end": 24549.6,
            "bin_start": 22469.8,
            "count": 0
           },
           {
            "bin_end": 26629.4,
            "bin_start": 24549.6,
            "count": 0
           },
           {
            "bin_end": 28709.2,
            "bin_start": 26629.4,
            "count": 0
           },
           {
            "bin_end": 30789,
            "bin_start": 28709.2,
            "count": 0
           },
           {
            "bin_end": 32868.8,
            "bin_start": 30789,
            "count": 0
           },
           {
            "bin_end": 34948.600000000006,
            "bin_start": 32868.8,
            "count": 0
           },
           {
            "bin_end": 37028.4,
            "bin_start": 34948.600000000006,
            "count": 0
           },
           {
            "bin_end": 39108.2,
            "bin_start": 37028.4,
            "count": 0
           },
           {
            "bin_end": 41188,
            "bin_start": 39108.2,
            "count": 1
           }
          ],
          "max": 41188,
          "min": 20390,
          "nan_count": 0,
          "unique_count": 3
         }
        },
        {
         "dtype": "object",
         "name": "_deepnote_index_column"
        }
       ],
       "row_count": 3,
       "rows_bottom": null,
       "rows_top": [
        {
         "All": 20798,
         "_deepnote_index_column": "female",
         "no": 18442,
         "yes": 2356
        },
        {
         "All": 20390,
         "_deepnote_index_column": "male",
         "no": 18106,
         "yes": 2284
        },
        {
         "All": 41188,
         "_deepnote_index_column": "All",
         "no": 36548,
         "yes": 4640
        }
       ]
      },
      "text/html": [
       "<div>\n",
       "<style scoped>\n",
       "    .dataframe tbody tr th:only-of-type {\n",
       "        vertical-align: middle;\n",
       "    }\n",
       "\n",
       "    .dataframe tbody tr th {\n",
       "        vertical-align: top;\n",
       "    }\n",
       "\n",
       "    .dataframe thead th {\n",
       "        text-align: right;\n",
       "    }\n",
       "</style>\n",
       "<table border=\"1\" class=\"dataframe\">\n",
       "  <thead>\n",
       "    <tr style=\"text-align: right;\">\n",
       "      <th>term_deposit</th>\n",
       "      <th>no</th>\n",
       "      <th>yes</th>\n",
       "      <th>All</th>\n",
       "    </tr>\n",
       "    <tr>\n",
       "      <th>gender</th>\n",
       "      <th></th>\n",
       "      <th></th>\n",
       "      <th></th>\n",
       "    </tr>\n",
       "  </thead>\n",
       "  <tbody>\n",
       "    <tr>\n",
       "      <th>female</th>\n",
       "      <td>18442</td>\n",
       "      <td>2356</td>\n",
       "      <td>20798</td>\n",
       "    </tr>\n",
       "    <tr>\n",
       "      <th>male</th>\n",
       "      <td>18106</td>\n",
       "      <td>2284</td>\n",
       "      <td>20390</td>\n",
       "    </tr>\n",
       "    <tr>\n",
       "      <th>All</th>\n",
       "      <td>36548</td>\n",
       "      <td>4640</td>\n",
       "      <td>41188</td>\n",
       "    </tr>\n",
       "  </tbody>\n",
       "</table>\n",
       "</div>"
      ],
      "text/plain": [
       "term_deposit     no   yes    All\n",
       "gender                          \n",
       "female        18442  2356  20798\n",
       "male          18106  2284  20390\n",
       "All           36548  4640  41188"
      ]
     },
     "execution_count": 43,
     "metadata": {},
     "output_type": "execute_result"
    }
   ],
   "source": [
    "# Let's see how many customers are male and has term deposit\n",
    "pd.crosstab(data.gender,data.term_deposit, margins=True)"
   ]
  },
  {
   "cell_type": "code",
   "execution_count": 40,
   "metadata": {
    "cell_id": "00024-c37d8c9c-eff6-4ebf-8caf-3607ae7803d3",
    "execution_millis": 3,
    "execution_start": 1603185138634,
    "output_cleared": false,
    "source_hash": "89d7fd3f",
    "tags": []
   },
   "outputs": [
    {
     "name": "stdout",
     "output_type": "stream",
     "text": [
      "Number of customers who are male and has taken term deposit:  2284\n"
     ]
    }
   ],
   "source": [
    "E=2284\n",
    "print('Number of customers who are male and has taken term deposit: ',E)"
   ]
  },
  {
   "cell_type": "code",
   "execution_count": 41,
   "metadata": {
    "cell_id": "00025-5b86f981-a91c-4eb9-bfae-e81e4324961e",
    "execution_millis": 4,
    "execution_start": 1603185138745,
    "output_cleared": false,
    "source_hash": "116909e6",
    "tags": []
   },
   "outputs": [
    {
     "name": "stdout",
     "output_type": "stream",
     "text": [
      "Probability that a customer is male and has term deposit :  0.055\n"
     ]
    }
   ],
   "source": [
    "p=round(E/S,3)\n",
    "print('Probability that a customer is male and has term deposit : ',p)"
   ]
  },
  {
   "cell_type": "markdown",
   "metadata": {
    "cell_id": "00026-2626e7f2-acc7-45ce-925b-e8ca783e1fbe",
    "tags": []
   },
   "source": [
    "#### Q2. Probability that a customer is married and has housing as well\n"
   ]
  },
  {
   "cell_type": "code",
   "execution_count": 45,
   "metadata": {
    "cell_id": "00026-5d2153b9-94a2-4817-9a6b-2f236d428848",
    "execution_millis": 2,
    "execution_start": 1603185266408,
    "output_cleared": false,
    "source_hash": "5f5452fc",
    "tags": []
   },
   "outputs": [
    {
     "name": "stdout",
     "output_type": "stream",
     "text": [
      "Total number of customers:  41188\n"
     ]
    }
   ],
   "source": [
    "S=data.shape[0]\n",
    "print('Total number of customers: ',S)"
   ]
  },
  {
   "cell_type": "code",
   "execution_count": 46,
   "metadata": {
    "cell_id": "00028-2599641c-1966-4dca-938f-e37d041ca042",
    "execution_millis": 91,
    "execution_start": 1603185266577,
    "output_cleared": false,
    "source_hash": "e4c42b2c",
    "tags": []
   },
   "outputs": [
    {
     "data": {
      "application/vnd.deepnote.dataframe.v2+json": {
       "column_count": 3,
       "columns": [
        {
         "dtype": "int64",
         "name": "no",
         "stats": {
          "histogram": [
           {
            "bin_end": 1901.8,
            "bin_start": 44,
            "count": 1
           },
           {
            "bin_end": 3759.6,
            "bin_start": 1901.8,
            "count": 1
           },
           {
            "bin_end": 5617.4,
            "bin_start": 3759.6,
            "count": 1
           },
           {
            "bin_end": 7475.2,
            "bin_start": 5617.4,
            "count": 0
           },
           {
            "bin_end": 9333,
            "bin_start": 7475.2,
            "count": 0
           },
           {
            "bin_end": 11190.8,
            "bin_start": 9333,
            "count": 0
           },
           {
            "bin_end": 13048.6,
            "bin_start": 11190.8,
            "count": 1
           },
           {
            "bin_end": 14906.4,
            "bin_start": 13048.6,
            "count": 0
           },
           {
            "bin_end": 16764.2,
            "bin_start": 14906.4,
            "count": 0
           },
           {
            "bin_end": 18622,
            "bin_start": 16764.2,
            "count": 1
           }
          ],
          "max": 18622,
          "min": 44,
          "nan_count": 0,
          "unique_count": 5
         }
        },
        {
         "dtype": "int64",
         "name": "yes",
         "stats": {
          "histogram": [
           {
            "bin_end": 2289,
            "bin_start": 36,
            "count": 1
           },
           {
            "bin_end": 4542,
            "bin_start": 2289,
            "count": 1
           },
           {
            "bin_end": 6795,
            "bin_start": 4542,
            "count": 1
           },
           {
            "bin_end": 9048,
            "bin_start": 6795,
            "count": 0
           },
           {
            "bin_end": 11301,
            "bin_start": 9048,
            "count": 0
           },
           {
            "bin_end": 13554,
            "bin_start": 11301,
            "count": 1
           },
           {
            "bin_end": 15807,
            "bin_start": 13554,
            "count": 0
           },
           {
            "bin_end": 18060,
            "bin_start": 15807,
            "count": 0
           },
           {
            "bin_end": 20313,
            "bin_start": 18060,
            "count": 0
           },
           {
            "bin_end": 22566,
            "bin_start": 20313,
            "count": 1
           }
          ],
          "max": 22566,
          "min": 36,
          "nan_count": 0,
          "unique_count": 5
         }
        },
        {
         "dtype": "int64",
         "name": "All",
         "stats": {
          "histogram": [
           {
            "bin_end": 4190.8,
            "bin_start": 80,
            "count": 1
           },
           {
            "bin_end": 8301.6,
            "bin_start": 4190.8,
            "count": 1
           },
           {
            "bin_end": 12412.400000000001,
            "bin_start": 8301.6,
            "count": 1
           },
           {
            "bin_end": 16523.2,
            "bin_start": 12412.400000000001,
            "count": 0
           },
           {
            "bin_end": 20634,
            "bin_start": 16523.2,
            "count": 0
           },
           {
            "bin_end": 24744.800000000003,
            "bin_start": 20634,
            "count": 0
           },
           {
            "bin_end": 28855.600000000002,
            "bin_start": 24744.800000000003,
            "count": 1
           },
           {
            "bin_end": 32966.4,
            "bin_start": 28855.600000000002,
            "count": 0
           },
           {
            "bin_end": 37077.200000000004,
            "bin_start": 32966.4,
            "count": 0
           },
           {
            "bin_end": 41188,
            "bin_start": 37077.200000000004,
            "count": 1
           }
          ],
          "max": 41188,
          "min": 80,
          "nan_count": 0,
          "unique_count": 5
         }
        },
        {
         "dtype": "object",
         "name": "_deepnote_index_column"
        }
       ],
       "row_count": 5,
       "rows_bottom": null,
       "rows_top": [
        {
         "All": 4612,
         "_deepnote_index_column": "divorced",
         "no": 2092,
         "yes": 2520
        },
        {
         "All": 24928,
         "_deepnote_index_column": "married",
         "no": 11389,
         "yes": 13539
        },
        {
         "All": 11568,
         "_deepnote_index_column": "single",
         "no": 5097,
         "yes": 6471
        },
        {
         "All": 80,
         "_deepnote_index_column": "unknown",
         "no": 44,
         "yes": 36
        },
        {
         "All": 41188,
         "_deepnote_index_column": "All",
         "no": 18622,
         "yes": 22566
        }
       ]
      },
      "text/html": [
       "<div>\n",
       "<style scoped>\n",
       "    .dataframe tbody tr th:only-of-type {\n",
       "        vertical-align: middle;\n",
       "    }\n",
       "\n",
       "    .dataframe tbody tr th {\n",
       "        vertical-align: top;\n",
       "    }\n",
       "\n",
       "    .dataframe thead th {\n",
       "        text-align: right;\n",
       "    }\n",
       "</style>\n",
       "<table border=\"1\" class=\"dataframe\">\n",
       "  <thead>\n",
       "    <tr style=\"text-align: right;\">\n",
       "      <th>housing</th>\n",
       "      <th>no</th>\n",
       "      <th>yes</th>\n",
       "      <th>All</th>\n",
       "    </tr>\n",
       "    <tr>\n",
       "      <th>marital</th>\n",
       "      <th></th>\n",
       "      <th></th>\n",
       "      <th></th>\n",
       "    </tr>\n",
       "  </thead>\n",
       "  <tbody>\n",
       "    <tr>\n",
       "      <th>divorced</th>\n",
       "      <td>2092</td>\n",
       "      <td>2520</td>\n",
       "      <td>4612</td>\n",
       "    </tr>\n",
       "    <tr>\n",
       "      <th>married</th>\n",
       "      <td>11389</td>\n",
       "      <td>13539</td>\n",
       "      <td>24928</td>\n",
       "    </tr>\n",
       "    <tr>\n",
       "      <th>single</th>\n",
       "      <td>5097</td>\n",
       "      <td>6471</td>\n",
       "      <td>11568</td>\n",
       "    </tr>\n",
       "    <tr>\n",
       "      <th>unknown</th>\n",
       "      <td>44</td>\n",
       "      <td>36</td>\n",
       "      <td>80</td>\n",
       "    </tr>\n",
       "    <tr>\n",
       "      <th>All</th>\n",
       "      <td>18622</td>\n",
       "      <td>22566</td>\n",
       "      <td>41188</td>\n",
       "    </tr>\n",
       "  </tbody>\n",
       "</table>\n",
       "</div>"
      ],
      "text/plain": [
       "housing      no    yes    All\n",
       "marital                      \n",
       "divorced   2092   2520   4612\n",
       "married   11389  13539  24928\n",
       "single     5097   6471  11568\n",
       "unknown      44     36     80\n",
       "All       18622  22566  41188"
      ]
     },
     "execution_count": 46,
     "metadata": {},
     "output_type": "execute_result"
    }
   ],
   "source": [
    "# Let's see how many customers are married and has housing as well\n",
    "pd.crosstab(data.marital,data.housing, margins=True)"
   ]
  },
  {
   "cell_type": "code",
   "execution_count": 47,
   "metadata": {
    "cell_id": "00029-7db3d5da-a101-4135-b33a-26f495a306bf",
    "execution_millis": 3,
    "execution_start": 1603185266752,
    "output_cleared": false,
    "source_hash": "6564fa14",
    "tags": []
   },
   "outputs": [
    {
     "name": "stdout",
     "output_type": "stream",
     "text": [
      "Number of customers who are married and has housing as well:  13539\n"
     ]
    }
   ],
   "source": [
    "E=13539\n",
    "print('Number of customers who are married and has housing as well: ',E)"
   ]
  },
  {
   "cell_type": "code",
   "execution_count": 48,
   "metadata": {
    "cell_id": "00027-1b3574f7-d587-4789-ba31-3df55aff286a",
    "execution_millis": 3,
    "execution_start": 1603185267326,
    "output_cleared": false,
    "source_hash": "24bbc07",
    "tags": []
   },
   "outputs": [
    {
     "name": "stdout",
     "output_type": "stream",
     "text": [
      "Probability that a customer is married and has housing as well:  0.329\n"
     ]
    }
   ],
   "source": [
    "p=round(E/S,3)\n",
    "print('Probability that a customer is married and has housing as well: ',p)"
   ]
  },
  {
   "cell_type": "markdown",
   "metadata": {
    "cell_id": "00031-f5c41aba-35af-4afe-a61d-925801e032ae",
    "tags": []
   },
   "source": [
    "#### Q3. Probability that a customer has university degree and no loan\n"
   ]
  },
  {
   "cell_type": "code",
   "execution_count": 53,
   "metadata": {
    "cell_id": "00031-e0aab93c-a57a-472f-afa2-c72f11b5b27b",
    "execution_millis": 7,
    "execution_start": 1603185448374,
    "output_cleared": false,
    "source_hash": "5f5452fc",
    "tags": []
   },
   "outputs": [
    {
     "name": "stdout",
     "output_type": "stream",
     "text": [
      "Total number of customers:  41188\n"
     ]
    }
   ],
   "source": [
    "S=data.shape[0]\n",
    "print('Total number of customers: ',S)"
   ]
  },
  {
   "cell_type": "code",
   "execution_count": 54,
   "metadata": {
    "cell_id": "00033-809f53b0-2ac7-49a8-b02e-2cd74bd46c51",
    "execution_millis": 343,
    "execution_start": 1603185448582,
    "output_cleared": false,
    "source_hash": "97f9aaeb",
    "tags": []
   },
   "outputs": [
    {
     "data": {
      "application/vnd.deepnote.dataframe.v2+json": {
       "column_count": 3,
       "columns": [
        {
         "dtype": "int64",
         "name": "no",
         "stats": {
          "histogram": [
           {
            "bin_end": 3408.5,
            "bin_start": 15,
            "count": 3
           },
           {
            "bin_end": 6802,
            "bin_start": 3408.5,
            "count": 3
           },
           {
            "bin_end": 10195.5,
            "bin_start": 6802,
            "count": 2
           },
           {
            "bin_end": 13589,
            "bin_start": 10195.5,
            "count": 0
           },
           {
            "bin_end": 16982.5,
            "bin_start": 13589,
            "count": 0
           },
           {
            "bin_end": 20376,
            "bin_start": 16982.5,
            "count": 0
           },
           {
            "bin_end": 23769.5,
            "bin_start": 20376,
            "count": 0
           },
           {
            "bin_end": 27163,
            "bin_start": 23769.5,
            "count": 0
           },
           {
            "bin_end": 30556.5,
            "bin_start": 27163,
            "count": 0
           },
           {
            "bin_end": 33950,
            "bin_start": 30556.5,
            "count": 1
           }
          ],
          "max": 33950,
          "min": 15,
          "nan_count": 0,
          "unique_count": 9
         }
        },
        {
         "dtype": "int64",
         "name": "yes",
         "stats": {
          "histogram": [
           {
            "bin_end": 726.5,
            "bin_start": 3,
            "count": 3
           },
           {
            "bin_end": 1450,
            "bin_start": 726.5,
            "count": 3
           },
           {
            "bin_end": 2173.5,
            "bin_start": 1450,
            "count": 1
           },
           {
            "bin_end": 2897,
            "bin_start": 2173.5,
            "count": 1
           },
           {
            "bin_end": 3620.5,
            "bin_start": 2897,
            "count": 0
           },
           {
            "bin_end": 4344,
            "bin_start": 3620.5,
            "count": 0
           },
           {
            "bin_end": 5067.5,
            "bin_start": 4344,
            "count": 0
           },
           {
            "bin_end": 5791,
            "bin_start": 5067.5,
            "count": 0
           },
           {
            "bin_end": 6514.5,
            "bin_start": 5791,
            "count": 0
           },
           {
            "bin_end": 7238,
            "bin_start": 6514.5,
            "count": 1
           }
          ],
          "max": 7238,
          "min": 3,
          "nan_count": 0,
          "unique_count": 9
         }
        },
        {
         "dtype": "int64",
         "name": "All",
         "stats": {
          "histogram": [
           {
            "bin_end": 4135,
            "bin_start": 18,
            "count": 3
           },
           {
            "bin_end": 8252,
            "bin_start": 4135,
            "count": 3
           },
           {
            "bin_end": 12369,
            "bin_start": 8252,
            "count": 2
           },
           {
            "bin_end": 16486,
            "bin_start": 12369,
            "count": 0
           },
           {
            "bin_end": 20603,
            "bin_start": 16486,
            "count": 0
           },
           {
            "bin_end": 24720,
            "bin_start": 20603,
            "count": 0
           },
           {
            "bin_end": 28837,
            "bin_start": 24720,
            "count": 0
           },
           {
            "bin_end": 32954,
            "bin_start": 28837,
            "count": 0
           },
           {
            "bin_end": 37071,
            "bin_start": 32954,
            "count": 0
           },
           {
            "bin_end": 41188,
            "bin_start": 37071,
            "count": 1
           }
          ],
          "max": 41188,
          "min": 18,
          "nan_count": 0,
          "unique_count": 9
         }
        },
        {
         "dtype": "object",
         "name": "_deepnote_index_column"
        }
       ],
       "row_count": 9,
       "rows_bottom": null,
       "rows_top": [
        {
         "All": 4176,
         "_deepnote_index_column": "basic.4y",
         "no": 3435,
         "yes": 741
        },
        {
         "All": 2292,
         "_deepnote_index_column": "basic.6y",
         "no": 1902,
         "yes": 390
        },
        {
         "All": 6045,
         "_deepnote_index_column": "basic.9y",
         "no": 5011,
         "yes": 1034
        },
        {
         "All": 9515,
         "_deepnote_index_column": "high.school",
         "no": 7852,
         "yes": 1663
        },
        {
         "All": 18,
         "_deepnote_index_column": "illiterate",
         "no": 15,
         "yes": 3
        },
        {
         "All": 5243,
         "_deepnote_index_column": "professional.course",
         "no": 4325,
         "yes": 918
        },
        {
         "All": 12168,
         "_deepnote_index_column": "university.degree",
         "no": 9961,
         "yes": 2207
        },
        {
         "All": 1731,
         "_deepnote_index_column": "unknown",
         "no": 1449,
         "yes": 282
        },
        {
         "All": 41188,
         "_deepnote_index_column": "All",
         "no": 33950,
         "yes": 7238
        }
       ]
      },
      "text/html": [
       "<div>\n",
       "<style scoped>\n",
       "    .dataframe tbody tr th:only-of-type {\n",
       "        vertical-align: middle;\n",
       "    }\n",
       "\n",
       "    .dataframe tbody tr th {\n",
       "        vertical-align: top;\n",
       "    }\n",
       "\n",
       "    .dataframe thead th {\n",
       "        text-align: right;\n",
       "    }\n",
       "</style>\n",
       "<table border=\"1\" class=\"dataframe\">\n",
       "  <thead>\n",
       "    <tr style=\"text-align: right;\">\n",
       "      <th>loan</th>\n",
       "      <th>no</th>\n",
       "      <th>yes</th>\n",
       "      <th>All</th>\n",
       "    </tr>\n",
       "    <tr>\n",
       "      <th>education</th>\n",
       "      <th></th>\n",
       "      <th></th>\n",
       "      <th></th>\n",
       "    </tr>\n",
       "  </thead>\n",
       "  <tbody>\n",
       "    <tr>\n",
       "      <th>basic.4y</th>\n",
       "      <td>3435</td>\n",
       "      <td>741</td>\n",
       "      <td>4176</td>\n",
       "    </tr>\n",
       "    <tr>\n",
       "      <th>basic.6y</th>\n",
       "      <td>1902</td>\n",
       "      <td>390</td>\n",
       "      <td>2292</td>\n",
       "    </tr>\n",
       "    <tr>\n",
       "      <th>basic.9y</th>\n",
       "      <td>5011</td>\n",
       "      <td>1034</td>\n",
       "      <td>6045</td>\n",
       "    </tr>\n",
       "    <tr>\n",
       "      <th>high.school</th>\n",
       "      <td>7852</td>\n",
       "      <td>1663</td>\n",
       "      <td>9515</td>\n",
       "    </tr>\n",
       "    <tr>\n",
       "      <th>illiterate</th>\n",
       "      <td>15</td>\n",
       "      <td>3</td>\n",
       "      <td>18</td>\n",
       "    </tr>\n",
       "    <tr>\n",
       "      <th>professional.course</th>\n",
       "      <td>4325</td>\n",
       "      <td>918</td>\n",
       "      <td>5243</td>\n",
       "    </tr>\n",
       "    <tr>\n",
       "      <th>university.degree</th>\n",
       "      <td>9961</td>\n",
       "      <td>2207</td>\n",
       "      <td>12168</td>\n",
       "    </tr>\n",
       "    <tr>\n",
       "      <th>unknown</th>\n",
       "      <td>1449</td>\n",
       "      <td>282</td>\n",
       "      <td>1731</td>\n",
       "    </tr>\n",
       "    <tr>\n",
       "      <th>All</th>\n",
       "      <td>33950</td>\n",
       "      <td>7238</td>\n",
       "      <td>41188</td>\n",
       "    </tr>\n",
       "  </tbody>\n",
       "</table>\n",
       "</div>"
      ],
      "text/plain": [
       "loan                    no   yes    All\n",
       "education                              \n",
       "basic.4y              3435   741   4176\n",
       "basic.6y              1902   390   2292\n",
       "basic.9y              5011  1034   6045\n",
       "high.school           7852  1663   9515\n",
       "illiterate              15     3     18\n",
       "professional.course   4325   918   5243\n",
       "university.degree     9961  2207  12168\n",
       "unknown               1449   282   1731\n",
       "All                  33950  7238  41188"
      ]
     },
     "execution_count": 54,
     "metadata": {},
     "output_type": "execute_result"
    }
   ],
   "source": [
    "# Let's see how many customers have a university degree and no loan\n",
    "pd.crosstab(data.education,data.loan, margins=True)"
   ]
  },
  {
   "cell_type": "code",
   "execution_count": 55,
   "metadata": {
    "cell_id": "00034-5374bd80-8d8d-4546-b3c3-4627fc3ba58b",
    "execution_millis": 2,
    "execution_start": 1603185448938,
    "output_cleared": false,
    "source_hash": "88c5ebff",
    "tags": []
   },
   "outputs": [
    {
     "name": "stdout",
     "output_type": "stream",
     "text": [
      "Number of customers who are married and has housing as well:  9961\n"
     ]
    }
   ],
   "source": [
    "E=9961\n",
    "print('Number of customers who are married and has housing as well: ',E)"
   ]
  },
  {
   "cell_type": "code",
   "execution_count": 56,
   "metadata": {
    "cell_id": "00035-fecc6931-0b5e-41c9-9f79-059f33c05bd4",
    "execution_millis": 1,
    "execution_start": 1603185448945,
    "output_cleared": false,
    "source_hash": "1cdf6590",
    "tags": []
   },
   "outputs": [
    {
     "name": "stdout",
     "output_type": "stream",
     "text": [
      "Probability that a customer has university degree and no loan:  0.242\n"
     ]
    }
   ],
   "source": [
    "p=round(E/S,3)\n",
    "print('Probability that a customer has university degree and no loan: ',p)"
   ]
  },
  {
   "cell_type": "markdown",
   "metadata": {
    "cell_id": "00036-e8925d13-33ce-4d8e-ba9a-5fdda1375bd8",
    "tags": []
   },
   "source": [
    "---\n",
    "### Part 2\n",
    "\n",
    "### Conditional Probability\n",
    "#### Q1. Given that probability that  customer has taken term deposit, find the probability that she is a female.\n"
   ]
  },
  {
   "cell_type": "code",
   "execution_count": 58,
   "metadata": {
    "cell_id": "00036-43833f2f-62f1-42be-a5cd-0b1c051f4262",
    "execution_millis": 1,
    "execution_start": 1603185669590,
    "output_cleared": false,
    "source_hash": "5f5452fc",
    "tags": []
   },
   "outputs": [
    {
     "name": "stdout",
     "output_type": "stream",
     "text": [
      "Total number of customers:  41188\n"
     ]
    }
   ],
   "source": [
    "S=data.shape[0]\n",
    "print('Total number of customers: ',S)"
   ]
  },
  {
   "cell_type": "code",
   "execution_count": 60,
   "metadata": {
    "cell_id": "00037-e0062ba6-7d5e-4280-8338-67523082c94e",
    "execution_millis": 79,
    "execution_start": 1603185702479,
    "output_cleared": false,
    "source_hash": "7198d6f5",
    "tags": []
   },
   "outputs": [
    {
     "data": {
      "application/vnd.deepnote.dataframe.v2+json": {
       "column_count": 3,
       "columns": [
        {
         "dtype": "int64",
         "name": "no",
         "stats": {
          "histogram": [
           {
            "bin_end": 19950.2,
            "bin_start": 18106,
            "count": 2
           },
           {
            "bin_end": 21794.4,
            "bin_start": 19950.2,
            "count": 0
           },
           {
            "bin_end": 23638.6,
            "bin_start": 21794.4,
            "count": 0
           },
           {
            "bin_end": 25482.8,
            "bin_start": 23638.6,
            "count": 0
           },
           {
            "bin_end": 27327,
            "bin_start": 25482.8,
            "count": 0
           },
           {
            "bin_end": 29171.2,
            "bin_start": 27327,
            "count": 0
           },
           {
            "bin_end": 31015.4,
            "bin_start": 29171.2,
            "count": 0
           },
           {
            "bin_end": 32859.6,
            "bin_start": 31015.4,
            "count": 0
           },
           {
            "bin_end": 34703.8,
            "bin_start": 32859.6,
            "count": 0
           },
           {
            "bin_end": 36548,
            "bin_start": 34703.8,
            "count": 1
           }
          ],
          "max": 36548,
          "min": 18106,
          "nan_count": 0,
          "unique_count": 3
         }
        },
        {
         "dtype": "int64",
         "name": "yes",
         "stats": {
          "histogram": [
           {
            "bin_end": 2519.6,
            "bin_start": 2284,
            "count": 2
           },
           {
            "bin_end": 2755.2,
            "bin_start": 2519.6,
            "count": 0
           },
           {
            "bin_end": 2990.8,
            "bin_start": 2755.2,
            "count": 0
           },
           {
            "bin_end": 3226.4,
            "bin_start": 2990.8,
            "count": 0
           },
           {
            "bin_end": 3462,
            "bin_start": 3226.4,
            "count": 0
           },
           {
            "bin_end": 3697.6,
            "bin_start": 3462,
            "count": 0
           },
           {
            "bin_end": 3933.2,
            "bin_start": 3697.6,
            "count": 0
           },
           {
            "bin_end": 4168.8,
            "bin_start": 3933.2,
            "count": 0
           },
           {
            "bin_end": 4404.4,
            "bin_start": 4168.8,
            "count": 0
           },
           {
            "bin_end": 4640,
            "bin_start": 4404.4,
            "count": 1
           }
          ],
          "max": 4640,
          "min": 2284,
          "nan_count": 0,
          "unique_count": 3
         }
        },
        {
         "dtype": "int64",
         "name": "All",
         "stats": {
          "histogram": [
           {
            "bin_end": 22469.8,
            "bin_start": 20390,
            "count": 2
           },
           {
            "bin_end": 24549.6,
            "bin_start": 22469.8,
            "count": 0
           },
           {
            "bin_end": 26629.4,
            "bin_start": 24549.6,
            "count": 0
           },
           {
            "bin_end": 28709.2,
            "bin_start": 26629.4,
            "count": 0
           },
           {
            "bin_end": 30789,
            "bin_start": 28709.2,
            "count": 0
           },
           {
            "bin_end": 32868.8,
            "bin_start": 30789,
            "count": 0
           },
           {
            "bin_end": 34948.600000000006,
            "bin_start": 32868.8,
            "count": 0
           },
           {
            "bin_end": 37028.4,
            "bin_start": 34948.600000000006,
            "count": 0
           },
           {
            "bin_end": 39108.2,
            "bin_start": 37028.4,
            "count": 0
           },
           {
            "bin_end": 41188,
            "bin_start": 39108.2,
            "count": 1
           }
          ],
          "max": 41188,
          "min": 20390,
          "nan_count": 0,
          "unique_count": 3
         }
        },
        {
         "dtype": "object",
         "name": "_deepnote_index_column"
        }
       ],
       "row_count": 3,
       "rows_bottom": null,
       "rows_top": [
        {
         "All": 20798,
         "_deepnote_index_column": "female",
         "no": 18442,
         "yes": 2356
        },
        {
         "All": 20390,
         "_deepnote_index_column": "male",
         "no": 18106,
         "yes": 2284
        },
        {
         "All": 41188,
         "_deepnote_index_column": "All",
         "no": 36548,
         "yes": 4640
        }
       ]
      },
      "text/html": [
       "<div>\n",
       "<style scoped>\n",
       "    .dataframe tbody tr th:only-of-type {\n",
       "        vertical-align: middle;\n",
       "    }\n",
       "\n",
       "    .dataframe tbody tr th {\n",
       "        vertical-align: top;\n",
       "    }\n",
       "\n",
       "    .dataframe thead th {\n",
       "        text-align: right;\n",
       "    }\n",
       "</style>\n",
       "<table border=\"1\" class=\"dataframe\">\n",
       "  <thead>\n",
       "    <tr style=\"text-align: right;\">\n",
       "      <th>term_deposit</th>\n",
       "      <th>no</th>\n",
       "      <th>yes</th>\n",
       "      <th>All</th>\n",
       "    </tr>\n",
       "    <tr>\n",
       "      <th>gender</th>\n",
       "      <th></th>\n",
       "      <th></th>\n",
       "      <th></th>\n",
       "    </tr>\n",
       "  </thead>\n",
       "  <tbody>\n",
       "    <tr>\n",
       "      <th>female</th>\n",
       "      <td>18442</td>\n",
       "      <td>2356</td>\n",
       "      <td>20798</td>\n",
       "    </tr>\n",
       "    <tr>\n",
       "      <th>male</th>\n",
       "      <td>18106</td>\n",
       "      <td>2284</td>\n",
       "      <td>20390</td>\n",
       "    </tr>\n",
       "    <tr>\n",
       "      <th>All</th>\n",
       "      <td>36548</td>\n",
       "      <td>4640</td>\n",
       "      <td>41188</td>\n",
       "    </tr>\n",
       "  </tbody>\n",
       "</table>\n",
       "</div>"
      ],
      "text/plain": [
       "term_deposit     no   yes    All\n",
       "gender                          \n",
       "female        18442  2356  20798\n",
       "male          18106  2284  20390\n",
       "All           36548  4640  41188"
      ]
     },
     "execution_count": 60,
     "metadata": {},
     "output_type": "execute_result"
    }
   ],
   "source": [
    "# Let's see how many customers are female and have term deposit\n",
    "pd.crosstab(data.gender,data.term_deposit, margins=True)"
   ]
  },
  {
   "cell_type": "code",
   "execution_count": 62,
   "metadata": {
    "cell_id": "00039-17656a9e-2499-4443-9136-67f72aa54fe2",
    "execution_millis": 4,
    "execution_start": 1603185852754,
    "output_cleared": false,
    "source_hash": "a1ac607a",
    "tags": []
   },
   "outputs": [
    {
     "name": "stdout",
     "output_type": "stream",
     "text": [
      "Number of customers who has taken term deposit:  4640\n",
      "Number of females:  20798\n",
      "Number of customers who are female and has term deposit as well:  2356\n"
     ]
    }
   ],
   "source": [
    "A=4640\n",
    "B=20798\n",
    "AnB=2356\n",
    "print('Number of customers who has taken term deposit: ',A)\n",
    "print('Number of females: ',B)\n",
    "print('Number of customers who are female and has term deposit as well: ',AnB)"
   ]
  },
  {
   "cell_type": "code",
   "execution_count": 65,
   "metadata": {
    "cell_id": "00040-d4e77a37-aa13-4eba-89ae-b38ec54a739b",
    "execution_millis": 2,
    "execution_start": 1603185958002,
    "output_cleared": false,
    "source_hash": "41b143f5",
    "tags": []
   },
   "outputs": [
    {
     "name": "stdout",
     "output_type": "stream",
     "text": [
      "Joint probability that a customer is female and has term deposit:  0.057\n",
      "Marginal Probability that a customer has taken term deposit:  0.113\n"
     ]
    }
   ],
   "source": [
    "pAnB=round(AnB/S,3)\n",
    "pA=round(A/S,3)\n",
    "print('Joint probability that a customer is female and has term deposit: ',pAnB)\n",
    "print('Marginal Probability that a customer has taken term deposit: ',pA)"
   ]
  },
  {
   "cell_type": "code",
   "execution_count": 67,
   "metadata": {
    "cell_id": "00041-e5f72333-32ef-4b6e-a61a-93df05d789e3",
    "execution_millis": 4,
    "execution_start": 1603186052270,
    "output_cleared": false,
    "source_hash": "9e712b91",
    "tags": []
   },
   "outputs": [
    {
     "name": "stdout",
     "output_type": "stream",
     "text": [
      "Probability that a customer is female, if the customer has taken term deposit[P(B|A)]:  0.504\n"
     ]
    }
   ],
   "source": [
    "pBA=round(pAnB/pA,3)\n",
    "print('Probability that a customer is female, if the customer has taken term deposit[P(B|A)]: ',pBA)"
   ]
  },
  {
   "cell_type": "markdown",
   "metadata": {
    "cell_id": "00042-dd6d7861-78a2-44bc-921f-e0cbc96b6670",
    "tags": []
   },
   "source": [
    "#### Q2. Given that selected customer has defaulted in past, find the probability that he/she has a blue collar job."
   ]
  },
  {
   "cell_type": "code",
   "execution_count": 68,
   "metadata": {
    "cell_id": "00042-925f85de-a515-468e-8594-91e69725eea3",
    "execution_millis": 3,
    "execution_start": 1603186146508,
    "output_cleared": false,
    "source_hash": "5f5452fc",
    "tags": []
   },
   "outputs": [
    {
     "name": "stdout",
     "output_type": "stream",
     "text": [
      "Total number of customers:  41188\n"
     ]
    }
   ],
   "source": [
    "S=data.shape[0]\n",
    "print('Total number of customers: ',S)"
   ]
  },
  {
   "cell_type": "code",
   "execution_count": 69,
   "metadata": {
    "cell_id": "00044-4b9900b6-e980-4521-b9fc-e9c12396a8ad",
    "execution_millis": 108,
    "execution_start": 1603186173138,
    "output_cleared": false,
    "source_hash": "41d58258",
    "tags": []
   },
   "outputs": [
    {
     "data": {
      "application/vnd.deepnote.dataframe.v2+json": {
       "column_count": 13,
       "columns": [
        {
         "dtype": "int64",
         "name": "admin.",
         "stats": {
          "histogram": [
           {
            "bin_end": 2205.9,
            "bin_start": 1293,
            "count": 1
           },
           {
            "bin_end": 3118.8,
            "bin_start": 2205.9,
            "count": 0
           },
           {
            "bin_end": 4031.7,
            "bin_start": 3118.8,
            "count": 0
           },
           {
            "bin_end": 4944.6,
            "bin_start": 4031.7,
            "count": 0
           },
           {
            "bin_end": 5857.5,
            "bin_start": 4944.6,
            "count": 0
           },
           {
            "bin_end": 6770.4,
            "bin_start": 5857.5,
            "count": 0
           },
           {
            "bin_end": 7683.3,
            "bin_start": 6770.4,
            "count": 0
           },
           {
            "bin_end": 8596.2,
            "bin_start": 7683.3,
            "count": 0
           },
           {
            "bin_end": 9509.1,
            "bin_start": 8596.2,
            "count": 1
           },
           {
            "bin_end": 10422,
            "bin_start": 9509.1,
            "count": 1
           }
          ],
          "max": 10422,
          "min": 1293,
          "nan_count": 0,
          "unique_count": 3
         }
        },
        {
         "dtype": "int64",
         "name": "blue-collar",
         "stats": {
          "histogram": [
           {
            "bin_end": 3774.8,
            "bin_start": 3166,
            "count": 1
           },
           {
            "bin_end": 4383.6,
            "bin_start": 3774.8,
            "count": 0
           },
           {
            "bin_end": 4992.4,
            "bin_start": 4383.6,
            "count": 0
           },
           {
            "bin_end": 5601.2,
            "bin_start": 4992.4,
            "count": 0
           },
           {
            "bin_end": 6210,
            "bin_start": 5601.2,
            "count": 1
           },
           {
            "bin_end": 6818.799999999999,
            "bin_start": 6210,
            "count": 0
           },
           {
            "bin_end": 7427.599999999999,
            "bin_start": 6818.799999999999,
            "count": 0
           },
           {
            "bin_end": 8036.4,
            "bin_start": 7427.599999999999,
            "count": 0
           },
           {
            "bin_end": 8645.2,
            "bin_start": 8036.4,
            "count": 0
           },
           {
            "bin_end": 9254,
            "bin_start": 8645.2,
            "count": 1
           }
          ],
          "max": 9254,
          "min": 3166,
          "nan_count": 0,
          "unique_count": 3
         }
        },
        {
         "dtype": "int64",
         "name": "entrepreneur",
         "stats": {
          "histogram": [
           {
            "bin_end": 416.5,
            "bin_start": 301,
            "count": 1
           },
           {
            "bin_end": 532,
            "bin_start": 416.5,
            "count": 0
           },
           {
            "bin_end": 647.5,
            "bin_start": 532,
            "count": 0
           },
           {
            "bin_end": 763,
            "bin_start": 647.5,
            "count": 0
           },
           {
            "bin_end": 878.5,
            "bin_start": 763,
            "count": 0
           },
           {
            "bin_end": 994,
            "bin_start": 878.5,
            "count": 0
           },
           {
            "bin_end": 1109.5,
            "bin_start": 994,
            "count": 0
           },
           {
            "bin_end": 1225,
            "bin_start": 1109.5,
            "count": 1
           },
           {
            "bin_end": 1340.5,
            "bin_start": 1225,
            "count": 0
           },
           {
            "bin_end": 1456,
            "bin_start": 1340.5,
            "count": 1
           }
          ],
          "max": 1456,
          "min": 301,
          "nan_count": 0,
          "unique_count": 3
         }
        },
        {
         "dtype": "int64",
         "name": "housemaid",
         "stats": {
          "histogram": [
           {
            "bin_end": 393.1,
            "bin_start": 319,
            "count": 1
           },
           {
            "bin_end": 467.2,
            "bin_start": 393.1,
            "count": 0
           },
           {
            "bin_end": 541.3,
            "bin_start": 467.2,
            "count": 0
           },
           {
            "bin_end": 615.4,
            "bin_start": 541.3,
            "count": 0
           },
           {
            "bin_end": 689.5,
            "bin_start": 615.4,
            "count": 0
           },
           {
            "bin_end": 763.5999999999999,
            "bin_start": 689.5,
            "count": 1
           },
           {
            "bin_end": 837.6999999999999,
            "bin_start": 763.5999999999999,
            "count": 0
           },
           {
            "bin_end": 911.8,
            "bin_start": 837.6999999999999,
            "count": 0
           },
           {
            "bin_end": 985.9,
            "bin_start": 911.8,
            "count": 0
           },
           {
            "bin_end": 1060,
            "bin_start": 985.9,
            "count": 1
           }
          ],
          "max": 1060,
          "min": 319,
          "nan_count": 0,
          "unique_count": 3
         }
        },
        {
         "dtype": "int64",
         "name": "management",
         "stats": {
          "histogram": [
           {
            "bin_end": 704.6,
            "bin_start": 458,
            "count": 1
           },
           {
            "bin_end": 951.2,
            "bin_start": 704.6,
            "count": 0
           },
           {
            "bin_end": 1197.8,
            "bin_start": 951.2,
            "count": 0
           },
           {
            "bin_end": 1444.4,
            "bin_start": 1197.8,
            "count": 0
           },
           {
            "bin_end": 1691,
            "bin_start": 1444.4,
            "count": 0
           },
           {
            "bin_end": 1937.6,
            "bin_start": 1691,
            "count": 0
           },
           {
            "bin_end": 2184.2,
            "bin_start": 1937.6,
            "count": 0
           },
           {
            "bin_end": 2430.8,
            "bin_start": 2184.2,
            "count": 0
           },
           {
            "bin_end": 2677.4,
            "bin_start": 2430.8,
            "count": 1
           },
           {
            "bin_end": 2924,
            "bin_start": 2677.4,
            "count": 1
           }
          ],
          "max": 2924,
          "min": 458,
          "nan_count": 0,
          "unique_count": 3
         }
        },
        {
         "dtype": "int64",
         "name": "retired",
         "stats": {
          "histogram": [
           {
            "bin_end": 525.7,
            "bin_start": 393,
            "count": 1
           },
           {
            "bin_end": 658.4,
            "bin_start": 525.7,
            "count": 0
           },
           {
            "bin_end": 791.0999999999999,
            "bin_start": 658.4,
            "count": 0
           },
           {
            "bin_end": 923.8,
            "bin_start": 791.0999999999999,
            "count": 0
           },
           {
            "bin_end": 1056.5,
            "bin_start": 923.8,
            "count": 0
           },
           {
            "bin_end": 1189.1999999999998,
            "bin_start": 1056.5,
            "count": 0
           },
           {
            "bin_end": 1321.8999999999999,
            "bin_start": 1189.1999999999998,
            "count": 0
           },
           {
            "bin_end": 1454.6,
            "bin_start": 1321.8999999999999,
            "count": 1
           },
           {
            "bin_end": 1587.3,
            "bin_start": 1454.6,
            "count": 0
           },
           {
            "bin_end": 1720,
            "bin_start": 1587.3,
            "count": 1
           }
          ],
          "max": 1720,
          "min": 393,
          "nan_count": 0,
          "unique_count": 3
         }
        },
        {
         "dtype": "int64",
         "name": "self-employed",
         "stats": {
          "histogram": [
           {
            "bin_end": 395.9,
            "bin_start": 282,
            "count": 1
           },
           {
            "bin_end": 509.8,
            "bin_start": 395.9,
            "count": 0
           },
           {
            "bin_end": 623.7,
            "bin_start": 509.8,
            "count": 0
           },
           {
            "bin_end": 737.6,
            "bin_start": 623.7,
            "count": 0
           },
           {
            "bin_end": 851.5,
            "bin_start": 737.6,
            "count": 0
           },
           {
            "bin_end": 965.4000000000001,
            "bin_start": 851.5,
            "count": 0
           },
           {
            "bin_end": 1079.3000000000002,
            "bin_start": 965.4000000000001,
            "count": 0
           },
           {
            "bin_end": 1193.2,
            "bin_start": 1079.3000000000002,
            "count": 1
           },
           {
            "bin_end": 1307.1000000000001,
            "bin_start": 1193.2,
            "count": 0
           },
           {
            "bin_end": 1421,
            "bin_start": 1307.1000000000001,
            "count": 1
           }
          ],
          "max": 1421,
          "min": 282,
          "nan_count": 0,
          "unique_count": 3
         }
        },
        {
         "dtype": "int64",
         "name": "services",
         "stats": {
          "histogram": [
           {
            "bin_end": 1221.3,
            "bin_start": 916,
            "count": 1
           },
           {
            "bin_end": 1526.6,
            "bin_start": 1221.3,
            "count": 0
           },
           {
            "bin_end": 1831.9,
            "bin_start": 1526.6,
            "count": 0
           },
           {
            "bin_end": 2137.2,
            "bin_start": 1831.9,
            "count": 0
           },
           {
            "bin_end": 2442.5,
            "bin_start": 2137.2,
            "count": 0
           },
           {
            "bin_end": 2747.8,
            "bin_start": 2442.5,
            "count": 0
           },
           {
            "bin_end": 3053.1,
            "bin_start": 2747.8,
            "count": 1
           },
           {
            "bin_end": 3358.4,
            "bin_start": 3053.1,
            "count": 0
           },
           {
            "bin_end": 3663.7000000000003,
            "bin_start": 3358.4,
            "count": 0
           },
           {
            "bin_end": 3969,
            "bin_start": 3663.7000000000003,
            "count": 1
           }
          ],
          "max": 3969,
          "min": 916,
          "nan_count": 0,
          "unique_count": 3
         }
        },
        {
         "dtype": "int64",
         "name": "student",
         "stats": {
          "histogram": [
           {
            "bin_end": 181.1,
            "bin_start": 104,
            "count": 1
           },
           {
            "bin_end": 258.2,
            "bin_start": 181.1,
            "count": 0
           },
           {
            "bin_end": 335.29999999999995,
            "bin_start": 258.2,
            "count": 0
           },
           {
            "bin_end": 412.4,
            "bin_start": 335.29999999999995,
            "count": 0
           },
           {
            "bin_end": 489.5,
            "bin_start": 412.4,
            "count": 0
           },
           {
            "bin_end": 566.5999999999999,
            "bin_start": 489.5,
            "count": 0
           },
           {
            "bin_end": 643.6999999999999,
            "bin_start": 566.5999999999999,
            "count": 0
           },
           {
            "bin_end": 720.8,
            "bin_start": 643.6999999999999,
            "count": 0
           },
           {
            "bin_end": 797.9,
            "bin_start": 720.8,
            "count": 1
           },
           {
            "bin_end": 875,
            "bin_start": 797.9,
            "count": 1
           }
          ],
          "max": 875,
          "min": 104,
          "nan_count": 0,
          "unique_count": 3
         }
        },
        {
         "dtype": "int64",
         "name": "technician",
         "stats": {
          "histogram": [
           {
            "bin_end": 1554.5,
            "bin_start": 978,
            "count": 1
           },
           {
            "bin_end": 2131,
            "bin_start": 1554.5,
            "count": 0
           },
           {
            "bin_end": 2707.5,
            "bin_start": 2131,
            "count": 0
           },
           {
            "bin_end": 3284,
            "bin_start": 2707.5,
            "count": 0
           },
           {
            "bin_end": 3860.5,
            "bin_start": 3284,
            "count": 0
           },
           {
            "bin_end": 4437,
            "bin_start": 3860.5,
            "count": 0
           },
           {
            "bin_end": 5013.5,
            "bin_start": 4437,
            "count": 0
           },
           {
            "bin_end": 5590,
            "bin_start": 5013.5,
            "count": 0
           },
           {
            "bin_end": 6166.5,
            "bin_start": 5590,
            "count": 1
           },
           {
            "bin_end": 6743,
            "bin_start": 6166.5,
            "count": 1
           }
          ],
          "max": 6743,
          "min": 978,
          "nan_count": 0,
          "unique_count": 3
         }
        },
        {
         "dtype": "int64",
         "name": "unemployed",
         "stats": {
          "histogram": [
           {
            "bin_end": 315.6,
            "bin_start": 238,
            "count": 1
           },
           {
            "bin_end": 393.2,
            "bin_start": 315.6,
            "count": 0
           },
           {
            "bin_end": 470.79999999999995,
            "bin_start": 393.2,
            "count": 0
           },
           {
            "bin_end": 548.4,
            "bin_start": 470.79999999999995,
            "count": 0
           },
           {
            "bin_end": 626,
            "bin_start": 548.4,
            "count": 0
           },
           {
            "bin_end": 703.5999999999999,
            "bin_start": 626,
            "count": 0
           },
           {
            "bin_end": 781.1999999999999,
            "bin_start": 703.5999999999999,
            "count": 1
           },
           {
            "bin_end": 858.8,
            "bin_start": 781.1999999999999,
            "count": 0
           },
           {
            "bin_end": 936.4,
            "bin_start": 858.8,
            "count": 0
           },
           {
            "bin_end": 1014,
            "bin_start": 936.4,
            "count": 1
           }
          ],
          "max": 1014,
          "min": 238,
          "nan_count": 0,
          "unique_count": 3
         }
        },
        {
         "dtype": "int64",
         "name": "unknown",
         "stats": {
          "histogram": [
           {
            "bin_end": 169.8,
            "bin_start": 152,
            "count": 1
           },
           {
            "bin_end": 187.6,
            "bin_start": 169.8,
            "count": 1
           },
           {
            "bin_end": 205.4,
            "bin_start": 187.6,
            "count": 0
           },
           {
            "bin_end": 223.2,
            "bin_start": 205.4,
            "count": 0
           },
           {
            "bin_end": 241,
            "bin_start": 223.2,
            "count": 0
           },
           {
            "bin_end": 258.8,
            "bin_start": 241,
            "count": 0
           },
           {
            "bin_end": 276.6,
            "bin_start": 258.8,
            "count": 0
           },
           {
            "bin_end": 294.4,
            "bin_start": 276.6,
            "count": 0
           },
           {
            "bin_end": 312.20000000000005,
            "bin_start": 294.4,
            "count": 0
           },
           {
            "bin_end": 330,
            "bin_start": 312.20000000000005,
            "count": 1
           }
          ],
          "max": 330,
          "min": 152,
          "nan_count": 0,
          "unique_count": 3
         }
        },
        {
         "dtype": "int64",
         "name": "All",
         "stats": {
          "histogram": [
           {
            "bin_end": 11858.8,
            "bin_start": 8600,
            "count": 1
           },
           {
            "bin_end": 15117.6,
            "bin_start": 11858.8,
            "count": 0
           },
           {
            "bin_end": 18376.4,
            "bin_start": 15117.6,
            "count": 0
           },
           {
            "bin_end": 21635.2,
            "bin_start": 18376.4,
            "count": 0
           },
           {
            "bin_end": 24894,
            "bin_start": 21635.2,
            "count": 0
           },
           {
            "bin_end": 28152.800000000003,
            "bin_start": 24894,
            "count": 0
           },
           {
            "bin_end": 31411.600000000002,
            "bin_start": 28152.800000000003,
            "count": 0
           },
           {
            "bin_end": 34670.4,
            "bin_start": 31411.600000000002,
            "count": 1
           },
           {
            "bin_end": 37929.2,
            "bin_start": 34670.4,
            "count": 0
           },
           {
            "bin_end": 41188,
            "bin_start": 37929.2,
            "count": 1
           }
          ],
          "max": 41188,
          "min": 8600,
          "nan_count": 0,
          "unique_count": 3
         }
        },
        {
         "dtype": "object",
         "name": "_deepnote_index_column"
        }
       ],
       "row_count": 3,
       "rows_bottom": null,
       "rows_top": [
        {
         "All": 32588,
         "_deepnote_index_column": "no",
         "admin.": 9129,
         "blue-collar": 6088,
         "entrepreneur": 1155,
         "housemaid": 741,
         "management": 2466,
         "retired": 1327,
         "self-employed": 1139,
         "services": 3053,
         "student": 771,
         "technician": 5765,
         "unemployed": 776,
         "unknown": 178
        },
        {
         "All": 8600,
         "_deepnote_index_column": "yes",
         "admin.": 1293,
         "blue-collar": 3166,
         "entrepreneur": 301,
         "housemaid": 319,
         "management": 458,
         "retired": 393,
         "self-employed": 282,
         "services": 916,
         "student": 104,
         "technician": 978,
         "unemployed": 238,
         "unknown": 152
        },
        {
         "All": 41188,
         "_deepnote_index_column": "All",
         "admin.": 10422,
         "blue-collar": 9254,
         "entrepreneur": 1456,
         "housemaid": 1060,
         "management": 2924,
         "retired": 1720,
         "self-employed": 1421,
         "services": 3969,
         "student": 875,
         "technician": 6743,
         "unemployed": 1014,
         "unknown": 330
        }
       ]
      },
      "text/html": [
       "<div>\n",
       "<style scoped>\n",
       "    .dataframe tbody tr th:only-of-type {\n",
       "        vertical-align: middle;\n",
       "    }\n",
       "\n",
       "    .dataframe tbody tr th {\n",
       "        vertical-align: top;\n",
       "    }\n",
       "\n",
       "    .dataframe thead th {\n",
       "        text-align: right;\n",
       "    }\n",
       "</style>\n",
       "<table border=\"1\" class=\"dataframe\">\n",
       "  <thead>\n",
       "    <tr style=\"text-align: right;\">\n",
       "      <th>job</th>\n",
       "      <th>admin.</th>\n",
       "      <th>blue-collar</th>\n",
       "      <th>entrepreneur</th>\n",
       "      <th>housemaid</th>\n",
       "      <th>management</th>\n",
       "      <th>retired</th>\n",
       "      <th>self-employed</th>\n",
       "      <th>services</th>\n",
       "      <th>student</th>\n",
       "      <th>technician</th>\n",
       "      <th>unemployed</th>\n",
       "      <th>unknown</th>\n",
       "      <th>All</th>\n",
       "    </tr>\n",
       "    <tr>\n",
       "      <th>default</th>\n",
       "      <th></th>\n",
       "      <th></th>\n",
       "      <th></th>\n",
       "      <th></th>\n",
       "      <th></th>\n",
       "      <th></th>\n",
       "      <th></th>\n",
       "      <th></th>\n",
       "      <th></th>\n",
       "      <th></th>\n",
       "      <th></th>\n",
       "      <th></th>\n",
       "      <th></th>\n",
       "    </tr>\n",
       "  </thead>\n",
       "  <tbody>\n",
       "    <tr>\n",
       "      <th>no</th>\n",
       "      <td>9129</td>\n",
       "      <td>6088</td>\n",
       "      <td>1155</td>\n",
       "      <td>741</td>\n",
       "      <td>2466</td>\n",
       "      <td>1327</td>\n",
       "      <td>1139</td>\n",
       "      <td>3053</td>\n",
       "      <td>771</td>\n",
       "      <td>5765</td>\n",
       "      <td>776</td>\n",
       "      <td>178</td>\n",
       "      <td>32588</td>\n",
       "    </tr>\n",
       "    <tr>\n",
       "      <th>yes</th>\n",
       "      <td>1293</td>\n",
       "      <td>3166</td>\n",
       "      <td>301</td>\n",
       "      <td>319</td>\n",
       "      <td>458</td>\n",
       "      <td>393</td>\n",
       "      <td>282</td>\n",
       "      <td>916</td>\n",
       "      <td>104</td>\n",
       "      <td>978</td>\n",
       "      <td>238</td>\n",
       "      <td>152</td>\n",
       "      <td>8600</td>\n",
       "    </tr>\n",
       "    <tr>\n",
       "      <th>All</th>\n",
       "      <td>10422</td>\n",
       "      <td>9254</td>\n",
       "      <td>1456</td>\n",
       "      <td>1060</td>\n",
       "      <td>2924</td>\n",
       "      <td>1720</td>\n",
       "      <td>1421</td>\n",
       "      <td>3969</td>\n",
       "      <td>875</td>\n",
       "      <td>6743</td>\n",
       "      <td>1014</td>\n",
       "      <td>330</td>\n",
       "      <td>41188</td>\n",
       "    </tr>\n",
       "  </tbody>\n",
       "</table>\n",
       "</div>"
      ],
      "text/plain": [
       "job      admin.  blue-collar  entrepreneur  housemaid  management  retired  \\\n",
       "default                                                                      \n",
       "no         9129         6088          1155        741        2466     1327   \n",
       "yes        1293         3166           301        319         458      393   \n",
       "All       10422         9254          1456       1060        2924     1720   \n",
       "\n",
       "job      self-employed  services  student  technician  unemployed  unknown  \\\n",
       "default                                                                      \n",
       "no                1139      3053      771        5765         776      178   \n",
       "yes                282       916      104         978         238      152   \n",
       "All               1421      3969      875        6743        1014      330   \n",
       "\n",
       "job        All  \n",
       "default         \n",
       "no       32588  \n",
       "yes       8600  \n",
       "All      41188  "
      ]
     },
     "execution_count": 69,
     "metadata": {},
     "output_type": "execute_result"
    }
   ],
   "source": [
    "# Let's see how many customers have defaulted and have blue collar job\n",
    "pd.crosstab(data.default,data.job, margins=True)"
   ]
  },
  {
   "cell_type": "code",
   "execution_count": 70,
   "metadata": {
    "cell_id": "00045-5f14fdef-cf86-44d2-81b2-fd020bd02638",
    "execution_millis": 2,
    "execution_start": 1603186342220,
    "output_cleared": false,
    "source_hash": "9ed2f2ea",
    "tags": []
   },
   "outputs": [
    {
     "name": "stdout",
     "output_type": "stream",
     "text": [
      "Number of customers who have defaulted:  8600\n",
      "Number of customers who have blue collar job:  9254\n",
      "Number of customers who are female and has term deposit as well:  3166\n"
     ]
    }
   ],
   "source": [
    "A=8600\n",
    "B=9254\n",
    "AnB=3166\n",
    "print('Number of customers who have defaulted: ',A)\n",
    "print('Number of customers who have blue collar job: ',B)\n",
    "print('Number of customers who are female and has term deposit as well: ',AnB)"
   ]
  },
  {
   "cell_type": "code",
   "execution_count": 71,
   "metadata": {
    "cell_id": "00046-bef1c2bb-be16-4aef-88a9-42658459dc0d",
    "execution_millis": 3,
    "execution_start": 1603186372802,
    "output_cleared": false,
    "source_hash": "7237931c",
    "tags": []
   },
   "outputs": [
    {
     "name": "stdout",
     "output_type": "stream",
     "text": [
      "Joint probability that a customer has defaulted and has a blue collar job:  0.077\n",
      "Marginal Probability that a customer has defaulted:  0.209\n"
     ]
    }
   ],
   "source": [
    "pAnB=round(AnB/S,3)\n",
    "pA=round(A/S,3)\n",
    "print('Joint probability that a customer has defaulted and has a blue collar job: ',pAnB)\n",
    "print('Marginal Probability that a customer has defaulted: ',pA)"
   ]
  },
  {
   "cell_type": "code",
   "execution_count": 72,
   "metadata": {
    "cell_id": "00047-df918368-ddc2-44db-80c0-881d9f22740a",
    "execution_millis": 4,
    "execution_start": 1603186411536,
    "output_cleared": false,
    "source_hash": "76a670d7",
    "tags": []
   },
   "outputs": [
    {
     "name": "stdout",
     "output_type": "stream",
     "text": [
      "Probability that a customer has a blue collar job, if the customer has defaulted[P(B|A)]:  0.368\n"
     ]
    }
   ],
   "source": [
    "pBA=round(pAnB/pA,3)\n",
    "print('Probability that a customer has a blue collar job, if the customer has defaulted[P(B|A)]: ',pBA)"
   ]
  }
 ],
 "metadata": {
  "deepnote_execution_queue": [],
  "deepnote_notebook_id": "5e696b2c-b04a-4d1e-a20e-bc35072430d4",
  "kernelspec": {
   "display_name": "Python 3",
   "language": "python",
   "name": "python3"
  },
  "language_info": {
   "codemirror_mode": {
    "name": "ipython",
    "version": 3
   },
   "file_extension": ".py",
   "mimetype": "text/x-python",
   "name": "python",
   "nbconvert_exporter": "python",
   "pygments_lexer": "ipython3",
   "version": "3.7.3"
  }
 },
 "nbformat": 4,
 "nbformat_minor": 2
}
